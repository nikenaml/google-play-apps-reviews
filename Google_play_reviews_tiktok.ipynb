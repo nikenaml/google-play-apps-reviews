{
  "nbformat": 4,
  "nbformat_minor": 0,
  "metadata": {
    "colab": {
      "name": "Google play reviews - tiktok.ipynb",
      "provenance": [],
      "collapsed_sections": []
    },
    "kernelspec": {
      "name": "python3",
      "display_name": "Python 3"
    },
    "language_info": {
      "name": "python"
    },
    "accelerator": "GPU"
  },
  "cells": [
    {
      "cell_type": "code",
      "metadata": {
        "colab": {
          "base_uri": "https://localhost:8080/"
        },
        "id": "bV_b4qs3CUEp",
        "outputId": "b0645e0f-91ba-4540-b67f-947f800d8211"
      },
      "source": [
        "!pip install -qq google-play-scraper"
      ],
      "execution_count": 4,
      "outputs": [
        {
          "output_type": "stream",
          "text": [
            "\u001b[?25l\r\u001b[K     |██████▎                         | 10kB 23.5MB/s eta 0:00:01\r\u001b[K     |████████████▋                   | 20kB 16.3MB/s eta 0:00:01\r\u001b[K     |███████████████████             | 30kB 14.2MB/s eta 0:00:01\r\u001b[K     |█████████████████████████▏      | 40kB 13.1MB/s eta 0:00:01\r\u001b[K     |███████████████████████████████▌| 51kB 7.4MB/s eta 0:00:01\r\u001b[K     |████████████████████████████████| 61kB 4.7MB/s \n",
            "\u001b[?25h  Building wheel for google-play-scraper (setup.py) ... \u001b[?25l\u001b[?25hdone\n"
          ],
          "name": "stdout"
        }
      ]
    },
    {
      "cell_type": "code",
      "metadata": {
        "id": "uPAJNtkuCeI-"
      },
      "source": [
        "import json\n",
        "import pandas as pd\n",
        "from tqdm import tqdm\n",
        "\n",
        "import seaborn as sns\n",
        "import matplotlib.pyplot as plt\n",
        "\n",
        "from pygments import highlight\n",
        "from pygments.lexers import JsonLexer\n",
        "from pygments.formatters import TerminalFormatter\n",
        "\n",
        "from google_play_scraper import Sort, reviews, app\n",
        "\n",
        "%matplotlib inline\n",
        "%config InlineBackend.figure_format='retina'\n",
        "\n",
        "sns.set(style='whitegrid', palette='muted', font_scale=1.2)"
      ],
      "execution_count": 5,
      "outputs": []
    },
    {
      "cell_type": "code",
      "metadata": {
        "id": "D6IltvwqC4An"
      },
      "source": [
        "app_packages = ['com.ss.android.ugc.trill',\n",
        "                'omegle.tv']"
      ],
      "execution_count": 6,
      "outputs": []
    },
    {
      "cell_type": "code",
      "metadata": {
        "colab": {
          "base_uri": "https://localhost:8080/"
        },
        "id": "KzuxH3QcQCFg",
        "outputId": "f092adbb-d293-4b12-b389-0cbd8d679905"
      },
      "source": [
        "app_infos = []\n",
        "\n",
        "for ap in tqdm(app_packages):\n",
        "  info = app(ap, lang='id', country='id')\n",
        "  del info['comments']\n",
        "  app_infos.append(info)"
      ],
      "execution_count": 7,
      "outputs": [
        {
          "output_type": "stream",
          "text": [
            "100%|██████████| 2/2 [00:00<00:00,  5.38it/s]\n"
          ],
          "name": "stderr"
        }
      ]
    },
    {
      "cell_type": "code",
      "metadata": {
        "id": "aG_-4RV3bbHC"
      },
      "source": [
        "def print_json(json_object):\n",
        "  json_str = json.dumps(\n",
        "      json_object,\n",
        "      indent=2,\n",
        "      sort_keys=True,\n",
        "      default=str\n",
        "  )\n",
        "\n",
        "  print(highlight(json_str,JsonLexer(),TerminalFormatter()))"
      ],
      "execution_count": 8,
      "outputs": []
    },
    {
      "cell_type": "code",
      "metadata": {
        "colab": {
          "base_uri": "https://localhost:8080/"
        },
        "id": "ea29ewM5VjG8",
        "outputId": "4f0e8e52-856f-45ed-a027-24fea6686d41"
      },
      "source": [
        "print_json(app_infos[1])"
      ],
      "execution_count": 9,
      "outputs": [
        {
          "output_type": "stream",
          "text": [
            "{\n",
            "  \u001b[94m\"adSupported\"\u001b[39;49;00m: \u001b[34mnull\u001b[39;49;00m,\n",
            "  \u001b[94m\"androidVersion\"\u001b[39;49;00m: \u001b[33m\"4.1\"\u001b[39;49;00m,\n",
            "  \u001b[94m\"androidVersionText\"\u001b[39;49;00m: \u001b[33m\"4.1 dan yang lebih tinggi\"\u001b[39;49;00m,\n",
            "  \u001b[94m\"appId\"\u001b[39;49;00m: \u001b[33m\"omegle.tv\"\u001b[39;49;00m,\n",
            "  \u001b[94m\"containsAds\"\u001b[39;49;00m: \u001b[34mfalse\u001b[39;49;00m,\n",
            "  \u001b[94m\"contentRating\"\u001b[39;49;00m: \u001b[33m\"Rating 18+\"\u001b[39;49;00m,\n",
            "  \u001b[94m\"contentRatingDescription\"\u001b[39;49;00m: \u001b[34mnull\u001b[39;49;00m,\n",
            "  \u001b[94m\"currency\"\u001b[39;49;00m: \u001b[33m\"USD\"\u001b[39;49;00m,\n",
            "  \u001b[94m\"description\"\u001b[39;49;00m: \u001b[33m\"Mulai bertemu wajah baru dan berteman di OmeTV video chat. Menyambungkan lebih dari 1 juta pengguna seluler dan lebih dari 100.000 pengunjung web chat online!\\r\\n\\r\\nFitur:\\r\\n\\r\\n\\u25cf Obrolan kamera ke kamera yang mudah digunakan: swipe dan chat dengan seseorang\\r\\n\\u25cf Anda tetap dapat menggunakan obrolan teks jika kamera ponsel Anda tidak bekerja atau Anda memiliki kecepatan internet yang rendah \\r\\n\\u25cf Gratis dan mudah digunakan: tanpa biaya keanggotaan, tanpa pendaftaran. Kami menghargai privasi Anda \\r\\n\\u25cf Ratusan ribu pengguna di seluruh dunia: Anda akan selalu menemukan orang yang menarik untuk diajak mengobrol \\r\\n\\u25cf Aman dan terlindungi: sistem mengawasi pelanggaran aturan obrolan secara otomatis, selain itu, moderator siap melayani 24 jam untuk memberikan reaksi cepat atas keluhan pengguna. \\r\\n\\u25cf Aplikasi obrolan video acak terbaik dan tercepat untuk perangkat berbasis Android! \\r\\n\\u25cf Bebas iklan!\\r\\n\\r\\nCara menggunakan:\\r\\n\\r\\n\\u25cf Unduh dan instal aplikasi obrolan video OmeTV dari Google Play\\r\\n\\u25cf Luncurkan chat video dan buka kesenangan tanpa batas dengan satu swipe!\\r\\n\\r\\nPastikan Anda sudah online (\\u273f\\u25e0\\u203f\\u25e0)\"\u001b[39;49;00m,\n",
            "  \u001b[94m\"descriptionHTML\"\u001b[39;49;00m: \u001b[33m\"Mulai bertemu wajah baru dan berteman di OmeTV video chat. Menyambungkan lebih dari 1 juta pengguna seluler dan lebih dari 100.000 pengunjung web chat online!<br><br>Fitur:<br><br>\\u25cf Obrolan kamera ke kamera yang mudah digunakan: swipe dan chat dengan seseorang<br>\\u25cf Anda tetap dapat menggunakan obrolan teks jika kamera ponsel Anda tidak bekerja atau Anda memiliki kecepatan internet yang rendah <br>\\u25cf Gratis dan mudah digunakan: tanpa biaya keanggotaan, tanpa pendaftaran. Kami menghargai privasi Anda <br>\\u25cf Ratusan ribu pengguna di seluruh dunia: Anda akan selalu menemukan orang yang menarik untuk diajak mengobrol <br>\\u25cf Aman dan terlindungi: sistem mengawasi pelanggaran aturan obrolan secara otomatis, selain itu, moderator siap melayani 24 jam untuk memberikan reaksi cepat atas keluhan pengguna. <br>\\u25cf Aplikasi obrolan video acak terbaik dan tercepat untuk perangkat berbasis Android! <br>\\u25cf Bebas iklan!<br><br>Cara menggunakan:<br><br>\\u25cf Unduh dan instal aplikasi obrolan video OmeTV dari Google Play<br>\\u25cf Luncurkan chat video dan buka kesenangan tanpa batas dengan satu swipe!<br><br>Pastikan Anda sudah online (\\u273f\\u25e0\\u203f\\u25e0)\"\u001b[39;49;00m,\n",
            "  \u001b[94m\"developer\"\u001b[39;49;00m: \u001b[33m\"Video Chat Alternative\"\u001b[39;49;00m,\n",
            "  \u001b[94m\"developerAddress\"\u001b[39;49;00m: \u001b[33m\"rua Jos\\u00e9 Dias Coelho 10A, 2855-173, Corroios, Seixal, Portugal\"\u001b[39;49;00m,\n",
            "  \u001b[94m\"developerEmail\"\u001b[39;49;00m: \u001b[33m\"contact@ome.tv\"\u001b[39;49;00m,\n",
            "  \u001b[94m\"developerId\"\u001b[39;49;00m: \u001b[33m\"Video+Chat+Alternative\"\u001b[39;49;00m,\n",
            "  \u001b[94m\"developerInternalID\"\u001b[39;49;00m: \u001b[33m\"6178821766707265521\"\u001b[39;49;00m,\n",
            "  \u001b[94m\"developerWebsite\"\u001b[39;49;00m: \u001b[33m\"https://ome.tv/\"\u001b[39;49;00m,\n",
            "  \u001b[94m\"editorsChoice\"\u001b[39;49;00m: \u001b[34mfalse\u001b[39;49;00m,\n",
            "  \u001b[94m\"free\"\u001b[39;49;00m: \u001b[34mtrue\u001b[39;49;00m,\n",
            "  \u001b[94m\"genre\"\u001b[39;49;00m: \u001b[33m\"Sosial\"\u001b[39;49;00m,\n",
            "  \u001b[94m\"genreId\"\u001b[39;49;00m: \u001b[33m\"SOCIAL\"\u001b[39;49;00m,\n",
            "  \u001b[94m\"headerImage\"\u001b[39;49;00m: \u001b[33m\"https://play-lh.googleusercontent.com/FgA83QhXDjYVXyc9Of8vMxIh3aNI6TQDysb2Hd-K6Tj8DDlHXrr3AxlPaCvDsE61rw\"\u001b[39;49;00m,\n",
            "  \u001b[94m\"histogram\"\u001b[39;49;00m: [\n",
            "    \u001b[34m84643\u001b[39;49;00m,\n",
            "    \u001b[34m11377\u001b[39;49;00m,\n",
            "    \u001b[34m13593\u001b[39;49;00m,\n",
            "    \u001b[34m14920\u001b[39;49;00m,\n",
            "    \u001b[34m297824\u001b[39;49;00m\n",
            "  ],\n",
            "  \u001b[94m\"icon\"\u001b[39;49;00m: \u001b[33m\"https://play-lh.googleusercontent.com/dqXfJhXmJRvQNU-6ExVKC1QchVfscm1VpmZO16IAjAF0eN6YwWIUjdOSPSdBgK1gRQ\"\u001b[39;49;00m,\n",
            "  \u001b[94m\"inAppProductPrice\"\u001b[39;49;00m: \u001b[33m\"Rp\\u00a080.000,00 per item\"\u001b[39;49;00m,\n",
            "  \u001b[94m\"installs\"\u001b[39;49;00m: \u001b[33m\"50.000.000+\"\u001b[39;49;00m,\n",
            "  \u001b[94m\"minInstalls\"\u001b[39;49;00m: \u001b[34m50000000\u001b[39;49;00m,\n",
            "  \u001b[94m\"offersIAP\"\u001b[39;49;00m: \u001b[34mtrue\u001b[39;49;00m,\n",
            "  \u001b[94m\"originalPrice\"\u001b[39;49;00m: \u001b[34mnull\u001b[39;49;00m,\n",
            "  \u001b[94m\"price\"\u001b[39;49;00m: \u001b[34m0\u001b[39;49;00m,\n",
            "  \u001b[94m\"privacyPolicy\"\u001b[39;49;00m: \u001b[33m\"https://ome.tv/privacy/\"\u001b[39;49;00m,\n",
            "  \u001b[94m\"ratings\"\u001b[39;49;00m: \u001b[34m422357\u001b[39;49;00m,\n",
            "  \u001b[94m\"recentChanges\"\u001b[39;49;00m: \u001b[33m\"Video chat OmeTV has a brand new look!\\r\\n\\r\\n- Swipe left to connect with people;\\r\\n- Swipe right to stop;\\r\\n- Enjoy full-screen video conversations;\\r\\n- Send love & kisses with instant emojis.\"\u001b[39;49;00m,\n",
            "  \u001b[94m\"recentChangesHTML\"\u001b[39;49;00m: \u001b[33m\"Video chat OmeTV has a brand new look!<br><br>- Swipe left to connect with people;<br>- Swipe right to stop;<br>- Enjoy full-screen video conversations;<br>- Send love &amp; kisses with instant emojis.\"\u001b[39;49;00m,\n",
            "  \u001b[94m\"released\"\u001b[39;49;00m: \u001b[33m\"31 Jul 2015\"\u001b[39;49;00m,\n",
            "  \u001b[94m\"reviews\"\u001b[39;49;00m: \u001b[34m178203\u001b[39;49;00m,\n",
            "  \u001b[94m\"sale\"\u001b[39;49;00m: \u001b[34mfalse\u001b[39;49;00m,\n",
            "  \u001b[94m\"saleText\"\u001b[39;49;00m: \u001b[34mnull\u001b[39;49;00m,\n",
            "  \u001b[94m\"saleTime\"\u001b[39;49;00m: \u001b[34mnull\u001b[39;49;00m,\n",
            "  \u001b[94m\"score\"\u001b[39;49;00m: \u001b[34m4.017864\u001b[39;49;00m,\n",
            "  \u001b[94m\"screenshots\"\u001b[39;49;00m: [\n",
            "    \u001b[33m\"https://play-lh.googleusercontent.com/XFDkBdQ-ttHOotLRbAauPXDijcl3NwE4803PFq_n7nKTpo98WL01DNne0ufioUQJT_Ei\"\u001b[39;49;00m,\n",
            "    \u001b[33m\"https://play-lh.googleusercontent.com/I60RBRytCKjZHSKixzIMqPw-mEEOYP3JGWdkc6uEZ1MFMhcG7zMZTW_DptNMOiyXiQ\"\u001b[39;49;00m,\n",
            "    \u001b[33m\"https://play-lh.googleusercontent.com/b_58SJNOerSiEsP2BUdr6dgWQltIoJhcpcXWK2s2lEDzOOsWLMiTJ_WF0ihrzdrdvw\"\u001b[39;49;00m,\n",
            "    \u001b[33m\"https://play-lh.googleusercontent.com/c5Chv-1um6mWc6wroO5Rg86Hj2xJVvvj6CqNW7iLZcqgiG1hOAFrnMuz66g5a9Cx7w\"\u001b[39;49;00m,\n",
            "    \u001b[33m\"https://play-lh.googleusercontent.com/g-rCxUqT0ULJk2bu953OnTmMGX-qJqQZZqlQ07q-wWBXVQAcJmEQcEyZ5X_Xpfq3HOTJ\"\u001b[39;49;00m\n",
            "  ],\n",
            "  \u001b[94m\"size\"\u001b[39;49;00m: \u001b[33m\"34M\"\u001b[39;49;00m,\n",
            "  \u001b[94m\"summary\"\u001b[39;49;00m: \u001b[33m\"Luncurkan chat video dan buka kesenangan tanpa batas dengan satu swipe!\"\u001b[39;49;00m,\n",
            "  \u001b[94m\"summaryHTML\"\u001b[39;49;00m: \u001b[33m\"Luncurkan chat video dan buka kesenangan tanpa batas dengan satu swipe!\"\u001b[39;49;00m,\n",
            "  \u001b[94m\"title\"\u001b[39;49;00m: \u001b[33m\"OmeTV Chat Video - Temui orang baru, dan berteman\"\u001b[39;49;00m,\n",
            "  \u001b[94m\"updated\"\u001b[39;49;00m: \u001b[34m1621327262\u001b[39;49;00m,\n",
            "  \u001b[94m\"url\"\u001b[39;49;00m: \u001b[33m\"https://play.google.com/store/apps/details?id=omegle.tv&hl=id&gl=id\"\u001b[39;49;00m,\n",
            "  \u001b[94m\"version\"\u001b[39;49;00m: \u001b[33m\"605032\"\u001b[39;49;00m,\n",
            "  \u001b[94m\"video\"\u001b[39;49;00m: \u001b[33m\"https://www.youtube.com/embed/MJ2NmsygZ6M?ps=play&vq=large&rel=0&autohide=1&showinfo=0\"\u001b[39;49;00m,\n",
            "  \u001b[94m\"videoImage\"\u001b[39;49;00m: \u001b[33m\"https://i.ytimg.com/vi/MJ2NmsygZ6M/hqdefault.jpg\"\u001b[39;49;00m\n",
            "}\n",
            "\n"
          ],
          "name": "stdout"
        }
      ]
    },
    {
      "cell_type": "code",
      "metadata": {
        "colab": {
          "base_uri": "https://localhost:8080/",
          "height": 265
        },
        "id": "0D1WJ9hEbXTV",
        "outputId": "11912aad-d0ee-4fdd-9abe-7503eb1bf0b5"
      },
      "source": [
        "def format_title(title):\n",
        "  sep_index = title.find(':') if title.find(':') != -1 else title.find('-')\n",
        "  if sep_index != -1:\n",
        "    title = title[:sep_index]\n",
        "  return title[:10]\n",
        "\n",
        "fig, axs = plt.subplots(2, len(app_infos) // 2, figsize=(12, 4))\n",
        "\n",
        "for i, ax in enumerate(axs.flat):\n",
        "  ai = app_infos[i]\n",
        "  img = plt.imread(ai['icon'])\n",
        "  ax.imshow(img)\n",
        "  ax.set_title(format_title(ai['title']))\n",
        "  ax.axis('off')"
      ],
      "execution_count": 10,
      "outputs": [
        {
          "output_type": "display_data",
          "data": {
            "image/png": "[encoded data removed]",
            "text/plain": [
              "<Figure size 864x288 with 2 Axes>"
            ]
          },
          "metadata": {
            "tags": [],
            "image/png": {
              "width": 113,
              "height": 248
            }
          }
        }
      ]
    },
    {
      "cell_type": "code",
      "metadata": {
        "colab": {
          "base_uri": "https://localhost:8080/",
          "height": 300
        },
        "id": "lX24P5Y8eh8V",
        "outputId": "694f857c-f4e4-4d15-b432-e7ee8c04c371"
      },
      "source": [
        "app_infos_df = pd.DataFrame(app_infos)\n",
        "app_infos_df.head()"
      ],
      "execution_count": 11,
      "outputs": [
        {
          "output_type": "execute_result",
          "data": {
            "text/html": [
              "<div>\n",
              "<style scoped>\n",
              "    .dataframe tbody tr th:only-of-type {\n",
              "        vertical-align: middle;\n",
              "    }\n",
              "\n",
              "    .dataframe tbody tr th {\n",
              "        vertical-align: top;\n",
              "    }\n",
              "\n",
              "    .dataframe thead th {\n",
              "        text-align: right;\n",
              "    }\n",
              "</style>\n",
              "<table border=\"1\" class=\"dataframe\">\n",
              "  <thead>\n",
              "    <tr style=\"text-align: right;\">\n",
              "      <th></th>\n",
              "      <th>title</th>\n",
              "      <th>description</th>\n",
              "      <th>descriptionHTML</th>\n",
              "      <th>summary</th>\n",
              "      <th>summaryHTML</th>\n",
              "      <th>installs</th>\n",
              "      <th>minInstalls</th>\n",
              "      <th>score</th>\n",
              "      <th>ratings</th>\n",
              "      <th>reviews</th>\n",
              "      <th>histogram</th>\n",
              "      <th>price</th>\n",
              "      <th>free</th>\n",
              "      <th>currency</th>\n",
              "      <th>sale</th>\n",
              "      <th>saleTime</th>\n",
              "      <th>originalPrice</th>\n",
              "      <th>saleText</th>\n",
              "      <th>offersIAP</th>\n",
              "      <th>inAppProductPrice</th>\n",
              "      <th>size</th>\n",
              "      <th>androidVersion</th>\n",
              "      <th>androidVersionText</th>\n",
              "      <th>developer</th>\n",
              "      <th>developerId</th>\n",
              "      <th>developerEmail</th>\n",
              "      <th>developerWebsite</th>\n",
              "      <th>developerAddress</th>\n",
              "      <th>privacyPolicy</th>\n",
              "      <th>developerInternalID</th>\n",
              "      <th>genre</th>\n",
              "      <th>genreId</th>\n",
              "      <th>icon</th>\n",
              "      <th>headerImage</th>\n",
              "      <th>screenshots</th>\n",
              "      <th>video</th>\n",
              "      <th>videoImage</th>\n",
              "      <th>contentRating</th>\n",
              "      <th>contentRatingDescription</th>\n",
              "      <th>adSupported</th>\n",
              "      <th>containsAds</th>\n",
              "      <th>released</th>\n",
              "      <th>updated</th>\n",
              "      <th>version</th>\n",
              "      <th>recentChanges</th>\n",
              "      <th>recentChangesHTML</th>\n",
              "      <th>editorsChoice</th>\n",
              "      <th>appId</th>\n",
              "      <th>url</th>\n",
              "    </tr>\n",
              "  </thead>\n",
              "  <tbody>\n",
              "    <tr>\n",
              "      <th>0</th>\n",
              "      <td>TikTok</td>\n",
              "      <td>Cuma TikTok pusatnya video kreatif dan viral! ...</td>\n",
              "      <td>Cuma TikTok pusatnya video kreatif dan viral! ...</td>\n",
              "      <td>Gudangnya Video Lucu Indonesia</td>\n",
              "      <td>Gudangnya Video Lucu Indonesia</td>\n",
              "      <td>100.000.000+</td>\n",
              "      <td>100000000</td>\n",
              "      <td>4.157364</td>\n",
              "      <td>10178479</td>\n",
              "      <td>4210765</td>\n",
              "      <td>[1655323, 198685, 345737, 667924, 7310810]</td>\n",
              "      <td>0</td>\n",
              "      <td>True</td>\n",
              "      <td>USD</td>\n",
              "      <td>False</td>\n",
              "      <td>None</td>\n",
              "      <td>None</td>\n",
              "      <td>None</td>\n",
              "      <td>True</td>\n",
              "      <td>Rp 11.000,00 - Rp 1.526.116,00 per item</td>\n",
              "      <td>92M</td>\n",
              "      <td>4.4</td>\n",
              "      <td>4.4 dan yang lebih tinggi</td>\n",
              "      <td>TikTok Pte. Ltd.</td>\n",
              "      <td>TikTok+Pte.+Ltd.</td>\n",
              "      <td>feedback@tiktok.com</td>\n",
              "      <td>https://www.tiktok.com/</td>\n",
              "      <td>201 Henderson Road,\\n#06-22 Apex@Henderson,\\nS...</td>\n",
              "      <td>https://www.tiktok.com/legal/privacy-policy</td>\n",
              "      <td>8354621850408287155</td>\n",
              "      <td>Pemutar &amp; Editor Video</td>\n",
              "      <td>VIDEO_PLAYERS</td>\n",
              "      <td>https://play-lh.googleusercontent.com/2kdv4gGW...</td>\n",
              "      <td>https://play-lh.googleusercontent.com/2wUbbUoj...</td>\n",
              "      <td>[https://play-lh.googleusercontent.com/D1EUFBw...</td>\n",
              "      <td>None</td>\n",
              "      <td>None</td>\n",
              "      <td>Rating 12+</td>\n",
              "      <td>Disarankan dengan Bimbingan Orang Tua</td>\n",
              "      <td>None</td>\n",
              "      <td>False</td>\n",
              "      <td>7 Mei 2017</td>\n",
              "      <td>1622224208</td>\n",
              "      <td>19.5.43</td>\n",
              "      <td>Dapatkan berbagai efek terbaru dan terbaik.</td>\n",
              "      <td>Dapatkan berbagai efek terbaru dan terbaik.</td>\n",
              "      <td>False</td>\n",
              "      <td>com.ss.android.ugc.trill</td>\n",
              "      <td>https://play.google.com/store/apps/details?id=...</td>\n",
              "    </tr>\n",
              "    <tr>\n",
              "      <th>1</th>\n",
              "      <td>OmeTV Chat Video - Temui orang baru, dan berteman</td>\n",
              "      <td>Mulai bertemu wajah baru dan berteman di OmeTV...</td>\n",
              "      <td>Mulai bertemu wajah baru dan berteman di OmeTV...</td>\n",
              "      <td>Luncurkan chat video dan buka kesenangan tanpa...</td>\n",
              "      <td>Luncurkan chat video dan buka kesenangan tanpa...</td>\n",
              "      <td>50.000.000+</td>\n",
              "      <td>50000000</td>\n",
              "      <td>4.017864</td>\n",
              "      <td>422357</td>\n",
              "      <td>178203</td>\n",
              "      <td>[84643, 11377, 13593, 14920, 297824]</td>\n",
              "      <td>0</td>\n",
              "      <td>True</td>\n",
              "      <td>USD</td>\n",
              "      <td>False</td>\n",
              "      <td>None</td>\n",
              "      <td>None</td>\n",
              "      <td>None</td>\n",
              "      <td>True</td>\n",
              "      <td>Rp 80.000,00 per item</td>\n",
              "      <td>34M</td>\n",
              "      <td>4.1</td>\n",
              "      <td>4.1 dan yang lebih tinggi</td>\n",
              "      <td>Video Chat Alternative</td>\n",
              "      <td>Video+Chat+Alternative</td>\n",
              "      <td>contact@ome.tv</td>\n",
              "      <td>https://ome.tv/</td>\n",
              "      <td>rua José Dias Coelho 10A, 2855-173, Corroios, ...</td>\n",
              "      <td>https://ome.tv/privacy/</td>\n",
              "      <td>6178821766707265521</td>\n",
              "      <td>Sosial</td>\n",
              "      <td>SOCIAL</td>\n",
              "      <td>https://play-lh.googleusercontent.com/dqXfJhXm...</td>\n",
              "      <td>https://play-lh.googleusercontent.com/FgA83QhX...</td>\n",
              "      <td>[https://play-lh.googleusercontent.com/XFDkBdQ...</td>\n",
              "      <td>https://www.youtube.com/embed/MJ2NmsygZ6M?ps=p...</td>\n",
              "      <td>https://i.ytimg.com/vi/MJ2NmsygZ6M/hqdefault.jpg</td>\n",
              "      <td>Rating 18+</td>\n",
              "      <td>None</td>\n",
              "      <td>None</td>\n",
              "      <td>False</td>\n",
              "      <td>31 Jul 2015</td>\n",
              "      <td>1621327262</td>\n",
              "      <td>605032</td>\n",
              "      <td>Video chat OmeTV has a brand new look!\\r\\n\\r\\n...</td>\n",
              "      <td>Video chat OmeTV has a brand new look!&lt;br&gt;&lt;br&gt;...</td>\n",
              "      <td>False</td>\n",
              "      <td>omegle.tv</td>\n",
              "      <td>https://play.google.com/store/apps/details?id=...</td>\n",
              "    </tr>\n",
              "  </tbody>\n",
              "</table>\n",
              "</div>"
            ],
            "text/plain": [
              "                                               title  ...                                                url\n",
              "0                                             TikTok  ...  https://play.google.com/store/apps/details?id=...\n",
              "1  OmeTV Chat Video - Temui orang baru, dan berteman  ...  https://play.google.com/store/apps/details?id=...\n",
              "\n",
              "[2 rows x 49 columns]"
            ]
          },
          "metadata": {
            "tags": []
          },
          "execution_count": 11
        }
      ]
    },
    {
      "cell_type": "code",
      "metadata": {
        "id": "_NcIIcxirnS1"
      },
      "source": [
        "app_infos_df.to_csv('apps.csv', index = None, header=True)"
      ],
      "execution_count": 12,
      "outputs": []
    },
    {
      "cell_type": "markdown",
      "metadata": {
        "id": "VPfOrxryy32L"
      },
      "source": [
        "# Get App Reviews"
      ]
    },
    {
      "cell_type": "code",
      "metadata": {
        "colab": {
          "base_uri": "https://localhost:8080/"
        },
        "id": "mHKk2gJdy2mv",
        "outputId": "87ce8096-5dd0-4c20-a01f-19f8dce3a3a2"
      },
      "source": [
        "app_reviews = []\n",
        "\n",
        "for ap in tqdm(app_packages):\n",
        "  for score in list(range(1, 6)):\n",
        "    for sort_order in [Sort.MOST_RELEVANT, Sort.RATING, Sort.NEWEST]:\n",
        "      rvs, _ = reviews(\n",
        "        ap,\n",
        "        lang='id',\n",
        "        country='id',\n",
        "        sort=sort_order,\n",
        "        count= 300 if score == 3 else 200,\n",
        "        filter_score_with=score\n",
        "      )\n",
        "\n",
        "      for r in rvs:\n",
        "        r['sortOrder'] = 'most_relevant' if sort_order == Sort.MOST_RELEVANT else 'rating' if sort_order == Sort.RATING else 'newest'\n",
        "        r['appId'] = ap\n",
        "      app_reviews.extend(rvs)\n"
      ],
      "execution_count": 43,
      "outputs": [
        {
          "output_type": "stream",
          "text": [
            "100%|██████████| 2/2 [00:13<00:00,  6.76s/it]\n"
          ],
          "name": "stderr"
        }
      ]
    },
    {
      "cell_type": "code",
      "metadata": {
        "colab": {
          "base_uri": "https://localhost:8080/"
        },
        "id": "MmiygJRRwElL",
        "outputId": "2cc2add8-ddd0-4c89-f6fb-302875740966"
      },
      "source": [
        "print_json(app_reviews[1])"
      ],
      "execution_count": 36,
      "outputs": [
        {
          "output_type": "stream",
          "text": [
            "{\n",
            "  \u001b[94m\"appId\"\u001b[39;49;00m: \u001b[33m\"com.ss.android.ugc.trill\"\u001b[39;49;00m,\n",
            "  \u001b[94m\"at\"\u001b[39;49;00m: \u001b[33m\"2021-05-28 06:20:53\"\u001b[39;49;00m,\n",
            "  \u001b[94m\"content\"\u001b[39;49;00m: \u001b[33m\"Aplikasinya sebenarnya bagus..Tp knp skrg sy masuk akun sy hilang, tertulis frekuensi masuk terlalu sering. Apa maksudnya?? Sampai2 sy hapus aplikasi ini trus sy restart hp sy, download kembali tetap seperti itu. Tolong penjelasannya. Sementara sy kasih bintang 1 sebelum semuanya kembali seperti semula.\"\u001b[39;49;00m,\n",
            "  \u001b[94m\"repliedAt\"\u001b[39;49;00m: \u001b[34mnull\u001b[39;49;00m,\n",
            "  \u001b[94m\"replyContent\"\u001b[39;49;00m: \u001b[34mnull\u001b[39;49;00m,\n",
            "  \u001b[94m\"reviewCreatedVersion\"\u001b[39;49;00m: \u001b[33m\"19.5.43\"\u001b[39;49;00m,\n",
            "  \u001b[94m\"reviewId\"\u001b[39;49;00m: \u001b[33m\"gp:AOqpTOEaxCuEU61SHHaTHDs-GydVhgd4rWOIwMDUgatmJAvDFNtYVLljaCMfs3ktQBzYU7roFf_t3-dgPlen1bE\"\u001b[39;49;00m,\n",
            "  \u001b[94m\"score\"\u001b[39;49;00m: \u001b[34m1\u001b[39;49;00m,\n",
            "  \u001b[94m\"sortOrder\"\u001b[39;49;00m: \u001b[33m\"most_relevant\"\u001b[39;49;00m,\n",
            "  \u001b[94m\"thumbsUpCount\"\u001b[39;49;00m: \u001b[34m2\u001b[39;49;00m,\n",
            "  \u001b[94m\"userImage\"\u001b[39;49;00m: \u001b[33m\"https://play-lh.googleusercontent.com/a/AATXAJwMgNzuc9QVAMP8yRdeu2bLKwtO3Z5zrDw_EL27=mo\"\u001b[39;49;00m,\n",
            "  \u001b[94m\"userName\"\u001b[39;49;00m: \u001b[33m\"Dapur Mama Hoshi\"\u001b[39;49;00m\n",
            "}\n",
            "\n"
          ],
          "name": "stdout"
        }
      ]
    },
    {
      "cell_type": "code",
      "metadata": {
        "colab": {
          "base_uri": "https://localhost:8080/"
        },
        "id": "1OT2EL5B1O5I",
        "outputId": "20d11825-e626-40ba-fb35-fdc638f4984c"
      },
      "source": [
        "app_reviews_df = pd.DataFrame(app_reviews)\n",
        "app_reviews_df.shape"
      ],
      "execution_count": 37,
      "outputs": [
        {
          "output_type": "execute_result",
          "data": {
            "text/plain": [
              "(3600, 12)"
            ]
          },
          "metadata": {
            "tags": []
          },
          "execution_count": 37
        }
      ]
    },
    {
      "cell_type": "code",
      "metadata": {
        "colab": {
          "base_uri": "https://localhost:8080/",
          "height": 393
        },
        "id": "0qAisRnvKFal",
        "outputId": "8ba814c0-697e-4360-9677-5ff37d52a205"
      },
      "source": [
        "app_reviews_df.head()"
      ],
      "execution_count": 38,
      "outputs": [
        {
          "output_type": "execute_result",
          "data": {
            "text/html": [
              "<div>\n",
              "<style scoped>\n",
              "    .dataframe tbody tr th:only-of-type {\n",
              "        vertical-align: middle;\n",
              "    }\n",
              "\n",
              "    .dataframe tbody tr th {\n",
              "        vertical-align: top;\n",
              "    }\n",
              "\n",
              "    .dataframe thead th {\n",
              "        text-align: right;\n",
              "    }\n",
              "</style>\n",
              "<table border=\"1\" class=\"dataframe\">\n",
              "  <thead>\n",
              "    <tr style=\"text-align: right;\">\n",
              "      <th></th>\n",
              "      <th>reviewId</th>\n",
              "      <th>userName</th>\n",
              "      <th>userImage</th>\n",
              "      <th>content</th>\n",
              "      <th>score</th>\n",
              "      <th>thumbsUpCount</th>\n",
              "      <th>reviewCreatedVersion</th>\n",
              "      <th>at</th>\n",
              "      <th>replyContent</th>\n",
              "      <th>repliedAt</th>\n",
              "      <th>sortOrder</th>\n",
              "      <th>appId</th>\n",
              "    </tr>\n",
              "  </thead>\n",
              "  <tbody>\n",
              "    <tr>\n",
              "      <th>0</th>\n",
              "      <td>gp:AOqpTOGihtvZ-ONGczSX6Bat3d_j4jhSTrVIFoq8FaV...</td>\n",
              "      <td>Mahfi Gaming</td>\n",
              "      <td>https://play-lh.googleusercontent.com/a-/AOh14...</td>\n",
              "      <td>Jelek banget!!!!!!!!!!!!!!!!!!!!!!!!!!!!!!!!!!...</td>\n",
              "      <td>1</td>\n",
              "      <td>167</td>\n",
              "      <td>19.5.43</td>\n",
              "      <td>2021-05-28 04:02:18</td>\n",
              "      <td>None</td>\n",
              "      <td>NaT</td>\n",
              "      <td>most_relevant</td>\n",
              "      <td>com.ss.android.ugc.trill</td>\n",
              "    </tr>\n",
              "    <tr>\n",
              "      <th>1</th>\n",
              "      <td>gp:AOqpTOEaxCuEU61SHHaTHDs-GydVhgd4rWOIwMDUgat...</td>\n",
              "      <td>Dapur Mama Hoshi</td>\n",
              "      <td>https://play-lh.googleusercontent.com/a/AATXAJ...</td>\n",
              "      <td>Aplikasinya sebenarnya bagus..Tp knp skrg sy m...</td>\n",
              "      <td>1</td>\n",
              "      <td>2</td>\n",
              "      <td>19.5.43</td>\n",
              "      <td>2021-05-28 06:20:53</td>\n",
              "      <td>None</td>\n",
              "      <td>NaT</td>\n",
              "      <td>most_relevant</td>\n",
              "      <td>com.ss.android.ugc.trill</td>\n",
              "    </tr>\n",
              "    <tr>\n",
              "      <th>2</th>\n",
              "      <td>gp:AOqpTOGIaTrCt7nX7RpQDHD0BDzlVfTJ32H2IjlClF5...</td>\n",
              "      <td>sandal jepit</td>\n",
              "      <td>https://play-lh.googleusercontent.com/a-/AOh14...</td>\n",
              "      <td>maaf kenapa ya 2 hari ini tiktok saya tidak bi...</td>\n",
              "      <td>1</td>\n",
              "      <td>25</td>\n",
              "      <td>19.5.43</td>\n",
              "      <td>2021-05-28 05:49:08</td>\n",
              "      <td>None</td>\n",
              "      <td>NaT</td>\n",
              "      <td>most_relevant</td>\n",
              "      <td>com.ss.android.ugc.trill</td>\n",
              "    </tr>\n",
              "    <tr>\n",
              "      <th>3</th>\n",
              "      <td>gp:AOqpTOFTLjgAcC2zQ2D3ZzHVdnqBqjVgpqXo9h-bdYi...</td>\n",
              "      <td>Luluk Muawalah</td>\n",
              "      <td>https://play-lh.googleusercontent.com/a/AATXAJ...</td>\n",
              "      <td>Tolong kepada pihak tiktok, kenapa tiba2 saya ...</td>\n",
              "      <td>1</td>\n",
              "      <td>2</td>\n",
              "      <td>19.5.43</td>\n",
              "      <td>2021-05-27 16:15:58</td>\n",
              "      <td>None</td>\n",
              "      <td>NaT</td>\n",
              "      <td>most_relevant</td>\n",
              "      <td>com.ss.android.ugc.trill</td>\n",
              "    </tr>\n",
              "    <tr>\n",
              "      <th>4</th>\n",
              "      <td>gp:AOqpTOENZzEzt6KOnarNErGzrMJPsakpDaxNKHvAe9m...</td>\n",
              "      <td>Nicho Nicholas</td>\n",
              "      <td>https://play-lh.googleusercontent.com/a/AATXAJ...</td>\n",
              "      <td>Tolong untuk pihak TikTok, tolong awasi koment...</td>\n",
              "      <td>1</td>\n",
              "      <td>20</td>\n",
              "      <td>19.5.43</td>\n",
              "      <td>2021-05-27 12:32:13</td>\n",
              "      <td>None</td>\n",
              "      <td>NaT</td>\n",
              "      <td>most_relevant</td>\n",
              "      <td>com.ss.android.ugc.trill</td>\n",
              "    </tr>\n",
              "  </tbody>\n",
              "</table>\n",
              "</div>"
            ],
            "text/plain": [
              "                                            reviewId  ...                     appId\n",
              "0  gp:AOqpTOGihtvZ-ONGczSX6Bat3d_j4jhSTrVIFoq8FaV...  ...  com.ss.android.ugc.trill\n",
              "1  gp:AOqpTOEaxCuEU61SHHaTHDs-GydVhgd4rWOIwMDUgat...  ...  com.ss.android.ugc.trill\n",
              "2  gp:AOqpTOGIaTrCt7nX7RpQDHD0BDzlVfTJ32H2IjlClF5...  ...  com.ss.android.ugc.trill\n",
              "3  gp:AOqpTOFTLjgAcC2zQ2D3ZzHVdnqBqjVgpqXo9h-bdYi...  ...  com.ss.android.ugc.trill\n",
              "4  gp:AOqpTOENZzEzt6KOnarNErGzrMJPsakpDaxNKHvAe9m...  ...  com.ss.android.ugc.trill\n",
              "\n",
              "[5 rows x 12 columns]"
            ]
          },
          "metadata": {
            "tags": []
          },
          "execution_count": 38
        }
      ]
    },
    {
      "cell_type": "code",
      "metadata": {
        "colab": {
          "base_uri": "https://localhost:8080/"
        },
        "id": "02sCxtmmL-tO",
        "outputId": "bb30e2ea-010e-4724-f7b1-7f9e18787be9"
      },
      "source": [
        "# Filter column values\n",
        "appdf = app_reviews_df[app_reviews_df.sortOrder.isin([\"rating\"])]\n",
        "appdf.head()\n",
        "appdf.shape"
      ],
      "execution_count": 42,
      "outputs": [
        {
          "output_type": "execute_result",
          "data": {
            "text/plain": [
              "(1200, 12)"
            ]
          },
          "metadata": {
            "tags": []
          },
          "execution_count": 42
        }
      ]
    },
    {
      "cell_type": "markdown",
      "metadata": {
        "id": "lT0Lo6b1H6Lx"
      },
      "source": [
        ""
      ]
    }
  ]
}