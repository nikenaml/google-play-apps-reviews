{
  "nbformat": 4,
  "nbformat_minor": 5,
  "metadata": {
    "kernelspec": {
      "name": "python3",
      "display_name": "Python 3"
    },
    "colab": {
      "name": "text_preprocessing_colab.ipynb",
      "provenance": [],
      "collapsed_sections": []
    },
    "language_info": {
      "name": "python"
    },
    "accelerator": "GPU",
    "widgets": {
      "application/vnd.jupyter.widget-state+json": {
        "c48a78465b4b4beb8b9c77a87741be52": {
          "model_module": "@jupyter-widgets/controls",
          "model_name": "HBoxModel",
          "state": {
            "_view_name": "HBoxView",
            "_dom_classes": [],
            "_model_name": "HBoxModel",
            "_view_module": "@jupyter-widgets/controls",
            "_model_module_version": "1.5.0",
            "_view_count": null,
            "_view_module_version": "1.5.0",
            "box_style": "",
            "layout": "IPY_MODEL_11f957576f5d4870afeb7b08df278c05",
            "_model_module": "@jupyter-widgets/controls",
            "children": [
              "IPY_MODEL_4906f4d0fa0c4403819e4b52d2ed74d3",
              "IPY_MODEL_b6036eea7dc54291b4bfb0c6de5632c3"
            ]
          }
        },
        "11f957576f5d4870afeb7b08df278c05": {
          "model_module": "@jupyter-widgets/base",
          "model_name": "LayoutModel",
          "state": {
            "_view_name": "LayoutView",
            "grid_template_rows": null,
            "right": null,
            "justify_content": null,
            "_view_module": "@jupyter-widgets/base",
            "overflow": null,
            "_model_module_version": "1.2.0",
            "_view_count": null,
            "flex_flow": null,
            "width": null,
            "min_width": null,
            "border": null,
            "align_items": null,
            "bottom": null,
            "_model_module": "@jupyter-widgets/base",
            "top": null,
            "grid_column": null,
            "overflow_y": null,
            "overflow_x": null,
            "grid_auto_flow": null,
            "grid_area": null,
            "grid_template_columns": null,
            "flex": null,
            "_model_name": "LayoutModel",
            "justify_items": null,
            "grid_row": null,
            "max_height": null,
            "align_content": null,
            "visibility": null,
            "align_self": null,
            "height": null,
            "min_height": null,
            "padding": null,
            "grid_auto_rows": null,
            "grid_gap": null,
            "max_width": null,
            "order": null,
            "_view_module_version": "1.2.0",
            "grid_template_areas": null,
            "object_position": null,
            "object_fit": null,
            "grid_auto_columns": null,
            "margin": null,
            "display": null,
            "left": null
          }
        },
        "4906f4d0fa0c4403819e4b52d2ed74d3": {
          "model_module": "@jupyter-widgets/controls",
          "model_name": "FloatProgressModel",
          "state": {
            "_view_name": "ProgressView",
            "style": "IPY_MODEL_eae9865ce7fd44a88bdbf5f8cd8465f2",
            "_dom_classes": [],
            "description": "Downloading: 100%",
            "_model_name": "FloatProgressModel",
            "bar_style": "success",
            "max": 229513,
            "_view_module": "@jupyter-widgets/controls",
            "_model_module_version": "1.5.0",
            "value": 229513,
            "_view_count": null,
            "_view_module_version": "1.5.0",
            "orientation": "horizontal",
            "min": 0,
            "description_tooltip": null,
            "_model_module": "@jupyter-widgets/controls",
            "layout": "IPY_MODEL_3400156f3f444b6fb9fd7eec63e3e8ff"
          }
        },
        "b6036eea7dc54291b4bfb0c6de5632c3": {
          "model_module": "@jupyter-widgets/controls",
          "model_name": "HTMLModel",
          "state": {
            "_view_name": "HTMLView",
            "style": "IPY_MODEL_15781c0eb49148eaa35572d716c7ddba",
            "_dom_classes": [],
            "description": "",
            "_model_name": "HTMLModel",
            "placeholder": "​",
            "_view_module": "@jupyter-widgets/controls",
            "_model_module_version": "1.5.0",
            "value": " 230k/230k [00:00&lt;00:00, 731kB/s]",
            "_view_count": null,
            "_view_module_version": "1.5.0",
            "description_tooltip": null,
            "_model_module": "@jupyter-widgets/controls",
            "layout": "IPY_MODEL_fd5aef93bee348999b6c31a0668b36b4"
          }
        },
        "eae9865ce7fd44a88bdbf5f8cd8465f2": {
          "model_module": "@jupyter-widgets/controls",
          "model_name": "ProgressStyleModel",
          "state": {
            "_view_name": "StyleView",
            "_model_name": "ProgressStyleModel",
            "description_width": "initial",
            "_view_module": "@jupyter-widgets/base",
            "_model_module_version": "1.5.0",
            "_view_count": null,
            "_view_module_version": "1.2.0",
            "bar_color": null,
            "_model_module": "@jupyter-widgets/controls"
          }
        },
        "3400156f3f444b6fb9fd7eec63e3e8ff": {
          "model_module": "@jupyter-widgets/base",
          "model_name": "LayoutModel",
          "state": {
            "_view_name": "LayoutView",
            "grid_template_rows": null,
            "right": null,
            "justify_content": null,
            "_view_module": "@jupyter-widgets/base",
            "overflow": null,
            "_model_module_version": "1.2.0",
            "_view_count": null,
            "flex_flow": null,
            "width": null,
            "min_width": null,
            "border": null,
            "align_items": null,
            "bottom": null,
            "_model_module": "@jupyter-widgets/base",
            "top": null,
            "grid_column": null,
            "overflow_y": null,
            "overflow_x": null,
            "grid_auto_flow": null,
            "grid_area": null,
            "grid_template_columns": null,
            "flex": null,
            "_model_name": "LayoutModel",
            "justify_items": null,
            "grid_row": null,
            "max_height": null,
            "align_content": null,
            "visibility": null,
            "align_self": null,
            "height": null,
            "min_height": null,
            "padding": null,
            "grid_auto_rows": null,
            "grid_gap": null,
            "max_width": null,
            "order": null,
            "_view_module_version": "1.2.0",
            "grid_template_areas": null,
            "object_position": null,
            "object_fit": null,
            "grid_auto_columns": null,
            "margin": null,
            "display": null,
            "left": null
          }
        },
        "15781c0eb49148eaa35572d716c7ddba": {
          "model_module": "@jupyter-widgets/controls",
          "model_name": "DescriptionStyleModel",
          "state": {
            "_view_name": "StyleView",
            "_model_name": "DescriptionStyleModel",
            "description_width": "",
            "_view_module": "@jupyter-widgets/base",
            "_model_module_version": "1.5.0",
            "_view_count": null,
            "_view_module_version": "1.2.0",
            "_model_module": "@jupyter-widgets/controls"
          }
        },
        "fd5aef93bee348999b6c31a0668b36b4": {
          "model_module": "@jupyter-widgets/base",
          "model_name": "LayoutModel",
          "state": {
            "_view_name": "LayoutView",
            "grid_template_rows": null,
            "right": null,
            "justify_content": null,
            "_view_module": "@jupyter-widgets/base",
            "overflow": null,
            "_model_module_version": "1.2.0",
            "_view_count": null,
            "flex_flow": null,
            "width": null,
            "min_width": null,
            "border": null,
            "align_items": null,
            "bottom": null,
            "_model_module": "@jupyter-widgets/base",
            "top": null,
            "grid_column": null,
            "overflow_y": null,
            "overflow_x": null,
            "grid_auto_flow": null,
            "grid_area": null,
            "grid_template_columns": null,
            "flex": null,
            "_model_name": "LayoutModel",
            "justify_items": null,
            "grid_row": null,
            "max_height": null,
            "align_content": null,
            "visibility": null,
            "align_self": null,
            "height": null,
            "min_height": null,
            "padding": null,
            "grid_auto_rows": null,
            "grid_gap": null,
            "max_width": null,
            "order": null,
            "_view_module_version": "1.2.0",
            "grid_template_areas": null,
            "object_position": null,
            "object_fit": null,
            "grid_auto_columns": null,
            "margin": null,
            "display": null,
            "left": null
          }
        },
        "70a2597ec6f24ac5a578bab09847db71": {
          "model_module": "@jupyter-widgets/controls",
          "model_name": "HBoxModel",
          "state": {
            "_view_name": "HBoxView",
            "_dom_classes": [],
            "_model_name": "HBoxModel",
            "_view_module": "@jupyter-widgets/controls",
            "_model_module_version": "1.5.0",
            "_view_count": null,
            "_view_module_version": "1.5.0",
            "box_style": "",
            "layout": "IPY_MODEL_38d0230efa914a4a9f29e08d97093078",
            "_model_module": "@jupyter-widgets/controls",
            "children": [
              "IPY_MODEL_d2a98ad1904848689871058fce8a7c7d",
              "IPY_MODEL_17a2aa28232245528cfafb47832ea74f"
            ]
          }
        },
        "38d0230efa914a4a9f29e08d97093078": {
          "model_module": "@jupyter-widgets/base",
          "model_name": "LayoutModel",
          "state": {
            "_view_name": "LayoutView",
            "grid_template_rows": null,
            "right": null,
            "justify_content": null,
            "_view_module": "@jupyter-widgets/base",
            "overflow": null,
            "_model_module_version": "1.2.0",
            "_view_count": null,
            "flex_flow": null,
            "width": null,
            "min_width": null,
            "border": null,
            "align_items": null,
            "bottom": null,
            "_model_module": "@jupyter-widgets/base",
            "top": null,
            "grid_column": null,
            "overflow_y": null,
            "overflow_x": null,
            "grid_auto_flow": null,
            "grid_area": null,
            "grid_template_columns": null,
            "flex": null,
            "_model_name": "LayoutModel",
            "justify_items": null,
            "grid_row": null,
            "max_height": null,
            "align_content": null,
            "visibility": null,
            "align_self": null,
            "height": null,
            "min_height": null,
            "padding": null,
            "grid_auto_rows": null,
            "grid_gap": null,
            "max_width": null,
            "order": null,
            "_view_module_version": "1.2.0",
            "grid_template_areas": null,
            "object_position": null,
            "object_fit": null,
            "grid_auto_columns": null,
            "margin": null,
            "display": null,
            "left": null
          }
        },
        "d2a98ad1904848689871058fce8a7c7d": {
          "model_module": "@jupyter-widgets/controls",
          "model_name": "FloatProgressModel",
          "state": {
            "_view_name": "ProgressView",
            "style": "IPY_MODEL_acf0b981b24545ab9a39fd1be6c127b0",
            "_dom_classes": [],
            "description": "Downloading: 100%",
            "_model_name": "FloatProgressModel",
            "bar_style": "success",
            "max": 112,
            "_view_module": "@jupyter-widgets/controls",
            "_model_module_version": "1.5.0",
            "value": 112,
            "_view_count": null,
            "_view_module_version": "1.5.0",
            "orientation": "horizontal",
            "min": 0,
            "description_tooltip": null,
            "_model_module": "@jupyter-widgets/controls",
            "layout": "IPY_MODEL_78c91a141bd74d689ec4d958e804ac7c"
          }
        },
        "17a2aa28232245528cfafb47832ea74f": {
          "model_module": "@jupyter-widgets/controls",
          "model_name": "HTMLModel",
          "state": {
            "_view_name": "HTMLView",
            "style": "IPY_MODEL_5c94d898ea1440669d7f3ed9ebb03a2b",
            "_dom_classes": [],
            "description": "",
            "_model_name": "HTMLModel",
            "placeholder": "​",
            "_view_module": "@jupyter-widgets/controls",
            "_model_module_version": "1.5.0",
            "value": " 112/112 [00:00&lt;00:00, 1.04kB/s]",
            "_view_count": null,
            "_view_module_version": "1.5.0",
            "description_tooltip": null,
            "_model_module": "@jupyter-widgets/controls",
            "layout": "IPY_MODEL_51bac5a121ad4416a36e55ffffaf3bed"
          }
        },
        "acf0b981b24545ab9a39fd1be6c127b0": {
          "model_module": "@jupyter-widgets/controls",
          "model_name": "ProgressStyleModel",
          "state": {
            "_view_name": "StyleView",
            "_model_name": "ProgressStyleModel",
            "description_width": "initial",
            "_view_module": "@jupyter-widgets/base",
            "_model_module_version": "1.5.0",
            "_view_count": null,
            "_view_module_version": "1.2.0",
            "bar_color": null,
            "_model_module": "@jupyter-widgets/controls"
          }
        },
        "78c91a141bd74d689ec4d958e804ac7c": {
          "model_module": "@jupyter-widgets/base",
          "model_name": "LayoutModel",
          "state": {
            "_view_name": "LayoutView",
            "grid_template_rows": null,
            "right": null,
            "justify_content": null,
            "_view_module": "@jupyter-widgets/base",
            "overflow": null,
            "_model_module_version": "1.2.0",
            "_view_count": null,
            "flex_flow": null,
            "width": null,
            "min_width": null,
            "border": null,
            "align_items": null,
            "bottom": null,
            "_model_module": "@jupyter-widgets/base",
            "top": null,
            "grid_column": null,
            "overflow_y": null,
            "overflow_x": null,
            "grid_auto_flow": null,
            "grid_area": null,
            "grid_template_columns": null,
            "flex": null,
            "_model_name": "LayoutModel",
            "justify_items": null,
            "grid_row": null,
            "max_height": null,
            "align_content": null,
            "visibility": null,
            "align_self": null,
            "height": null,
            "min_height": null,
            "padding": null,
            "grid_auto_rows": null,
            "grid_gap": null,
            "max_width": null,
            "order": null,
            "_view_module_version": "1.2.0",
            "grid_template_areas": null,
            "object_position": null,
            "object_fit": null,
            "grid_auto_columns": null,
            "margin": null,
            "display": null,
            "left": null
          }
        },
        "5c94d898ea1440669d7f3ed9ebb03a2b": {
          "model_module": "@jupyter-widgets/controls",
          "model_name": "DescriptionStyleModel",
          "state": {
            "_view_name": "StyleView",
            "_model_name": "DescriptionStyleModel",
            "description_width": "",
            "_view_module": "@jupyter-widgets/base",
            "_model_module_version": "1.5.0",
            "_view_count": null,
            "_view_module_version": "1.2.0",
            "_model_module": "@jupyter-widgets/controls"
          }
        },
        "51bac5a121ad4416a36e55ffffaf3bed": {
          "model_module": "@jupyter-widgets/base",
          "model_name": "LayoutModel",
          "state": {
            "_view_name": "LayoutView",
            "grid_template_rows": null,
            "right": null,
            "justify_content": null,
            "_view_module": "@jupyter-widgets/base",
            "overflow": null,
            "_model_module_version": "1.2.0",
            "_view_count": null,
            "flex_flow": null,
            "width": null,
            "min_width": null,
            "border": null,
            "align_items": null,
            "bottom": null,
            "_model_module": "@jupyter-widgets/base",
            "top": null,
            "grid_column": null,
            "overflow_y": null,
            "overflow_x": null,
            "grid_auto_flow": null,
            "grid_area": null,
            "grid_template_columns": null,
            "flex": null,
            "_model_name": "LayoutModel",
            "justify_items": null,
            "grid_row": null,
            "max_height": null,
            "align_content": null,
            "visibility": null,
            "align_self": null,
            "height": null,
            "min_height": null,
            "padding": null,
            "grid_auto_rows": null,
            "grid_gap": null,
            "max_width": null,
            "order": null,
            "_view_module_version": "1.2.0",
            "grid_template_areas": null,
            "object_position": null,
            "object_fit": null,
            "grid_auto_columns": null,
            "margin": null,
            "display": null,
            "left": null
          }
        },
        "7f8597fd17f440d49cd997de2d2a0e0a": {
          "model_module": "@jupyter-widgets/controls",
          "model_name": "HBoxModel",
          "state": {
            "_view_name": "HBoxView",
            "_dom_classes": [],
            "_model_name": "HBoxModel",
            "_view_module": "@jupyter-widgets/controls",
            "_model_module_version": "1.5.0",
            "_view_count": null,
            "_view_module_version": "1.5.0",
            "box_style": "",
            "layout": "IPY_MODEL_f970edddaf0940a1a8fbad90fa6143b8",
            "_model_module": "@jupyter-widgets/controls",
            "children": [
              "IPY_MODEL_2981c3bf723747fc9b0c37f564d40150",
              "IPY_MODEL_d7ed0cd6c0074d3782214cc197d8e09a"
            ]
          }
        },
        "f970edddaf0940a1a8fbad90fa6143b8": {
          "model_module": "@jupyter-widgets/base",
          "model_name": "LayoutModel",
          "state": {
            "_view_name": "LayoutView",
            "grid_template_rows": null,
            "right": null,
            "justify_content": null,
            "_view_module": "@jupyter-widgets/base",
            "overflow": null,
            "_model_module_version": "1.2.0",
            "_view_count": null,
            "flex_flow": null,
            "width": null,
            "min_width": null,
            "border": null,
            "align_items": null,
            "bottom": null,
            "_model_module": "@jupyter-widgets/base",
            "top": null,
            "grid_column": null,
            "overflow_y": null,
            "overflow_x": null,
            "grid_auto_flow": null,
            "grid_area": null,
            "grid_template_columns": null,
            "flex": null,
            "_model_name": "LayoutModel",
            "justify_items": null,
            "grid_row": null,
            "max_height": null,
            "align_content": null,
            "visibility": null,
            "align_self": null,
            "height": null,
            "min_height": null,
            "padding": null,
            "grid_auto_rows": null,
            "grid_gap": null,
            "max_width": null,
            "order": null,
            "_view_module_version": "1.2.0",
            "grid_template_areas": null,
            "object_position": null,
            "object_fit": null,
            "grid_auto_columns": null,
            "margin": null,
            "display": null,
            "left": null
          }
        },
        "2981c3bf723747fc9b0c37f564d40150": {
          "model_module": "@jupyter-widgets/controls",
          "model_name": "FloatProgressModel",
          "state": {
            "_view_name": "ProgressView",
            "style": "IPY_MODEL_dca1cf492c304df6a4215bd183893db9",
            "_dom_classes": [],
            "description": "Downloading: 100%",
            "_model_name": "FloatProgressModel",
            "bar_style": "success",
            "max": 62,
            "_view_module": "@jupyter-widgets/controls",
            "_model_module_version": "1.5.0",
            "value": 62,
            "_view_count": null,
            "_view_module_version": "1.5.0",
            "orientation": "horizontal",
            "min": 0,
            "description_tooltip": null,
            "_model_module": "@jupyter-widgets/controls",
            "layout": "IPY_MODEL_0d8bc65c17af464c89f7f79132264462"
          }
        },
        "d7ed0cd6c0074d3782214cc197d8e09a": {
          "model_module": "@jupyter-widgets/controls",
          "model_name": "HTMLModel",
          "state": {
            "_view_name": "HTMLView",
            "style": "IPY_MODEL_81a5e272a5144ae8bf109638dc35142f",
            "_dom_classes": [],
            "description": "",
            "_model_name": "HTMLModel",
            "placeholder": "​",
            "_view_module": "@jupyter-widgets/controls",
            "_model_module_version": "1.5.0",
            "value": " 62.0/62.0 [00:00&lt;00:00, 611B/s]",
            "_view_count": null,
            "_view_module_version": "1.5.0",
            "description_tooltip": null,
            "_model_module": "@jupyter-widgets/controls",
            "layout": "IPY_MODEL_feebae54b26c4fb3ac639821cdd8a547"
          }
        },
        "dca1cf492c304df6a4215bd183893db9": {
          "model_module": "@jupyter-widgets/controls",
          "model_name": "ProgressStyleModel",
          "state": {
            "_view_name": "StyleView",
            "_model_name": "ProgressStyleModel",
            "description_width": "initial",
            "_view_module": "@jupyter-widgets/base",
            "_model_module_version": "1.5.0",
            "_view_count": null,
            "_view_module_version": "1.2.0",
            "bar_color": null,
            "_model_module": "@jupyter-widgets/controls"
          }
        },
        "0d8bc65c17af464c89f7f79132264462": {
          "model_module": "@jupyter-widgets/base",
          "model_name": "LayoutModel",
          "state": {
            "_view_name": "LayoutView",
            "grid_template_rows": null,
            "right": null,
            "justify_content": null,
            "_view_module": "@jupyter-widgets/base",
            "overflow": null,
            "_model_module_version": "1.2.0",
            "_view_count": null,
            "flex_flow": null,
            "width": null,
            "min_width": null,
            "border": null,
            "align_items": null,
            "bottom": null,
            "_model_module": "@jupyter-widgets/base",
            "top": null,
            "grid_column": null,
            "overflow_y": null,
            "overflow_x": null,
            "grid_auto_flow": null,
            "grid_area": null,
            "grid_template_columns": null,
            "flex": null,
            "_model_name": "LayoutModel",
            "justify_items": null,
            "grid_row": null,
            "max_height": null,
            "align_content": null,
            "visibility": null,
            "align_self": null,
            "height": null,
            "min_height": null,
            "padding": null,
            "grid_auto_rows": null,
            "grid_gap": null,
            "max_width": null,
            "order": null,
            "_view_module_version": "1.2.0",
            "grid_template_areas": null,
            "object_position": null,
            "object_fit": null,
            "grid_auto_columns": null,
            "margin": null,
            "display": null,
            "left": null
          }
        },
        "81a5e272a5144ae8bf109638dc35142f": {
          "model_module": "@jupyter-widgets/controls",
          "model_name": "DescriptionStyleModel",
          "state": {
            "_view_name": "StyleView",
            "_model_name": "DescriptionStyleModel",
            "description_width": "",
            "_view_module": "@jupyter-widgets/base",
            "_model_module_version": "1.5.0",
            "_view_count": null,
            "_view_module_version": "1.2.0",
            "_model_module": "@jupyter-widgets/controls"
          }
        },
        "feebae54b26c4fb3ac639821cdd8a547": {
          "model_module": "@jupyter-widgets/base",
          "model_name": "LayoutModel",
          "state": {
            "_view_name": "LayoutView",
            "grid_template_rows": null,
            "right": null,
            "justify_content": null,
            "_view_module": "@jupyter-widgets/base",
            "overflow": null,
            "_model_module_version": "1.2.0",
            "_view_count": null,
            "flex_flow": null,
            "width": null,
            "min_width": null,
            "border": null,
            "align_items": null,
            "bottom": null,
            "_model_module": "@jupyter-widgets/base",
            "top": null,
            "grid_column": null,
            "overflow_y": null,
            "overflow_x": null,
            "grid_auto_flow": null,
            "grid_area": null,
            "grid_template_columns": null,
            "flex": null,
            "_model_name": "LayoutModel",
            "justify_items": null,
            "grid_row": null,
            "max_height": null,
            "align_content": null,
            "visibility": null,
            "align_self": null,
            "height": null,
            "min_height": null,
            "padding": null,
            "grid_auto_rows": null,
            "grid_gap": null,
            "max_width": null,
            "order": null,
            "_view_module_version": "1.2.0",
            "grid_template_areas": null,
            "object_position": null,
            "object_fit": null,
            "grid_auto_columns": null,
            "margin": null,
            "display": null,
            "left": null
          }
        }
      }
    }
  },
  "cells": [
    {
      "cell_type": "code",
      "metadata": {
        "colab": {
          "base_uri": "https://localhost:8080/"
        },
        "id": "zF0OHFbBAdM1",
        "outputId": "b5c0b22b-3eff-4a5a-ed37-911b63b7fad9"
      },
      "source": [
        "!pip install transformers"
      ],
      "id": "zF0OHFbBAdM1",
      "execution_count": 1,
      "outputs": [
        {
          "output_type": "stream",
          "text": [
            "Collecting transformers\n",
            "\u001b[?25l  Downloading https://files.pythonhosted.org/packages/d5/43/cfe4ee779bbd6a678ac6a97c5a5cdeb03c35f9eaebbb9720b036680f9a2d/transformers-4.6.1-py3-none-any.whl (2.2MB)\n",
            "\u001b[K     |████████████████████████████████| 2.3MB 9.5MB/s \n",
            "\u001b[?25hCollecting sacremoses\n",
            "\u001b[?25l  Downloading https://files.pythonhosted.org/packages/75/ee/67241dc87f266093c533a2d4d3d69438e57d7a90abb216fa076e7d475d4a/sacremoses-0.0.45-py3-none-any.whl (895kB)\n",
            "\u001b[K     |████████████████████████████████| 901kB 50.6MB/s \n",
            "\u001b[?25hRequirement already satisfied: tqdm>=4.27 in /usr/local/lib/python3.7/dist-packages (from transformers) (4.41.1)\n",
            "Requirement already satisfied: numpy>=1.17 in /usr/local/lib/python3.7/dist-packages (from transformers) (1.19.5)\n",
            "Requirement already satisfied: regex!=2019.12.17 in /usr/local/lib/python3.7/dist-packages (from transformers) (2019.12.20)\n",
            "Requirement already satisfied: requests in /usr/local/lib/python3.7/dist-packages (from transformers) (2.23.0)\n",
            "Collecting huggingface-hub==0.0.8\n",
            "  Downloading https://files.pythonhosted.org/packages/a1/88/7b1e45720ecf59c6c6737ff332f41c955963090a18e72acbcbeac6b25e86/huggingface_hub-0.0.8-py3-none-any.whl\n",
            "Requirement already satisfied: packaging in /usr/local/lib/python3.7/dist-packages (from transformers) (20.9)\n",
            "Requirement already satisfied: filelock in /usr/local/lib/python3.7/dist-packages (from transformers) (3.0.12)\n",
            "Requirement already satisfied: importlib-metadata; python_version < \"3.8\" in /usr/local/lib/python3.7/dist-packages (from transformers) (4.0.1)\n",
            "Collecting tokenizers<0.11,>=0.10.1\n",
            "\u001b[?25l  Downloading https://files.pythonhosted.org/packages/d4/e2/df3543e8ffdab68f5acc73f613de9c2b155ac47f162e725dcac87c521c11/tokenizers-0.10.3-cp37-cp37m-manylinux_2_5_x86_64.manylinux1_x86_64.manylinux_2_12_x86_64.manylinux2010_x86_64.whl (3.3MB)\n",
            "\u001b[K     |████████████████████████████████| 3.3MB 49.1MB/s \n",
            "\u001b[?25hRequirement already satisfied: click in /usr/local/lib/python3.7/dist-packages (from sacremoses->transformers) (7.1.2)\n",
            "Requirement already satisfied: six in /usr/local/lib/python3.7/dist-packages (from sacremoses->transformers) (1.15.0)\n",
            "Requirement already satisfied: joblib in /usr/local/lib/python3.7/dist-packages (from sacremoses->transformers) (1.0.1)\n",
            "Requirement already satisfied: urllib3!=1.25.0,!=1.25.1,<1.26,>=1.21.1 in /usr/local/lib/python3.7/dist-packages (from requests->transformers) (1.24.3)\n",
            "Requirement already satisfied: chardet<4,>=3.0.2 in /usr/local/lib/python3.7/dist-packages (from requests->transformers) (3.0.4)\n",
            "Requirement already satisfied: certifi>=2017.4.17 in /usr/local/lib/python3.7/dist-packages (from requests->transformers) (2020.12.5)\n",
            "Requirement already satisfied: idna<3,>=2.5 in /usr/local/lib/python3.7/dist-packages (from requests->transformers) (2.10)\n",
            "Requirement already satisfied: pyparsing>=2.0.2 in /usr/local/lib/python3.7/dist-packages (from packaging->transformers) (2.4.7)\n",
            "Requirement already satisfied: typing-extensions>=3.6.4; python_version < \"3.8\" in /usr/local/lib/python3.7/dist-packages (from importlib-metadata; python_version < \"3.8\"->transformers) (3.7.4.3)\n",
            "Requirement already satisfied: zipp>=0.5 in /usr/local/lib/python3.7/dist-packages (from importlib-metadata; python_version < \"3.8\"->transformers) (3.4.1)\n",
            "Installing collected packages: sacremoses, huggingface-hub, tokenizers, transformers\n",
            "Successfully installed huggingface-hub-0.0.8 sacremoses-0.0.45 tokenizers-0.10.3 transformers-4.6.1\n"
          ],
          "name": "stdout"
        }
      ]
    },
    {
      "cell_type": "code",
      "metadata": {
        "id": "eccc6f91"
      },
      "source": [
        "import transformers\n",
        "from transformers import BertModel, BertTokenizer, AdamW, get_linear_schedule_with_warmup\n",
        "import torch\n",
        "import numpy as np\n",
        "import pandas as pd\n",
        "import seaborn as sns\n",
        "from pylab import rcParams\n",
        "import matplotlib.pyplot as plt\n",
        "from matplotlib import rc\n",
        "from sklearn.model_selection import train_test_split\n",
        "from sklearn.metrics import confusion_matrix, classification_report\n",
        "from collections import defaultdict\n",
        "from textwrap import wrap\n",
        "from torch import nn, optim\n",
        "from torch.utils.data import Dataset, DataLoader\n",
        "\n",
        "%matplotlib inline\n",
        "%config InlineBackend.figure_format='retina'\n",
        "\n",
        "sns.set(style='whitegrid', palette='muted', font_scale=1.2)\n",
        "HAPPY_COLORS_PALETTE = [\"#01BEFE\", \"#FFDD00\", \"#FF7D00\", \"#FF006D\", \"#ADFF02\", \"#8F00FF\"]\n",
        "sns.set_palette(sns.color_palette(HAPPY_COLORS_PALETTE))\n",
        "rcParams['figure.figsize'] = 12, 8\n",
        "\n",
        "RANDOM_SEED = 42\n",
        "np.random.seed(RANDOM_SEED)\n",
        "torch.manual_seed(RANDOM_SEED)\n",
        "device = torch.device(\"cuda:0\" if torch.cuda.is_available() else \"cpu\")"
      ],
      "id": "eccc6f91",
      "execution_count": 2,
      "outputs": []
    },
    {
      "cell_type": "code",
      "metadata": {
        "colab": {
          "base_uri": "https://localhost:8080/"
        },
        "id": "a740e260",
        "outputId": "5d7ac74a-c7a8-48ca-acfa-865715254a9b"
      },
      "source": [
        "pd.set_option('display.max_columns', None)\n",
        "pd.set_option('display.max_colwidth', -1)\n",
        "pd.set_option('display.max_rows', 2000)"
      ],
      "id": "a740e260",
      "execution_count": 3,
      "outputs": [
        {
          "output_type": "stream",
          "text": [
            "/usr/local/lib/python3.7/dist-packages/ipykernel_launcher.py:2: FutureWarning: Passing a negative integer is deprecated in version 1.0 and will not be supported in future version. Instead, use None to not limit the column width.\n",
            "  \n"
          ],
          "name": "stderr"
        }
      ]
    },
    {
      "cell_type": "raw",
      "metadata": {
        "id": "c525874b"
      },
      "source": [
        "#### Import data from gdrive to colab storage\n",
        "* !gdown --id 1rVa7buu3F_Vtq1-c7u9Qauqc679jlcfj\n",
        "* !gdown --id 1tMXP9mBk98PCmI0ltmHzNHPrdr46TJkZ"
      ],
      "id": "c525874b"
    },
    {
      "cell_type": "code",
      "metadata": {
        "colab": {
          "base_uri": "https://localhost:8080/"
        },
        "id": "Xkhh3bFfBRgZ",
        "outputId": "e042e70e-907c-4987-8662-1ea9b4ce58c8"
      },
      "source": [
        "!gdown --id 1rVa7buu3F_Vtq1-c7u9Qauqc679jlcfj\n",
        "!gdown --id 1tMXP9mBk98PCmI0ltmHzNHPrdr46TJkZ\n",
        "!gdown --id 1qJCIoc3RaP4qB_5gODor_VdK48qI9Ijo"
      ],
      "id": "Xkhh3bFfBRgZ",
      "execution_count": 121,
      "outputs": [
        {
          "output_type": "stream",
          "text": [
            "Downloading...\n",
            "From: https://drive.google.com/uc?id=1rVa7buu3F_Vtq1-c7u9Qauqc679jlcfj\n",
            "To: /content/info_apps.csv\n",
            "100% 9.00k/9.00k [00:00<00:00, 14.6MB/s]\n",
            "Downloading...\n",
            "From: https://drive.google.com/uc?id=1tMXP9mBk98PCmI0ltmHzNHPrdr46TJkZ\n",
            "To: /content/apps_review_tiktok-nonrating.csv\n",
            "100% 895k/895k [00:00<00:00, 4.18MB/s]\n",
            "Downloading...\n",
            "From: https://drive.google.com/uc?id=1qJCIoc3RaP4qB_5gODor_VdK48qI9Ijo\n",
            "To: /content/apps_review_trialerror.csv\n",
            "100% 896k/896k [00:00<00:00, 5.48MB/s]\n"
          ],
          "name": "stdout"
        }
      ]
    },
    {
      "cell_type": "code",
      "metadata": {
        "colab": {
          "base_uri": "https://localhost:8080/",
          "height": 708
        },
        "id": "7cf778f9",
        "outputId": "1340c902-5162-47d7-d808-d579db53d0d8"
      },
      "source": [
        "df = pd.read_csv('apps_review-trialerror.csv')\n",
        "df.tail(10)"
      ],
      "id": "7cf778f9",
      "execution_count": 171,
      "outputs": [
        {
          "output_type": "execute_result",
          "data": {
            "text/html": [
              "<div>\n",
              "<style scoped>\n",
              "    .dataframe tbody tr th:only-of-type {\n",
              "        vertical-align: middle;\n",
              "    }\n",
              "\n",
              "    .dataframe tbody tr th {\n",
              "        vertical-align: top;\n",
              "    }\n",
              "\n",
              "    .dataframe thead th {\n",
              "        text-align: right;\n",
              "    }\n",
              "</style>\n",
              "<table border=\"1\" class=\"dataframe\">\n",
              "  <thead>\n",
              "    <tr style=\"text-align: right;\">\n",
              "      <th></th>\n",
              "      <th>reviewId</th>\n",
              "      <th>userName</th>\n",
              "      <th>userImage</th>\n",
              "      <th>content</th>\n",
              "      <th>score</th>\n",
              "      <th>thumbsUpCount</th>\n",
              "      <th>reviewCreatedVersion</th>\n",
              "      <th>at</th>\n",
              "      <th>replyContent</th>\n",
              "      <th>repliedAt</th>\n",
              "      <th>sortOrder</th>\n",
              "      <th>appId</th>\n",
              "    </tr>\n",
              "  </thead>\n",
              "  <tbody>\n",
              "    <tr>\n",
              "      <th>2190</th>\n",
              "      <td>gp:AOqpTOEyg4ogHnxRr6E831au8BspvQdMKBWPc3ftK6gXPUDwDqebf8aS749X2w8cbFO7PLCJhYS2Jk0Sk4zjVTA</td>\n",
              "      <td>fifi avrilia</td>\n",
              "      <td>https://play-lh.googleusercontent.com/a-/AOh14GiZSg9vqQCX69HlVhDRa0x-fgdNsjp932wt-fdh0Q</td>\n",
              "      <td>tiktok can you make my video fyp? @arararranara</td>\n",
              "      <td>5</td>\n",
              "      <td>0</td>\n",
              "      <td>19.7.2003</td>\n",
              "      <td>2021-05-30 13:34:29</td>\n",
              "      <td>NaN</td>\n",
              "      <td>NaN</td>\n",
              "      <td>newest</td>\n",
              "      <td>com.ss.android.ugc.trill</td>\n",
              "    </tr>\n",
              "    <tr>\n",
              "      <th>2191</th>\n",
              "      <td>gp:AOqpTOHn8Jj-jqwz3o3WWEHSzhXpauMQH4kqmdonExBls4aPcK5ZqY2CTRo-RJLTkTG1eWnOyLkRkoRUrXq_GAk</td>\n",
              "      <td>semoga bermanfaat</td>\n",
              "      <td>https://play-lh.googleusercontent.com/a-/AOh14GgYQI8V-sG94kG8EkcV7VnDE6i13FOC_y_mgxa-4Q</td>\n",
              "      <td>Mantep</td>\n",
              "      <td>5</td>\n",
              "      <td>0</td>\n",
              "      <td>NaN</td>\n",
              "      <td>2021-05-30 13:34:29</td>\n",
              "      <td>NaN</td>\n",
              "      <td>NaN</td>\n",
              "      <td>newest</td>\n",
              "      <td>com.ss.android.ugc.trill</td>\n",
              "    </tr>\n",
              "    <tr>\n",
              "      <th>2192</th>\n",
              "      <td>gp:AOqpTOGPhBKlMAM4to7Im_MSya4w35MbDF4da4saOK4nQcnSpeCnGpQWsiUzaX8qfKcXEcOeSMTzXbVAqNnMNwQ</td>\n",
              "      <td>Zahrahsalsabilapanu Salsa</td>\n",
              "      <td>https://play-lh.googleusercontent.com/a-/AOh14Gh0PSs-puwgEr5EqMLW6d0CUpEwzGrrx6sKhj2n</td>\n",
              "      <td>Hai tik tok kau bisa membuat ku terhibur i love you</td>\n",
              "      <td>5</td>\n",
              "      <td>0</td>\n",
              "      <td>19.5.43</td>\n",
              "      <td>2021-05-30 13:33:41</td>\n",
              "      <td>NaN</td>\n",
              "      <td>NaN</td>\n",
              "      <td>newest</td>\n",
              "      <td>com.ss.android.ugc.trill</td>\n",
              "    </tr>\n",
              "    <tr>\n",
              "      <th>2193</th>\n",
              "      <td>gp:AOqpTOFPxchow6CXCwPkpezH8KTLEPsbQWHfiUqnbuVZS8UN9Rh7dYE5pA7wFOwChb7MnGHyHks_NKNkq2UsFOU</td>\n",
              "      <td>putri amanda zulwani nasution</td>\n",
              "      <td>https://play-lh.googleusercontent.com/a/AATXAJyLqdTJHAmZxDgLBM2fq10yHQAh9aFoKCOty1esUQ=mo</td>\n",
              "      <td>Good</td>\n",
              "      <td>5</td>\n",
              "      <td>0</td>\n",
              "      <td>19.5.43</td>\n",
              "      <td>2021-05-30 13:33:30</td>\n",
              "      <td>NaN</td>\n",
              "      <td>NaN</td>\n",
              "      <td>newest</td>\n",
              "      <td>com.ss.android.ugc.trill</td>\n",
              "    </tr>\n",
              "    <tr>\n",
              "      <th>2194</th>\n",
              "      <td>gp:AOqpTOElnW-ofGHKGuT5N6EdjoPyUbX_wVBHPbKo9llLpmqOEJqyT4MAwYHFM1NHrqMJ6XmVE0uTCgReX_5Gm0E</td>\n",
              "      <td>Septi Ana</td>\n",
              "      <td>https://play-lh.googleusercontent.com/a/AATXAJwqY3U84Yxvz_SJZNP1DK6kYiSDBOVCpv-2-8l9=mo</td>\n",
              "      <td>Elek polll, Tapi boong😜</td>\n",
              "      <td>5</td>\n",
              "      <td>0</td>\n",
              "      <td>18.9.2004</td>\n",
              "      <td>2021-05-30 13:33:29</td>\n",
              "      <td>NaN</td>\n",
              "      <td>NaN</td>\n",
              "      <td>newest</td>\n",
              "      <td>com.ss.android.ugc.trill</td>\n",
              "    </tr>\n",
              "    <tr>\n",
              "      <th>2195</th>\n",
              "      <td>gp:AOqpTOF1qmPniVZ_Vh-U0EaJr3nhupBt_KLnGoKS9tikD4IVDKz0SPa91OiKsNHpB4d4P2CDNrpKK7yEQGUG4q4</td>\n",
              "      <td>Nurtiana Marni</td>\n",
              "      <td>https://play-lh.googleusercontent.com/a/AATXAJwhpsLo9ELvR7Dtnj9DCY7gkS6r-US2JA4R2lA4=mo</td>\n",
              "      <td>Apk bagus</td>\n",
              "      <td>5</td>\n",
              "      <td>0</td>\n",
              "      <td>19.1.2003</td>\n",
              "      <td>2021-05-30 13:33:27</td>\n",
              "      <td>NaN</td>\n",
              "      <td>NaN</td>\n",
              "      <td>newest</td>\n",
              "      <td>com.ss.android.ugc.trill</td>\n",
              "    </tr>\n",
              "    <tr>\n",
              "      <th>2196</th>\n",
              "      <td>gp:AOqpTOHSbmGDDF6o1OhbQXN0k0-Tr_zU5i1WBlyzg-8xyUCHHs5mW1wYROUkHzCL52d1whifKbxzF65EhyLuvZY</td>\n",
              "      <td>Azriel Farid</td>\n",
              "      <td>https://play-lh.googleusercontent.com/a/AATXAJwsD0F0gwOAj7cjmHogz97SXqy9z0egqkVMWwdE=mo</td>\n",
              "      <td>Tiktok memang keren .mantaaaaaabbbbbbbbbbbbb !!!!!!!!!?!????!!!!</td>\n",
              "      <td>5</td>\n",
              "      <td>0</td>\n",
              "      <td>19.5.43</td>\n",
              "      <td>2021-05-30 13:33:06</td>\n",
              "      <td>NaN</td>\n",
              "      <td>NaN</td>\n",
              "      <td>newest</td>\n",
              "      <td>com.ss.android.ugc.trill</td>\n",
              "    </tr>\n",
              "    <tr>\n",
              "      <th>2197</th>\n",
              "      <td>gp:AOqpTOFTOK3pewK8pe1fcBe2PMVpC5bsSca3DP6ZivSicz_Om6iRIPsR_5r1IIKbyrhJCSbDHDxwGbi-OU1dcts</td>\n",
              "      <td>[ Kode::❷❷❽❷❹❹❾❽❶ ]</td>\n",
              "      <td>https://play-lh.googleusercontent.com/a-/AOh14Ggi71di7EckYM-poIv0EglJDazBoCkR5f6nuc1p</td>\n",
              "      <td>Selain bisa menghibur aplikasi ini juga mantapp bisa mendapatkan uang.....butir dowload kawan segera masukan(F8PYYVZQVXYXL)/////////////////////////////////////////////////////////////////////////////////////////////////////////////////////////////////////////////////////////////////////////////////////////////////////////////////////////////////////////////////////////////////////////////////////////////////////////////////////////////////////////////////</td>\n",
              "      <td>5</td>\n",
              "      <td>0</td>\n",
              "      <td>19.5.43</td>\n",
              "      <td>2021-05-30 13:33:01</td>\n",
              "      <td>NaN</td>\n",
              "      <td>NaN</td>\n",
              "      <td>newest</td>\n",
              "      <td>com.ss.android.ugc.trill</td>\n",
              "    </tr>\n",
              "    <tr>\n",
              "      <th>2198</th>\n",
              "      <td>gp:AOqpTOGp2tmLFBVIQywojve41S-UFlmkzYWmMnDZF5bjutYOOF84UFUxBtu5ZcE629xhKkQMGDnmx0VNmiR0swg</td>\n",
              "      <td>salsa nabela</td>\n",
              "      <td>https://play-lh.googleusercontent.com/a/AATXAJxxXb09rZdzYUskn0GwkMkpYM_FOFegK2wMeo3s=mo</td>\n",
              "      <td>Good👍</td>\n",
              "      <td>5</td>\n",
              "      <td>0</td>\n",
              "      <td>19.5.43</td>\n",
              "      <td>2021-05-30 13:32:35</td>\n",
              "      <td>NaN</td>\n",
              "      <td>NaN</td>\n",
              "      <td>newest</td>\n",
              "      <td>com.ss.android.ugc.trill</td>\n",
              "    </tr>\n",
              "    <tr>\n",
              "      <th>2199</th>\n",
              "      <td>gp:AOqpTOHdzrk130aHIYte-Qw9YroqWMDVolqpane_IfPKCYlSR06BvBGQBTTxhSupAmhNnYSn3hitjXzxP0iQjKg</td>\n",
              "      <td>Toha Odading</td>\n",
              "      <td>https://play-lh.googleusercontent.com/a/AATXAJxA6A-Pq8xLlhJL9B4qYTa0TW18ZdEVU4P9Gjpq=mo</td>\n",
              "      <td>Mantapp</td>\n",
              "      <td>5</td>\n",
              "      <td>0</td>\n",
              "      <td>NaN</td>\n",
              "      <td>2021-05-30 13:32:28</td>\n",
              "      <td>NaN</td>\n",
              "      <td>NaN</td>\n",
              "      <td>newest</td>\n",
              "      <td>com.ss.android.ugc.trill</td>\n",
              "    </tr>\n",
              "  </tbody>\n",
              "</table>\n",
              "</div>"
            ],
            "text/plain": [
              "                                                                                        reviewId  \\\n",
              "2190  gp:AOqpTOEyg4ogHnxRr6E831au8BspvQdMKBWPc3ftK6gXPUDwDqebf8aS749X2w8cbFO7PLCJhYS2Jk0Sk4zjVTA   \n",
              "2191  gp:AOqpTOHn8Jj-jqwz3o3WWEHSzhXpauMQH4kqmdonExBls4aPcK5ZqY2CTRo-RJLTkTG1eWnOyLkRkoRUrXq_GAk   \n",
              "2192  gp:AOqpTOGPhBKlMAM4to7Im_MSya4w35MbDF4da4saOK4nQcnSpeCnGpQWsiUzaX8qfKcXEcOeSMTzXbVAqNnMNwQ   \n",
              "2193  gp:AOqpTOFPxchow6CXCwPkpezH8KTLEPsbQWHfiUqnbuVZS8UN9Rh7dYE5pA7wFOwChb7MnGHyHks_NKNkq2UsFOU   \n",
              "2194  gp:AOqpTOElnW-ofGHKGuT5N6EdjoPyUbX_wVBHPbKo9llLpmqOEJqyT4MAwYHFM1NHrqMJ6XmVE0uTCgReX_5Gm0E   \n",
              "2195  gp:AOqpTOF1qmPniVZ_Vh-U0EaJr3nhupBt_KLnGoKS9tikD4IVDKz0SPa91OiKsNHpB4d4P2CDNrpKK7yEQGUG4q4   \n",
              "2196  gp:AOqpTOHSbmGDDF6o1OhbQXN0k0-Tr_zU5i1WBlyzg-8xyUCHHs5mW1wYROUkHzCL52d1whifKbxzF65EhyLuvZY   \n",
              "2197  gp:AOqpTOFTOK3pewK8pe1fcBe2PMVpC5bsSca3DP6ZivSicz_Om6iRIPsR_5r1IIKbyrhJCSbDHDxwGbi-OU1dcts   \n",
              "2198  gp:AOqpTOGp2tmLFBVIQywojve41S-UFlmkzYWmMnDZF5bjutYOOF84UFUxBtu5ZcE629xhKkQMGDnmx0VNmiR0swg   \n",
              "2199  gp:AOqpTOHdzrk130aHIYte-Qw9YroqWMDVolqpane_IfPKCYlSR06BvBGQBTTxhSupAmhNnYSn3hitjXzxP0iQjKg   \n",
              "\n",
              "                           userName  \\\n",
              "2190  fifi avrilia                    \n",
              "2191  semoga bermanfaat               \n",
              "2192  Zahrahsalsabilapanu Salsa       \n",
              "2193  putri amanda zulwani nasution   \n",
              "2194  Septi Ana                       \n",
              "2195  Nurtiana Marni                  \n",
              "2196  Azriel Farid                    \n",
              "2197  [ Kode::❷❷❽❷❹❹❾❽❶ ]             \n",
              "2198  salsa nabela                    \n",
              "2199  Toha Odading                    \n",
              "\n",
              "                                                                                      userImage  \\\n",
              "2190  https://play-lh.googleusercontent.com/a-/AOh14GiZSg9vqQCX69HlVhDRa0x-fgdNsjp932wt-fdh0Q     \n",
              "2191  https://play-lh.googleusercontent.com/a-/AOh14GgYQI8V-sG94kG8EkcV7VnDE6i13FOC_y_mgxa-4Q     \n",
              "2192  https://play-lh.googleusercontent.com/a-/AOh14Gh0PSs-puwgEr5EqMLW6d0CUpEwzGrrx6sKhj2n       \n",
              "2193  https://play-lh.googleusercontent.com/a/AATXAJyLqdTJHAmZxDgLBM2fq10yHQAh9aFoKCOty1esUQ=mo   \n",
              "2194  https://play-lh.googleusercontent.com/a/AATXAJwqY3U84Yxvz_SJZNP1DK6kYiSDBOVCpv-2-8l9=mo     \n",
              "2195  https://play-lh.googleusercontent.com/a/AATXAJwhpsLo9ELvR7Dtnj9DCY7gkS6r-US2JA4R2lA4=mo     \n",
              "2196  https://play-lh.googleusercontent.com/a/AATXAJwsD0F0gwOAj7cjmHogz97SXqy9z0egqkVMWwdE=mo     \n",
              "2197  https://play-lh.googleusercontent.com/a-/AOh14Ggi71di7EckYM-poIv0EglJDazBoCkR5f6nuc1p       \n",
              "2198  https://play-lh.googleusercontent.com/a/AATXAJxxXb09rZdzYUskn0GwkMkpYM_FOFegK2wMeo3s=mo     \n",
              "2199  https://play-lh.googleusercontent.com/a/AATXAJxA6A-Pq8xLlhJL9B4qYTa0TW18ZdEVU4P9Gjpq=mo     \n",
              "\n",
              "                                                                                                                                                                                                                                                                                                                                                                                                                                                                           content  \\\n",
              "2190  tiktok can you make my video fyp? @arararranara                                                                                                                                                                                                                                                                                                                                                                                                                                \n",
              "2191  Mantep                                                                                                                                                                                                                                                                                                                                                                                                                                                                         \n",
              "2192  Hai tik tok kau bisa membuat ku terhibur i love you                                                                                                                                                                                                                                                                                                                                                                                                                            \n",
              "2193  Good                                                                                                                                                                                                                                                                                                                                                                                                                                                                           \n",
              "2194  Elek polll, Tapi boong😜                                                                                                                                                                                                                                                                                                                                                                                                                                                        \n",
              "2195  Apk bagus                                                                                                                                                                                                                                                                                                                                                                                                                                                                      \n",
              "2196  Tiktok memang keren .mantaaaaaabbbbbbbbbbbbb !!!!!!!!!?!????!!!!                                                                                                                                                                                                                                                                                                                                                                                                               \n",
              "2197  Selain bisa menghibur aplikasi ini juga mantapp bisa mendapatkan uang.....butir dowload kawan segera masukan(F8PYYVZQVXYXL)/////////////////////////////////////////////////////////////////////////////////////////////////////////////////////////////////////////////////////////////////////////////////////////////////////////////////////////////////////////////////////////////////////////////////////////////////////////////////////////////////////////////////   \n",
              "2198  Good👍                                                                                                                                                                                                                                                                                                                                                                                                                                                                          \n",
              "2199  Mantapp                                                                                                                                                                                                                                                                                                                                                                                                                                                                        \n",
              "\n",
              "      score  thumbsUpCount reviewCreatedVersion                   at  \\\n",
              "2190  5      0              19.7.2003            2021-05-30 13:34:29   \n",
              "2191  5      0              NaN                  2021-05-30 13:34:29   \n",
              "2192  5      0              19.5.43              2021-05-30 13:33:41   \n",
              "2193  5      0              19.5.43              2021-05-30 13:33:30   \n",
              "2194  5      0              18.9.2004            2021-05-30 13:33:29   \n",
              "2195  5      0              19.1.2003            2021-05-30 13:33:27   \n",
              "2196  5      0              19.5.43              2021-05-30 13:33:06   \n",
              "2197  5      0              19.5.43              2021-05-30 13:33:01   \n",
              "2198  5      0              19.5.43              2021-05-30 13:32:35   \n",
              "2199  5      0              NaN                  2021-05-30 13:32:28   \n",
              "\n",
              "     replyContent repliedAt sortOrder                     appId  \n",
              "2190  NaN          NaN       newest    com.ss.android.ugc.trill  \n",
              "2191  NaN          NaN       newest    com.ss.android.ugc.trill  \n",
              "2192  NaN          NaN       newest    com.ss.android.ugc.trill  \n",
              "2193  NaN          NaN       newest    com.ss.android.ugc.trill  \n",
              "2194  NaN          NaN       newest    com.ss.android.ugc.trill  \n",
              "2195  NaN          NaN       newest    com.ss.android.ugc.trill  \n",
              "2196  NaN          NaN       newest    com.ss.android.ugc.trill  \n",
              "2197  NaN          NaN       newest    com.ss.android.ugc.trill  \n",
              "2198  NaN          NaN       newest    com.ss.android.ugc.trill  \n",
              "2199  NaN          NaN       newest    com.ss.android.ugc.trill  "
            ]
          },
          "metadata": {
            "tags": []
          },
          "execution_count": 171
        }
      ]
    },
    {
      "cell_type": "code",
      "metadata": {
        "colab": {
          "base_uri": "https://localhost:8080/"
        },
        "id": "2db5bb47",
        "outputId": "e3ef3de4-c344-42f3-d713-544b9e0b3062"
      },
      "source": [
        "df.shape"
      ],
      "id": "2db5bb47",
      "execution_count": 123,
      "outputs": [
        {
          "output_type": "execute_result",
          "data": {
            "text/plain": [
              "(2200, 12)"
            ]
          },
          "metadata": {
            "tags": []
          },
          "execution_count": 123
        }
      ]
    },
    {
      "cell_type": "code",
      "metadata": {
        "colab": {
          "base_uri": "https://localhost:8080/"
        },
        "id": "9c8ad148",
        "outputId": "d27045dc-2ef5-4eee-ab50-af4c971491a8"
      },
      "source": [
        "df.info()"
      ],
      "id": "9c8ad148",
      "execution_count": 124,
      "outputs": [
        {
          "output_type": "stream",
          "text": [
            "<class 'pandas.core.frame.DataFrame'>\n",
            "RangeIndex: 2200 entries, 0 to 2199\n",
            "Data columns (total 12 columns):\n",
            " #   Column                Non-Null Count  Dtype \n",
            "---  ------                --------------  ----- \n",
            " 0   reviewId              2200 non-null   object\n",
            " 1   userName              2200 non-null   object\n",
            " 2   userImage             2200 non-null   object\n",
            " 3   content               2200 non-null   object\n",
            " 4   score                 2200 non-null   int64 \n",
            " 5   thumbsUpCount         2200 non-null   int64 \n",
            " 6   reviewCreatedVersion  1723 non-null   object\n",
            " 7   at                    2200 non-null   object\n",
            " 8   replyContent          1 non-null      object\n",
            " 9   repliedAt             1 non-null      object\n",
            " 10  sortOrder             2200 non-null   object\n",
            " 11  appId                 2200 non-null   object\n",
            "dtypes: int64(2), object(10)\n",
            "memory usage: 206.4+ KB\n"
          ],
          "name": "stdout"
        }
      ]
    },
    {
      "cell_type": "code",
      "metadata": {
        "colab": {
          "base_uri": "https://localhost:8080/",
          "height": 578
        },
        "id": "1bb29d67",
        "outputId": "8653bf26-4546-4dfe-b13f-1c4ffae9e0c7"
      },
      "source": [
        "sns.countplot(df.score)\n",
        "plt.xlabel('review score')"
      ],
      "id": "1bb29d67",
      "execution_count": 125,
      "outputs": [
        {
          "output_type": "stream",
          "text": [
            "/usr/local/lib/python3.7/dist-packages/seaborn/_decorators.py:43: FutureWarning: Pass the following variable as a keyword arg: x. From version 0.12, the only valid positional argument will be `data`, and passing other arguments without an explicit keyword will result in an error or misinterpretation.\n",
            "  FutureWarning\n"
          ],
          "name": "stderr"
        },
        {
          "output_type": "execute_result",
          "data": {
            "text/plain": [
              "Text(0.5, 0, 'review score')"
            ]
          },
          "metadata": {
            "tags": []
          },
          "execution_count": 125
        },
        {
          "output_type": "display_data",
          "data": {
            "image/png": "[encoded data removed]",
            "text/plain": [
              "<Figure size 864x576 with 1 Axes>"
            ]
          },
          "metadata": {
            "tags": [],
            "image/png": {
              "width": 736,
              "height": 489
            }
          }
        }
      ]
    },
    {
      "cell_type": "code",
      "metadata": {
        "id": "7bf50835"
      },
      "source": [
        "def to_sentiment(rating):\n",
        "    rating = int(rating)\n",
        "    if rating <=2:\n",
        "        return 0\n",
        "    elif rating == 3:\n",
        "        return 1\n",
        "    else: \n",
        "        return 2"
      ],
      "id": "7bf50835",
      "execution_count": 151,
      "outputs": []
    },
    {
      "cell_type": "code",
      "metadata": {
        "id": "92bc5101"
      },
      "source": [
        "df['sentiment'] = df.score.apply(to_sentiment)"
      ],
      "id": "92bc5101",
      "execution_count": 152,
      "outputs": []
    },
    {
      "cell_type": "code",
      "metadata": {
        "id": "51442629"
      },
      "source": [
        "class_names = ['negative','neutral','positive']"
      ],
      "id": "51442629",
      "execution_count": 153,
      "outputs": []
    },
    {
      "cell_type": "code",
      "metadata": {
        "colab": {
          "base_uri": "https://localhost:8080/",
          "height": 561
        },
        "id": "4b31ca7a",
        "outputId": "769bfbb4-6a4c-4aaf-c5d1-574df51abcb7"
      },
      "source": [
        "ax = sns.countplot(df.sentiment)\n",
        "plt.xlabel('review sentiment')\n",
        "ax.set_xticklabels(class_names);"
      ],
      "id": "4b31ca7a",
      "execution_count": 154,
      "outputs": [
        {
          "output_type": "stream",
          "text": [
            "/usr/local/lib/python3.7/dist-packages/seaborn/_decorators.py:43: FutureWarning: Pass the following variable as a keyword arg: x. From version 0.12, the only valid positional argument will be `data`, and passing other arguments without an explicit keyword will result in an error or misinterpretation.\n",
            "  FutureWarning\n"
          ],
          "name": "stderr"
        },
        {
          "output_type": "display_data",
          "data": {
            "image/png": "[encoded data removed]",
            "text/plain": [
              "<Figure size 864x576 with 1 Axes>"
            ]
          },
          "metadata": {
            "tags": [],
            "image/png": {
              "width": 736,
              "height": 489
            }
          }
        }
      ]
    },
    {
      "cell_type": "code",
      "metadata": {
        "id": "7Jb4unW4xYNt"
      },
      "source": [
        "df = df[['content', 'sentiment']]"
      ],
      "id": "7Jb4unW4xYNt",
      "execution_count": 155,
      "outputs": []
    },
    {
      "cell_type": "code",
      "metadata": {
        "colab": {
          "base_uri": "https://localhost:8080/",
          "height": 862
        },
        "id": "YvFqFow8w1JM",
        "outputId": "7df283aa-0776-447d-cc3a-8e0d65dfd0d7"
      },
      "source": [
        "df.head(20)"
      ],
      "id": "YvFqFow8w1JM",
      "execution_count": 156,
      "outputs": [
        {
          "output_type": "execute_result",
          "data": {
            "text/html": [
              "<div>\n",
              "<style scoped>\n",
              "    .dataframe tbody tr th:only-of-type {\n",
              "        vertical-align: middle;\n",
              "    }\n",
              "\n",
              "    .dataframe tbody tr th {\n",
              "        vertical-align: top;\n",
              "    }\n",
              "\n",
              "    .dataframe thead th {\n",
              "        text-align: right;\n",
              "    }\n",
              "</style>\n",
              "<table border=\"1\" class=\"dataframe\">\n",
              "  <thead>\n",
              "    <tr style=\"text-align: right;\">\n",
              "      <th></th>\n",
              "      <th>content</th>\n",
              "      <th>sentiment</th>\n",
              "    </tr>\n",
              "  </thead>\n",
              "  <tbody>\n",
              "    <tr>\n",
              "      <th>0</th>\n",
              "      <td>❗🕙🙆👌😨 Aplikasinya sebenarnya bagus..Tp knp skrg sy masuk akun sy hilang, tertulis frekuensi masuk terlalu sering. Apa maksudnya?? Sampai2 sy hapus aplikasi ini trus sy restart hp sy, download kembali tetap seperti itu. Tolong penjelasannya. Sementara sy kasih bintang 1 sebelum semuanya kembali seperti semula.</td>\n",
              "      <td>0</td>\n",
              "    </tr>\n",
              "    <tr>\n",
              "      <th>1</th>\n",
              "      <td>Tolong kepada pihak tiktok, kenapa tiba2 saya tidak bisa masuk tiktok? Padahal kemaren2 masih bisa n Muter2 trus, padahal jaringan wi-fi untuk yg lainnya lancar, kenapa pas masuk tiktok tiba2 wi-fi gabisa di pake/ada tulisan \"tidak ada sinyal\" cpt di perbaiki, kalo sudah nanti aku kasih 5bintang</td>\n",
              "      <td>0</td>\n",
              "    </tr>\n",
              "    <tr>\n",
              "      <th>2</th>\n",
              "      <td>Saya sangat kecewa kepada pihak tiktok akun saya di blokir padahal saya tidak pernah melakukan hal\" aneh dan saya di tiktok cuman Menonton vidio\" orang tidak pernah mengaplod konten tapi tiba\" akun tiktok saya di blokir,,, saya ingin membuat akun baru buat menonton video Tiktok lagi tapi malah g bisa setiap kali mendaftar malah tertulis \" Ups akun kamu sedang di tangguhkan sementara\" kan gak jelas banget pdhl saya di tiktok cuman menonton Vidio orang</td>\n",
              "      <td>0</td>\n",
              "    </tr>\n",
              "    <tr>\n",
              "      <th>3</th>\n",
              "      <td>Jujur ni ya gue gak puas banget sama tiktok sekarang kenapa waktu like udah banyak yg nonton udah banyak baru bilang pelanggaran apa apa in nihhh jelek banget tuh komen gue terhadap tiktok nending kalian dowliad yang lain jangan tiktok karna tiktok gak adil sekarang!!!!!!!</td>\n",
              "      <td>0</td>\n",
              "    </tr>\n",
              "    <tr>\n",
              "      <th>4</th>\n",
              "      <td>Aplikasi Haram!!!!!!!!!!!!!!!!!!!!!!!!! ¡!¡!!!!!!!!!!!!!!!!!!!!!!!!!!!!!!!!!!!!!!!!?!!!!!!!!!!!!!!!!!!!!!!!!!!!!!!!!!!!!!!!!!!!!!!!!!!!!!!!!!!!!!!!!!!!!?!!!!!!!!!!!? Tapi bener</td>\n",
              "      <td>0</td>\n",
              "    </tr>\n",
              "    <tr>\n",
              "      <th>5</th>\n",
              "      <td>kenapa akun gua ngestuck di 5 menit terus, gua pikir bakalan balik lagi kayak semula pas besoknya, eh ini udah hari ke-3 akun gua stuck di 5 menit. poin gua kaga nambah-nambah padahal gua udah lebih dari sejam liatin video di tiktok. jelek banget</td>\n",
              "      <td>0</td>\n",
              "    </tr>\n",
              "    <tr>\n",
              "      <th>6</th>\n",
              "      <td>Saya mantan petualang hampir seluruh Nusantara Indonesia pernah saya jelajahi kecuali tim-tim dan Papua yg belum saya jamah ternyata sungguh mengagumkan keaneragaman budaya Indonesia yang tidak bisa di nilai dgn uang seni adat budaya harus tetap dijaga agar tidak punah , Indonesia benar2 kaya dgn beragam budaya dan ke indahan alam nya sangat beruntung pengelola periwisata terutama dinas periwisata dan itu harus dilibatkan tokoh budaya dan sei adat setempat agar maksimal tertangani .</td>\n",
              "      <td>0</td>\n",
              "    </tr>\n",
              "    <tr>\n",
              "      <th>7</th>\n",
              "      <td>Saya sebenarnya suka dengan aplikasi ini tapi saya kecewa karna akun tiktok saya di blokir. Padahal saya pengguna baru. Setiap saya menonton video durasi hanya sampai 5 menit tidak bisa lebih. Padahal saya sudah menonton lebih dari 30 menit. Koin juga tidak bertambah. Saya jadi sedih...😭😭😭 Tolong donk buka lagi akun saya. Please......</td>\n",
              "      <td>0</td>\n",
              "    </tr>\n",
              "    <tr>\n",
              "      <th>8</th>\n",
              "      <td>Aplikasi jelek!!!! Masa koin saya gak bertambah, udah nonton video berjam2 malah gak masuk koinnya, udah gitu pas mau di cairkan \"gagal menautkan akun dana 1200008\" asu emang ni aplikasi</td>\n",
              "      <td>0</td>\n",
              "    </tr>\n",
              "    <tr>\n",
              "      <th>9</th>\n",
              "      <td>Apikasi ini jelek,!!!!!!!!!!!!!!!!!!!!!!!!!!!!!!!!!!!!!!!!!!!!!!!!!!!!!!!!!!!!!!!!!!!!!!!!!!!!!!!!!!!!!!!!!!!!!!!!!!!!!!!!!!!!!!!!!!!!!!!!!!!!!!!!!!!!!!!!!</td>\n",
              "      <td>0</td>\n",
              "    </tr>\n",
              "    <tr>\n",
              "      <th>10</th>\n",
              "      <td>Dulu saya kasih bintang 5, sekrng saya kasih bintang 1 aja,,karena saldo saya tidak bisa di tarik ,sudah 4 hari,,kalau masih ga bisa di tarik,mungkin saya uninstal aja deh ,,</td>\n",
              "      <td>0</td>\n",
              "    </tr>\n",
              "    <tr>\n",
              "      <th>11</th>\n",
              "      <td>Tolong dong diperbaiki bug event treats, udah masukin kode susah, klaim hadiahnya juga susah. Poin saya ilang tapi treatsnya malah gak dapet. Kalau gak niat bikin event gak usah bikin sekalian 👎</td>\n",
              "      <td>0</td>\n",
              "    </tr>\n",
              "    <tr>\n",
              "      <th>12</th>\n",
              "      <td>Kepada team tiktok. Sebagai user cape cape ngumpul in referral. Setelah target kenapa penarikan di persulit. Dahulu lancar lancar saja. Saya kecewa. Padahal saldo cuma ratusan ribu. Bukan jutawan. E-mail complain. Feedback di apk. Bahkan disini tidak pernah ada respon sama sekali dri pihak tiktok.</td>\n",
              "      <td>0</td>\n",
              "    </tr>\n",
              "    <tr>\n",
              "      <th>13</th>\n",
              "      <td>Akun terblokir ( ga bisa unggah video )...aneh, padahal gw cuma unggah video yg berisikan doa utk saudara saudari gw yg lg susah....sebuah alasan yg tidak msk akal.....</td>\n",
              "      <td>0</td>\n",
              "    </tr>\n",
              "    <tr>\n",
              "      <th>14</th>\n",
              "      <td>Saya kok Tiba-tiba di blokir padalan followers aku lo udah 201 aku tidak Ada konten penyiksaan !!!!!!!!!!!!!!!!!!!!!!!!!!!!!!!!!!!!!!!!!!!!!!!!!</td>\n",
              "      <td>0</td>\n",
              "    </tr>\n",
              "    <tr>\n",
              "      <th>15</th>\n",
              "      <td>Kenapa kok terusan aja Diblokir Tik tok aku Kenapa!!!! Kembalikan lagi akun tiktok aku ya plisss 😌. Aku kan gak ngapa -Ngapain tiba tiba di blokir slama nya yok Kembalikan lagi pliss😌🤨🤨</td>\n",
              "      <td>0</td>\n",
              "    </tr>\n",
              "    <tr>\n",
              "      <th>16</th>\n",
              "      <td>Apelikasi ini jelek sapesampe Mata gua sakit !!!!!!!!!!!!!!!!!!!!!!!!!!!!!!!!!!!!!!!!!!!!!!!!!!!!!!!!!!!!!!!!!!!!!!!!!!!!!!!!!!!!!!!!!!!!!!!!!!!!!!!!!!!!!!!!!!!!!!!!!!!!!!!!!!!!!!!!!!!!!!!!!!!!!!!!!!!!!!!!!!!!!!!!!!!!!!!!!!!!!!!!!!!!!!!!!!!!!!!!!!!!!!!!!!!!!!!!!!!!!!!!!!!!!!!!!!!!tapi boong papalepale</td>\n",
              "      <td>0</td>\n",
              "    </tr>\n",
              "    <tr>\n",
              "      <th>17</th>\n",
              "      <td>Maaf ya saya kasih bintang 1(satu) karena setelah di upgrade, saya menonton video cukup lama, tetapi koin tidak bertambah, nanti kalau sudah normal kembali saya tambahkan bintangnya jadi 5(lima) kembali, terimakasih.</td>\n",
              "      <td>0</td>\n",
              "    </tr>\n",
              "    <tr>\n",
              "      <th>18</th>\n",
              "      <td>Jelekkk amaattt!!! Saldo aq g bisa ditarik, emangnya ngundang orang,sama nonton video g pake data!!! Awas aja g bisa narik saldo saya ya?!!</td>\n",
              "      <td>0</td>\n",
              "    </tr>\n",
              "    <tr>\n",
              "      <th>19</th>\n",
              "      <td>Kecewa bgt sama tiktok.. kenapa ngadain program reveral klo kode reveralnya gk bisa di pake gara gara tidak lolos kontrol penipuan.. padahal saya tidak curang.. cari pengguna baru itu susah loh.. mending hapus itu program reveral njing..</td>\n",
              "      <td>0</td>\n",
              "    </tr>\n",
              "  </tbody>\n",
              "</table>\n",
              "</div>"
            ],
            "text/plain": [
              "                                                                                                                                                                                                                                                                                                                                                                                                                                                                                                    content  \\\n",
              "0   ❗🕙🙆👌😨 Aplikasinya sebenarnya bagus..Tp knp skrg sy masuk akun sy hilang, tertulis frekuensi masuk terlalu sering. Apa maksudnya?? Sampai2 sy hapus aplikasi ini trus sy restart hp sy, download kembali tetap seperti itu. Tolong penjelasannya. Sementara sy kasih bintang 1 sebelum semuanya kembali seperti semula.                                                                                                                                                                                    \n",
              "1   Tolong kepada pihak tiktok, kenapa tiba2 saya tidak bisa masuk tiktok? Padahal kemaren2 masih bisa n Muter2 trus, padahal jaringan wi-fi untuk yg lainnya lancar, kenapa pas masuk tiktok tiba2 wi-fi gabisa di pake/ada tulisan \"tidak ada sinyal\" cpt di perbaiki, kalo sudah nanti aku kasih 5bintang                                                                                                                                                                                                  \n",
              "2   Saya sangat kecewa kepada pihak tiktok akun saya di blokir padahal saya tidak pernah melakukan hal\" aneh dan saya di tiktok cuman Menonton vidio\" orang tidak pernah mengaplod konten tapi tiba\" akun tiktok saya di blokir,,, saya ingin membuat akun baru buat menonton video Tiktok lagi tapi malah g bisa setiap kali mendaftar malah tertulis \" Ups akun kamu sedang di tangguhkan sementara\" kan gak jelas banget pdhl saya di tiktok cuman menonton Vidio orang                                    \n",
              "3   Jujur ni ya gue gak puas banget sama tiktok sekarang kenapa waktu like udah banyak yg nonton udah banyak baru bilang pelanggaran apa apa in nihhh jelek banget tuh komen gue terhadap tiktok nending kalian dowliad yang lain jangan tiktok karna tiktok gak adil sekarang!!!!!!!                                                                                                                                                                                                                         \n",
              "4   Aplikasi Haram!!!!!!!!!!!!!!!!!!!!!!!!! ¡!¡!!!!!!!!!!!!!!!!!!!!!!!!!!!!!!!!!!!!!!!!?!!!!!!!!!!!!!!!!!!!!!!!!!!!!!!!!!!!!!!!!!!!!!!!!!!!!!!!!!!!!!!!!!!!!?!!!!!!!!!!!? Tapi bener                                                                                                                                                                                                                                                                                                                          \n",
              "5   kenapa akun gua ngestuck di 5 menit terus, gua pikir bakalan balik lagi kayak semula pas besoknya, eh ini udah hari ke-3 akun gua stuck di 5 menit. poin gua kaga nambah-nambah padahal gua udah lebih dari sejam liatin video di tiktok. jelek banget                                                                                                                                                                                                                                                    \n",
              "6   Saya mantan petualang hampir seluruh Nusantara Indonesia pernah saya jelajahi kecuali tim-tim dan Papua yg belum saya jamah ternyata sungguh mengagumkan keaneragaman budaya Indonesia yang tidak bisa di nilai dgn uang seni adat budaya harus tetap dijaga agar tidak punah , Indonesia benar2 kaya dgn beragam budaya dan ke indahan alam nya sangat beruntung pengelola periwisata terutama dinas periwisata dan itu harus dilibatkan tokoh budaya dan sei adat setempat agar maksimal tertangani .   \n",
              "7   Saya sebenarnya suka dengan aplikasi ini tapi saya kecewa karna akun tiktok saya di blokir. Padahal saya pengguna baru. Setiap saya menonton video durasi hanya sampai 5 menit tidak bisa lebih. Padahal saya sudah menonton lebih dari 30 menit. Koin juga tidak bertambah. Saya jadi sedih...😭😭😭 Tolong donk buka lagi akun saya. Please......                                                                                                                                                          \n",
              "8   Aplikasi jelek!!!! Masa koin saya gak bertambah, udah nonton video berjam2 malah gak masuk koinnya, udah gitu pas mau di cairkan \"gagal menautkan akun dana 1200008\" asu emang ni aplikasi                                                                                                                                                                                                                                                                                                                \n",
              "9   Apikasi ini jelek,!!!!!!!!!!!!!!!!!!!!!!!!!!!!!!!!!!!!!!!!!!!!!!!!!!!!!!!!!!!!!!!!!!!!!!!!!!!!!!!!!!!!!!!!!!!!!!!!!!!!!!!!!!!!!!!!!!!!!!!!!!!!!!!!!!!!!!!!!                                                                                                                                                                                                                                                                                                                                               \n",
              "10  Dulu saya kasih bintang 5, sekrng saya kasih bintang 1 aja,,karena saldo saya tidak bisa di tarik ,sudah 4 hari,,kalau masih ga bisa di tarik,mungkin saya uninstal aja deh ,,                                                                                                                                                                                                                                                                                                                            \n",
              "11  Tolong dong diperbaiki bug event treats, udah masukin kode susah, klaim hadiahnya juga susah. Poin saya ilang tapi treatsnya malah gak dapet. Kalau gak niat bikin event gak usah bikin sekalian 👎                                                                                                                                                                                                                                                                                                        \n",
              "12  Kepada team tiktok. Sebagai user cape cape ngumpul in referral. Setelah target kenapa penarikan di persulit. Dahulu lancar lancar saja. Saya kecewa. Padahal saldo cuma ratusan ribu. Bukan jutawan. E-mail complain. Feedback di apk. Bahkan disini tidak pernah ada respon sama sekali dri pihak tiktok.                                                                                                                                                                                                \n",
              "13  Akun terblokir ( ga bisa unggah video )...aneh, padahal gw cuma unggah video yg berisikan doa utk saudara saudari gw yg lg susah....sebuah alasan yg tidak msk akal.....                                                                                                                                                                                                                                                                                                                                  \n",
              "14  Saya kok Tiba-tiba di blokir padalan followers aku lo udah 201 aku tidak Ada konten penyiksaan !!!!!!!!!!!!!!!!!!!!!!!!!!!!!!!!!!!!!!!!!!!!!!!!!                                                                                                                                                                                                                                                                                                                                                          \n",
              "15  Kenapa kok terusan aja Diblokir Tik tok aku Kenapa!!!! Kembalikan lagi akun tiktok aku ya plisss 😌. Aku kan gak ngapa -Ngapain tiba tiba di blokir slama nya yok Kembalikan lagi pliss😌🤨🤨                                                                                                                                                                                                                                                                                                                 \n",
              "16  Apelikasi ini jelek sapesampe Mata gua sakit !!!!!!!!!!!!!!!!!!!!!!!!!!!!!!!!!!!!!!!!!!!!!!!!!!!!!!!!!!!!!!!!!!!!!!!!!!!!!!!!!!!!!!!!!!!!!!!!!!!!!!!!!!!!!!!!!!!!!!!!!!!!!!!!!!!!!!!!!!!!!!!!!!!!!!!!!!!!!!!!!!!!!!!!!!!!!!!!!!!!!!!!!!!!!!!!!!!!!!!!!!!!!!!!!!!!!!!!!!!!!!!!!!!!!!!!!!!!tapi boong papalepale                                                                                                                                                                                            \n",
              "17  Maaf ya saya kasih bintang 1(satu) karena setelah di upgrade, saya menonton video cukup lama, tetapi koin tidak bertambah, nanti kalau sudah normal kembali saya tambahkan bintangnya jadi 5(lima) kembali, terimakasih.                                                                                                                                                                                                                                                                                  \n",
              "18  Jelekkk amaattt!!! Saldo aq g bisa ditarik, emangnya ngundang orang,sama nonton video g pake data!!! Awas aja g bisa narik saldo saya ya?!!                                                                                                                                                                                                                                                                                                                                                               \n",
              "19  Kecewa bgt sama tiktok.. kenapa ngadain program reveral klo kode reveralnya gk bisa di pake gara gara tidak lolos kontrol penipuan.. padahal saya tidak curang.. cari pengguna baru itu susah loh.. mending hapus itu program reveral njing..                                                                                                                                                                                                                                                             \n",
              "\n",
              "    sentiment  \n",
              "0   0          \n",
              "1   0          \n",
              "2   0          \n",
              "3   0          \n",
              "4   0          \n",
              "5   0          \n",
              "6   0          \n",
              "7   0          \n",
              "8   0          \n",
              "9   0          \n",
              "10  0          \n",
              "11  0          \n",
              "12  0          \n",
              "13  0          \n",
              "14  0          \n",
              "15  0          \n",
              "16  0          \n",
              "17  0          \n",
              "18  0          \n",
              "19  0          "
            ]
          },
          "metadata": {
            "tags": []
          },
          "execution_count": 156
        }
      ]
    },
    {
      "cell_type": "markdown",
      "metadata": {
        "id": "00BpNRZwwYrq"
      },
      "source": [
        "### Data Cleaning"
      ],
      "id": "00BpNRZwwYrq"
    },
    {
      "cell_type": "code",
      "metadata": {
        "colab": {
          "base_uri": "https://localhost:8080/"
        },
        "id": "goBNZxFw2V37",
        "outputId": "cc20f74a-e01c-4e57-ffec-f1a0b57a816d"
      },
      "source": [
        "!pip install emot\n",
        "!pip install emoji\n",
        "!pip install emoji --upgrade"
      ],
      "id": "goBNZxFw2V37",
      "execution_count": 136,
      "outputs": [
        {
          "output_type": "stream",
          "text": [
            "Requirement already satisfied: emot in /usr/local/lib/python3.7/dist-packages (2.1)\n",
            "Requirement already satisfied: emoji in /usr/local/lib/python3.7/dist-packages (1.2.0)\n",
            "Requirement already up-to-date: emoji in /usr/local/lib/python3.7/dist-packages (1.2.0)\n"
          ],
          "name": "stdout"
        }
      ]
    },
    {
      "cell_type": "code",
      "metadata": {
        "id": "h4PH_SdP2pA-"
      },
      "source": [
        "import re\n",
        "import string\n",
        "import emoji"
      ],
      "id": "h4PH_SdP2pA-",
      "execution_count": 157,
      "outputs": []
    },
    {
      "cell_type": "code",
      "metadata": {
        "id": "lhR5WJO92A-E"
      },
      "source": [
        "# emoticons removal\n",
        "from emot.emo_unicode import UNICODE_EMO, EMOTICONS\n",
        "def remove_emoticons(text):\n",
        "    emoticon_pattern = re.compile(u'(' + u'|'.join(k for k in EMOTICONS) + u')')\n",
        "    return emoticon_pattern.sub(r'', text)\n",
        "    \n",
        "df['text'] = df['content'].apply(remove_emoticons)"
      ],
      "id": "lhR5WJO92A-E",
      "execution_count": 158,
      "outputs": []
    },
    {
      "cell_type": "code",
      "metadata": {
        "id": "-4OnwF8kMCLm"
      },
      "source": [
        "# emoji removal ✍ 🌷 📌 👈🏻 🖥\n",
        "def remove_emoji(text):\n",
        "    emoji_pattern = re.compile(\"[\"\n",
        "                           u\"\\U0001F600-\\U0001F64F\"  # emoticons\n",
        "                           u\"\\U0001F300-\\U0001F5FF\"  # symbols & pictographs\n",
        "                           u\"\\U0001F680-\\U0001F6FF\"  # transport & map symbols\n",
        "                           u\"\\U0001F1E0-\\U0001F1FF\"  # flags (iOS)\n",
        "                           u\"\\U00002500-\\U00002BEF\"  # chinese char\n",
        "                           u\"\\U00002702-\\U000027B0\"\n",
        "                           u\"\\U00002702-\\U000027B0\"\n",
        "                           u\"\\U000024C2-\\U0001F251\"\n",
        "                           u\"\\U0001f926-\\U0001f937\"\n",
        "                           u\"\\U00010000-\\U0010ffff\"\n",
        "                           u\"\\u2640-\\u2642\"\n",
        "                           u\"\\u2600-\\u2B55\"\n",
        "                           u\"\\u200d\"\n",
        "                           u\"\\u23cf\"\n",
        "                           u\"\\u23e9\"\n",
        "                           u\"\\u231a\"\n",
        "                           u\"\\ufe0f\"  # dingbats\n",
        "                           u\"\\u3030\"\n",
        "                               #mengonversi data input ke Unicode\n",
        "                           \"]+\", flags=re.UNICODE)\n",
        "    return emoji_pattern.sub(r'', text)\n",
        "\n",
        "df['text'] = df['text'].apply(remove_emoji)"
      ],
      "id": "-4OnwF8kMCLm",
      "execution_count": 160,
      "outputs": []
    },
    {
      "cell_type": "code",
      "metadata": {
        "colab": {
          "base_uri": "https://localhost:8080/",
          "height": 1000
        },
        "id": "sSpjpE0A2A36",
        "outputId": "e94c81f2-efd9-4dc6-ee49-30c01896f27b"
      },
      "source": [
        "df.head(20)"
      ],
      "id": "sSpjpE0A2A36",
      "execution_count": 161,
      "outputs": [
        {
          "output_type": "execute_result",
          "data": {
            "text/html": [
              "<div>\n",
              "<style scoped>\n",
              "    .dataframe tbody tr th:only-of-type {\n",
              "        vertical-align: middle;\n",
              "    }\n",
              "\n",
              "    .dataframe tbody tr th {\n",
              "        vertical-align: top;\n",
              "    }\n",
              "\n",
              "    .dataframe thead th {\n",
              "        text-align: right;\n",
              "    }\n",
              "</style>\n",
              "<table border=\"1\" class=\"dataframe\">\n",
              "  <thead>\n",
              "    <tr style=\"text-align: right;\">\n",
              "      <th></th>\n",
              "      <th>content</th>\n",
              "      <th>sentiment</th>\n",
              "      <th>text</th>\n",
              "    </tr>\n",
              "  </thead>\n",
              "  <tbody>\n",
              "    <tr>\n",
              "      <th>0</th>\n",
              "      <td>❗🕙🙆👌😨 Aplikasinya sebenarnya bagus..Tp knp skrg sy masuk akun sy hilang, tertulis frekuensi masuk terlalu sering. Apa maksudnya?? Sampai2 sy hapus aplikasi ini trus sy restart hp sy, download kembali tetap seperti itu. Tolong penjelasannya. Sementara sy kasih bintang 1 sebelum semuanya kembali seperti semula.</td>\n",
              "      <td>0</td>\n",
              "      <td>Aplikasinya sebenarnya bagus..Tp knp skrg sy masuk akun sy hilang, tertulis frekuensi masuk terlalu sering. Apa maksudnya?? Sampai2 sy hapus aplikasi ini trus sy restart hp sy, download kembali tetap seperti itu. Tolong penjelasannya. Sementara sy kasih bintang 1 sebelum semuanya kembali seperti semula.</td>\n",
              "    </tr>\n",
              "    <tr>\n",
              "      <th>1</th>\n",
              "      <td>Tolong kepada pihak tiktok, kenapa tiba2 saya tidak bisa masuk tiktok? Padahal kemaren2 masih bisa n Muter2 trus, padahal jaringan wi-fi untuk yg lainnya lancar, kenapa pas masuk tiktok tiba2 wi-fi gabisa di pake/ada tulisan \"tidak ada sinyal\" cpt di perbaiki, kalo sudah nanti aku kasih 5bintang</td>\n",
              "      <td>0</td>\n",
              "      <td>Tolong kepada pihak tiktok, kenapa tiba2 saya tidak bisa masuk tiktok? Padahal kemaren2 masih bisa n Muter2 trus, padahal jaringan wi-fi untuk yg lainnya lancar, kenapa pas masuk tiktok tiba2 wi-fi gabisa di pake/ada tulisan \"tidak ada sinyal\" cpt di perbaiki, kalo sudah nanti aku kasih 5bintang</td>\n",
              "    </tr>\n",
              "    <tr>\n",
              "      <th>2</th>\n",
              "      <td>Saya sangat kecewa kepada pihak tiktok akun saya di blokir padahal saya tidak pernah melakukan hal\" aneh dan saya di tiktok cuman Menonton vidio\" orang tidak pernah mengaplod konten tapi tiba\" akun tiktok saya di blokir,,, saya ingin membuat akun baru buat menonton video Tiktok lagi tapi malah g bisa setiap kali mendaftar malah tertulis \" Ups akun kamu sedang di tangguhkan sementara\" kan gak jelas banget pdhl saya di tiktok cuman menonton Vidio orang</td>\n",
              "      <td>0</td>\n",
              "      <td>Saya sangat kecewa kepada pihak tiktok akun saya di blokir padahal saya tidak pernah melakukan hal\" aneh dan saya di tiktok cuman Menonton vidio\" orang tidak pernah mengaplod konten tapi tiba\" akun tiktok saya di blokir,,, saya ingin membuat akun baru buat menonton video Tiktok lagi tapi malah g bisa setiap kali mendaftar malah tertulis \" Ups akun kamu sedang di tangguhkan sementara\" kan gak jelas banget pdhl saya di tiktok cuman menonton Vidio orang</td>\n",
              "    </tr>\n",
              "    <tr>\n",
              "      <th>3</th>\n",
              "      <td>Jujur ni ya gue gak puas banget sama tiktok sekarang kenapa waktu like udah banyak yg nonton udah banyak baru bilang pelanggaran apa apa in nihhh jelek banget tuh komen gue terhadap tiktok nending kalian dowliad yang lain jangan tiktok karna tiktok gak adil sekarang!!!!!!!</td>\n",
              "      <td>0</td>\n",
              "      <td>Jujur ni ya gue gak puas banget sama tiktok sekarang kenapa waktu like udah banyak yg nonton udah banyak baru bilang pelanggaran apa apa in nihhh jelek banget tuh komen gue terhadap tiktok nending kalian dowliad yang lain jangan tiktok karna tiktok gak adil sekarang!!!!!!!</td>\n",
              "    </tr>\n",
              "    <tr>\n",
              "      <th>4</th>\n",
              "      <td>Aplikasi Haram!!!!!!!!!!!!!!!!!!!!!!!!! ¡!¡!!!!!!!!!!!!!!!!!!!!!!!!!!!!!!!!!!!!!!!!?!!!!!!!!!!!!!!!!!!!!!!!!!!!!!!!!!!!!!!!!!!!!!!!!!!!!!!!!!!!!!!!!!!!!?!!!!!!!!!!!? Tapi bener</td>\n",
              "      <td>0</td>\n",
              "      <td>Aplikasi Haram!!!!!!!!!!!!!!!!!!!!!!!!! ¡!¡!!!!!!!!!!!!!!!!!!!!!!!!!!!!!!!!!!!!!!!!?!!!!!!!!!!!!!!!!!!!!!!!!!!!!!!!!!!!!!!!!!!!!!!!!!!!!!!!!!!!!!!!!!!!!?!!!!!!!!!!!? Tapi bener</td>\n",
              "    </tr>\n",
              "    <tr>\n",
              "      <th>5</th>\n",
              "      <td>kenapa akun gua ngestuck di 5 menit terus, gua pikir bakalan balik lagi kayak semula pas besoknya, eh ini udah hari ke-3 akun gua stuck di 5 menit. poin gua kaga nambah-nambah padahal gua udah lebih dari sejam liatin video di tiktok. jelek banget</td>\n",
              "      <td>0</td>\n",
              "      <td>kenapa akun gua ngestuck di 5 menit terus, gua pikir bakalan balik lagi kayak semula pas besoknya, eh ini udah hari ke-3 akun gua stuck di 5 menit. poin gua kaga nambah-nambah padahal gua udah lebih dari sejam liatin video di tiktok. jelek banget</td>\n",
              "    </tr>\n",
              "    <tr>\n",
              "      <th>6</th>\n",
              "      <td>Saya mantan petualang hampir seluruh Nusantara Indonesia pernah saya jelajahi kecuali tim-tim dan Papua yg belum saya jamah ternyata sungguh mengagumkan keaneragaman budaya Indonesia yang tidak bisa di nilai dgn uang seni adat budaya harus tetap dijaga agar tidak punah , Indonesia benar2 kaya dgn beragam budaya dan ke indahan alam nya sangat beruntung pengelola periwisata terutama dinas periwisata dan itu harus dilibatkan tokoh budaya dan sei adat setempat agar maksimal tertangani .</td>\n",
              "      <td>0</td>\n",
              "      <td>Saya mantan petualang hampir seluruh Nusantara Indonesia pernah saya jelajahi kecuali tim-tim dan Papua yg belum saya jamah ternyata sungguh mengagumkan keaneragaman budaya Indonesia yang tidak bisa di nilai dgn uang seni adat budaya harus tetap dijaga agar tidak punah , Indonesia benar2 kaya dgn beragam budaya dan ke indahan alam nya sangat beruntung pengelola periwisata terutama dinas periwisata dan itu harus dilibatkan tokoh budaya dan sei adat setempat agar maksimal tertangani .</td>\n",
              "    </tr>\n",
              "    <tr>\n",
              "      <th>7</th>\n",
              "      <td>Saya sebenarnya suka dengan aplikasi ini tapi saya kecewa karna akun tiktok saya di blokir. Padahal saya pengguna baru. Setiap saya menonton video durasi hanya sampai 5 menit tidak bisa lebih. Padahal saya sudah menonton lebih dari 30 menit. Koin juga tidak bertambah. Saya jadi sedih...😭😭😭 Tolong donk buka lagi akun saya. Please......</td>\n",
              "      <td>0</td>\n",
              "      <td>Saya sebenarnya suka dengan aplikasi ini tapi saya kecewa karna akun tiktok saya di blokir. Padahal saya pengguna baru. Setiap saya menonton video durasi hanya sampai 5 menit tidak bisa lebih. Padahal saya sudah menonton lebih dari 30 menit. Koin juga tidak bertambah. Saya jadi sedih... Tolong donk buka lagi akun saya. Please......</td>\n",
              "    </tr>\n",
              "    <tr>\n",
              "      <th>8</th>\n",
              "      <td>Aplikasi jelek!!!! Masa koin saya gak bertambah, udah nonton video berjam2 malah gak masuk koinnya, udah gitu pas mau di cairkan \"gagal menautkan akun dana 1200008\" asu emang ni aplikasi</td>\n",
              "      <td>0</td>\n",
              "      <td>Aplikasi jelek!!!! Masa koin saya gak bertambah, udah nonton video berjam2 malah gak masuk koinnya, udah gitu pas mau di cairkan \"gagal menautkan akun dana 1200008\" asu emang ni aplikasi</td>\n",
              "    </tr>\n",
              "    <tr>\n",
              "      <th>9</th>\n",
              "      <td>Apikasi ini jelek,!!!!!!!!!!!!!!!!!!!!!!!!!!!!!!!!!!!!!!!!!!!!!!!!!!!!!!!!!!!!!!!!!!!!!!!!!!!!!!!!!!!!!!!!!!!!!!!!!!!!!!!!!!!!!!!!!!!!!!!!!!!!!!!!!!!!!!!!!</td>\n",
              "      <td>0</td>\n",
              "      <td>Apikasi ini jelek,!!!!!!!!!!!!!!!!!!!!!!!!!!!!!!!!!!!!!!!!!!!!!!!!!!!!!!!!!!!!!!!!!!!!!!!!!!!!!!!!!!!!!!!!!!!!!!!!!!!!!!!!!!!!!!!!!!!!!!!!!!!!!!!!!!!!!!!!!</td>\n",
              "    </tr>\n",
              "    <tr>\n",
              "      <th>10</th>\n",
              "      <td>Dulu saya kasih bintang 5, sekrng saya kasih bintang 1 aja,,karena saldo saya tidak bisa di tarik ,sudah 4 hari,,kalau masih ga bisa di tarik,mungkin saya uninstal aja deh ,,</td>\n",
              "      <td>0</td>\n",
              "      <td>Dulu saya kasih bintang 5, sekrng saya kasih bintang 1 aja,,karena saldo saya tidak bisa di tarik ,sudah 4 hari,,kalau masih ga bisa di tarik,mungkin saya uninstal aja deh ,,</td>\n",
              "    </tr>\n",
              "    <tr>\n",
              "      <th>11</th>\n",
              "      <td>Tolong dong diperbaiki bug event treats, udah masukin kode susah, klaim hadiahnya juga susah. Poin saya ilang tapi treatsnya malah gak dapet. Kalau gak niat bikin event gak usah bikin sekalian 👎</td>\n",
              "      <td>0</td>\n",
              "      <td>Tolong dong diperbaiki bug event treats, udah masukin kode susah, klaim hadiahnya juga susah. Poin saya ilang tapi treatsnya malah gak dapet. Kalau gak niat bikin event gak usah bikin sekalian</td>\n",
              "    </tr>\n",
              "    <tr>\n",
              "      <th>12</th>\n",
              "      <td>Kepada team tiktok. Sebagai user cape cape ngumpul in referral. Setelah target kenapa penarikan di persulit. Dahulu lancar lancar saja. Saya kecewa. Padahal saldo cuma ratusan ribu. Bukan jutawan. E-mail complain. Feedback di apk. Bahkan disini tidak pernah ada respon sama sekali dri pihak tiktok.</td>\n",
              "      <td>0</td>\n",
              "      <td>Kepada team tiktok. Sebagai user cape cape ngumpul in referral. Setelah target kenapa penarikan di persulit. Dahulu lancar lancar saja. Saya kecewa. Padahal saldo cuma ratusan ribu. Bukan jutawan. E-mail complain. Feedback di apk. Bahkan disini tidak pernah ada respon sama sekali dri pihak tiktok.</td>\n",
              "    </tr>\n",
              "    <tr>\n",
              "      <th>13</th>\n",
              "      <td>Akun terblokir ( ga bisa unggah video )...aneh, padahal gw cuma unggah video yg berisikan doa utk saudara saudari gw yg lg susah....sebuah alasan yg tidak msk akal.....</td>\n",
              "      <td>0</td>\n",
              "      <td>Akun terblokir ( ga bisa unggah video ...aneh, padahal gw cuma unggah video yg berisikan doa utk saudara saudari gw yg lg susah....sebuah alasan yg tidak msk akal.....</td>\n",
              "    </tr>\n",
              "    <tr>\n",
              "      <th>14</th>\n",
              "      <td>Saya kok Tiba-tiba di blokir padalan followers aku lo udah 201 aku tidak Ada konten penyiksaan !!!!!!!!!!!!!!!!!!!!!!!!!!!!!!!!!!!!!!!!!!!!!!!!!</td>\n",
              "      <td>0</td>\n",
              "      <td>Saya kok Tiba-tiba di blokir padalan followers aku lo udah 201 aku tidak Ada konten penyiksaan !!!!!!!!!!!!!!!!!!!!!!!!!!!!!!!!!!!!!!!!!!!!!!!!!</td>\n",
              "    </tr>\n",
              "    <tr>\n",
              "      <th>15</th>\n",
              "      <td>Kenapa kok terusan aja Diblokir Tik tok aku Kenapa!!!! Kembalikan lagi akun tiktok aku ya plisss 😌. Aku kan gak ngapa -Ngapain tiba tiba di blokir slama nya yok Kembalikan lagi pliss😌🤨🤨</td>\n",
              "      <td>0</td>\n",
              "      <td>Kenapa kok terusan aja Diblokir Tik tok aku Kenapa!!!! Kembalikan lagi akun tiktok aku ya plisss . Aku kan gak ngapa -Ngapain tiba tiba di blokir slama nya yok Kembalikan lagi pliss</td>\n",
              "    </tr>\n",
              "    <tr>\n",
              "      <th>16</th>\n",
              "      <td>Apelikasi ini jelek sapesampe Mata gua sakit !!!!!!!!!!!!!!!!!!!!!!!!!!!!!!!!!!!!!!!!!!!!!!!!!!!!!!!!!!!!!!!!!!!!!!!!!!!!!!!!!!!!!!!!!!!!!!!!!!!!!!!!!!!!!!!!!!!!!!!!!!!!!!!!!!!!!!!!!!!!!!!!!!!!!!!!!!!!!!!!!!!!!!!!!!!!!!!!!!!!!!!!!!!!!!!!!!!!!!!!!!!!!!!!!!!!!!!!!!!!!!!!!!!!!!!!!!!!tapi boong papalepale</td>\n",
              "      <td>0</td>\n",
              "      <td>Apelikasi ini jelek sapesampe Mata gua sakit !!!!!!!!!!!!!!!!!!!!!!!!!!!!!!!!!!!!!!!!!!!!!!!!!!!!!!!!!!!!!!!!!!!!!!!!!!!!!!!!!!!!!!!!!!!!!!!!!!!!!!!!!!!!!!!!!!!!!!!!!!!!!!!!!!!!!!!!!!!!!!!!!!!!!!!!!!!!!!!!!!!!!!!!!!!!!!!!!!!!!!!!!!!!!!!!!!!!!!!!!!!!!!!!!!!!!!!!!!!!!!!!!!!!!!!!!!!!tapi boong papalepale</td>\n",
              "    </tr>\n",
              "    <tr>\n",
              "      <th>17</th>\n",
              "      <td>Maaf ya saya kasih bintang 1(satu) karena setelah di upgrade, saya menonton video cukup lama, tetapi koin tidak bertambah, nanti kalau sudah normal kembali saya tambahkan bintangnya jadi 5(lima) kembali, terimakasih.</td>\n",
              "      <td>0</td>\n",
              "      <td>Maaf ya saya kasih bintang 1(satu karena setelah di upgrade, saya menonton video cukup lama, tetapi koin tidak bertambah, nanti kalau sudah normal kembali saya tambahkan bintangnya jadi 5(lima kembali, terimakasih.</td>\n",
              "    </tr>\n",
              "    <tr>\n",
              "      <th>18</th>\n",
              "      <td>Jelekkk amaattt!!! Saldo aq g bisa ditarik, emangnya ngundang orang,sama nonton video g pake data!!! Awas aja g bisa narik saldo saya ya?!!</td>\n",
              "      <td>0</td>\n",
              "      <td>Jelekkk amaattt!!! Saldo aq g bisa ditarik, emangnya ngundang orang,sama nonton video g pake data!!! Awas aja g bisa narik saldo saya ya?!!</td>\n",
              "    </tr>\n",
              "    <tr>\n",
              "      <th>19</th>\n",
              "      <td>Kecewa bgt sama tiktok.. kenapa ngadain program reveral klo kode reveralnya gk bisa di pake gara gara tidak lolos kontrol penipuan.. padahal saya tidak curang.. cari pengguna baru itu susah loh.. mending hapus itu program reveral njing..</td>\n",
              "      <td>0</td>\n",
              "      <td>Kecewa bgt sama tiktok.. kenapa ngadain program reveral klo kode reveralnya gk bisa di pake gara gara tidak lolos kontrol penipuan.. padahal saya tidak curang.. cari pengguna baru itu susah loh.. mending hapus itu program reveral njing..</td>\n",
              "    </tr>\n",
              "  </tbody>\n",
              "</table>\n",
              "</div>"
            ],
            "text/plain": [
              "                                                                                                                                                                                                                                                                                                                                                                                                                                                                                                    content  \\\n",
              "0   ❗🕙🙆👌😨 Aplikasinya sebenarnya bagus..Tp knp skrg sy masuk akun sy hilang, tertulis frekuensi masuk terlalu sering. Apa maksudnya?? Sampai2 sy hapus aplikasi ini trus sy restart hp sy, download kembali tetap seperti itu. Tolong penjelasannya. Sementara sy kasih bintang 1 sebelum semuanya kembali seperti semula.                                                                                                                                                                                    \n",
              "1   Tolong kepada pihak tiktok, kenapa tiba2 saya tidak bisa masuk tiktok? Padahal kemaren2 masih bisa n Muter2 trus, padahal jaringan wi-fi untuk yg lainnya lancar, kenapa pas masuk tiktok tiba2 wi-fi gabisa di pake/ada tulisan \"tidak ada sinyal\" cpt di perbaiki, kalo sudah nanti aku kasih 5bintang                                                                                                                                                                                                  \n",
              "2   Saya sangat kecewa kepada pihak tiktok akun saya di blokir padahal saya tidak pernah melakukan hal\" aneh dan saya di tiktok cuman Menonton vidio\" orang tidak pernah mengaplod konten tapi tiba\" akun tiktok saya di blokir,,, saya ingin membuat akun baru buat menonton video Tiktok lagi tapi malah g bisa setiap kali mendaftar malah tertulis \" Ups akun kamu sedang di tangguhkan sementara\" kan gak jelas banget pdhl saya di tiktok cuman menonton Vidio orang                                    \n",
              "3   Jujur ni ya gue gak puas banget sama tiktok sekarang kenapa waktu like udah banyak yg nonton udah banyak baru bilang pelanggaran apa apa in nihhh jelek banget tuh komen gue terhadap tiktok nending kalian dowliad yang lain jangan tiktok karna tiktok gak adil sekarang!!!!!!!                                                                                                                                                                                                                         \n",
              "4   Aplikasi Haram!!!!!!!!!!!!!!!!!!!!!!!!! ¡!¡!!!!!!!!!!!!!!!!!!!!!!!!!!!!!!!!!!!!!!!!?!!!!!!!!!!!!!!!!!!!!!!!!!!!!!!!!!!!!!!!!!!!!!!!!!!!!!!!!!!!!!!!!!!!!?!!!!!!!!!!!? Tapi bener                                                                                                                                                                                                                                                                                                                          \n",
              "5   kenapa akun gua ngestuck di 5 menit terus, gua pikir bakalan balik lagi kayak semula pas besoknya, eh ini udah hari ke-3 akun gua stuck di 5 menit. poin gua kaga nambah-nambah padahal gua udah lebih dari sejam liatin video di tiktok. jelek banget                                                                                                                                                                                                                                                    \n",
              "6   Saya mantan petualang hampir seluruh Nusantara Indonesia pernah saya jelajahi kecuali tim-tim dan Papua yg belum saya jamah ternyata sungguh mengagumkan keaneragaman budaya Indonesia yang tidak bisa di nilai dgn uang seni adat budaya harus tetap dijaga agar tidak punah , Indonesia benar2 kaya dgn beragam budaya dan ke indahan alam nya sangat beruntung pengelola periwisata terutama dinas periwisata dan itu harus dilibatkan tokoh budaya dan sei adat setempat agar maksimal tertangani .   \n",
              "7   Saya sebenarnya suka dengan aplikasi ini tapi saya kecewa karna akun tiktok saya di blokir. Padahal saya pengguna baru. Setiap saya menonton video durasi hanya sampai 5 menit tidak bisa lebih. Padahal saya sudah menonton lebih dari 30 menit. Koin juga tidak bertambah. Saya jadi sedih...😭😭😭 Tolong donk buka lagi akun saya. Please......                                                                                                                                                          \n",
              "8   Aplikasi jelek!!!! Masa koin saya gak bertambah, udah nonton video berjam2 malah gak masuk koinnya, udah gitu pas mau di cairkan \"gagal menautkan akun dana 1200008\" asu emang ni aplikasi                                                                                                                                                                                                                                                                                                                \n",
              "9   Apikasi ini jelek,!!!!!!!!!!!!!!!!!!!!!!!!!!!!!!!!!!!!!!!!!!!!!!!!!!!!!!!!!!!!!!!!!!!!!!!!!!!!!!!!!!!!!!!!!!!!!!!!!!!!!!!!!!!!!!!!!!!!!!!!!!!!!!!!!!!!!!!!!                                                                                                                                                                                                                                                                                                                                               \n",
              "10  Dulu saya kasih bintang 5, sekrng saya kasih bintang 1 aja,,karena saldo saya tidak bisa di tarik ,sudah 4 hari,,kalau masih ga bisa di tarik,mungkin saya uninstal aja deh ,,                                                                                                                                                                                                                                                                                                                            \n",
              "11  Tolong dong diperbaiki bug event treats, udah masukin kode susah, klaim hadiahnya juga susah. Poin saya ilang tapi treatsnya malah gak dapet. Kalau gak niat bikin event gak usah bikin sekalian 👎                                                                                                                                                                                                                                                                                                        \n",
              "12  Kepada team tiktok. Sebagai user cape cape ngumpul in referral. Setelah target kenapa penarikan di persulit. Dahulu lancar lancar saja. Saya kecewa. Padahal saldo cuma ratusan ribu. Bukan jutawan. E-mail complain. Feedback di apk. Bahkan disini tidak pernah ada respon sama sekali dri pihak tiktok.                                                                                                                                                                                                \n",
              "13  Akun terblokir ( ga bisa unggah video )...aneh, padahal gw cuma unggah video yg berisikan doa utk saudara saudari gw yg lg susah....sebuah alasan yg tidak msk akal.....                                                                                                                                                                                                                                                                                                                                  \n",
              "14  Saya kok Tiba-tiba di blokir padalan followers aku lo udah 201 aku tidak Ada konten penyiksaan !!!!!!!!!!!!!!!!!!!!!!!!!!!!!!!!!!!!!!!!!!!!!!!!!                                                                                                                                                                                                                                                                                                                                                          \n",
              "15  Kenapa kok terusan aja Diblokir Tik tok aku Kenapa!!!! Kembalikan lagi akun tiktok aku ya plisss 😌. Aku kan gak ngapa -Ngapain tiba tiba di blokir slama nya yok Kembalikan lagi pliss😌🤨🤨                                                                                                                                                                                                                                                                                                                 \n",
              "16  Apelikasi ini jelek sapesampe Mata gua sakit !!!!!!!!!!!!!!!!!!!!!!!!!!!!!!!!!!!!!!!!!!!!!!!!!!!!!!!!!!!!!!!!!!!!!!!!!!!!!!!!!!!!!!!!!!!!!!!!!!!!!!!!!!!!!!!!!!!!!!!!!!!!!!!!!!!!!!!!!!!!!!!!!!!!!!!!!!!!!!!!!!!!!!!!!!!!!!!!!!!!!!!!!!!!!!!!!!!!!!!!!!!!!!!!!!!!!!!!!!!!!!!!!!!!!!!!!!!!tapi boong papalepale                                                                                                                                                                                            \n",
              "17  Maaf ya saya kasih bintang 1(satu) karena setelah di upgrade, saya menonton video cukup lama, tetapi koin tidak bertambah, nanti kalau sudah normal kembali saya tambahkan bintangnya jadi 5(lima) kembali, terimakasih.                                                                                                                                                                                                                                                                                  \n",
              "18  Jelekkk amaattt!!! Saldo aq g bisa ditarik, emangnya ngundang orang,sama nonton video g pake data!!! Awas aja g bisa narik saldo saya ya?!!                                                                                                                                                                                                                                                                                                                                                               \n",
              "19  Kecewa bgt sama tiktok.. kenapa ngadain program reveral klo kode reveralnya gk bisa di pake gara gara tidak lolos kontrol penipuan.. padahal saya tidak curang.. cari pengguna baru itu susah loh.. mending hapus itu program reveral njing..                                                                                                                                                                                                                                                             \n",
              "\n",
              "    sentiment  \\\n",
              "0   0           \n",
              "1   0           \n",
              "2   0           \n",
              "3   0           \n",
              "4   0           \n",
              "5   0           \n",
              "6   0           \n",
              "7   0           \n",
              "8   0           \n",
              "9   0           \n",
              "10  0           \n",
              "11  0           \n",
              "12  0           \n",
              "13  0           \n",
              "14  0           \n",
              "15  0           \n",
              "16  0           \n",
              "17  0           \n",
              "18  0           \n",
              "19  0           \n",
              "\n",
              "                                                                                                                                                                                                                                                                                                                                                                                                                                                                                                       text  \n",
              "0    Aplikasinya sebenarnya bagus..Tp knp skrg sy masuk akun sy hilang, tertulis frekuensi masuk terlalu sering. Apa maksudnya?? Sampai2 sy hapus aplikasi ini trus sy restart hp sy, download kembali tetap seperti itu. Tolong penjelasannya. Sementara sy kasih bintang 1 sebelum semuanya kembali seperti semula.                                                                                                                                                                                        \n",
              "1   Tolong kepada pihak tiktok, kenapa tiba2 saya tidak bisa masuk tiktok? Padahal kemaren2 masih bisa n Muter2 trus, padahal jaringan wi-fi untuk yg lainnya lancar, kenapa pas masuk tiktok tiba2 wi-fi gabisa di pake/ada tulisan \"tidak ada sinyal\" cpt di perbaiki, kalo sudah nanti aku kasih 5bintang                                                                                                                                                                                                 \n",
              "2   Saya sangat kecewa kepada pihak tiktok akun saya di blokir padahal saya tidak pernah melakukan hal\" aneh dan saya di tiktok cuman Menonton vidio\" orang tidak pernah mengaplod konten tapi tiba\" akun tiktok saya di blokir,,, saya ingin membuat akun baru buat menonton video Tiktok lagi tapi malah g bisa setiap kali mendaftar malah tertulis \" Ups akun kamu sedang di tangguhkan sementara\" kan gak jelas banget pdhl saya di tiktok cuman menonton Vidio orang                                   \n",
              "3   Jujur ni ya gue gak puas banget sama tiktok sekarang kenapa waktu like udah banyak yg nonton udah banyak baru bilang pelanggaran apa apa in nihhh jelek banget tuh komen gue terhadap tiktok nending kalian dowliad yang lain jangan tiktok karna tiktok gak adil sekarang!!!!!!!                                                                                                                                                                                                                        \n",
              "4   Aplikasi Haram!!!!!!!!!!!!!!!!!!!!!!!!! ¡!¡!!!!!!!!!!!!!!!!!!!!!!!!!!!!!!!!!!!!!!!!?!!!!!!!!!!!!!!!!!!!!!!!!!!!!!!!!!!!!!!!!!!!!!!!!!!!!!!!!!!!!!!!!!!!!?!!!!!!!!!!!? Tapi bener                                                                                                                                                                                                                                                                                                                         \n",
              "5   kenapa akun gua ngestuck di 5 menit terus, gua pikir bakalan balik lagi kayak semula pas besoknya, eh ini udah hari ke-3 akun gua stuck di 5 menit. poin gua kaga nambah-nambah padahal gua udah lebih dari sejam liatin video di tiktok. jelek banget                                                                                                                                                                                                                                                   \n",
              "6   Saya mantan petualang hampir seluruh Nusantara Indonesia pernah saya jelajahi kecuali tim-tim dan Papua yg belum saya jamah ternyata sungguh mengagumkan keaneragaman budaya Indonesia yang tidak bisa di nilai dgn uang seni adat budaya harus tetap dijaga agar tidak punah , Indonesia benar2 kaya dgn beragam budaya dan ke indahan alam nya sangat beruntung pengelola periwisata terutama dinas periwisata dan itu harus dilibatkan tokoh budaya dan sei adat setempat agar maksimal tertangani .  \n",
              "7   Saya sebenarnya suka dengan aplikasi ini tapi saya kecewa karna akun tiktok saya di blokir. Padahal saya pengguna baru. Setiap saya menonton video durasi hanya sampai 5 menit tidak bisa lebih. Padahal saya sudah menonton lebih dari 30 menit. Koin juga tidak bertambah. Saya jadi sedih... Tolong donk buka lagi akun saya. Please......                                                                                                                                                            \n",
              "8   Aplikasi jelek!!!! Masa koin saya gak bertambah, udah nonton video berjam2 malah gak masuk koinnya, udah gitu pas mau di cairkan \"gagal menautkan akun dana 1200008\" asu emang ni aplikasi                                                                                                                                                                                                                                                                                                               \n",
              "9   Apikasi ini jelek,!!!!!!!!!!!!!!!!!!!!!!!!!!!!!!!!!!!!!!!!!!!!!!!!!!!!!!!!!!!!!!!!!!!!!!!!!!!!!!!!!!!!!!!!!!!!!!!!!!!!!!!!!!!!!!!!!!!!!!!!!!!!!!!!!!!!!!!!!                                                                                                                                                                                                                                                                                                                                              \n",
              "10  Dulu saya kasih bintang 5, sekrng saya kasih bintang 1 aja,,karena saldo saya tidak bisa di tarik ,sudah 4 hari,,kalau masih ga bisa di tarik,mungkin saya uninstal aja deh ,,                                                                                                                                                                                                                                                                                                                           \n",
              "11  Tolong dong diperbaiki bug event treats, udah masukin kode susah, klaim hadiahnya juga susah. Poin saya ilang tapi treatsnya malah gak dapet. Kalau gak niat bikin event gak usah bikin sekalian                                                                                                                                                                                                                                                                                                         \n",
              "12  Kepada team tiktok. Sebagai user cape cape ngumpul in referral. Setelah target kenapa penarikan di persulit. Dahulu lancar lancar saja. Saya kecewa. Padahal saldo cuma ratusan ribu. Bukan jutawan. E-mail complain. Feedback di apk. Bahkan disini tidak pernah ada respon sama sekali dri pihak tiktok.                                                                                                                                                                                               \n",
              "13  Akun terblokir ( ga bisa unggah video ...aneh, padahal gw cuma unggah video yg berisikan doa utk saudara saudari gw yg lg susah....sebuah alasan yg tidak msk akal.....                                                                                                                                                                                                                                                                                                                                  \n",
              "14  Saya kok Tiba-tiba di blokir padalan followers aku lo udah 201 aku tidak Ada konten penyiksaan !!!!!!!!!!!!!!!!!!!!!!!!!!!!!!!!!!!!!!!!!!!!!!!!!                                                                                                                                                                                                                                                                                                                                                         \n",
              "15  Kenapa kok terusan aja Diblokir Tik tok aku Kenapa!!!! Kembalikan lagi akun tiktok aku ya plisss . Aku kan gak ngapa -Ngapain tiba tiba di blokir slama nya yok Kembalikan lagi pliss                                                                                                                                                                                                                                                                                                                    \n",
              "16  Apelikasi ini jelek sapesampe Mata gua sakit !!!!!!!!!!!!!!!!!!!!!!!!!!!!!!!!!!!!!!!!!!!!!!!!!!!!!!!!!!!!!!!!!!!!!!!!!!!!!!!!!!!!!!!!!!!!!!!!!!!!!!!!!!!!!!!!!!!!!!!!!!!!!!!!!!!!!!!!!!!!!!!!!!!!!!!!!!!!!!!!!!!!!!!!!!!!!!!!!!!!!!!!!!!!!!!!!!!!!!!!!!!!!!!!!!!!!!!!!!!!!!!!!!!!!!!!!!!!tapi boong papalepale                                                                                                                                                                                           \n",
              "17  Maaf ya saya kasih bintang 1(satu karena setelah di upgrade, saya menonton video cukup lama, tetapi koin tidak bertambah, nanti kalau sudah normal kembali saya tambahkan bintangnya jadi 5(lima kembali, terimakasih.                                                                                                                                                                                                                                                                                   \n",
              "18  Jelekkk amaattt!!! Saldo aq g bisa ditarik, emangnya ngundang orang,sama nonton video g pake data!!! Awas aja g bisa narik saldo saya ya?!!                                                                                                                                                                                                                                                                                                                                                              \n",
              "19  Kecewa bgt sama tiktok.. kenapa ngadain program reveral klo kode reveralnya gk bisa di pake gara gara tidak lolos kontrol penipuan.. padahal saya tidak curang.. cari pengguna baru itu susah loh.. mending hapus itu program reveral njing..                                                                                                                                                                                                                                                            "
            ]
          },
          "metadata": {
            "tags": []
          },
          "execution_count": 161
        }
      ]
    },
    {
      "cell_type": "code",
      "metadata": {
        "id": "JGn8fIfi25E6"
      },
      "source": [
        "# Fungsi Pre-processing\n",
        "def text_cleaning(text):\n",
        "  text = text.lower()\n",
        "  text = re.sub(r\"@[^\\s]+\", \" \", text)\n",
        "  text = re.sub(r\"http\\S+\", \" \", text)\n",
        "  text = re.sub(r\"#\\S+\", \" \", text)\n",
        "  return text\n",
        "\n",
        "def removePunctuation(strs):\n",
        "    remove = string.punctuation\n",
        "   # remove = remove.replace(\"#\", \"\")\n",
        "    pattern = r\"[{}]\".format(remove)\n",
        "    h = re.sub(pattern, \" \", strs)\n",
        "    return h\n",
        "\n",
        "def replace(strs):\n",
        "    strs = strs.replace('\\\\t',' ').replace('\\\\n',' ').replace('\\\\u',' ').replace('\\\\',' ')\n",
        "    strs = strs.replace('\\n',' ')\n",
        "    strs = strs.replace('\\t','')\n",
        "    strs = strs.replace('rt','')\n",
        "    strs = strs.encode('ascii', 'replace').decode('ascii')\n",
        "    return strs\n",
        "\n",
        "def remove_non_ascii(text): \n",
        "    return ''.join(i for i in text if ord(i)<128) \n",
        "\n",
        "def remove_spasi(strs):\n",
        "    strs = re.sub(\" +\", \" \",strs)\n",
        "    strs = strs.strip()\n",
        "    strs = re.sub(\"\\s+\",\" \", strs)\n",
        "    strs = re.sub(r\"\\b[a-zA-Z]\\b\", \" \", strs)\n",
        "    return strs\n",
        "\n",
        "def remove_single_char(strs):\n",
        "    return re.sub(r\"\\b[a-zA-Z]\\b\", \"\", strs)"
      ],
      "id": "JGn8fIfi25E6",
      "execution_count": 166,
      "outputs": []
    },
    {
      "cell_type": "code",
      "metadata": {
        "id": "lJEfZlje3Ro6"
      },
      "source": [
        "### Preprocessing\n",
        "# data_reviews = df\n",
        "data_reviews['text'] = [i.lower() for i in df.text] #lower case\n",
        "data_reviews['text'] = [text_cleaning(i) for i in data_reviews.text]\n",
        "data_reviews['text'] = [remove_non_ascii(i) for i in data_reviews.text]\n",
        "data_reviews['text'] = [re.sub(r'http.*','',i) for i in data_reviews.text] #remove link\n",
        "data_reviews['text'] = [removePunctuation(i) for i in data_reviews.text] #remove punc\n",
        "data_reviews['text'] = [replace(j) for j in data_reviews.text] #remove \\n \\t rt\n",
        "data_reviews['text'] = [remove_single_char(j) for j in data_reviews.text]\n",
        "data_reviews['text'] = [remove_spasi(j) for j in data_reviews.text]"
      ],
      "id": "lJEfZlje3Ro6",
      "execution_count": 167,
      "outputs": []
    },
    {
      "cell_type": "code",
      "metadata": {
        "colab": {
          "base_uri": "https://localhost:8080/",
          "height": 1000
        },
        "id": "ILorNyJ64j_I",
        "outputId": "ee89d588-994f-4f5d-f24b-699d97dd03ec"
      },
      "source": [
        "data_reviews.head(20)"
      ],
      "id": "ILorNyJ64j_I",
      "execution_count": 168,
      "outputs": [
        {
          "output_type": "execute_result",
          "data": {
            "text/html": [
              "<div>\n",
              "<style scoped>\n",
              "    .dataframe tbody tr th:only-of-type {\n",
              "        vertical-align: middle;\n",
              "    }\n",
              "\n",
              "    .dataframe tbody tr th {\n",
              "        vertical-align: top;\n",
              "    }\n",
              "\n",
              "    .dataframe thead th {\n",
              "        text-align: right;\n",
              "    }\n",
              "</style>\n",
              "<table border=\"1\" class=\"dataframe\">\n",
              "  <thead>\n",
              "    <tr style=\"text-align: right;\">\n",
              "      <th></th>\n",
              "      <th>content</th>\n",
              "      <th>sentiment</th>\n",
              "      <th>text</th>\n",
              "    </tr>\n",
              "  </thead>\n",
              "  <tbody>\n",
              "    <tr>\n",
              "      <th>0</th>\n",
              "      <td>Aplikasinya sebenarnya bagus..Tp knp skrg sy masuk akun sy hilang, tertulis frekuensi masuk terlalu sering. Apa maksudnya?? Sampai2 sy hapus aplikasi ini trus sy restart hp sy, download kembali tetap seperti itu. Tolong penjelasannya. Sementara sy kasih bintang 1 sebelum semuanya kembali seperti semula.</td>\n",
              "      <td>0</td>\n",
              "      <td>aplikasinya sebenarnya bagus tp knp skrg sy masuk akun sy hilang teulis frekuensi masuk terlalu sering apa maksudnya sampai2 sy hapus aplikasi ini trus sy resta hp sy download kembali tetap sepei itu tolong penjelasannya sementara sy kasih bintang 1 sebelum semuanya kembali sepei semula</td>\n",
              "    </tr>\n",
              "    <tr>\n",
              "      <th>1</th>\n",
              "      <td>Tolong kepada pihak tiktok, kenapa tiba2 saya tidak bisa masuk tiktok? Padahal kemaren2 masih bisa n Muter2 trus, padahal jaringan wi-fi untuk yg lainnya lancar, kenapa pas masuk tiktok tiba2 wi-fi gabisa di pake/ada tulisan \"tidak ada sinyal\" cpt di perbaiki, kalo sudah nanti aku kasih 5bintang</td>\n",
              "      <td>0</td>\n",
              "      <td>tolong kepada pihak tiktok kenapa tiba2 saya tidak bisa masuk tiktok padahal kemaren2 masih bisa muter2 trus padahal jaringan wi fi untuk yg lainnya lancar kenapa pas masuk tiktok tiba2 wi fi gabisa di pake ada tulisan tidak ada sinyal cpt di perbaiki kalo sudah nanti aku kasih 5bintang</td>\n",
              "    </tr>\n",
              "    <tr>\n",
              "      <th>2</th>\n",
              "      <td>Saya sangat kecewa kepada pihak tiktok akun saya di blokir padahal saya tidak pernah melakukan hal\" aneh dan saya di tiktok cuman Menonton vidio\" orang tidak pernah mengaplod konten tapi tiba\" akun tiktok saya di blokir,,, saya ingin membuat akun baru buat menonton video Tiktok lagi tapi malah g bisa setiap kali mendaftar malah tertulis \" Ups akun kamu sedang di tangguhkan sementara\" kan gak jelas banget pdhl saya di tiktok cuman menonton Vidio orang</td>\n",
              "      <td>0</td>\n",
              "      <td>saya sangat kecewa kepada pihak tiktok akun saya di blokir padahal saya tidak pernah melakukan hal aneh dan saya di tiktok cuman menonton vidio orang tidak pernah mengaplod konten tapi tiba akun tiktok saya di blokir saya ingin membuat akun baru buat menonton video tiktok lagi tapi malah bisa setiap kali mendaftar malah teulis ups akun kamu sedang di tangguhkan sementara kan gak jelas banget pdhl saya di tiktok cuman menonton vidio orang</td>\n",
              "    </tr>\n",
              "    <tr>\n",
              "      <th>3</th>\n",
              "      <td>Jujur ni ya gue gak puas banget sama tiktok sekarang kenapa waktu like udah banyak yg nonton udah banyak baru bilang pelanggaran apa apa in nihhh jelek banget tuh komen gue terhadap tiktok nending kalian dowliad yang lain jangan tiktok karna tiktok gak adil sekarang!!!!!!!</td>\n",
              "      <td>0</td>\n",
              "      <td>jujur ni ya gue gak puas banget sama tiktok sekarang kenapa waktu like udah banyak yg nonton udah banyak baru bilang pelanggaran apa apa in nihhh jelek banget tuh komen gue terhadap tiktok nending kalian dowliad yang lain jangan tiktok karna tiktok gak adil sekarang</td>\n",
              "    </tr>\n",
              "    <tr>\n",
              "      <th>4</th>\n",
              "      <td>Aplikasi Haram!!!!!!!!!!!!!!!!!!!!!!!!! ¡!¡!!!!!!!!!!!!!!!!!!!!!!!!!!!!!!!!!!!!!!!!?!!!!!!!!!!!!!!!!!!!!!!!!!!!!!!!!!!!!!!!!!!!!!!!!!!!!!!!!!!!!!!!!!!!!?!!!!!!!!!!!? Tapi bener</td>\n",
              "      <td>0</td>\n",
              "      <td>aplikasi haram tapi bener</td>\n",
              "    </tr>\n",
              "    <tr>\n",
              "      <th>5</th>\n",
              "      <td>kenapa akun gua ngestuck di 5 menit terus, gua pikir bakalan balik lagi kayak semula pas besoknya, eh ini udah hari ke-3 akun gua stuck di 5 menit. poin gua kaga nambah-nambah padahal gua udah lebih dari sejam liatin video di tiktok. jelek banget</td>\n",
              "      <td>0</td>\n",
              "      <td>kenapa akun gua ngestuck di 5 menit terus gua pikir bakalan balik lagi kayak semula pas besoknya eh ini udah hari ke 3 akun gua stuck di 5 menit poin gua kaga nambah nambah padahal gua udah lebih dari sejam liatin video di tiktok jelek banget</td>\n",
              "    </tr>\n",
              "    <tr>\n",
              "      <th>6</th>\n",
              "      <td>Saya mantan petualang hampir seluruh Nusantara Indonesia pernah saya jelajahi kecuali tim-tim dan Papua yg belum saya jamah ternyata sungguh mengagumkan keaneragaman budaya Indonesia yang tidak bisa di nilai dgn uang seni adat budaya harus tetap dijaga agar tidak punah , Indonesia benar2 kaya dgn beragam budaya dan ke indahan alam nya sangat beruntung pengelola periwisata terutama dinas periwisata dan itu harus dilibatkan tokoh budaya dan sei adat setempat agar maksimal tertangani .</td>\n",
              "      <td>0</td>\n",
              "      <td>saya mantan petualang hampir seluruh nusantara indonesia pernah saya jelajahi kecuali tim tim dan papua yg belum saya jamah ternyata sungguh mengagumkan keaneragaman budaya indonesia yang tidak bisa di nilai dgn uang seni adat budaya harus tetap dijaga agar tidak punah indonesia benar2 kaya dgn beragam budaya dan ke indahan alam nya sangat beruntung pengelola periwisata terutama dinas periwisata dan itu harus dilibatkan tokoh budaya dan sei adat setempat agar maksimal teangani</td>\n",
              "    </tr>\n",
              "    <tr>\n",
              "      <th>7</th>\n",
              "      <td>Saya sebenarnya suka dengan aplikasi ini tapi saya kecewa karna akun tiktok saya di blokir. Padahal saya pengguna baru. Setiap saya menonton video durasi hanya sampai 5 menit tidak bisa lebih. Padahal saya sudah menonton lebih dari 30 menit. Koin juga tidak bertambah. Saya jadi sedih...😭😭😭 Tolong donk buka lagi akun saya. Please......</td>\n",
              "      <td>0</td>\n",
              "      <td>saya sebenarnya suka dengan aplikasi ini tapi saya kecewa karna akun tiktok saya di blokir padahal saya pengguna baru setiap saya menonton video durasi hanya sampai 5 menit tidak bisa lebih padahal saya sudah menonton lebih dari 30 menit koin juga tidak beambah saya jadi sedih tolong donk buka lagi akun saya please</td>\n",
              "    </tr>\n",
              "    <tr>\n",
              "      <th>8</th>\n",
              "      <td>Aplikasi jelek!!!! Masa koin saya gak bertambah, udah nonton video berjam2 malah gak masuk koinnya, udah gitu pas mau di cairkan \"gagal menautkan akun dana 1200008\" asu emang ni aplikasi</td>\n",
              "      <td>0</td>\n",
              "      <td>aplikasi jelek masa koin saya gak beambah udah nonton video berjam2 malah gak masuk koinnya udah gitu pas mau di cairkan gagal menautkan akun dana 1200008 asu emang ni aplikasi</td>\n",
              "    </tr>\n",
              "    <tr>\n",
              "      <th>9</th>\n",
              "      <td>Apikasi ini jelek,!!!!!!!!!!!!!!!!!!!!!!!!!!!!!!!!!!!!!!!!!!!!!!!!!!!!!!!!!!!!!!!!!!!!!!!!!!!!!!!!!!!!!!!!!!!!!!!!!!!!!!!!!!!!!!!!!!!!!!!!!!!!!!!!!!!!!!!!!</td>\n",
              "      <td>0</td>\n",
              "      <td>apikasi ini jelek</td>\n",
              "    </tr>\n",
              "    <tr>\n",
              "      <th>10</th>\n",
              "      <td>Dulu saya kasih bintang 5, sekrng saya kasih bintang 1 aja,,karena saldo saya tidak bisa di tarik ,sudah 4 hari,,kalau masih ga bisa di tarik,mungkin saya uninstal aja deh ,,</td>\n",
              "      <td>0</td>\n",
              "      <td>dulu saya kasih bintang 5 sekrng saya kasih bintang 1 aja karena saldo saya tidak bisa di tarik sudah 4 hari kalau masih ga bisa di tarik mungkin saya uninstal aja deh</td>\n",
              "    </tr>\n",
              "    <tr>\n",
              "      <th>11</th>\n",
              "      <td>Tolong dong diperbaiki bug event treats, udah masukin kode susah, klaim hadiahnya juga susah. Poin saya ilang tapi treatsnya malah gak dapet. Kalau gak niat bikin event gak usah bikin sekalian 👎</td>\n",
              "      <td>0</td>\n",
              "      <td>tolong dong diperbaiki bug event treats udah masukin kode susah klaim hadiahnya juga susah poin saya ilang tapi treatsnya malah gak dapet kalau gak niat bikin event gak usah bikin sekalian</td>\n",
              "    </tr>\n",
              "    <tr>\n",
              "      <th>12</th>\n",
              "      <td>Kepada team tiktok. Sebagai user cape cape ngumpul in referral. Setelah target kenapa penarikan di persulit. Dahulu lancar lancar saja. Saya kecewa. Padahal saldo cuma ratusan ribu. Bukan jutawan. E-mail complain. Feedback di apk. Bahkan disini tidak pernah ada respon sama sekali dri pihak tiktok.</td>\n",
              "      <td>0</td>\n",
              "      <td>kepada team tiktok sebagai user cape cape ngumpul in referral setelah target kenapa penarikan di persulit dahulu lancar lancar saja saya kecewa padahal saldo cuma ratusan ribu bukan jutawan mail complain feedback di apk bahkan disini tidak pernah ada respon sama sekali dri pihak tiktok</td>\n",
              "    </tr>\n",
              "    <tr>\n",
              "      <th>13</th>\n",
              "      <td>Akun terblokir ( ga bisa unggah video )...aneh, padahal gw cuma unggah video yg berisikan doa utk saudara saudari gw yg lg susah....sebuah alasan yg tidak msk akal.....</td>\n",
              "      <td>0</td>\n",
              "      <td>akun terblokir ga bisa unggah video aneh padahal gw cuma unggah video yg berisikan doa utk saudara saudari gw yg lg susah sebuah alasan yg tidak msk akal</td>\n",
              "    </tr>\n",
              "    <tr>\n",
              "      <th>14</th>\n",
              "      <td>Saya kok Tiba-tiba di blokir padalan followers aku lo udah 201 aku tidak Ada konten penyiksaan !!!!!!!!!!!!!!!!!!!!!!!!!!!!!!!!!!!!!!!!!!!!!!!!!</td>\n",
              "      <td>0</td>\n",
              "      <td>saya kok tiba tiba di blokir padalan followers aku lo udah 201 aku tidak ada konten penyiksaan</td>\n",
              "    </tr>\n",
              "    <tr>\n",
              "      <th>15</th>\n",
              "      <td>Kenapa kok terusan aja Diblokir Tik tok aku Kenapa!!!! Kembalikan lagi akun tiktok aku ya plisss 😌. Aku kan gak ngapa -Ngapain tiba tiba di blokir slama nya yok Kembalikan lagi pliss😌🤨🤨</td>\n",
              "      <td>0</td>\n",
              "      <td>kenapa kok terusan aja diblokir tik tok aku kenapa kembalikan lagi akun tiktok aku ya plisss aku kan gak ngapa ngapain tiba tiba di blokir slama nya yok kembalikan lagi pliss</td>\n",
              "    </tr>\n",
              "    <tr>\n",
              "      <th>16</th>\n",
              "      <td>Apelikasi ini jelek sapesampe Mata gua sakit !!!!!!!!!!!!!!!!!!!!!!!!!!!!!!!!!!!!!!!!!!!!!!!!!!!!!!!!!!!!!!!!!!!!!!!!!!!!!!!!!!!!!!!!!!!!!!!!!!!!!!!!!!!!!!!!!!!!!!!!!!!!!!!!!!!!!!!!!!!!!!!!!!!!!!!!!!!!!!!!!!!!!!!!!!!!!!!!!!!!!!!!!!!!!!!!!!!!!!!!!!!!!!!!!!!!!!!!!!!!!!!!!!!!!!!!!!!!tapi boong papalepale</td>\n",
              "      <td>0</td>\n",
              "      <td>apelikasi ini jelek sapesampe mata gua sakit tapi boong papalepale</td>\n",
              "    </tr>\n",
              "    <tr>\n",
              "      <th>17</th>\n",
              "      <td>Maaf ya saya kasih bintang 1(satu) karena setelah di upgrade, saya menonton video cukup lama, tetapi koin tidak bertambah, nanti kalau sudah normal kembali saya tambahkan bintangnya jadi 5(lima) kembali, terimakasih.</td>\n",
              "      <td>0</td>\n",
              "      <td>maaf ya saya kasih bintang 1 satu karena setelah di upgrade saya menonton video cukup lama tetapi koin tidak beambah nanti kalau sudah normal kembali saya tambahkan bintangnya jadi 5 lima kembali terimakasih</td>\n",
              "    </tr>\n",
              "    <tr>\n",
              "      <th>18</th>\n",
              "      <td>Jelekkk amaattt!!! Saldo aq g bisa ditarik, emangnya ngundang orang,sama nonton video g pake data!!! Awas aja g bisa narik saldo saya ya?!!</td>\n",
              "      <td>0</td>\n",
              "      <td>jelekkk amaattt saldo aq bisa ditarik emangnya ngundang orang sama nonton video pake data awas aja bisa narik saldo saya ya</td>\n",
              "    </tr>\n",
              "    <tr>\n",
              "      <th>19</th>\n",
              "      <td>Kecewa bgt sama tiktok.. kenapa ngadain program reveral klo kode reveralnya gk bisa di pake gara gara tidak lolos kontrol penipuan.. padahal saya tidak curang.. cari pengguna baru itu susah loh.. mending hapus itu program reveral njing..</td>\n",
              "      <td>0</td>\n",
              "      <td>kecewa bgt sama tiktok kenapa ngadain program reveral klo kode reveralnya gk bisa di pake gara gara tidak lolos kontrol penipuan padahal saya tidak curang cari pengguna baru itu susah loh mending hapus itu program reveral njing</td>\n",
              "    </tr>\n",
              "  </tbody>\n",
              "</table>\n",
              "</div>"
            ],
            "text/plain": [
              "                                                                                                                                                                                                                                                                                                                                                                                                                                                                                                    content  \\\n",
              "0   Aplikasinya sebenarnya bagus..Tp knp skrg sy masuk akun sy hilang, tertulis frekuensi masuk terlalu sering. Apa maksudnya?? Sampai2 sy hapus aplikasi ini trus sy restart hp sy, download kembali tetap seperti itu. Tolong penjelasannya. Sementara sy kasih bintang 1 sebelum semuanya kembali seperti semula.                                                                                                                                                                                          \n",
              "1   Tolong kepada pihak tiktok, kenapa tiba2 saya tidak bisa masuk tiktok? Padahal kemaren2 masih bisa n Muter2 trus, padahal jaringan wi-fi untuk yg lainnya lancar, kenapa pas masuk tiktok tiba2 wi-fi gabisa di pake/ada tulisan \"tidak ada sinyal\" cpt di perbaiki, kalo sudah nanti aku kasih 5bintang                                                                                                                                                                                                  \n",
              "2   Saya sangat kecewa kepada pihak tiktok akun saya di blokir padahal saya tidak pernah melakukan hal\" aneh dan saya di tiktok cuman Menonton vidio\" orang tidak pernah mengaplod konten tapi tiba\" akun tiktok saya di blokir,,, saya ingin membuat akun baru buat menonton video Tiktok lagi tapi malah g bisa setiap kali mendaftar malah tertulis \" Ups akun kamu sedang di tangguhkan sementara\" kan gak jelas banget pdhl saya di tiktok cuman menonton Vidio orang                                    \n",
              "3   Jujur ni ya gue gak puas banget sama tiktok sekarang kenapa waktu like udah banyak yg nonton udah banyak baru bilang pelanggaran apa apa in nihhh jelek banget tuh komen gue terhadap tiktok nending kalian dowliad yang lain jangan tiktok karna tiktok gak adil sekarang!!!!!!!                                                                                                                                                                                                                         \n",
              "4   Aplikasi Haram!!!!!!!!!!!!!!!!!!!!!!!!! ¡!¡!!!!!!!!!!!!!!!!!!!!!!!!!!!!!!!!!!!!!!!!?!!!!!!!!!!!!!!!!!!!!!!!!!!!!!!!!!!!!!!!!!!!!!!!!!!!!!!!!!!!!!!!!!!!!?!!!!!!!!!!!? Tapi bener                                                                                                                                                                                                                                                                                                                          \n",
              "5   kenapa akun gua ngestuck di 5 menit terus, gua pikir bakalan balik lagi kayak semula pas besoknya, eh ini udah hari ke-3 akun gua stuck di 5 menit. poin gua kaga nambah-nambah padahal gua udah lebih dari sejam liatin video di tiktok. jelek banget                                                                                                                                                                                                                                                    \n",
              "6   Saya mantan petualang hampir seluruh Nusantara Indonesia pernah saya jelajahi kecuali tim-tim dan Papua yg belum saya jamah ternyata sungguh mengagumkan keaneragaman budaya Indonesia yang tidak bisa di nilai dgn uang seni adat budaya harus tetap dijaga agar tidak punah , Indonesia benar2 kaya dgn beragam budaya dan ke indahan alam nya sangat beruntung pengelola periwisata terutama dinas periwisata dan itu harus dilibatkan tokoh budaya dan sei adat setempat agar maksimal tertangani .   \n",
              "7   Saya sebenarnya suka dengan aplikasi ini tapi saya kecewa karna akun tiktok saya di blokir. Padahal saya pengguna baru. Setiap saya menonton video durasi hanya sampai 5 menit tidak bisa lebih. Padahal saya sudah menonton lebih dari 30 menit. Koin juga tidak bertambah. Saya jadi sedih...😭😭😭 Tolong donk buka lagi akun saya. Please......                                                                                                                                                          \n",
              "8   Aplikasi jelek!!!! Masa koin saya gak bertambah, udah nonton video berjam2 malah gak masuk koinnya, udah gitu pas mau di cairkan \"gagal menautkan akun dana 1200008\" asu emang ni aplikasi                                                                                                                                                                                                                                                                                                                \n",
              "9   Apikasi ini jelek,!!!!!!!!!!!!!!!!!!!!!!!!!!!!!!!!!!!!!!!!!!!!!!!!!!!!!!!!!!!!!!!!!!!!!!!!!!!!!!!!!!!!!!!!!!!!!!!!!!!!!!!!!!!!!!!!!!!!!!!!!!!!!!!!!!!!!!!!!                                                                                                                                                                                                                                                                                                                                               \n",
              "10  Dulu saya kasih bintang 5, sekrng saya kasih bintang 1 aja,,karena saldo saya tidak bisa di tarik ,sudah 4 hari,,kalau masih ga bisa di tarik,mungkin saya uninstal aja deh ,,                                                                                                                                                                                                                                                                                                                            \n",
              "11  Tolong dong diperbaiki bug event treats, udah masukin kode susah, klaim hadiahnya juga susah. Poin saya ilang tapi treatsnya malah gak dapet. Kalau gak niat bikin event gak usah bikin sekalian 👎                                                                                                                                                                                                                                                                                                        \n",
              "12  Kepada team tiktok. Sebagai user cape cape ngumpul in referral. Setelah target kenapa penarikan di persulit. Dahulu lancar lancar saja. Saya kecewa. Padahal saldo cuma ratusan ribu. Bukan jutawan. E-mail complain. Feedback di apk. Bahkan disini tidak pernah ada respon sama sekali dri pihak tiktok.                                                                                                                                                                                                \n",
              "13  Akun terblokir ( ga bisa unggah video )...aneh, padahal gw cuma unggah video yg berisikan doa utk saudara saudari gw yg lg susah....sebuah alasan yg tidak msk akal.....                                                                                                                                                                                                                                                                                                                                  \n",
              "14  Saya kok Tiba-tiba di blokir padalan followers aku lo udah 201 aku tidak Ada konten penyiksaan !!!!!!!!!!!!!!!!!!!!!!!!!!!!!!!!!!!!!!!!!!!!!!!!!                                                                                                                                                                                                                                                                                                                                                          \n",
              "15  Kenapa kok terusan aja Diblokir Tik tok aku Kenapa!!!! Kembalikan lagi akun tiktok aku ya plisss 😌. Aku kan gak ngapa -Ngapain tiba tiba di blokir slama nya yok Kembalikan lagi pliss😌🤨🤨                                                                                                                                                                                                                                                                                                                 \n",
              "16  Apelikasi ini jelek sapesampe Mata gua sakit !!!!!!!!!!!!!!!!!!!!!!!!!!!!!!!!!!!!!!!!!!!!!!!!!!!!!!!!!!!!!!!!!!!!!!!!!!!!!!!!!!!!!!!!!!!!!!!!!!!!!!!!!!!!!!!!!!!!!!!!!!!!!!!!!!!!!!!!!!!!!!!!!!!!!!!!!!!!!!!!!!!!!!!!!!!!!!!!!!!!!!!!!!!!!!!!!!!!!!!!!!!!!!!!!!!!!!!!!!!!!!!!!!!!!!!!!!!!tapi boong papalepale                                                                                                                                                                                            \n",
              "17  Maaf ya saya kasih bintang 1(satu) karena setelah di upgrade, saya menonton video cukup lama, tetapi koin tidak bertambah, nanti kalau sudah normal kembali saya tambahkan bintangnya jadi 5(lima) kembali, terimakasih.                                                                                                                                                                                                                                                                                  \n",
              "18  Jelekkk amaattt!!! Saldo aq g bisa ditarik, emangnya ngundang orang,sama nonton video g pake data!!! Awas aja g bisa narik saldo saya ya?!!                                                                                                                                                                                                                                                                                                                                                               \n",
              "19  Kecewa bgt sama tiktok.. kenapa ngadain program reveral klo kode reveralnya gk bisa di pake gara gara tidak lolos kontrol penipuan.. padahal saya tidak curang.. cari pengguna baru itu susah loh.. mending hapus itu program reveral njing..                                                                                                                                                                                                                                                             \n",
              "\n",
              "    sentiment  \\\n",
              "0   0           \n",
              "1   0           \n",
              "2   0           \n",
              "3   0           \n",
              "4   0           \n",
              "5   0           \n",
              "6   0           \n",
              "7   0           \n",
              "8   0           \n",
              "9   0           \n",
              "10  0           \n",
              "11  0           \n",
              "12  0           \n",
              "13  0           \n",
              "14  0           \n",
              "15  0           \n",
              "16  0           \n",
              "17  0           \n",
              "18  0           \n",
              "19  0           \n",
              "\n",
              "                                                                                                                                                                                                                                                                                                                                                                                                                                                                                                 text  \n",
              "0   aplikasinya sebenarnya bagus tp knp skrg sy masuk akun sy hilang teulis frekuensi masuk terlalu sering apa maksudnya sampai2 sy hapus aplikasi ini trus sy resta hp sy download kembali tetap sepei itu tolong penjelasannya sementara sy kasih bintang 1 sebelum semuanya kembali sepei semula                                                                                                                                                                                                    \n",
              "1   tolong kepada pihak tiktok kenapa tiba2 saya tidak bisa masuk tiktok padahal kemaren2 masih bisa muter2 trus padahal jaringan wi fi untuk yg lainnya lancar kenapa pas masuk tiktok tiba2 wi fi gabisa di pake ada tulisan tidak ada sinyal cpt di perbaiki kalo sudah nanti aku kasih 5bintang                                                                                                                                                                                                    \n",
              "2   saya sangat kecewa kepada pihak tiktok akun saya di blokir padahal saya tidak pernah melakukan hal aneh dan saya di tiktok cuman menonton vidio orang tidak pernah mengaplod konten tapi tiba akun tiktok saya di blokir saya ingin membuat akun baru buat menonton video tiktok lagi tapi malah bisa setiap kali mendaftar malah teulis ups akun kamu sedang di tangguhkan sementara kan gak jelas banget pdhl saya di tiktok cuman menonton vidio orang                                          \n",
              "3   jujur ni ya gue gak puas banget sama tiktok sekarang kenapa waktu like udah banyak yg nonton udah banyak baru bilang pelanggaran apa apa in nihhh jelek banget tuh komen gue terhadap tiktok nending kalian dowliad yang lain jangan tiktok karna tiktok gak adil sekarang                                                                                                                                                                                                                         \n",
              "4   aplikasi haram tapi bener                                                                                                                                                                                                                                                                                                                                                                                                                                                                          \n",
              "5   kenapa akun gua ngestuck di 5 menit terus gua pikir bakalan balik lagi kayak semula pas besoknya eh ini udah hari ke 3 akun gua stuck di 5 menit poin gua kaga nambah nambah padahal gua udah lebih dari sejam liatin video di tiktok jelek banget                                                                                                                                                                                                                                                 \n",
              "6   saya mantan petualang hampir seluruh nusantara indonesia pernah saya jelajahi kecuali tim tim dan papua yg belum saya jamah ternyata sungguh mengagumkan keaneragaman budaya indonesia yang tidak bisa di nilai dgn uang seni adat budaya harus tetap dijaga agar tidak punah indonesia benar2 kaya dgn beragam budaya dan ke indahan alam nya sangat beruntung pengelola periwisata terutama dinas periwisata dan itu harus dilibatkan tokoh budaya dan sei adat setempat agar maksimal teangani  \n",
              "7   saya sebenarnya suka dengan aplikasi ini tapi saya kecewa karna akun tiktok saya di blokir padahal saya pengguna baru setiap saya menonton video durasi hanya sampai 5 menit tidak bisa lebih padahal saya sudah menonton lebih dari 30 menit koin juga tidak beambah saya jadi sedih tolong donk buka lagi akun saya please                                                                                                                                                                       \n",
              "8   aplikasi jelek masa koin saya gak beambah udah nonton video berjam2 malah gak masuk koinnya udah gitu pas mau di cairkan gagal menautkan akun dana 1200008 asu emang ni aplikasi                                                                                                                                                                                                                                                                                                                   \n",
              "9   apikasi ini jelek                                                                                                                                                                                                                                                                                                                                                                                                                                                                                  \n",
              "10  dulu saya kasih bintang 5 sekrng saya kasih bintang 1 aja karena saldo saya tidak bisa di tarik sudah 4 hari kalau masih ga bisa di tarik mungkin saya uninstal aja deh                                                                                                                                                                                                                                                                                                                            \n",
              "11  tolong dong diperbaiki bug event treats udah masukin kode susah klaim hadiahnya juga susah poin saya ilang tapi treatsnya malah gak dapet kalau gak niat bikin event gak usah bikin sekalian                                                                                                                                                                                                                                                                                                       \n",
              "12  kepada team tiktok sebagai user cape cape ngumpul in referral setelah target kenapa penarikan di persulit dahulu lancar lancar saja saya kecewa padahal saldo cuma ratusan ribu bukan jutawan mail complain feedback di apk bahkan disini tidak pernah ada respon sama sekali dri pihak tiktok                                                                                                                                                                                                     \n",
              "13  akun terblokir ga bisa unggah video aneh padahal gw cuma unggah video yg berisikan doa utk saudara saudari gw yg lg susah sebuah alasan yg tidak msk akal                                                                                                                                                                                                                                                                                                                                          \n",
              "14  saya kok tiba tiba di blokir padalan followers aku lo udah 201 aku tidak ada konten penyiksaan                                                                                                                                                                                                                                                                                                                                                                                                     \n",
              "15  kenapa kok terusan aja diblokir tik tok aku kenapa kembalikan lagi akun tiktok aku ya plisss aku kan gak ngapa ngapain tiba tiba di blokir slama nya yok kembalikan lagi pliss                                                                                                                                                                                                                                                                                                                     \n",
              "16  apelikasi ini jelek sapesampe mata gua sakit tapi boong papalepale                                                                                                                                                                                                                                                                                                                                                                                                                                 \n",
              "17  maaf ya saya kasih bintang 1 satu karena setelah di upgrade saya menonton video cukup lama tetapi koin tidak beambah nanti kalau sudah normal kembali saya tambahkan bintangnya jadi 5 lima kembali terimakasih                                                                                                                                                                                                                                                                                    \n",
              "18  jelekkk amaattt saldo aq bisa ditarik emangnya ngundang orang sama nonton video pake data awas aja bisa narik saldo saya ya                                                                                                                                                                                                                                                                                                                                                                        \n",
              "19  kecewa bgt sama tiktok kenapa ngadain program reveral klo kode reveralnya gk bisa di pake gara gara tidak lolos kontrol penipuan padahal saya tidak curang cari pengguna baru itu susah loh mending hapus itu program reveral njing                                                                                                                                                                                                                                                                "
            ]
          },
          "metadata": {
            "tags": []
          },
          "execution_count": 168
        }
      ]
    },
    {
      "cell_type": "markdown",
      "metadata": {
        "id": "16f5511e"
      },
      "source": [
        "### Data Preprocessing"
      ],
      "id": "16f5511e"
    },
    {
      "cell_type": "code",
      "metadata": {
        "scrolled": true,
        "colab": {
          "base_uri": "https://localhost:8080/",
          "height": 166,
          "referenced_widgets": [
            "c48a78465b4b4beb8b9c77a87741be52",
            "11f957576f5d4870afeb7b08df278c05",
            "4906f4d0fa0c4403819e4b52d2ed74d3",
            "b6036eea7dc54291b4bfb0c6de5632c3",
            "eae9865ce7fd44a88bdbf5f8cd8465f2",
            "3400156f3f444b6fb9fd7eec63e3e8ff",
            "15781c0eb49148eaa35572d716c7ddba",
            "fd5aef93bee348999b6c31a0668b36b4",
            "70a2597ec6f24ac5a578bab09847db71",
            "38d0230efa914a4a9f29e08d97093078",
            "d2a98ad1904848689871058fce8a7c7d",
            "17a2aa28232245528cfafb47832ea74f",
            "acf0b981b24545ab9a39fd1be6c127b0",
            "78c91a141bd74d689ec4d958e804ac7c",
            "5c94d898ea1440669d7f3ed9ebb03a2b",
            "51bac5a121ad4416a36e55ffffaf3bed",
            "7f8597fd17f440d49cd997de2d2a0e0a",
            "f970edddaf0940a1a8fbad90fa6143b8",
            "2981c3bf723747fc9b0c37f564d40150",
            "d7ed0cd6c0074d3782214cc197d8e09a",
            "dca1cf492c304df6a4215bd183893db9",
            "0d8bc65c17af464c89f7f79132264462",
            "81a5e272a5144ae8bf109638dc35142f",
            "feebae54b26c4fb3ac639821cdd8a547"
          ]
        },
        "id": "97e91978",
        "outputId": "f455d165-9336-4bbc-96df-e86c6b1573db"
      },
      "source": [
        "from transformers import BertTokenizer, BertModel\n",
        "\n",
        "model_name='cahya/bert-base-indonesian-522M'\n",
        "tokenizer = BertTokenizer.from_pretrained(model_name)"
      ],
      "id": "97e91978",
      "execution_count": 13,
      "outputs": [
        {
          "output_type": "display_data",
          "data": {
            "application/vnd.jupyter.widget-view+json": {
              "model_id": "c48a78465b4b4beb8b9c77a87741be52",
              "version_minor": 0,
              "version_major": 2
            },
            "text/plain": [
              "HBox(children=(FloatProgress(value=0.0, description='Downloading', max=229513.0, style=ProgressStyle(descripti…"
            ]
          },
          "metadata": {
            "tags": []
          }
        },
        {
          "output_type": "stream",
          "text": [
            "\n"
          ],
          "name": "stdout"
        },
        {
          "output_type": "display_data",
          "data": {
            "application/vnd.jupyter.widget-view+json": {
              "model_id": "70a2597ec6f24ac5a578bab09847db71",
              "version_minor": 0,
              "version_major": 2
            },
            "text/plain": [
              "HBox(children=(FloatProgress(value=0.0, description='Downloading', max=112.0, style=ProgressStyle(description_…"
            ]
          },
          "metadata": {
            "tags": []
          }
        },
        {
          "output_type": "stream",
          "text": [
            "\n"
          ],
          "name": "stdout"
        },
        {
          "output_type": "display_data",
          "data": {
            "application/vnd.jupyter.widget-view+json": {
              "model_id": "7f8597fd17f440d49cd997de2d2a0e0a",
              "version_minor": 0,
              "version_major": 2
            },
            "text/plain": [
              "HBox(children=(FloatProgress(value=0.0, description='Downloading', max=62.0, style=ProgressStyle(description_w…"
            ]
          },
          "metadata": {
            "tags": []
          }
        },
        {
          "output_type": "stream",
          "text": [
            "\n"
          ],
          "name": "stdout"
        }
      ]
    },
    {
      "cell_type": "raw",
      "metadata": {
        "id": "46d661b4"
      },
      "source": [
        "model = BertModel.from_pretrained(model_name)\n",
        "text = \"Silakan diganti dengan text apa saja.\"\n",
        "encoded_input = tokenizer(text, return_tensors='pt')\n",
        "output = model(**encoded_input)"
      ],
      "id": "46d661b4"
    },
    {
      "cell_type": "code",
      "metadata": {
        "id": "7003b9b8"
      },
      "source": [
        "text = 'saya pergi ke pasar bersama teman teman ingin membeli makan ayam, kamu mau?'"
      ],
      "id": "7003b9b8",
      "execution_count": 48,
      "outputs": []
    },
    {
      "cell_type": "code",
      "metadata": {
        "id": "e05572a9"
      },
      "source": [
        "tokens = tokenizer.tokenize(text)"
      ],
      "id": "e05572a9",
      "execution_count": 49,
      "outputs": []
    },
    {
      "cell_type": "code",
      "metadata": {
        "scrolled": true,
        "colab": {
          "base_uri": "https://localhost:8080/"
        },
        "id": "450387d0",
        "outputId": "f8e1106c-37a7-4578-9693-b2c0b41a625d"
      },
      "source": [
        "print(len(tokens))\n",
        "print(tokens)"
      ],
      "id": "450387d0",
      "execution_count": 50,
      "outputs": [
        {
          "output_type": "stream",
          "text": [
            "15\n",
            "['saya', 'pergi', 'ke', 'pasar', 'bersama', 'teman', 'teman', 'ingin', 'membeli', 'makan', 'ayam', ',', 'kamu', 'mau', '?']\n"
          ],
          "name": "stdout"
        }
      ]
    },
    {
      "cell_type": "code",
      "metadata": {
        "id": "d7120fa1"
      },
      "source": [
        "token_ids = tokenizer.convert_tokens_to_ids(tokens)"
      ],
      "id": "d7120fa1",
      "execution_count": 51,
      "outputs": []
    },
    {
      "cell_type": "code",
      "metadata": {
        "colab": {
          "base_uri": "https://localhost:8080/"
        },
        "id": "19329844",
        "outputId": "993b13eb-deee-4b25-f3aa-e1a0e52b9614"
      },
      "source": [
        "print(len(token_ids))\n",
        "print(token_ids)"
      ],
      "id": "19329844",
      "execution_count": 52,
      "outputs": [
        {
          "output_type": "stream",
          "text": [
            "15\n",
            "[3245, 3648, 1519, 3374, 2066, 3921, 3921, 3336, 5526, 2464, 6281, 15, 8343, 5481, 32]\n"
          ],
          "name": "stdout"
        }
      ]
    },
    {
      "cell_type": "markdown",
      "metadata": {
        "id": "eab1481e"
      },
      "source": [
        "##### sentence tokenizer"
      ],
      "id": "eab1481e"
    },
    {
      "cell_type": "raw",
      "metadata": {
        "id": "b26b3172"
      },
      "source": [
        "tokens = [\"mau pasar\",\n",
        "              \"aku tidak tahu\",\n",
        "              \"aku suka kamu\"\n",
        "              ]"
      ],
      "id": "b26b3172"
    },
    {
      "cell_type": "raw",
      "metadata": {
        "id": "5743f618"
      },
      "source": [
        "tokens = [tokenizer.tokenize(str(token)) for token in tokens]\n",
        "tokens"
      ],
      "id": "5743f618"
    },
    {
      "cell_type": "code",
      "metadata": {
        "colab": {
          "base_uri": "https://localhost:8080/"
        },
        "id": "a983b6d1",
        "outputId": "39834743-58ff-46d9-d76e-600ceb5c9822"
      },
      "source": [
        "tokens = tokenizer.tokenize(text)\n",
        "token_ids = tokenizer.convert_tokens_to_ids(tokens)\n",
        "\n",
        "print(f' Sentence: {text}')\n",
        "print(f' Tokens: {tokens}')\n",
        "print(f' Tokens IDs: {token_ids}')"
      ],
      "id": "a983b6d1",
      "execution_count": 53,
      "outputs": [
        {
          "output_type": "stream",
          "text": [
            " Sentence: saya pergi ke pasar bersama teman teman ingin membeli makan ayam, kamu mau?\n",
            " Tokens: ['saya', 'pergi', 'ke', 'pasar', 'bersama', 'teman', 'teman', 'ingin', 'membeli', 'makan', 'ayam', ',', 'kamu', 'mau', '?']\n",
            " Tokens IDs: [3245, 3648, 1519, 3374, 2066, 3921, 3921, 3336, 5526, 2464, 6281, 15, 8343, 5481, 32]\n"
          ],
          "name": "stdout"
        }
      ]
    },
    {
      "cell_type": "markdown",
      "metadata": {
        "id": "38263272"
      },
      "source": [
        "### Special Tokens"
      ],
      "id": "38263272"
    },
    {
      "cell_type": "code",
      "metadata": {
        "colab": {
          "base_uri": "https://localhost:8080/"
        },
        "id": "68aeb821",
        "outputId": "f180f84f-7cae-4513-d3cf-43f03de325b8"
      },
      "source": [
        "tokenizer.sep_token, tokenizer.sep_token_id"
      ],
      "id": "68aeb821",
      "execution_count": 54,
      "outputs": [
        {
          "output_type": "execute_result",
          "data": {
            "text/plain": [
              "('[SEP]', 1)"
            ]
          },
          "metadata": {
            "tags": []
          },
          "execution_count": 54
        }
      ]
    },
    {
      "cell_type": "code",
      "metadata": {
        "colab": {
          "base_uri": "https://localhost:8080/"
        },
        "id": "883c0273",
        "outputId": "7dfdc92c-86e7-46a5-d2f3-4e2fd3182688"
      },
      "source": [
        "tokenizer.cls_token, tokenizer.sep_token_id"
      ],
      "id": "883c0273",
      "execution_count": 55,
      "outputs": [
        {
          "output_type": "execute_result",
          "data": {
            "text/plain": [
              "('[CLS]', 1)"
            ]
          },
          "metadata": {
            "tags": []
          },
          "execution_count": 55
        }
      ]
    },
    {
      "cell_type": "code",
      "metadata": {
        "colab": {
          "base_uri": "https://localhost:8080/"
        },
        "id": "e72df988",
        "outputId": "220f1971-6b51-4ef1-cf9d-2a5bf1d57b4f"
      },
      "source": [
        "tokenizer.pad_token, tokenizer.pad_token_id"
      ],
      "id": "e72df988",
      "execution_count": 56,
      "outputs": [
        {
          "output_type": "execute_result",
          "data": {
            "text/plain": [
              "('[PAD]', 2)"
            ]
          },
          "metadata": {
            "tags": []
          },
          "execution_count": 56
        }
      ]
    },
    {
      "cell_type": "code",
      "metadata": {
        "colab": {
          "base_uri": "https://localhost:8080/"
        },
        "id": "74392212",
        "outputId": "64653c5f-3029-4943-9f0c-ab5f4f9c2f91"
      },
      "source": [
        "tokenizer.unk_token, tokenizer.unk_token_id"
      ],
      "id": "74392212",
      "execution_count": 57,
      "outputs": [
        {
          "output_type": "execute_result",
          "data": {
            "text/plain": [
              "('[UNK]', 0)"
            ]
          },
          "metadata": {
            "tags": []
          },
          "execution_count": 57
        }
      ]
    },
    {
      "cell_type": "code",
      "metadata": {
        "colab": {
          "base_uri": "https://localhost:8080/"
        },
        "id": "1d76dcf6",
        "outputId": "2b1c369b-e038-4d1f-fb9b-2392763e5b77"
      },
      "source": [
        "encoding = tokenizer.encode_plus(\n",
        "    text,\n",
        "    max_length=32,\n",
        "    add_special_tokens=True, # Add '[CLS]' and '[SEP]'\n",
        "    pad_to_max_length=True,\n",
        "    return_attention_mask=True,\n",
        "    return_token_type_ids=False,\n",
        "    return_tensors='pt' # Return PyTorch tensors\n",
        ")\n",
        "\n",
        "encoding.keys()"
      ],
      "id": "1d76dcf6",
      "execution_count": 58,
      "outputs": [
        {
          "output_type": "stream",
          "text": [
            "/usr/local/lib/python3.7/dist-packages/transformers/tokenization_utils_base.py:2110: FutureWarning: The `pad_to_max_length` argument is deprecated and will be removed in a future version, use `padding=True` or `padding='longest'` to pad to the longest sequence in the batch, or use `padding='max_length'` to pad to a max length. In this case, you can give a specific length with `max_length` (e.g. `max_length=45`) or leave max_length to None to pad to the maximal input size of the model (e.g. 512 for Bert).\n",
            "  FutureWarning,\n"
          ],
          "name": "stderr"
        },
        {
          "output_type": "execute_result",
          "data": {
            "text/plain": [
              "dict_keys(['input_ids', 'attention_mask'])"
            ]
          },
          "metadata": {
            "tags": []
          },
          "execution_count": 58
        }
      ]
    },
    {
      "cell_type": "code",
      "metadata": {
        "colab": {
          "base_uri": "https://localhost:8080/"
        },
        "id": "721f9424",
        "outputId": "20115ad6-6c4d-434e-bd35-59fc14387cb0"
      },
      "source": [
        "encoding['input_ids']"
      ],
      "id": "721f9424",
      "execution_count": 59,
      "outputs": [
        {
          "output_type": "execute_result",
          "data": {
            "text/plain": [
              "tensor([[   3, 3245, 3648, 1519, 3374, 2066, 3921, 3921, 3336, 5526, 2464, 6281,\n",
              "           15, 8343, 5481,   32,    1,    2,    2,    2,    2,    2,    2,    2,\n",
              "            2,    2,    2,    2,    2,    2,    2,    2]])"
            ]
          },
          "metadata": {
            "tags": []
          },
          "execution_count": 59
        }
      ]
    },
    {
      "cell_type": "code",
      "metadata": {
        "colab": {
          "base_uri": "https://localhost:8080/"
        },
        "id": "45471fff",
        "outputId": "9cd214ad-a2ef-4640-8436-7cea2a7c063f"
      },
      "source": [
        "len(encoding['input_ids'][0])"
      ],
      "id": "45471fff",
      "execution_count": 60,
      "outputs": [
        {
          "output_type": "execute_result",
          "data": {
            "text/plain": [
              "32"
            ]
          },
          "metadata": {
            "tags": []
          },
          "execution_count": 60
        }
      ]
    },
    {
      "cell_type": "code",
      "metadata": {
        "colab": {
          "base_uri": "https://localhost:8080/"
        },
        "id": "778ec2b4",
        "outputId": "32adc6a4-9201-43b7-c204-cc379e009ae2"
      },
      "source": [
        "encoding[\"attention_mask\"]"
      ],
      "id": "778ec2b4",
      "execution_count": 61,
      "outputs": [
        {
          "output_type": "execute_result",
          "data": {
            "text/plain": [
              "tensor([[1, 1, 1, 1, 1, 1, 1, 1, 1, 1, 1, 1, 1, 1, 1, 1, 1, 0, 0, 0, 0, 0, 0, 0,\n",
              "         0, 0, 0, 0, 0, 0, 0, 0]])"
            ]
          },
          "metadata": {
            "tags": []
          },
          "execution_count": 61
        }
      ]
    },
    {
      "cell_type": "code",
      "metadata": {
        "colab": {
          "base_uri": "https://localhost:8080/"
        },
        "id": "YQR1XEHrWh0N",
        "outputId": "8dadf0c6-7148-4894-b3cd-ccbc7a1c81b2"
      },
      "source": [
        "tokenizer.convert_ids_to_tokens(encoding['input_ids'][0])"
      ],
      "id": "YQR1XEHrWh0N",
      "execution_count": 62,
      "outputs": [
        {
          "output_type": "execute_result",
          "data": {
            "text/plain": [
              "['[CLS]',\n",
              " 'saya',\n",
              " 'pergi',\n",
              " 'ke',\n",
              " 'pasar',\n",
              " 'bersama',\n",
              " 'teman',\n",
              " 'teman',\n",
              " 'ingin',\n",
              " 'membeli',\n",
              " 'makan',\n",
              " 'ayam',\n",
              " ',',\n",
              " 'kamu',\n",
              " 'mau',\n",
              " '?',\n",
              " '[SEP]',\n",
              " '[PAD]',\n",
              " '[PAD]',\n",
              " '[PAD]',\n",
              " '[PAD]',\n",
              " '[PAD]',\n",
              " '[PAD]',\n",
              " '[PAD]',\n",
              " '[PAD]',\n",
              " '[PAD]',\n",
              " '[PAD]',\n",
              " '[PAD]',\n",
              " '[PAD]',\n",
              " '[PAD]',\n",
              " '[PAD]',\n",
              " '[PAD]']"
            ]
          },
          "metadata": {
            "tags": []
          },
          "execution_count": 62
        }
      ]
    },
    {
      "cell_type": "markdown",
      "metadata": {
        "id": "fe395957"
      },
      "source": [
        "### choosing sequence length"
      ],
      "id": "fe395957"
    },
    {
      "cell_type": "code",
      "metadata": {
        "id": "600bbc46"
      },
      "source": [
        "token_lens = []\n",
        "\n",
        "for txt in df.content:\n",
        "    tokens = tokenizer.encode(txt, max_length=512)\n",
        "    token_lens.append(len(tokens))"
      ],
      "id": "600bbc46",
      "execution_count": 63,
      "outputs": []
    },
    {
      "cell_type": "code",
      "metadata": {
        "colab": {
          "base_uri": "https://localhost:8080/",
          "height": 360
        },
        "id": "ffad0627",
        "outputId": "ac68b8a2-2a98-480e-e40a-8b54b30c023a"
      },
      "source": [
        "sns.displot(token_lens);"
      ],
      "id": "ffad0627",
      "execution_count": 64,
      "outputs": [
        {
          "output_type": "display_data",
          "data": {
            "image/png": "[encoded data removed]",
            "text/plain": [
              "<Figure size 360x360 with 1 Axes>"
            ]
          },
          "metadata": {
            "tags": [],
            "image/png": {
              "width": 343,
              "height": 343
            }
          }
        }
      ]
    },
    {
      "cell_type": "code",
      "metadata": {
        "colab": {
          "base_uri": "https://localhost:8080/",
          "height": 561
        },
        "id": "sQgwtednWs3u",
        "outputId": "c2dbf260-ef6a-4e3e-d96b-09257cf4dfee"
      },
      "source": [
        "sns.distplot(token_lens)\n",
        "plt.xlim([0, 256]);\n",
        "plt.xlabel('Token count');"
      ],
      "id": "sQgwtednWs3u",
      "execution_count": 65,
      "outputs": [
        {
          "output_type": "stream",
          "text": [
            "/usr/local/lib/python3.7/dist-packages/seaborn/distributions.py:2557: FutureWarning: `distplot` is a deprecated function and will be removed in a future version. Please adapt your code to use either `displot` (a figure-level function with similar flexibility) or `histplot` (an axes-level function for histograms).\n",
            "  warnings.warn(msg, FutureWarning)\n"
          ],
          "name": "stderr"
        },
        {
          "output_type": "display_data",
          "data": {
            "image/png": "[encoded data removed]",
            "text/plain": [
              "<Figure size 864x576 with 1 Axes>"
            ]
          },
          "metadata": {
            "tags": [],
            "image/png": {
              "width": 749,
              "height": 489
            }
          }
        }
      ]
    },
    {
      "cell_type": "code",
      "metadata": {
        "id": "dff9b12c"
      },
      "source": [
        "# Most of the reviews seem to contain less than 32 tokens, but we’ll be on the safe side and choose a maximum length of 64.\n",
        "\n",
        "MAX_LEN = 64\n",
        "# BATCH_SIZE = 8\n",
        "# EPOCHS = 20"
      ],
      "id": "dff9b12c",
      "execution_count": 66,
      "outputs": []
    },
    {
      "cell_type": "code",
      "metadata": {
        "id": "lmzyQNzkXL9T"
      },
      "source": [
        "class GPReviewDataset(Dataset):\n",
        "  def __init__(self, reviews, targets, tokenizer, max_len):\n",
        "    self.reviews = reviews\n",
        "    self.targets = targets\n",
        "    self.tokenizer = tokenizer\n",
        "    self.max_len = max_len\n",
        "\n",
        "  def __len__(self):\n",
        "    return len(self.reviews)\n",
        "    \n",
        "  def __getitem__(self, item):\n",
        "    review = str(self.reviews[item])\n",
        "    target = self.targets[item]\n",
        "    encoding = self.tokenizer.encode_plus(\n",
        "      review,\n",
        "      add_special_tokens=True,\n",
        "      max_length=self.max_len,\n",
        "      return_token_type_ids=False,\n",
        "      pad_to_max_length=True,\n",
        "      return_attention_mask=True,\n",
        "      return_tensors='pt',\n",
        "    )\n",
        "    return {\n",
        "      'review_text': review,\n",
        "      'input_ids': encoding['input_ids'].flatten(),\n",
        "      'attention_mask': encoding['attention_mask'].flatten(),\n",
        "      'targets': torch.tensor(target, dtype=torch.long)\n",
        "    }"
      ],
      "id": "lmzyQNzkXL9T",
      "execution_count": 67,
      "outputs": []
    },
    {
      "cell_type": "code",
      "metadata": {
        "id": "b4624660"
      },
      "source": [
        "df_train, df_test = train_test_split(df, test_size = 0.2, random_state = RANDOM_SEED)\n",
        "df_val, df_test = train_test_split(df_test, test_size = 0.5, random_state = RANDOM_SEED)"
      ],
      "id": "b4624660",
      "execution_count": 68,
      "outputs": []
    },
    {
      "cell_type": "code",
      "metadata": {
        "colab": {
          "base_uri": "https://localhost:8080/"
        },
        "id": "a79b6dbf",
        "outputId": "e0043995-e339-4915-99cc-587f494b573d"
      },
      "source": [
        "df_train.shape, df_val.shape, df_test.shape"
      ],
      "id": "a79b6dbf",
      "execution_count": 69,
      "outputs": [
        {
          "output_type": "execute_result",
          "data": {
            "text/plain": [
              "((1760, 13), (220, 13), (220, 13))"
            ]
          },
          "metadata": {
            "tags": []
          },
          "execution_count": 69
        }
      ]
    },
    {
      "cell_type": "code",
      "metadata": {
        "id": "91693be9"
      },
      "source": [
        "def create_data_loader(df, tokenizer, max_len, batch_size):\n",
        "    ds = GPReviewDataset(\n",
        "        reviews=df.content.to_numpy(),\n",
        "        targets=df.sentiment.to_numpy(),\n",
        "        tokenizer=tokenizer,\n",
        "        max_len=max_len\n",
        "    )\n",
        "    \n",
        "    return DataLoader(\n",
        "    ds,\n",
        "    batch_size=batch_size,\n",
        "    num_workers=4\n",
        "    )"
      ],
      "id": "91693be9",
      "execution_count": 70,
      "outputs": []
    },
    {
      "cell_type": "code",
      "metadata": {
        "colab": {
          "base_uri": "https://localhost:8080/"
        },
        "id": "51b587cc",
        "outputId": "21317ca1-eae1-4885-c4fa-cd7b86033e7e"
      },
      "source": [
        "BATCH_SIZE = 16\n",
        "\n",
        "train_data_loader = create_data_loader(df_train, tokenizer, MAX_LEN, BATCH_SIZE)\n",
        "val_data_loader = create_data_loader(df_val, tokenizer, MAX_LEN, BATCH_SIZE)\n",
        "test_data_loader = create_data_loader(df_test, tokenizer, MAX_LEN, BATCH_SIZE)"
      ],
      "id": "51b587cc",
      "execution_count": 71,
      "outputs": [
        {
          "output_type": "stream",
          "text": [
            "/usr/local/lib/python3.7/dist-packages/torch/utils/data/dataloader.py:477: UserWarning: This DataLoader will create 4 worker processes in total. Our suggested max number of worker in current system is 2, which is smaller than what this DataLoader is going to create. Please be aware that excessive worker creation might get DataLoader running slow or even freeze, lower the worker number to avoid potential slowness/freeze if necessary.\n",
            "  cpuset_checked))\n"
          ],
          "name": "stderr"
        }
      ]
    },
    {
      "cell_type": "code",
      "metadata": {
        "colab": {
          "base_uri": "https://localhost:8080/"
        },
        "id": "9d84952f",
        "outputId": "002ead3d-0444-4f70-875d-3a8750a2681d"
      },
      "source": [
        "data = next(iter(train_data_loader))\n",
        "data.keys()"
      ],
      "id": "9d84952f",
      "execution_count": 73,
      "outputs": [
        {
          "output_type": "stream",
          "text": [
            "/usr/local/lib/python3.7/dist-packages/torch/utils/data/dataloader.py:477: UserWarning: This DataLoader will create 4 worker processes in total. Our suggested max number of worker in current system is 2, which is smaller than what this DataLoader is going to create. Please be aware that excessive worker creation might get DataLoader running slow or even freeze, lower the worker number to avoid potential slowness/freeze if necessary.\n",
            "  cpuset_checked))\n",
            "/usr/local/lib/python3.7/dist-packages/transformers/tokenization_utils_base.py:2110: FutureWarning: The `pad_to_max_length` argument is deprecated and will be removed in a future version, use `padding=True` or `padding='longest'` to pad to the longest sequence in the batch, or use `padding='max_length'` to pad to a max length. In this case, you can give a specific length with `max_length` (e.g. `max_length=45`) or leave max_length to None to pad to the maximal input size of the model (e.g. 512 for Bert).\n",
            "  FutureWarning,\n",
            "/usr/local/lib/python3.7/dist-packages/transformers/tokenization_utils_base.py:2110: FutureWarning: The `pad_to_max_length` argument is deprecated and will be removed in a future version, use `padding=True` or `padding='longest'` to pad to the longest sequence in the batch, or use `padding='max_length'` to pad to a max length. In this case, you can give a specific length with `max_length` (e.g. `max_length=45`) or leave max_length to None to pad to the maximal input size of the model (e.g. 512 for Bert).\n",
            "  FutureWarning,\n",
            "/usr/local/lib/python3.7/dist-packages/transformers/tokenization_utils_base.py:2110: FutureWarning: The `pad_to_max_length` argument is deprecated and will be removed in a future version, use `padding=True` or `padding='longest'` to pad to the longest sequence in the batch, or use `padding='max_length'` to pad to a max length. In this case, you can give a specific length with `max_length` (e.g. `max_length=45`) or leave max_length to None to pad to the maximal input size of the model (e.g. 512 for Bert).\n",
            "  FutureWarning,\n",
            "/usr/local/lib/python3.7/dist-packages/transformers/tokenization_utils_base.py:2110: FutureWarning: The `pad_to_max_length` argument is deprecated and will be removed in a future version, use `padding=True` or `padding='longest'` to pad to the longest sequence in the batch, or use `padding='max_length'` to pad to a max length. In this case, you can give a specific length with `max_length` (e.g. `max_length=45`) or leave max_length to None to pad to the maximal input size of the model (e.g. 512 for Bert).\n",
            "  FutureWarning,\n"
          ],
          "name": "stderr"
        },
        {
          "output_type": "execute_result",
          "data": {
            "text/plain": [
              "dict_keys(['review_text', 'input_ids', 'attention_mask', 'targets'])"
            ]
          },
          "metadata": {
            "tags": []
          },
          "execution_count": 73
        }
      ]
    },
    {
      "cell_type": "code",
      "metadata": {
        "colab": {
          "base_uri": "https://localhost:8080/"
        },
        "id": "ecf6be0a",
        "outputId": "43e259db-31de-420a-c77e-1296f1388c7b"
      },
      "source": [
        "print(data['input_ids'].shape)\n",
        "print(data['attention_mask'].shape)\n",
        "print(data['targets'].shape)"
      ],
      "id": "ecf6be0a",
      "execution_count": 74,
      "outputs": [
        {
          "output_type": "stream",
          "text": [
            "torch.Size([16, 64])\n",
            "torch.Size([16, 64])\n",
            "torch.Size([16])\n"
          ],
          "name": "stdout"
        }
      ]
    },
    {
      "cell_type": "code",
      "metadata": {
        "id": "2848c683"
      },
      "source": [
        ""
      ],
      "id": "2848c683",
      "execution_count": null,
      "outputs": []
    }
  ]
}