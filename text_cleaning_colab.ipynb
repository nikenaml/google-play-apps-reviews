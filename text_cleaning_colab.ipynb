{
  "nbformat": 4,
  "nbformat_minor": 0,
  "metadata": {
    "colab": {
      "name": "text_cleaning_colab.ipynb",
      "provenance": [],
      "collapsed_sections": [],
      "authorship_tag": "ABX9TyOTxFGY2KT7rPoaqORvr9d/"
    },
    "kernelspec": {
      "name": "python3",
      "display_name": "Python 3"
    },
    "language_info": {
      "name": "python"
    }
  },
  "cells": [
    {
      "cell_type": "code",
      "metadata": {
        "colab": {
          "base_uri": "https://localhost:8080/"
        },
        "id": "c1_chqYdgbXT",
        "outputId": "ea278496-a01e-45ca-b014-5c1e13189aca"
      },
      "source": [
        "!pip install transformers"
      ],
      "execution_count": 2,
      "outputs": [
        {
          "output_type": "stream",
          "text": [
            "Collecting transformers\n",
            "\u001b[?25l  Downloading https://files.pythonhosted.org/packages/d5/43/cfe4ee779bbd6a678ac6a97c5a5cdeb03c35f9eaebbb9720b036680f9a2d/transformers-4.6.1-py3-none-any.whl (2.2MB)\n",
            "\u001b[K     |████████████████████████████████| 2.3MB 8.2MB/s \n",
            "\u001b[?25hRequirement already satisfied: numpy>=1.17 in /usr/local/lib/python3.7/dist-packages (from transformers) (1.19.5)\n",
            "Requirement already satisfied: tqdm>=4.27 in /usr/local/lib/python3.7/dist-packages (from transformers) (4.41.1)\n",
            "Collecting sacremoses\n",
            "\u001b[?25l  Downloading https://files.pythonhosted.org/packages/75/ee/67241dc87f266093c533a2d4d3d69438e57d7a90abb216fa076e7d475d4a/sacremoses-0.0.45-py3-none-any.whl (895kB)\n",
            "\u001b[K     |████████████████████████████████| 901kB 39.3MB/s \n",
            "\u001b[?25hRequirement already satisfied: importlib-metadata; python_version < \"3.8\" in /usr/local/lib/python3.7/dist-packages (from transformers) (4.0.1)\n",
            "Requirement already satisfied: filelock in /usr/local/lib/python3.7/dist-packages (from transformers) (3.0.12)\n",
            "Requirement already satisfied: requests in /usr/local/lib/python3.7/dist-packages (from transformers) (2.23.0)\n",
            "Requirement already satisfied: regex!=2019.12.17 in /usr/local/lib/python3.7/dist-packages (from transformers) (2019.12.20)\n",
            "Collecting tokenizers<0.11,>=0.10.1\n",
            "\u001b[?25l  Downloading https://files.pythonhosted.org/packages/d4/e2/df3543e8ffdab68f5acc73f613de9c2b155ac47f162e725dcac87c521c11/tokenizers-0.10.3-cp37-cp37m-manylinux_2_5_x86_64.manylinux1_x86_64.manylinux_2_12_x86_64.manylinux2010_x86_64.whl (3.3MB)\n",
            "\u001b[K     |████████████████████████████████| 3.3MB 33.9MB/s \n",
            "\u001b[?25hRequirement already satisfied: packaging in /usr/local/lib/python3.7/dist-packages (from transformers) (20.9)\n",
            "Collecting huggingface-hub==0.0.8\n",
            "  Downloading https://files.pythonhosted.org/packages/a1/88/7b1e45720ecf59c6c6737ff332f41c955963090a18e72acbcbeac6b25e86/huggingface_hub-0.0.8-py3-none-any.whl\n",
            "Requirement already satisfied: six in /usr/local/lib/python3.7/dist-packages (from sacremoses->transformers) (1.15.0)\n",
            "Requirement already satisfied: joblib in /usr/local/lib/python3.7/dist-packages (from sacremoses->transformers) (1.0.1)\n",
            "Requirement already satisfied: click in /usr/local/lib/python3.7/dist-packages (from sacremoses->transformers) (7.1.2)\n",
            "Requirement already satisfied: typing-extensions>=3.6.4; python_version < \"3.8\" in /usr/local/lib/python3.7/dist-packages (from importlib-metadata; python_version < \"3.8\"->transformers) (3.7.4.3)\n",
            "Requirement already satisfied: zipp>=0.5 in /usr/local/lib/python3.7/dist-packages (from importlib-metadata; python_version < \"3.8\"->transformers) (3.4.1)\n",
            "Requirement already satisfied: chardet<4,>=3.0.2 in /usr/local/lib/python3.7/dist-packages (from requests->transformers) (3.0.4)\n",
            "Requirement already satisfied: idna<3,>=2.5 in /usr/local/lib/python3.7/dist-packages (from requests->transformers) (2.10)\n",
            "Requirement already satisfied: certifi>=2017.4.17 in /usr/local/lib/python3.7/dist-packages (from requests->transformers) (2020.12.5)\n",
            "Requirement already satisfied: urllib3!=1.25.0,!=1.25.1,<1.26,>=1.21.1 in /usr/local/lib/python3.7/dist-packages (from requests->transformers) (1.24.3)\n",
            "Requirement already satisfied: pyparsing>=2.0.2 in /usr/local/lib/python3.7/dist-packages (from packaging->transformers) (2.4.7)\n",
            "Installing collected packages: sacremoses, tokenizers, huggingface-hub, transformers\n",
            "Successfully installed huggingface-hub-0.0.8 sacremoses-0.0.45 tokenizers-0.10.3 transformers-4.6.1\n"
          ],
          "name": "stdout"
        }
      ]
    },
    {
      "cell_type": "code",
      "metadata": {
        "id": "5tfVghoazFSH"
      },
      "source": [
        "import transformers\n",
        "from transformers import BertModel, BertTokenizer, AdamW, get_linear_schedule_with_warmup\n",
        "import torch\n",
        "import numpy as np\n",
        "import pandas as pd\n",
        "import seaborn as sns\n",
        "from pylab import rcParams\n",
        "import matplotlib.pyplot as plt\n",
        "from matplotlib import rc\n",
        "from sklearn.model_selection import train_test_split\n",
        "from sklearn.metrics import confusion_matrix, classification_report\n",
        "from collections import defaultdict\n",
        "from textwrap import wrap\n",
        "from torch import nn, optim\n",
        "from torch.utils.data import Dataset, DataLoader\n",
        "\n",
        "%matplotlib inline\n",
        "%config InlineBackend.figure_format='retina'\n",
        "\n",
        "sns.set(style='whitegrid', palette='muted', font_scale=1.2)\n",
        "HAPPY_COLORS_PALETTE = [\"#01BEFE\", \"#FFDD00\", \"#FF7D00\", \"#FF006D\", \"#ADFF02\", \"#8F00FF\"]\n",
        "sns.set_palette(sns.color_palette(HAPPY_COLORS_PALETTE))\n",
        "rcParams['figure.figsize'] = 12, 8\n",
        "\n",
        "RANDOM_SEED = 42\n",
        "np.random.seed(RANDOM_SEED)\n",
        "torch.manual_seed(RANDOM_SEED)\n",
        "device = torch.device(\"cuda:0\" if torch.cuda.is_available() else \"cpu\")"
      ],
      "execution_count": 3,
      "outputs": []
    },
    {
      "cell_type": "code",
      "metadata": {
        "id": "JdeFA7GkzLjS",
        "colab": {
          "base_uri": "https://localhost:8080/"
        },
        "outputId": "35495f20-f0c6-4e0c-a61e-2cf8cf7ff30e"
      },
      "source": [
        "pd.set_option('display.max_columns', None)\n",
        "pd.set_option('display.max_colwidth', -1)\n",
        "pd.set_option('display.max_rows', 2000)"
      ],
      "execution_count": 4,
      "outputs": [
        {
          "output_type": "stream",
          "text": [
            "/usr/local/lib/python3.7/dist-packages/ipykernel_launcher.py:2: FutureWarning: Passing a negative integer is deprecated in version 1.0 and will not be supported in future version. Instead, use None to not limit the column width.\n",
            "  \n"
          ],
          "name": "stderr"
        }
      ]
    },
    {
      "cell_type": "code",
      "metadata": {
        "id": "4w-tmrQJzMfq",
        "colab": {
          "base_uri": "https://localhost:8080/"
        },
        "outputId": "d1cca0d6-e3a4-495c-af32-de5e648eccef"
      },
      "source": [
        "!gdown --id 1rVa7buu3F_Vtq1-c7u9Qauqc679jlcfj\n",
        "!gdown --id 1tMXP9mBk98PCmI0ltmHzNHPrdr46TJkZ\n",
        "!gdown --id 1qJCIoc3RaP4qB_5gODor_VdK48qI9Ijo"
      ],
      "execution_count": 5,
      "outputs": [
        {
          "output_type": "stream",
          "text": [
            "Downloading...\n",
            "From: https://drive.google.com/uc?id=1rVa7buu3F_Vtq1-c7u9Qauqc679jlcfj\n",
            "To: /content/info_apps.csv\n",
            "100% 9.00k/9.00k [00:00<00:00, 17.4MB/s]\n",
            "Downloading...\n",
            "From: https://drive.google.com/uc?id=1tMXP9mBk98PCmI0ltmHzNHPrdr46TJkZ\n",
            "To: /content/apps_review_tiktok-nonrating.csv\n",
            "100% 895k/895k [00:00<00:00, 59.7MB/s]\n",
            "Downloading...\n",
            "From: https://drive.google.com/uc?id=1qJCIoc3RaP4qB_5gODor_VdK48qI9Ijo\n",
            "To: /content/apps_review-trialerror.csv\n",
            "100% 896k/896k [00:00<00:00, 55.5MB/s]\n"
          ],
          "name": "stdout"
        }
      ]
    },
    {
      "cell_type": "code",
      "metadata": {
        "id": "GP4tEBb5zVQo",
        "colab": {
          "base_uri": "https://localhost:8080/",
          "height": 708
        },
        "outputId": "f5fd949d-71f7-4e74-e46c-13e34fe7918c"
      },
      "source": [
        "df = pd.read_csv('apps_review-trialerror.csv')\n",
        "df.tail(10)"
      ],
      "execution_count": 6,
      "outputs": [
        {
          "output_type": "execute_result",
          "data": {
            "text/html": [
              "<div>\n",
              "<style scoped>\n",
              "    .dataframe tbody tr th:only-of-type {\n",
              "        vertical-align: middle;\n",
              "    }\n",
              "\n",
              "    .dataframe tbody tr th {\n",
              "        vertical-align: top;\n",
              "    }\n",
              "\n",
              "    .dataframe thead th {\n",
              "        text-align: right;\n",
              "    }\n",
              "</style>\n",
              "<table border=\"1\" class=\"dataframe\">\n",
              "  <thead>\n",
              "    <tr style=\"text-align: right;\">\n",
              "      <th></th>\n",
              "      <th>reviewId</th>\n",
              "      <th>userName</th>\n",
              "      <th>userImage</th>\n",
              "      <th>content</th>\n",
              "      <th>score</th>\n",
              "      <th>thumbsUpCount</th>\n",
              "      <th>reviewCreatedVersion</th>\n",
              "      <th>at</th>\n",
              "      <th>replyContent</th>\n",
              "      <th>repliedAt</th>\n",
              "      <th>sortOrder</th>\n",
              "      <th>appId</th>\n",
              "    </tr>\n",
              "  </thead>\n",
              "  <tbody>\n",
              "    <tr>\n",
              "      <th>2190</th>\n",
              "      <td>gp:AOqpTOEyg4ogHnxRr6E831au8BspvQdMKBWPc3ftK6gXPUDwDqebf8aS749X2w8cbFO7PLCJhYS2Jk0Sk4zjVTA</td>\n",
              "      <td>fifi avrilia</td>\n",
              "      <td>https://play-lh.googleusercontent.com/a-/AOh14GiZSg9vqQCX69HlVhDRa0x-fgdNsjp932wt-fdh0Q</td>\n",
              "      <td>tiktok can you make my video fyp? @arararranara</td>\n",
              "      <td>5</td>\n",
              "      <td>0</td>\n",
              "      <td>19.7.2003</td>\n",
              "      <td>2021-05-30 13:34:29</td>\n",
              "      <td>NaN</td>\n",
              "      <td>NaN</td>\n",
              "      <td>newest</td>\n",
              "      <td>com.ss.android.ugc.trill</td>\n",
              "    </tr>\n",
              "    <tr>\n",
              "      <th>2191</th>\n",
              "      <td>gp:AOqpTOHn8Jj-jqwz3o3WWEHSzhXpauMQH4kqmdonExBls4aPcK5ZqY2CTRo-RJLTkTG1eWnOyLkRkoRUrXq_GAk</td>\n",
              "      <td>semoga bermanfaat</td>\n",
              "      <td>https://play-lh.googleusercontent.com/a-/AOh14GgYQI8V-sG94kG8EkcV7VnDE6i13FOC_y_mgxa-4Q</td>\n",
              "      <td>Mantep</td>\n",
              "      <td>5</td>\n",
              "      <td>0</td>\n",
              "      <td>NaN</td>\n",
              "      <td>2021-05-30 13:34:29</td>\n",
              "      <td>NaN</td>\n",
              "      <td>NaN</td>\n",
              "      <td>newest</td>\n",
              "      <td>com.ss.android.ugc.trill</td>\n",
              "    </tr>\n",
              "    <tr>\n",
              "      <th>2192</th>\n",
              "      <td>gp:AOqpTOGPhBKlMAM4to7Im_MSya4w35MbDF4da4saOK4nQcnSpeCnGpQWsiUzaX8qfKcXEcOeSMTzXbVAqNnMNwQ</td>\n",
              "      <td>Zahrahsalsabilapanu Salsa</td>\n",
              "      <td>https://play-lh.googleusercontent.com/a-/AOh14Gh0PSs-puwgEr5EqMLW6d0CUpEwzGrrx6sKhj2n</td>\n",
              "      <td>Hai tik tok kau bisa membuat ku terhibur i love you</td>\n",
              "      <td>5</td>\n",
              "      <td>0</td>\n",
              "      <td>19.5.43</td>\n",
              "      <td>2021-05-30 13:33:41</td>\n",
              "      <td>NaN</td>\n",
              "      <td>NaN</td>\n",
              "      <td>newest</td>\n",
              "      <td>com.ss.android.ugc.trill</td>\n",
              "    </tr>\n",
              "    <tr>\n",
              "      <th>2193</th>\n",
              "      <td>gp:AOqpTOFPxchow6CXCwPkpezH8KTLEPsbQWHfiUqnbuVZS8UN9Rh7dYE5pA7wFOwChb7MnGHyHks_NKNkq2UsFOU</td>\n",
              "      <td>putri amanda zulwani nasution</td>\n",
              "      <td>https://play-lh.googleusercontent.com/a/AATXAJyLqdTJHAmZxDgLBM2fq10yHQAh9aFoKCOty1esUQ=mo</td>\n",
              "      <td>Good</td>\n",
              "      <td>5</td>\n",
              "      <td>0</td>\n",
              "      <td>19.5.43</td>\n",
              "      <td>2021-05-30 13:33:30</td>\n",
              "      <td>NaN</td>\n",
              "      <td>NaN</td>\n",
              "      <td>newest</td>\n",
              "      <td>com.ss.android.ugc.trill</td>\n",
              "    </tr>\n",
              "    <tr>\n",
              "      <th>2194</th>\n",
              "      <td>gp:AOqpTOElnW-ofGHKGuT5N6EdjoPyUbX_wVBHPbKo9llLpmqOEJqyT4MAwYHFM1NHrqMJ6XmVE0uTCgReX_5Gm0E</td>\n",
              "      <td>Septi Ana</td>\n",
              "      <td>https://play-lh.googleusercontent.com/a/AATXAJwqY3U84Yxvz_SJZNP1DK6kYiSDBOVCpv-2-8l9=mo</td>\n",
              "      <td>Elek polll, Tapi boong😜</td>\n",
              "      <td>5</td>\n",
              "      <td>0</td>\n",
              "      <td>18.9.2004</td>\n",
              "      <td>2021-05-30 13:33:29</td>\n",
              "      <td>NaN</td>\n",
              "      <td>NaN</td>\n",
              "      <td>newest</td>\n",
              "      <td>com.ss.android.ugc.trill</td>\n",
              "    </tr>\n",
              "    <tr>\n",
              "      <th>2195</th>\n",
              "      <td>gp:AOqpTOF1qmPniVZ_Vh-U0EaJr3nhupBt_KLnGoKS9tikD4IVDKz0SPa91OiKsNHpB4d4P2CDNrpKK7yEQGUG4q4</td>\n",
              "      <td>Nurtiana Marni</td>\n",
              "      <td>https://play-lh.googleusercontent.com/a/AATXAJwhpsLo9ELvR7Dtnj9DCY7gkS6r-US2JA4R2lA4=mo</td>\n",
              "      <td>Apk bagus</td>\n",
              "      <td>5</td>\n",
              "      <td>0</td>\n",
              "      <td>19.1.2003</td>\n",
              "      <td>2021-05-30 13:33:27</td>\n",
              "      <td>NaN</td>\n",
              "      <td>NaN</td>\n",
              "      <td>newest</td>\n",
              "      <td>com.ss.android.ugc.trill</td>\n",
              "    </tr>\n",
              "    <tr>\n",
              "      <th>2196</th>\n",
              "      <td>gp:AOqpTOHSbmGDDF6o1OhbQXN0k0-Tr_zU5i1WBlyzg-8xyUCHHs5mW1wYROUkHzCL52d1whifKbxzF65EhyLuvZY</td>\n",
              "      <td>Azriel Farid</td>\n",
              "      <td>https://play-lh.googleusercontent.com/a/AATXAJwsD0F0gwOAj7cjmHogz97SXqy9z0egqkVMWwdE=mo</td>\n",
              "      <td>Tiktok memang keren .mantaaaaaabbbbbbbbbbbbb !!!!!!!!!?!????!!!!</td>\n",
              "      <td>5</td>\n",
              "      <td>0</td>\n",
              "      <td>19.5.43</td>\n",
              "      <td>2021-05-30 13:33:06</td>\n",
              "      <td>NaN</td>\n",
              "      <td>NaN</td>\n",
              "      <td>newest</td>\n",
              "      <td>com.ss.android.ugc.trill</td>\n",
              "    </tr>\n",
              "    <tr>\n",
              "      <th>2197</th>\n",
              "      <td>gp:AOqpTOFTOK3pewK8pe1fcBe2PMVpC5bsSca3DP6ZivSicz_Om6iRIPsR_5r1IIKbyrhJCSbDHDxwGbi-OU1dcts</td>\n",
              "      <td>[ Kode::❷❷❽❷❹❹❾❽❶ ]</td>\n",
              "      <td>https://play-lh.googleusercontent.com/a-/AOh14Ggi71di7EckYM-poIv0EglJDazBoCkR5f6nuc1p</td>\n",
              "      <td>Selain bisa menghibur aplikasi ini juga mantapp bisa mendapatkan uang.....butir dowload kawan segera masukan(F8PYYVZQVXYXL)/////////////////////////////////////////////////////////////////////////////////////////////////////////////////////////////////////////////////////////////////////////////////////////////////////////////////////////////////////////////////////////////////////////////////////////////////////////////////////////////////////////////////</td>\n",
              "      <td>5</td>\n",
              "      <td>0</td>\n",
              "      <td>19.5.43</td>\n",
              "      <td>2021-05-30 13:33:01</td>\n",
              "      <td>NaN</td>\n",
              "      <td>NaN</td>\n",
              "      <td>newest</td>\n",
              "      <td>com.ss.android.ugc.trill</td>\n",
              "    </tr>\n",
              "    <tr>\n",
              "      <th>2198</th>\n",
              "      <td>gp:AOqpTOGp2tmLFBVIQywojve41S-UFlmkzYWmMnDZF5bjutYOOF84UFUxBtu5ZcE629xhKkQMGDnmx0VNmiR0swg</td>\n",
              "      <td>salsa nabela</td>\n",
              "      <td>https://play-lh.googleusercontent.com/a/AATXAJxxXb09rZdzYUskn0GwkMkpYM_FOFegK2wMeo3s=mo</td>\n",
              "      <td>Good👍</td>\n",
              "      <td>5</td>\n",
              "      <td>0</td>\n",
              "      <td>19.5.43</td>\n",
              "      <td>2021-05-30 13:32:35</td>\n",
              "      <td>NaN</td>\n",
              "      <td>NaN</td>\n",
              "      <td>newest</td>\n",
              "      <td>com.ss.android.ugc.trill</td>\n",
              "    </tr>\n",
              "    <tr>\n",
              "      <th>2199</th>\n",
              "      <td>gp:AOqpTOHdzrk130aHIYte-Qw9YroqWMDVolqpane_IfPKCYlSR06BvBGQBTTxhSupAmhNnYSn3hitjXzxP0iQjKg</td>\n",
              "      <td>Toha Odading</td>\n",
              "      <td>https://play-lh.googleusercontent.com/a/AATXAJxA6A-Pq8xLlhJL9B4qYTa0TW18ZdEVU4P9Gjpq=mo</td>\n",
              "      <td>Mantapp</td>\n",
              "      <td>5</td>\n",
              "      <td>0</td>\n",
              "      <td>NaN</td>\n",
              "      <td>2021-05-30 13:32:28</td>\n",
              "      <td>NaN</td>\n",
              "      <td>NaN</td>\n",
              "      <td>newest</td>\n",
              "      <td>com.ss.android.ugc.trill</td>\n",
              "    </tr>\n",
              "  </tbody>\n",
              "</table>\n",
              "</div>"
            ],
            "text/plain": [
              "                                                                                        reviewId  \\\n",
              "2190  gp:AOqpTOEyg4ogHnxRr6E831au8BspvQdMKBWPc3ftK6gXPUDwDqebf8aS749X2w8cbFO7PLCJhYS2Jk0Sk4zjVTA   \n",
              "2191  gp:AOqpTOHn8Jj-jqwz3o3WWEHSzhXpauMQH4kqmdonExBls4aPcK5ZqY2CTRo-RJLTkTG1eWnOyLkRkoRUrXq_GAk   \n",
              "2192  gp:AOqpTOGPhBKlMAM4to7Im_MSya4w35MbDF4da4saOK4nQcnSpeCnGpQWsiUzaX8qfKcXEcOeSMTzXbVAqNnMNwQ   \n",
              "2193  gp:AOqpTOFPxchow6CXCwPkpezH8KTLEPsbQWHfiUqnbuVZS8UN9Rh7dYE5pA7wFOwChb7MnGHyHks_NKNkq2UsFOU   \n",
              "2194  gp:AOqpTOElnW-ofGHKGuT5N6EdjoPyUbX_wVBHPbKo9llLpmqOEJqyT4MAwYHFM1NHrqMJ6XmVE0uTCgReX_5Gm0E   \n",
              "2195  gp:AOqpTOF1qmPniVZ_Vh-U0EaJr3nhupBt_KLnGoKS9tikD4IVDKz0SPa91OiKsNHpB4d4P2CDNrpKK7yEQGUG4q4   \n",
              "2196  gp:AOqpTOHSbmGDDF6o1OhbQXN0k0-Tr_zU5i1WBlyzg-8xyUCHHs5mW1wYROUkHzCL52d1whifKbxzF65EhyLuvZY   \n",
              "2197  gp:AOqpTOFTOK3pewK8pe1fcBe2PMVpC5bsSca3DP6ZivSicz_Om6iRIPsR_5r1IIKbyrhJCSbDHDxwGbi-OU1dcts   \n",
              "2198  gp:AOqpTOGp2tmLFBVIQywojve41S-UFlmkzYWmMnDZF5bjutYOOF84UFUxBtu5ZcE629xhKkQMGDnmx0VNmiR0swg   \n",
              "2199  gp:AOqpTOHdzrk130aHIYte-Qw9YroqWMDVolqpane_IfPKCYlSR06BvBGQBTTxhSupAmhNnYSn3hitjXzxP0iQjKg   \n",
              "\n",
              "                           userName  \\\n",
              "2190  fifi avrilia                    \n",
              "2191  semoga bermanfaat               \n",
              "2192  Zahrahsalsabilapanu Salsa       \n",
              "2193  putri amanda zulwani nasution   \n",
              "2194  Septi Ana                       \n",
              "2195  Nurtiana Marni                  \n",
              "2196  Azriel Farid                    \n",
              "2197  [ Kode::❷❷❽❷❹❹❾❽❶ ]             \n",
              "2198  salsa nabela                    \n",
              "2199  Toha Odading                    \n",
              "\n",
              "                                                                                      userImage  \\\n",
              "2190  https://play-lh.googleusercontent.com/a-/AOh14GiZSg9vqQCX69HlVhDRa0x-fgdNsjp932wt-fdh0Q     \n",
              "2191  https://play-lh.googleusercontent.com/a-/AOh14GgYQI8V-sG94kG8EkcV7VnDE6i13FOC_y_mgxa-4Q     \n",
              "2192  https://play-lh.googleusercontent.com/a-/AOh14Gh0PSs-puwgEr5EqMLW6d0CUpEwzGrrx6sKhj2n       \n",
              "2193  https://play-lh.googleusercontent.com/a/AATXAJyLqdTJHAmZxDgLBM2fq10yHQAh9aFoKCOty1esUQ=mo   \n",
              "2194  https://play-lh.googleusercontent.com/a/AATXAJwqY3U84Yxvz_SJZNP1DK6kYiSDBOVCpv-2-8l9=mo     \n",
              "2195  https://play-lh.googleusercontent.com/a/AATXAJwhpsLo9ELvR7Dtnj9DCY7gkS6r-US2JA4R2lA4=mo     \n",
              "2196  https://play-lh.googleusercontent.com/a/AATXAJwsD0F0gwOAj7cjmHogz97SXqy9z0egqkVMWwdE=mo     \n",
              "2197  https://play-lh.googleusercontent.com/a-/AOh14Ggi71di7EckYM-poIv0EglJDazBoCkR5f6nuc1p       \n",
              "2198  https://play-lh.googleusercontent.com/a/AATXAJxxXb09rZdzYUskn0GwkMkpYM_FOFegK2wMeo3s=mo     \n",
              "2199  https://play-lh.googleusercontent.com/a/AATXAJxA6A-Pq8xLlhJL9B4qYTa0TW18ZdEVU4P9Gjpq=mo     \n",
              "\n",
              "                                                                                                                                                                                                                                                                                                                                                                                                                                                                           content  \\\n",
              "2190  tiktok can you make my video fyp? @arararranara                                                                                                                                                                                                                                                                                                                                                                                                                                \n",
              "2191  Mantep                                                                                                                                                                                                                                                                                                                                                                                                                                                                         \n",
              "2192  Hai tik tok kau bisa membuat ku terhibur i love you                                                                                                                                                                                                                                                                                                                                                                                                                            \n",
              "2193  Good                                                                                                                                                                                                                                                                                                                                                                                                                                                                           \n",
              "2194  Elek polll, Tapi boong😜                                                                                                                                                                                                                                                                                                                                                                                                                                                        \n",
              "2195  Apk bagus                                                                                                                                                                                                                                                                                                                                                                                                                                                                      \n",
              "2196  Tiktok memang keren .mantaaaaaabbbbbbbbbbbbb !!!!!!!!!?!????!!!!                                                                                                                                                                                                                                                                                                                                                                                                               \n",
              "2197  Selain bisa menghibur aplikasi ini juga mantapp bisa mendapatkan uang.....butir dowload kawan segera masukan(F8PYYVZQVXYXL)/////////////////////////////////////////////////////////////////////////////////////////////////////////////////////////////////////////////////////////////////////////////////////////////////////////////////////////////////////////////////////////////////////////////////////////////////////////////////////////////////////////////////   \n",
              "2198  Good👍                                                                                                                                                                                                                                                                                                                                                                                                                                                                          \n",
              "2199  Mantapp                                                                                                                                                                                                                                                                                                                                                                                                                                                                        \n",
              "\n",
              "      score  thumbsUpCount reviewCreatedVersion                   at  \\\n",
              "2190  5      0              19.7.2003            2021-05-30 13:34:29   \n",
              "2191  5      0              NaN                  2021-05-30 13:34:29   \n",
              "2192  5      0              19.5.43              2021-05-30 13:33:41   \n",
              "2193  5      0              19.5.43              2021-05-30 13:33:30   \n",
              "2194  5      0              18.9.2004            2021-05-30 13:33:29   \n",
              "2195  5      0              19.1.2003            2021-05-30 13:33:27   \n",
              "2196  5      0              19.5.43              2021-05-30 13:33:06   \n",
              "2197  5      0              19.5.43              2021-05-30 13:33:01   \n",
              "2198  5      0              19.5.43              2021-05-30 13:32:35   \n",
              "2199  5      0              NaN                  2021-05-30 13:32:28   \n",
              "\n",
              "     replyContent repliedAt sortOrder                     appId  \n",
              "2190  NaN          NaN       newest    com.ss.android.ugc.trill  \n",
              "2191  NaN          NaN       newest    com.ss.android.ugc.trill  \n",
              "2192  NaN          NaN       newest    com.ss.android.ugc.trill  \n",
              "2193  NaN          NaN       newest    com.ss.android.ugc.trill  \n",
              "2194  NaN          NaN       newest    com.ss.android.ugc.trill  \n",
              "2195  NaN          NaN       newest    com.ss.android.ugc.trill  \n",
              "2196  NaN          NaN       newest    com.ss.android.ugc.trill  \n",
              "2197  NaN          NaN       newest    com.ss.android.ugc.trill  \n",
              "2198  NaN          NaN       newest    com.ss.android.ugc.trill  \n",
              "2199  NaN          NaN       newest    com.ss.android.ugc.trill  "
            ]
          },
          "metadata": {
            "tags": []
          },
          "execution_count": 6
        }
      ]
    },
    {
      "cell_type": "code",
      "metadata": {
        "id": "_0XRfd7ZzXbG",
        "colab": {
          "base_uri": "https://localhost:8080/"
        },
        "outputId": "3dda04e4-8847-4b47-f6dc-9860cd235ea2"
      },
      "source": [
        "df.shape"
      ],
      "execution_count": 7,
      "outputs": [
        {
          "output_type": "execute_result",
          "data": {
            "text/plain": [
              "(2200, 12)"
            ]
          },
          "metadata": {
            "tags": []
          },
          "execution_count": 7
        }
      ]
    },
    {
      "cell_type": "code",
      "metadata": {
        "id": "s8UKYLhizZJf",
        "colab": {
          "base_uri": "https://localhost:8080/"
        },
        "outputId": "6c901fa6-c2b4-47e3-f72e-f4e22034f5a2"
      },
      "source": [
        "df.info()"
      ],
      "execution_count": 8,
      "outputs": [
        {
          "output_type": "stream",
          "text": [
            "<class 'pandas.core.frame.DataFrame'>\n",
            "RangeIndex: 2200 entries, 0 to 2199\n",
            "Data columns (total 12 columns):\n",
            " #   Column                Non-Null Count  Dtype \n",
            "---  ------                --------------  ----- \n",
            " 0   reviewId              2200 non-null   object\n",
            " 1   userName              2200 non-null   object\n",
            " 2   userImage             2200 non-null   object\n",
            " 3   content               2200 non-null   object\n",
            " 4   score                 2200 non-null   int64 \n",
            " 5   thumbsUpCount         2200 non-null   int64 \n",
            " 6   reviewCreatedVersion  1723 non-null   object\n",
            " 7   at                    2200 non-null   object\n",
            " 8   replyContent          1 non-null      object\n",
            " 9   repliedAt             1 non-null      object\n",
            " 10  sortOrder             2200 non-null   object\n",
            " 11  appId                 2200 non-null   object\n",
            "dtypes: int64(2), object(10)\n",
            "memory usage: 206.4+ KB\n"
          ],
          "name": "stdout"
        }
      ]
    },
    {
      "cell_type": "code",
      "metadata": {
        "id": "5OSSYOBlza7F",
        "colab": {
          "base_uri": "https://localhost:8080/",
          "height": 578
        },
        "outputId": "a1a71a32-5d80-4b1f-b450-cef875d8896d"
      },
      "source": [
        "sns.countplot(df.score)\n",
        "plt.xlabel('review score')"
      ],
      "execution_count": 9,
      "outputs": [
        {
          "output_type": "stream",
          "text": [
            "/usr/local/lib/python3.7/dist-packages/seaborn/_decorators.py:43: FutureWarning: Pass the following variable as a keyword arg: x. From version 0.12, the only valid positional argument will be `data`, and passing other arguments without an explicit keyword will result in an error or misinterpretation.\n",
            "  FutureWarning\n"
          ],
          "name": "stderr"
        },
        {
          "output_type": "execute_result",
          "data": {
            "text/plain": [
              "Text(0.5, 0, 'review score')"
            ]
          },
          "metadata": {
            "tags": []
          },
          "execution_count": 9
        },
        {
          "output_type": "display_data",
          "data": {
            "image/png": "[encoded data removed]",
            "text/plain": [
              "<Figure size 864x576 with 1 Axes>"
            ]
          },
          "metadata": {
            "tags": [],
            "image/png": {
              "width": 736,
              "height": 489
            }
          }
        }
      ]
    },
    {
      "cell_type": "code",
      "metadata": {
        "id": "QeQtq992zc_C"
      },
      "source": [
        "def to_sentiment(rating):\n",
        "    rating = int(rating)\n",
        "    if rating <=2:\n",
        "        return 0\n",
        "    elif rating == 3:\n",
        "        return 1\n",
        "    else: \n",
        "        return 2"
      ],
      "execution_count": 10,
      "outputs": []
    },
    {
      "cell_type": "code",
      "metadata": {
        "id": "uVw6YeKazfB6"
      },
      "source": [
        "df['sentiment'] = df.score.apply(to_sentiment)"
      ],
      "execution_count": 11,
      "outputs": []
    },
    {
      "cell_type": "code",
      "metadata": {
        "id": "196aEw1MzhWc"
      },
      "source": [
        "class_names = ['negative','neutral','positive']"
      ],
      "execution_count": 12,
      "outputs": []
    },
    {
      "cell_type": "code",
      "metadata": {
        "id": "EMXdLdLizi22",
        "colab": {
          "base_uri": "https://localhost:8080/",
          "height": 561
        },
        "outputId": "5bb6eb61-f510-42ab-f055-f12cead95f41"
      },
      "source": [
        "ax = sns.countplot(df.sentiment)\n",
        "plt.xlabel('review sentiment')\n",
        "ax.set_xticklabels(class_names);"
      ],
      "execution_count": 13,
      "outputs": [
        {
          "output_type": "stream",
          "text": [
            "/usr/local/lib/python3.7/dist-packages/seaborn/_decorators.py:43: FutureWarning: Pass the following variable as a keyword arg: x. From version 0.12, the only valid positional argument will be `data`, and passing other arguments without an explicit keyword will result in an error or misinterpretation.\n",
            "  FutureWarning\n"
          ],
          "name": "stderr"
        },
        {
          "output_type": "display_data",
          "data": {
            "image/png": "[encoded data removed]",
            "text/plain": [
              "<Figure size 864x576 with 1 Axes>"
            ]
          },
          "metadata": {
            "tags": [],
            "image/png": {
              "width": 736,
              "height": 489
            }
          }
        }
      ]
    },
    {
      "cell_type": "code",
      "metadata": {
        "id": "32Ik5lubzqKb"
      },
      "source": [
        "df = df[['content', 'sentiment']]"
      ],
      "execution_count": 14,
      "outputs": []
    },
    {
      "cell_type": "code",
      "metadata": {
        "id": "0hYLR042zsmI",
        "colab": {
          "base_uri": "https://localhost:8080/",
          "height": 862
        },
        "outputId": "b3efa771-0482-47c6-c945-04f075c6263b"
      },
      "source": [
        "df.head(20)"
      ],
      "execution_count": 15,
      "outputs": [
        {
          "output_type": "execute_result",
          "data": {
            "text/html": [
              "<div>\n",
              "<style scoped>\n",
              "    .dataframe tbody tr th:only-of-type {\n",
              "        vertical-align: middle;\n",
              "    }\n",
              "\n",
              "    .dataframe tbody tr th {\n",
              "        vertical-align: top;\n",
              "    }\n",
              "\n",
              "    .dataframe thead th {\n",
              "        text-align: right;\n",
              "    }\n",
              "</style>\n",
              "<table border=\"1\" class=\"dataframe\">\n",
              "  <thead>\n",
              "    <tr style=\"text-align: right;\">\n",
              "      <th></th>\n",
              "      <th>content</th>\n",
              "      <th>sentiment</th>\n",
              "    </tr>\n",
              "  </thead>\n",
              "  <tbody>\n",
              "    <tr>\n",
              "      <th>0</th>\n",
              "      <td>❗🕙🙆👌😨 Aplikasinya sebenarnya bagus..Tp knp skrg sy masuk akun sy hilang, tertulis frekuensi masuk terlalu sering. Apa maksudnya?? Sampai2 sy hapus aplikasi ini trus sy restart hp sy, download kembali tetap seperti itu. Tolong penjelasannya. Sementara sy kasih bintang 1 sebelum semuanya kembali seperti semula.</td>\n",
              "      <td>0</td>\n",
              "    </tr>\n",
              "    <tr>\n",
              "      <th>1</th>\n",
              "      <td>Tolong kepada pihak tiktok, kenapa tiba2 saya tidak bisa masuk tiktok? Padahal kemaren2 masih bisa n Muter2 trus, padahal jaringan wi-fi untuk yg lainnya lancar, kenapa pas masuk tiktok tiba2 wi-fi gabisa di pake/ada tulisan \"tidak ada sinyal\" cpt di perbaiki, kalo sudah nanti aku kasih 5bintang</td>\n",
              "      <td>0</td>\n",
              "    </tr>\n",
              "    <tr>\n",
              "      <th>2</th>\n",
              "      <td>Saya sangat kecewa kepada pihak tiktok akun saya di blokir padahal saya tidak pernah melakukan hal\" aneh dan saya di tiktok cuman Menonton vidio\" orang tidak pernah mengaplod konten tapi tiba\" akun tiktok saya di blokir,,, saya ingin membuat akun baru buat menonton video Tiktok lagi tapi malah g bisa setiap kali mendaftar malah tertulis \" Ups akun kamu sedang di tangguhkan sementara\" kan gak jelas banget pdhl saya di tiktok cuman menonton Vidio orang</td>\n",
              "      <td>0</td>\n",
              "    </tr>\n",
              "    <tr>\n",
              "      <th>3</th>\n",
              "      <td>Jujur ni ya gue gak puas banget sama tiktok sekarang kenapa waktu like udah banyak yg nonton udah banyak baru bilang pelanggaran apa apa in nihhh jelek banget tuh komen gue terhadap tiktok nending kalian dowliad yang lain jangan tiktok karna tiktok gak adil sekarang!!!!!!!</td>\n",
              "      <td>0</td>\n",
              "    </tr>\n",
              "    <tr>\n",
              "      <th>4</th>\n",
              "      <td>Aplikasi Haram!!!!!!!!!!!!!!!!!!!!!!!!! ¡!¡!!!!!!!!!!!!!!!!!!!!!!!!!!!!!!!!!!!!!!!!?!!!!!!!!!!!!!!!!!!!!!!!!!!!!!!!!!!!!!!!!!!!!!!!!!!!!!!!!!!!!!!!!!!!!?!!!!!!!!!!!? Tapi bener</td>\n",
              "      <td>0</td>\n",
              "    </tr>\n",
              "    <tr>\n",
              "      <th>5</th>\n",
              "      <td>kenapa akun gua ngestuck di 5 menit terus, gua pikir bakalan balik lagi kayak semula pas besoknya, eh ini udah hari ke-3 akun gua stuck di 5 menit. poin gua kaga nambah-nambah padahal gua udah lebih dari sejam liatin video di tiktok. jelek banget</td>\n",
              "      <td>0</td>\n",
              "    </tr>\n",
              "    <tr>\n",
              "      <th>6</th>\n",
              "      <td>Saya mantan petualang hampir seluruh Nusantara Indonesia pernah saya jelajahi kecuali tim-tim dan Papua yg belum saya jamah ternyata sungguh mengagumkan keaneragaman budaya Indonesia yang tidak bisa di nilai dgn uang seni adat budaya harus tetap dijaga agar tidak punah , Indonesia benar2 kaya dgn beragam budaya dan ke indahan alam nya sangat beruntung pengelola periwisata terutama dinas periwisata dan itu harus dilibatkan tokoh budaya dan sei adat setempat agar maksimal tertangani .</td>\n",
              "      <td>0</td>\n",
              "    </tr>\n",
              "    <tr>\n",
              "      <th>7</th>\n",
              "      <td>Saya sebenarnya suka dengan aplikasi ini tapi saya kecewa karna akun tiktok saya di blokir. Padahal saya pengguna baru. Setiap saya menonton video durasi hanya sampai 5 menit tidak bisa lebih. Padahal saya sudah menonton lebih dari 30 menit. Koin juga tidak bertambah. Saya jadi sedih...😭😭😭 Tolong donk buka lagi akun saya. Please......</td>\n",
              "      <td>0</td>\n",
              "    </tr>\n",
              "    <tr>\n",
              "      <th>8</th>\n",
              "      <td>Aplikasi jelek!!!! Masa koin saya gak bertambah, udah nonton video berjam2 malah gak masuk koinnya, udah gitu pas mau di cairkan \"gagal menautkan akun dana 1200008\" asu emang ni aplikasi</td>\n",
              "      <td>0</td>\n",
              "    </tr>\n",
              "    <tr>\n",
              "      <th>9</th>\n",
              "      <td>Apikasi ini jelek,!!!!!!!!!!!!!!!!!!!!!!!!!!!!!!!!!!!!!!!!!!!!!!!!!!!!!!!!!!!!!!!!!!!!!!!!!!!!!!!!!!!!!!!!!!!!!!!!!!!!!!!!!!!!!!!!!!!!!!!!!!!!!!!!!!!!!!!!!</td>\n",
              "      <td>0</td>\n",
              "    </tr>\n",
              "    <tr>\n",
              "      <th>10</th>\n",
              "      <td>Dulu saya kasih bintang 5, sekrng saya kasih bintang 1 aja,,karena saldo saya tidak bisa di tarik ,sudah 4 hari,,kalau masih ga bisa di tarik,mungkin saya uninstal aja deh ,,</td>\n",
              "      <td>0</td>\n",
              "    </tr>\n",
              "    <tr>\n",
              "      <th>11</th>\n",
              "      <td>Tolong dong diperbaiki bug event treats, udah masukin kode susah, klaim hadiahnya juga susah. Poin saya ilang tapi treatsnya malah gak dapet. Kalau gak niat bikin event gak usah bikin sekalian 👎</td>\n",
              "      <td>0</td>\n",
              "    </tr>\n",
              "    <tr>\n",
              "      <th>12</th>\n",
              "      <td>Kepada team tiktok. Sebagai user cape cape ngumpul in referral. Setelah target kenapa penarikan di persulit. Dahulu lancar lancar saja. Saya kecewa. Padahal saldo cuma ratusan ribu. Bukan jutawan. E-mail complain. Feedback di apk. Bahkan disini tidak pernah ada respon sama sekali dri pihak tiktok.</td>\n",
              "      <td>0</td>\n",
              "    </tr>\n",
              "    <tr>\n",
              "      <th>13</th>\n",
              "      <td>Akun terblokir ( ga bisa unggah video )...aneh, padahal gw cuma unggah video yg berisikan doa utk saudara saudari gw yg lg susah....sebuah alasan yg tidak msk akal.....</td>\n",
              "      <td>0</td>\n",
              "    </tr>\n",
              "    <tr>\n",
              "      <th>14</th>\n",
              "      <td>Saya kok Tiba-tiba di blokir padalan followers aku lo udah 201 aku tidak Ada konten penyiksaan !!!!!!!!!!!!!!!!!!!!!!!!!!!!!!!!!!!!!!!!!!!!!!!!!</td>\n",
              "      <td>0</td>\n",
              "    </tr>\n",
              "    <tr>\n",
              "      <th>15</th>\n",
              "      <td>Kenapa kok terusan aja Diblokir Tik tok aku Kenapa!!!! Kembalikan lagi akun tiktok aku ya plisss 😌. Aku kan gak ngapa -Ngapain tiba tiba di blokir slama nya yok Kembalikan lagi pliss😌🤨🤨</td>\n",
              "      <td>0</td>\n",
              "    </tr>\n",
              "    <tr>\n",
              "      <th>16</th>\n",
              "      <td>Apelikasi ini jelek sapesampe Mata gua sakit !!!!!!!!!!!!!!!!!!!!!!!!!!!!!!!!!!!!!!!!!!!!!!!!!!!!!!!!!!!!!!!!!!!!!!!!!!!!!!!!!!!!!!!!!!!!!!!!!!!!!!!!!!!!!!!!!!!!!!!!!!!!!!!!!!!!!!!!!!!!!!!!!!!!!!!!!!!!!!!!!!!!!!!!!!!!!!!!!!!!!!!!!!!!!!!!!!!!!!!!!!!!!!!!!!!!!!!!!!!!!!!!!!!!!!!!!!!!tapi boong papalepale</td>\n",
              "      <td>0</td>\n",
              "    </tr>\n",
              "    <tr>\n",
              "      <th>17</th>\n",
              "      <td>Maaf ya saya kasih bintang 1(satu) karena setelah di upgrade, saya menonton video cukup lama, tetapi koin tidak bertambah, nanti kalau sudah normal kembali saya tambahkan bintangnya jadi 5(lima) kembali, terimakasih.</td>\n",
              "      <td>0</td>\n",
              "    </tr>\n",
              "    <tr>\n",
              "      <th>18</th>\n",
              "      <td>Jelekkk amaattt!!! Saldo aq g bisa ditarik, emangnya ngundang orang,sama nonton video g pake data!!! Awas aja g bisa narik saldo saya ya?!!</td>\n",
              "      <td>0</td>\n",
              "    </tr>\n",
              "    <tr>\n",
              "      <th>19</th>\n",
              "      <td>Kecewa bgt sama tiktok.. kenapa ngadain program reveral klo kode reveralnya gk bisa di pake gara gara tidak lolos kontrol penipuan.. padahal saya tidak curang.. cari pengguna baru itu susah loh.. mending hapus itu program reveral njing..</td>\n",
              "      <td>0</td>\n",
              "    </tr>\n",
              "  </tbody>\n",
              "</table>\n",
              "</div>"
            ],
            "text/plain": [
              "                                                                                                                                                                                                                                                                                                                                                                                                                                                                                                    content  \\\n",
              "0   ❗🕙🙆👌😨 Aplikasinya sebenarnya bagus..Tp knp skrg sy masuk akun sy hilang, tertulis frekuensi masuk terlalu sering. Apa maksudnya?? Sampai2 sy hapus aplikasi ini trus sy restart hp sy, download kembali tetap seperti itu. Tolong penjelasannya. Sementara sy kasih bintang 1 sebelum semuanya kembali seperti semula.                                                                                                                                                                                    \n",
              "1   Tolong kepada pihak tiktok, kenapa tiba2 saya tidak bisa masuk tiktok? Padahal kemaren2 masih bisa n Muter2 trus, padahal jaringan wi-fi untuk yg lainnya lancar, kenapa pas masuk tiktok tiba2 wi-fi gabisa di pake/ada tulisan \"tidak ada sinyal\" cpt di perbaiki, kalo sudah nanti aku kasih 5bintang                                                                                                                                                                                                  \n",
              "2   Saya sangat kecewa kepada pihak tiktok akun saya di blokir padahal saya tidak pernah melakukan hal\" aneh dan saya di tiktok cuman Menonton vidio\" orang tidak pernah mengaplod konten tapi tiba\" akun tiktok saya di blokir,,, saya ingin membuat akun baru buat menonton video Tiktok lagi tapi malah g bisa setiap kali mendaftar malah tertulis \" Ups akun kamu sedang di tangguhkan sementara\" kan gak jelas banget pdhl saya di tiktok cuman menonton Vidio orang                                    \n",
              "3   Jujur ni ya gue gak puas banget sama tiktok sekarang kenapa waktu like udah banyak yg nonton udah banyak baru bilang pelanggaran apa apa in nihhh jelek banget tuh komen gue terhadap tiktok nending kalian dowliad yang lain jangan tiktok karna tiktok gak adil sekarang!!!!!!!                                                                                                                                                                                                                         \n",
              "4   Aplikasi Haram!!!!!!!!!!!!!!!!!!!!!!!!! ¡!¡!!!!!!!!!!!!!!!!!!!!!!!!!!!!!!!!!!!!!!!!?!!!!!!!!!!!!!!!!!!!!!!!!!!!!!!!!!!!!!!!!!!!!!!!!!!!!!!!!!!!!!!!!!!!!?!!!!!!!!!!!? Tapi bener                                                                                                                                                                                                                                                                                                                          \n",
              "5   kenapa akun gua ngestuck di 5 menit terus, gua pikir bakalan balik lagi kayak semula pas besoknya, eh ini udah hari ke-3 akun gua stuck di 5 menit. poin gua kaga nambah-nambah padahal gua udah lebih dari sejam liatin video di tiktok. jelek banget                                                                                                                                                                                                                                                    \n",
              "6   Saya mantan petualang hampir seluruh Nusantara Indonesia pernah saya jelajahi kecuali tim-tim dan Papua yg belum saya jamah ternyata sungguh mengagumkan keaneragaman budaya Indonesia yang tidak bisa di nilai dgn uang seni adat budaya harus tetap dijaga agar tidak punah , Indonesia benar2 kaya dgn beragam budaya dan ke indahan alam nya sangat beruntung pengelola periwisata terutama dinas periwisata dan itu harus dilibatkan tokoh budaya dan sei adat setempat agar maksimal tertangani .   \n",
              "7   Saya sebenarnya suka dengan aplikasi ini tapi saya kecewa karna akun tiktok saya di blokir. Padahal saya pengguna baru. Setiap saya menonton video durasi hanya sampai 5 menit tidak bisa lebih. Padahal saya sudah menonton lebih dari 30 menit. Koin juga tidak bertambah. Saya jadi sedih...😭😭😭 Tolong donk buka lagi akun saya. Please......                                                                                                                                                          \n",
              "8   Aplikasi jelek!!!! Masa koin saya gak bertambah, udah nonton video berjam2 malah gak masuk koinnya, udah gitu pas mau di cairkan \"gagal menautkan akun dana 1200008\" asu emang ni aplikasi                                                                                                                                                                                                                                                                                                                \n",
              "9   Apikasi ini jelek,!!!!!!!!!!!!!!!!!!!!!!!!!!!!!!!!!!!!!!!!!!!!!!!!!!!!!!!!!!!!!!!!!!!!!!!!!!!!!!!!!!!!!!!!!!!!!!!!!!!!!!!!!!!!!!!!!!!!!!!!!!!!!!!!!!!!!!!!!                                                                                                                                                                                                                                                                                                                                               \n",
              "10  Dulu saya kasih bintang 5, sekrng saya kasih bintang 1 aja,,karena saldo saya tidak bisa di tarik ,sudah 4 hari,,kalau masih ga bisa di tarik,mungkin saya uninstal aja deh ,,                                                                                                                                                                                                                                                                                                                            \n",
              "11  Tolong dong diperbaiki bug event treats, udah masukin kode susah, klaim hadiahnya juga susah. Poin saya ilang tapi treatsnya malah gak dapet. Kalau gak niat bikin event gak usah bikin sekalian 👎                                                                                                                                                                                                                                                                                                        \n",
              "12  Kepada team tiktok. Sebagai user cape cape ngumpul in referral. Setelah target kenapa penarikan di persulit. Dahulu lancar lancar saja. Saya kecewa. Padahal saldo cuma ratusan ribu. Bukan jutawan. E-mail complain. Feedback di apk. Bahkan disini tidak pernah ada respon sama sekali dri pihak tiktok.                                                                                                                                                                                                \n",
              "13  Akun terblokir ( ga bisa unggah video )...aneh, padahal gw cuma unggah video yg berisikan doa utk saudara saudari gw yg lg susah....sebuah alasan yg tidak msk akal.....                                                                                                                                                                                                                                                                                                                                  \n",
              "14  Saya kok Tiba-tiba di blokir padalan followers aku lo udah 201 aku tidak Ada konten penyiksaan !!!!!!!!!!!!!!!!!!!!!!!!!!!!!!!!!!!!!!!!!!!!!!!!!                                                                                                                                                                                                                                                                                                                                                          \n",
              "15  Kenapa kok terusan aja Diblokir Tik tok aku Kenapa!!!! Kembalikan lagi akun tiktok aku ya plisss 😌. Aku kan gak ngapa -Ngapain tiba tiba di blokir slama nya yok Kembalikan lagi pliss😌🤨🤨                                                                                                                                                                                                                                                                                                                 \n",
              "16  Apelikasi ini jelek sapesampe Mata gua sakit !!!!!!!!!!!!!!!!!!!!!!!!!!!!!!!!!!!!!!!!!!!!!!!!!!!!!!!!!!!!!!!!!!!!!!!!!!!!!!!!!!!!!!!!!!!!!!!!!!!!!!!!!!!!!!!!!!!!!!!!!!!!!!!!!!!!!!!!!!!!!!!!!!!!!!!!!!!!!!!!!!!!!!!!!!!!!!!!!!!!!!!!!!!!!!!!!!!!!!!!!!!!!!!!!!!!!!!!!!!!!!!!!!!!!!!!!!!!tapi boong papalepale                                                                                                                                                                                            \n",
              "17  Maaf ya saya kasih bintang 1(satu) karena setelah di upgrade, saya menonton video cukup lama, tetapi koin tidak bertambah, nanti kalau sudah normal kembali saya tambahkan bintangnya jadi 5(lima) kembali, terimakasih.                                                                                                                                                                                                                                                                                  \n",
              "18  Jelekkk amaattt!!! Saldo aq g bisa ditarik, emangnya ngundang orang,sama nonton video g pake data!!! Awas aja g bisa narik saldo saya ya?!!                                                                                                                                                                                                                                                                                                                                                               \n",
              "19  Kecewa bgt sama tiktok.. kenapa ngadain program reveral klo kode reveralnya gk bisa di pake gara gara tidak lolos kontrol penipuan.. padahal saya tidak curang.. cari pengguna baru itu susah loh.. mending hapus itu program reveral njing..                                                                                                                                                                                                                                                             \n",
              "\n",
              "    sentiment  \n",
              "0   0          \n",
              "1   0          \n",
              "2   0          \n",
              "3   0          \n",
              "4   0          \n",
              "5   0          \n",
              "6   0          \n",
              "7   0          \n",
              "8   0          \n",
              "9   0          \n",
              "10  0          \n",
              "11  0          \n",
              "12  0          \n",
              "13  0          \n",
              "14  0          \n",
              "15  0          \n",
              "16  0          \n",
              "17  0          \n",
              "18  0          \n",
              "19  0          "
            ]
          },
          "metadata": {
            "tags": []
          },
          "execution_count": 15
        }
      ]
    },
    {
      "cell_type": "markdown",
      "metadata": {
        "id": "ig3pcCeszw3c"
      },
      "source": [
        "# Data Cleaning"
      ]
    },
    {
      "cell_type": "code",
      "metadata": {
        "id": "JAMbwTugzy7q",
        "colab": {
          "base_uri": "https://localhost:8080/"
        },
        "outputId": "8c526129-89db-4285-b28c-a6fecfa051fa"
      },
      "source": [
        "!pip install emot\n",
        "!pip install emoji\n",
        "!pip install emoji --upgrade"
      ],
      "execution_count": 16,
      "outputs": [
        {
          "output_type": "stream",
          "text": [
            "Collecting emot\n",
            "  Downloading https://files.pythonhosted.org/packages/49/07/20001ade19873de611b7b66a4d5e5aabbf190d65abea337d5deeaa2bc3de/emot-2.1-py3-none-any.whl\n",
            "Installing collected packages: emot\n",
            "Successfully installed emot-2.1\n",
            "Collecting emoji\n",
            "\u001b[?25l  Downloading https://files.pythonhosted.org/packages/24/fa/b3368f41b95a286f8d300e323449ab4e86b85334c2e0b477e94422b8ed0f/emoji-1.2.0-py3-none-any.whl (131kB)\n",
            "\u001b[K     |████████████████████████████████| 133kB 7.2MB/s \n",
            "\u001b[?25hInstalling collected packages: emoji\n",
            "Successfully installed emoji-1.2.0\n",
            "Requirement already up-to-date: emoji in /usr/local/lib/python3.7/dist-packages (1.2.0)\n"
          ],
          "name": "stdout"
        }
      ]
    },
    {
      "cell_type": "code",
      "metadata": {
        "id": "c7NeLJFZz0oj"
      },
      "source": [
        "import re\n",
        "import string\n",
        "import emoji"
      ],
      "execution_count": 17,
      "outputs": []
    },
    {
      "cell_type": "code",
      "metadata": {
        "id": "e5Hurk4zz2b_"
      },
      "source": [
        "# emoticons removal\n",
        "from emot.emo_unicode import UNICODE_EMO, EMOTICONS\n",
        "def remove_emoticons(text):\n",
        "    emoticon_pattern = re.compile(u'(' + u'|'.join(k for k in EMOTICONS) + u')')\n",
        "    return emoticon_pattern.sub(r'', text)\n",
        "    \n",
        "df['text'] = df['content'].apply(remove_emoticons)"
      ],
      "execution_count": 18,
      "outputs": []
    },
    {
      "cell_type": "code",
      "metadata": {
        "id": "f-ZC2l3Jz40o"
      },
      "source": [
        "# emoji removal ✍ 🌷 📌 👈🏻 🖥\n",
        "def remove_emoji(text):\n",
        "    emoji_pattern = re.compile(\"[\"\n",
        "                           u\"\\U0001F600-\\U0001F64F\"  # emoticons\n",
        "                           u\"\\U0001F300-\\U0001F5FF\"  # symbols & pictographs\n",
        "                           u\"\\U0001F680-\\U0001F6FF\"  # transport & map symbols\n",
        "                           u\"\\U0001F1E0-\\U0001F1FF\"  # flags (iOS)\n",
        "                           u\"\\U00002500-\\U00002BEF\"  # chinese char\n",
        "                           u\"\\U00002702-\\U000027B0\"\n",
        "                           u\"\\U00002702-\\U000027B0\"\n",
        "                           u\"\\U000024C2-\\U0001F251\"\n",
        "                           u\"\\U0001f926-\\U0001f937\"\n",
        "                           u\"\\U00010000-\\U0010ffff\"\n",
        "                           u\"\\u2640-\\u2642\"\n",
        "                           u\"\\u2600-\\u2B55\"\n",
        "                           u\"\\u200d\"\n",
        "                           u\"\\u23cf\"\n",
        "                           u\"\\u23e9\"\n",
        "                           u\"\\u231a\"\n",
        "                           u\"\\ufe0f\"  # dingbats\n",
        "                           u\"\\u3030\"\n",
        "                               #mengonversi data input ke Unicode\n",
        "                           \"]+\", flags=re.UNICODE)\n",
        "    return emoji_pattern.sub(r'', text)\n",
        "\n",
        "df['text'] = df['text'].apply(remove_emoji)"
      ],
      "execution_count": 19,
      "outputs": []
    },
    {
      "cell_type": "code",
      "metadata": {
        "id": "IC2M9zwBz6xe",
        "colab": {
          "base_uri": "https://localhost:8080/",
          "height": 1000
        },
        "outputId": "703e7d43-50dc-4639-fb02-3fff1f7ef8c7"
      },
      "source": [
        "df.head(20)"
      ],
      "execution_count": 20,
      "outputs": [
        {
          "output_type": "execute_result",
          "data": {
            "text/html": [
              "<div>\n",
              "<style scoped>\n",
              "    .dataframe tbody tr th:only-of-type {\n",
              "        vertical-align: middle;\n",
              "    }\n",
              "\n",
              "    .dataframe tbody tr th {\n",
              "        vertical-align: top;\n",
              "    }\n",
              "\n",
              "    .dataframe thead th {\n",
              "        text-align: right;\n",
              "    }\n",
              "</style>\n",
              "<table border=\"1\" class=\"dataframe\">\n",
              "  <thead>\n",
              "    <tr style=\"text-align: right;\">\n",
              "      <th></th>\n",
              "      <th>content</th>\n",
              "      <th>sentiment</th>\n",
              "      <th>text</th>\n",
              "    </tr>\n",
              "  </thead>\n",
              "  <tbody>\n",
              "    <tr>\n",
              "      <th>0</th>\n",
              "      <td>❗🕙🙆👌😨 Aplikasinya sebenarnya bagus..Tp knp skrg sy masuk akun sy hilang, tertulis frekuensi masuk terlalu sering. Apa maksudnya?? Sampai2 sy hapus aplikasi ini trus sy restart hp sy, download kembali tetap seperti itu. Tolong penjelasannya. Sementara sy kasih bintang 1 sebelum semuanya kembali seperti semula.</td>\n",
              "      <td>0</td>\n",
              "      <td>Aplikasinya sebenarnya bagus..Tp knp skrg sy masuk akun sy hilang, tertulis frekuensi masuk terlalu sering. Apa maksudnya?? Sampai2 sy hapus aplikasi ini trus sy restart hp sy, download kembali tetap seperti itu. Tolong penjelasannya. Sementara sy kasih bintang 1 sebelum semuanya kembali seperti semula.</td>\n",
              "    </tr>\n",
              "    <tr>\n",
              "      <th>1</th>\n",
              "      <td>Tolong kepada pihak tiktok, kenapa tiba2 saya tidak bisa masuk tiktok? Padahal kemaren2 masih bisa n Muter2 trus, padahal jaringan wi-fi untuk yg lainnya lancar, kenapa pas masuk tiktok tiba2 wi-fi gabisa di pake/ada tulisan \"tidak ada sinyal\" cpt di perbaiki, kalo sudah nanti aku kasih 5bintang</td>\n",
              "      <td>0</td>\n",
              "      <td>Tolong kepada pihak tiktok, kenapa tiba2 saya tidak bisa masuk tiktok? Padahal kemaren2 masih bisa n Muter2 trus, padahal jaringan wi-fi untuk yg lainnya lancar, kenapa pas masuk tiktok tiba2 wi-fi gabisa di pake/ada tulisan \"tidak ada sinyal\" cpt di perbaiki, kalo sudah nanti aku kasih 5bintang</td>\n",
              "    </tr>\n",
              "    <tr>\n",
              "      <th>2</th>\n",
              "      <td>Saya sangat kecewa kepada pihak tiktok akun saya di blokir padahal saya tidak pernah melakukan hal\" aneh dan saya di tiktok cuman Menonton vidio\" orang tidak pernah mengaplod konten tapi tiba\" akun tiktok saya di blokir,,, saya ingin membuat akun baru buat menonton video Tiktok lagi tapi malah g bisa setiap kali mendaftar malah tertulis \" Ups akun kamu sedang di tangguhkan sementara\" kan gak jelas banget pdhl saya di tiktok cuman menonton Vidio orang</td>\n",
              "      <td>0</td>\n",
              "      <td>Saya sangat kecewa kepada pihak tiktok akun saya di blokir padahal saya tidak pernah melakukan hal\" aneh dan saya di tiktok cuman Menonton vidio\" orang tidak pernah mengaplod konten tapi tiba\" akun tiktok saya di blokir,,, saya ingin membuat akun baru buat menonton video Tiktok lagi tapi malah g bisa setiap kali mendaftar malah tertulis \" Ups akun kamu sedang di tangguhkan sementara\" kan gak jelas banget pdhl saya di tiktok cuman menonton Vidio orang</td>\n",
              "    </tr>\n",
              "    <tr>\n",
              "      <th>3</th>\n",
              "      <td>Jujur ni ya gue gak puas banget sama tiktok sekarang kenapa waktu like udah banyak yg nonton udah banyak baru bilang pelanggaran apa apa in nihhh jelek banget tuh komen gue terhadap tiktok nending kalian dowliad yang lain jangan tiktok karna tiktok gak adil sekarang!!!!!!!</td>\n",
              "      <td>0</td>\n",
              "      <td>Jujur ni ya gue gak puas banget sama tiktok sekarang kenapa waktu like udah banyak yg nonton udah banyak baru bilang pelanggaran apa apa in nihhh jelek banget tuh komen gue terhadap tiktok nending kalian dowliad yang lain jangan tiktok karna tiktok gak adil sekarang!!!!!!!</td>\n",
              "    </tr>\n",
              "    <tr>\n",
              "      <th>4</th>\n",
              "      <td>Aplikasi Haram!!!!!!!!!!!!!!!!!!!!!!!!! ¡!¡!!!!!!!!!!!!!!!!!!!!!!!!!!!!!!!!!!!!!!!!?!!!!!!!!!!!!!!!!!!!!!!!!!!!!!!!!!!!!!!!!!!!!!!!!!!!!!!!!!!!!!!!!!!!!?!!!!!!!!!!!? Tapi bener</td>\n",
              "      <td>0</td>\n",
              "      <td>Aplikasi Haram!!!!!!!!!!!!!!!!!!!!!!!!! ¡!¡!!!!!!!!!!!!!!!!!!!!!!!!!!!!!!!!!!!!!!!!?!!!!!!!!!!!!!!!!!!!!!!!!!!!!!!!!!!!!!!!!!!!!!!!!!!!!!!!!!!!!!!!!!!!!?!!!!!!!!!!!? Tapi bener</td>\n",
              "    </tr>\n",
              "    <tr>\n",
              "      <th>5</th>\n",
              "      <td>kenapa akun gua ngestuck di 5 menit terus, gua pikir bakalan balik lagi kayak semula pas besoknya, eh ini udah hari ke-3 akun gua stuck di 5 menit. poin gua kaga nambah-nambah padahal gua udah lebih dari sejam liatin video di tiktok. jelek banget</td>\n",
              "      <td>0</td>\n",
              "      <td>kenapa akun gua ngestuck di 5 menit terus, gua pikir bakalan balik lagi kayak semula pas besoknya, eh ini udah hari ke-3 akun gua stuck di 5 menit. poin gua kaga nambah-nambah padahal gua udah lebih dari sejam liatin video di tiktok. jelek banget</td>\n",
              "    </tr>\n",
              "    <tr>\n",
              "      <th>6</th>\n",
              "      <td>Saya mantan petualang hampir seluruh Nusantara Indonesia pernah saya jelajahi kecuali tim-tim dan Papua yg belum saya jamah ternyata sungguh mengagumkan keaneragaman budaya Indonesia yang tidak bisa di nilai dgn uang seni adat budaya harus tetap dijaga agar tidak punah , Indonesia benar2 kaya dgn beragam budaya dan ke indahan alam nya sangat beruntung pengelola periwisata terutama dinas periwisata dan itu harus dilibatkan tokoh budaya dan sei adat setempat agar maksimal tertangani .</td>\n",
              "      <td>0</td>\n",
              "      <td>Saya mantan petualang hampir seluruh Nusantara Indonesia pernah saya jelajahi kecuali tim-tim dan Papua yg belum saya jamah ternyata sungguh mengagumkan keaneragaman budaya Indonesia yang tidak bisa di nilai dgn uang seni adat budaya harus tetap dijaga agar tidak punah , Indonesia benar2 kaya dgn beragam budaya dan ke indahan alam nya sangat beruntung pengelola periwisata terutama dinas periwisata dan itu harus dilibatkan tokoh budaya dan sei adat setempat agar maksimal tertangani .</td>\n",
              "    </tr>\n",
              "    <tr>\n",
              "      <th>7</th>\n",
              "      <td>Saya sebenarnya suka dengan aplikasi ini tapi saya kecewa karna akun tiktok saya di blokir. Padahal saya pengguna baru. Setiap saya menonton video durasi hanya sampai 5 menit tidak bisa lebih. Padahal saya sudah menonton lebih dari 30 menit. Koin juga tidak bertambah. Saya jadi sedih...😭😭😭 Tolong donk buka lagi akun saya. Please......</td>\n",
              "      <td>0</td>\n",
              "      <td>Saya sebenarnya suka dengan aplikasi ini tapi saya kecewa karna akun tiktok saya di blokir. Padahal saya pengguna baru. Setiap saya menonton video durasi hanya sampai 5 menit tidak bisa lebih. Padahal saya sudah menonton lebih dari 30 menit. Koin juga tidak bertambah. Saya jadi sedih... Tolong donk buka lagi akun saya. Please......</td>\n",
              "    </tr>\n",
              "    <tr>\n",
              "      <th>8</th>\n",
              "      <td>Aplikasi jelek!!!! Masa koin saya gak bertambah, udah nonton video berjam2 malah gak masuk koinnya, udah gitu pas mau di cairkan \"gagal menautkan akun dana 1200008\" asu emang ni aplikasi</td>\n",
              "      <td>0</td>\n",
              "      <td>Aplikasi jelek!!!! Masa koin saya gak bertambah, udah nonton video berjam2 malah gak masuk koinnya, udah gitu pas mau di cairkan \"gagal menautkan akun dana 1200008\" asu emang ni aplikasi</td>\n",
              "    </tr>\n",
              "    <tr>\n",
              "      <th>9</th>\n",
              "      <td>Apikasi ini jelek,!!!!!!!!!!!!!!!!!!!!!!!!!!!!!!!!!!!!!!!!!!!!!!!!!!!!!!!!!!!!!!!!!!!!!!!!!!!!!!!!!!!!!!!!!!!!!!!!!!!!!!!!!!!!!!!!!!!!!!!!!!!!!!!!!!!!!!!!!</td>\n",
              "      <td>0</td>\n",
              "      <td>Apikasi ini jelek,!!!!!!!!!!!!!!!!!!!!!!!!!!!!!!!!!!!!!!!!!!!!!!!!!!!!!!!!!!!!!!!!!!!!!!!!!!!!!!!!!!!!!!!!!!!!!!!!!!!!!!!!!!!!!!!!!!!!!!!!!!!!!!!!!!!!!!!!!</td>\n",
              "    </tr>\n",
              "    <tr>\n",
              "      <th>10</th>\n",
              "      <td>Dulu saya kasih bintang 5, sekrng saya kasih bintang 1 aja,,karena saldo saya tidak bisa di tarik ,sudah 4 hari,,kalau masih ga bisa di tarik,mungkin saya uninstal aja deh ,,</td>\n",
              "      <td>0</td>\n",
              "      <td>Dulu saya kasih bintang 5, sekrng saya kasih bintang 1 aja,,karena saldo saya tidak bisa di tarik ,sudah 4 hari,,kalau masih ga bisa di tarik,mungkin saya uninstal aja deh ,,</td>\n",
              "    </tr>\n",
              "    <tr>\n",
              "      <th>11</th>\n",
              "      <td>Tolong dong diperbaiki bug event treats, udah masukin kode susah, klaim hadiahnya juga susah. Poin saya ilang tapi treatsnya malah gak dapet. Kalau gak niat bikin event gak usah bikin sekalian 👎</td>\n",
              "      <td>0</td>\n",
              "      <td>Tolong dong diperbaiki bug event treats, udah masukin kode susah, klaim hadiahnya juga susah. Poin saya ilang tapi treatsnya malah gak dapet. Kalau gak niat bikin event gak usah bikin sekalian</td>\n",
              "    </tr>\n",
              "    <tr>\n",
              "      <th>12</th>\n",
              "      <td>Kepada team tiktok. Sebagai user cape cape ngumpul in referral. Setelah target kenapa penarikan di persulit. Dahulu lancar lancar saja. Saya kecewa. Padahal saldo cuma ratusan ribu. Bukan jutawan. E-mail complain. Feedback di apk. Bahkan disini tidak pernah ada respon sama sekali dri pihak tiktok.</td>\n",
              "      <td>0</td>\n",
              "      <td>Kepada team tiktok. Sebagai user cape cape ngumpul in referral. Setelah target kenapa penarikan di persulit. Dahulu lancar lancar saja. Saya kecewa. Padahal saldo cuma ratusan ribu. Bukan jutawan. E-mail complain. Feedback di apk. Bahkan disini tidak pernah ada respon sama sekali dri pihak tiktok.</td>\n",
              "    </tr>\n",
              "    <tr>\n",
              "      <th>13</th>\n",
              "      <td>Akun terblokir ( ga bisa unggah video )...aneh, padahal gw cuma unggah video yg berisikan doa utk saudara saudari gw yg lg susah....sebuah alasan yg tidak msk akal.....</td>\n",
              "      <td>0</td>\n",
              "      <td>Akun terblokir ( ga bisa unggah video ...aneh, padahal gw cuma unggah video yg berisikan doa utk saudara saudari gw yg lg susah....sebuah alasan yg tidak msk akal.....</td>\n",
              "    </tr>\n",
              "    <tr>\n",
              "      <th>14</th>\n",
              "      <td>Saya kok Tiba-tiba di blokir padalan followers aku lo udah 201 aku tidak Ada konten penyiksaan !!!!!!!!!!!!!!!!!!!!!!!!!!!!!!!!!!!!!!!!!!!!!!!!!</td>\n",
              "      <td>0</td>\n",
              "      <td>Saya kok Tiba-tiba di blokir padalan followers aku lo udah 201 aku tidak Ada konten penyiksaan !!!!!!!!!!!!!!!!!!!!!!!!!!!!!!!!!!!!!!!!!!!!!!!!!</td>\n",
              "    </tr>\n",
              "    <tr>\n",
              "      <th>15</th>\n",
              "      <td>Kenapa kok terusan aja Diblokir Tik tok aku Kenapa!!!! Kembalikan lagi akun tiktok aku ya plisss 😌. Aku kan gak ngapa -Ngapain tiba tiba di blokir slama nya yok Kembalikan lagi pliss😌🤨🤨</td>\n",
              "      <td>0</td>\n",
              "      <td>Kenapa kok terusan aja Diblokir Tik tok aku Kenapa!!!! Kembalikan lagi akun tiktok aku ya plisss . Aku kan gak ngapa -Ngapain tiba tiba di blokir slama nya yok Kembalikan lagi pliss</td>\n",
              "    </tr>\n",
              "    <tr>\n",
              "      <th>16</th>\n",
              "      <td>Apelikasi ini jelek sapesampe Mata gua sakit !!!!!!!!!!!!!!!!!!!!!!!!!!!!!!!!!!!!!!!!!!!!!!!!!!!!!!!!!!!!!!!!!!!!!!!!!!!!!!!!!!!!!!!!!!!!!!!!!!!!!!!!!!!!!!!!!!!!!!!!!!!!!!!!!!!!!!!!!!!!!!!!!!!!!!!!!!!!!!!!!!!!!!!!!!!!!!!!!!!!!!!!!!!!!!!!!!!!!!!!!!!!!!!!!!!!!!!!!!!!!!!!!!!!!!!!!!!!tapi boong papalepale</td>\n",
              "      <td>0</td>\n",
              "      <td>Apelikasi ini jelek sapesampe Mata gua sakit !!!!!!!!!!!!!!!!!!!!!!!!!!!!!!!!!!!!!!!!!!!!!!!!!!!!!!!!!!!!!!!!!!!!!!!!!!!!!!!!!!!!!!!!!!!!!!!!!!!!!!!!!!!!!!!!!!!!!!!!!!!!!!!!!!!!!!!!!!!!!!!!!!!!!!!!!!!!!!!!!!!!!!!!!!!!!!!!!!!!!!!!!!!!!!!!!!!!!!!!!!!!!!!!!!!!!!!!!!!!!!!!!!!!!!!!!!!!tapi boong papalepale</td>\n",
              "    </tr>\n",
              "    <tr>\n",
              "      <th>17</th>\n",
              "      <td>Maaf ya saya kasih bintang 1(satu) karena setelah di upgrade, saya menonton video cukup lama, tetapi koin tidak bertambah, nanti kalau sudah normal kembali saya tambahkan bintangnya jadi 5(lima) kembali, terimakasih.</td>\n",
              "      <td>0</td>\n",
              "      <td>Maaf ya saya kasih bintang 1(satu karena setelah di upgrade, saya menonton video cukup lama, tetapi koin tidak bertambah, nanti kalau sudah normal kembali saya tambahkan bintangnya jadi 5(lima kembali, terimakasih.</td>\n",
              "    </tr>\n",
              "    <tr>\n",
              "      <th>18</th>\n",
              "      <td>Jelekkk amaattt!!! Saldo aq g bisa ditarik, emangnya ngundang orang,sama nonton video g pake data!!! Awas aja g bisa narik saldo saya ya?!!</td>\n",
              "      <td>0</td>\n",
              "      <td>Jelekkk amaattt!!! Saldo aq g bisa ditarik, emangnya ngundang orang,sama nonton video g pake data!!! Awas aja g bisa narik saldo saya ya?!!</td>\n",
              "    </tr>\n",
              "    <tr>\n",
              "      <th>19</th>\n",
              "      <td>Kecewa bgt sama tiktok.. kenapa ngadain program reveral klo kode reveralnya gk bisa di pake gara gara tidak lolos kontrol penipuan.. padahal saya tidak curang.. cari pengguna baru itu susah loh.. mending hapus itu program reveral njing..</td>\n",
              "      <td>0</td>\n",
              "      <td>Kecewa bgt sama tiktok.. kenapa ngadain program reveral klo kode reveralnya gk bisa di pake gara gara tidak lolos kontrol penipuan.. padahal saya tidak curang.. cari pengguna baru itu susah loh.. mending hapus itu program reveral njing..</td>\n",
              "    </tr>\n",
              "  </tbody>\n",
              "</table>\n",
              "</div>"
            ],
            "text/plain": [
              "                                                                                                                                                                                                                                                                                                                                                                                                                                                                                                    content  \\\n",
              "0   ❗🕙🙆👌😨 Aplikasinya sebenarnya bagus..Tp knp skrg sy masuk akun sy hilang, tertulis frekuensi masuk terlalu sering. Apa maksudnya?? Sampai2 sy hapus aplikasi ini trus sy restart hp sy, download kembali tetap seperti itu. Tolong penjelasannya. Sementara sy kasih bintang 1 sebelum semuanya kembali seperti semula.                                                                                                                                                                                    \n",
              "1   Tolong kepada pihak tiktok, kenapa tiba2 saya tidak bisa masuk tiktok? Padahal kemaren2 masih bisa n Muter2 trus, padahal jaringan wi-fi untuk yg lainnya lancar, kenapa pas masuk tiktok tiba2 wi-fi gabisa di pake/ada tulisan \"tidak ada sinyal\" cpt di perbaiki, kalo sudah nanti aku kasih 5bintang                                                                                                                                                                                                  \n",
              "2   Saya sangat kecewa kepada pihak tiktok akun saya di blokir padahal saya tidak pernah melakukan hal\" aneh dan saya di tiktok cuman Menonton vidio\" orang tidak pernah mengaplod konten tapi tiba\" akun tiktok saya di blokir,,, saya ingin membuat akun baru buat menonton video Tiktok lagi tapi malah g bisa setiap kali mendaftar malah tertulis \" Ups akun kamu sedang di tangguhkan sementara\" kan gak jelas banget pdhl saya di tiktok cuman menonton Vidio orang                                    \n",
              "3   Jujur ni ya gue gak puas banget sama tiktok sekarang kenapa waktu like udah banyak yg nonton udah banyak baru bilang pelanggaran apa apa in nihhh jelek banget tuh komen gue terhadap tiktok nending kalian dowliad yang lain jangan tiktok karna tiktok gak adil sekarang!!!!!!!                                                                                                                                                                                                                         \n",
              "4   Aplikasi Haram!!!!!!!!!!!!!!!!!!!!!!!!! ¡!¡!!!!!!!!!!!!!!!!!!!!!!!!!!!!!!!!!!!!!!!!?!!!!!!!!!!!!!!!!!!!!!!!!!!!!!!!!!!!!!!!!!!!!!!!!!!!!!!!!!!!!!!!!!!!!?!!!!!!!!!!!? Tapi bener                                                                                                                                                                                                                                                                                                                          \n",
              "5   kenapa akun gua ngestuck di 5 menit terus, gua pikir bakalan balik lagi kayak semula pas besoknya, eh ini udah hari ke-3 akun gua stuck di 5 menit. poin gua kaga nambah-nambah padahal gua udah lebih dari sejam liatin video di tiktok. jelek banget                                                                                                                                                                                                                                                    \n",
              "6   Saya mantan petualang hampir seluruh Nusantara Indonesia pernah saya jelajahi kecuali tim-tim dan Papua yg belum saya jamah ternyata sungguh mengagumkan keaneragaman budaya Indonesia yang tidak bisa di nilai dgn uang seni adat budaya harus tetap dijaga agar tidak punah , Indonesia benar2 kaya dgn beragam budaya dan ke indahan alam nya sangat beruntung pengelola periwisata terutama dinas periwisata dan itu harus dilibatkan tokoh budaya dan sei adat setempat agar maksimal tertangani .   \n",
              "7   Saya sebenarnya suka dengan aplikasi ini tapi saya kecewa karna akun tiktok saya di blokir. Padahal saya pengguna baru. Setiap saya menonton video durasi hanya sampai 5 menit tidak bisa lebih. Padahal saya sudah menonton lebih dari 30 menit. Koin juga tidak bertambah. Saya jadi sedih...😭😭😭 Tolong donk buka lagi akun saya. Please......                                                                                                                                                          \n",
              "8   Aplikasi jelek!!!! Masa koin saya gak bertambah, udah nonton video berjam2 malah gak masuk koinnya, udah gitu pas mau di cairkan \"gagal menautkan akun dana 1200008\" asu emang ni aplikasi                                                                                                                                                                                                                                                                                                                \n",
              "9   Apikasi ini jelek,!!!!!!!!!!!!!!!!!!!!!!!!!!!!!!!!!!!!!!!!!!!!!!!!!!!!!!!!!!!!!!!!!!!!!!!!!!!!!!!!!!!!!!!!!!!!!!!!!!!!!!!!!!!!!!!!!!!!!!!!!!!!!!!!!!!!!!!!!                                                                                                                                                                                                                                                                                                                                               \n",
              "10  Dulu saya kasih bintang 5, sekrng saya kasih bintang 1 aja,,karena saldo saya tidak bisa di tarik ,sudah 4 hari,,kalau masih ga bisa di tarik,mungkin saya uninstal aja deh ,,                                                                                                                                                                                                                                                                                                                            \n",
              "11  Tolong dong diperbaiki bug event treats, udah masukin kode susah, klaim hadiahnya juga susah. Poin saya ilang tapi treatsnya malah gak dapet. Kalau gak niat bikin event gak usah bikin sekalian 👎                                                                                                                                                                                                                                                                                                        \n",
              "12  Kepada team tiktok. Sebagai user cape cape ngumpul in referral. Setelah target kenapa penarikan di persulit. Dahulu lancar lancar saja. Saya kecewa. Padahal saldo cuma ratusan ribu. Bukan jutawan. E-mail complain. Feedback di apk. Bahkan disini tidak pernah ada respon sama sekali dri pihak tiktok.                                                                                                                                                                                                \n",
              "13  Akun terblokir ( ga bisa unggah video )...aneh, padahal gw cuma unggah video yg berisikan doa utk saudara saudari gw yg lg susah....sebuah alasan yg tidak msk akal.....                                                                                                                                                                                                                                                                                                                                  \n",
              "14  Saya kok Tiba-tiba di blokir padalan followers aku lo udah 201 aku tidak Ada konten penyiksaan !!!!!!!!!!!!!!!!!!!!!!!!!!!!!!!!!!!!!!!!!!!!!!!!!                                                                                                                                                                                                                                                                                                                                                          \n",
              "15  Kenapa kok terusan aja Diblokir Tik tok aku Kenapa!!!! Kembalikan lagi akun tiktok aku ya plisss 😌. Aku kan gak ngapa -Ngapain tiba tiba di blokir slama nya yok Kembalikan lagi pliss😌🤨🤨                                                                                                                                                                                                                                                                                                                 \n",
              "16  Apelikasi ini jelek sapesampe Mata gua sakit !!!!!!!!!!!!!!!!!!!!!!!!!!!!!!!!!!!!!!!!!!!!!!!!!!!!!!!!!!!!!!!!!!!!!!!!!!!!!!!!!!!!!!!!!!!!!!!!!!!!!!!!!!!!!!!!!!!!!!!!!!!!!!!!!!!!!!!!!!!!!!!!!!!!!!!!!!!!!!!!!!!!!!!!!!!!!!!!!!!!!!!!!!!!!!!!!!!!!!!!!!!!!!!!!!!!!!!!!!!!!!!!!!!!!!!!!!!!tapi boong papalepale                                                                                                                                                                                            \n",
              "17  Maaf ya saya kasih bintang 1(satu) karena setelah di upgrade, saya menonton video cukup lama, tetapi koin tidak bertambah, nanti kalau sudah normal kembali saya tambahkan bintangnya jadi 5(lima) kembali, terimakasih.                                                                                                                                                                                                                                                                                  \n",
              "18  Jelekkk amaattt!!! Saldo aq g bisa ditarik, emangnya ngundang orang,sama nonton video g pake data!!! Awas aja g bisa narik saldo saya ya?!!                                                                                                                                                                                                                                                                                                                                                               \n",
              "19  Kecewa bgt sama tiktok.. kenapa ngadain program reveral klo kode reveralnya gk bisa di pake gara gara tidak lolos kontrol penipuan.. padahal saya tidak curang.. cari pengguna baru itu susah loh.. mending hapus itu program reveral njing..                                                                                                                                                                                                                                                             \n",
              "\n",
              "    sentiment  \\\n",
              "0   0           \n",
              "1   0           \n",
              "2   0           \n",
              "3   0           \n",
              "4   0           \n",
              "5   0           \n",
              "6   0           \n",
              "7   0           \n",
              "8   0           \n",
              "9   0           \n",
              "10  0           \n",
              "11  0           \n",
              "12  0           \n",
              "13  0           \n",
              "14  0           \n",
              "15  0           \n",
              "16  0           \n",
              "17  0           \n",
              "18  0           \n",
              "19  0           \n",
              "\n",
              "                                                                                                                                                                                                                                                                                                                                                                                                                                                                                                       text  \n",
              "0    Aplikasinya sebenarnya bagus..Tp knp skrg sy masuk akun sy hilang, tertulis frekuensi masuk terlalu sering. Apa maksudnya?? Sampai2 sy hapus aplikasi ini trus sy restart hp sy, download kembali tetap seperti itu. Tolong penjelasannya. Sementara sy kasih bintang 1 sebelum semuanya kembali seperti semula.                                                                                                                                                                                        \n",
              "1   Tolong kepada pihak tiktok, kenapa tiba2 saya tidak bisa masuk tiktok? Padahal kemaren2 masih bisa n Muter2 trus, padahal jaringan wi-fi untuk yg lainnya lancar, kenapa pas masuk tiktok tiba2 wi-fi gabisa di pake/ada tulisan \"tidak ada sinyal\" cpt di perbaiki, kalo sudah nanti aku kasih 5bintang                                                                                                                                                                                                 \n",
              "2   Saya sangat kecewa kepada pihak tiktok akun saya di blokir padahal saya tidak pernah melakukan hal\" aneh dan saya di tiktok cuman Menonton vidio\" orang tidak pernah mengaplod konten tapi tiba\" akun tiktok saya di blokir,,, saya ingin membuat akun baru buat menonton video Tiktok lagi tapi malah g bisa setiap kali mendaftar malah tertulis \" Ups akun kamu sedang di tangguhkan sementara\" kan gak jelas banget pdhl saya di tiktok cuman menonton Vidio orang                                   \n",
              "3   Jujur ni ya gue gak puas banget sama tiktok sekarang kenapa waktu like udah banyak yg nonton udah banyak baru bilang pelanggaran apa apa in nihhh jelek banget tuh komen gue terhadap tiktok nending kalian dowliad yang lain jangan tiktok karna tiktok gak adil sekarang!!!!!!!                                                                                                                                                                                                                        \n",
              "4   Aplikasi Haram!!!!!!!!!!!!!!!!!!!!!!!!! ¡!¡!!!!!!!!!!!!!!!!!!!!!!!!!!!!!!!!!!!!!!!!?!!!!!!!!!!!!!!!!!!!!!!!!!!!!!!!!!!!!!!!!!!!!!!!!!!!!!!!!!!!!!!!!!!!!?!!!!!!!!!!!? Tapi bener                                                                                                                                                                                                                                                                                                                         \n",
              "5   kenapa akun gua ngestuck di 5 menit terus, gua pikir bakalan balik lagi kayak semula pas besoknya, eh ini udah hari ke-3 akun gua stuck di 5 menit. poin gua kaga nambah-nambah padahal gua udah lebih dari sejam liatin video di tiktok. jelek banget                                                                                                                                                                                                                                                   \n",
              "6   Saya mantan petualang hampir seluruh Nusantara Indonesia pernah saya jelajahi kecuali tim-tim dan Papua yg belum saya jamah ternyata sungguh mengagumkan keaneragaman budaya Indonesia yang tidak bisa di nilai dgn uang seni adat budaya harus tetap dijaga agar tidak punah , Indonesia benar2 kaya dgn beragam budaya dan ke indahan alam nya sangat beruntung pengelola periwisata terutama dinas periwisata dan itu harus dilibatkan tokoh budaya dan sei adat setempat agar maksimal tertangani .  \n",
              "7   Saya sebenarnya suka dengan aplikasi ini tapi saya kecewa karna akun tiktok saya di blokir. Padahal saya pengguna baru. Setiap saya menonton video durasi hanya sampai 5 menit tidak bisa lebih. Padahal saya sudah menonton lebih dari 30 menit. Koin juga tidak bertambah. Saya jadi sedih... Tolong donk buka lagi akun saya. Please......                                                                                                                                                            \n",
              "8   Aplikasi jelek!!!! Masa koin saya gak bertambah, udah nonton video berjam2 malah gak masuk koinnya, udah gitu pas mau di cairkan \"gagal menautkan akun dana 1200008\" asu emang ni aplikasi                                                                                                                                                                                                                                                                                                               \n",
              "9   Apikasi ini jelek,!!!!!!!!!!!!!!!!!!!!!!!!!!!!!!!!!!!!!!!!!!!!!!!!!!!!!!!!!!!!!!!!!!!!!!!!!!!!!!!!!!!!!!!!!!!!!!!!!!!!!!!!!!!!!!!!!!!!!!!!!!!!!!!!!!!!!!!!!                                                                                                                                                                                                                                                                                                                                              \n",
              "10  Dulu saya kasih bintang 5, sekrng saya kasih bintang 1 aja,,karena saldo saya tidak bisa di tarik ,sudah 4 hari,,kalau masih ga bisa di tarik,mungkin saya uninstal aja deh ,,                                                                                                                                                                                                                                                                                                                           \n",
              "11  Tolong dong diperbaiki bug event treats, udah masukin kode susah, klaim hadiahnya juga susah. Poin saya ilang tapi treatsnya malah gak dapet. Kalau gak niat bikin event gak usah bikin sekalian                                                                                                                                                                                                                                                                                                         \n",
              "12  Kepada team tiktok. Sebagai user cape cape ngumpul in referral. Setelah target kenapa penarikan di persulit. Dahulu lancar lancar saja. Saya kecewa. Padahal saldo cuma ratusan ribu. Bukan jutawan. E-mail complain. Feedback di apk. Bahkan disini tidak pernah ada respon sama sekali dri pihak tiktok.                                                                                                                                                                                               \n",
              "13  Akun terblokir ( ga bisa unggah video ...aneh, padahal gw cuma unggah video yg berisikan doa utk saudara saudari gw yg lg susah....sebuah alasan yg tidak msk akal.....                                                                                                                                                                                                                                                                                                                                  \n",
              "14  Saya kok Tiba-tiba di blokir padalan followers aku lo udah 201 aku tidak Ada konten penyiksaan !!!!!!!!!!!!!!!!!!!!!!!!!!!!!!!!!!!!!!!!!!!!!!!!!                                                                                                                                                                                                                                                                                                                                                         \n",
              "15  Kenapa kok terusan aja Diblokir Tik tok aku Kenapa!!!! Kembalikan lagi akun tiktok aku ya plisss . Aku kan gak ngapa -Ngapain tiba tiba di blokir slama nya yok Kembalikan lagi pliss                                                                                                                                                                                                                                                                                                                    \n",
              "16  Apelikasi ini jelek sapesampe Mata gua sakit !!!!!!!!!!!!!!!!!!!!!!!!!!!!!!!!!!!!!!!!!!!!!!!!!!!!!!!!!!!!!!!!!!!!!!!!!!!!!!!!!!!!!!!!!!!!!!!!!!!!!!!!!!!!!!!!!!!!!!!!!!!!!!!!!!!!!!!!!!!!!!!!!!!!!!!!!!!!!!!!!!!!!!!!!!!!!!!!!!!!!!!!!!!!!!!!!!!!!!!!!!!!!!!!!!!!!!!!!!!!!!!!!!!!!!!!!!!!tapi boong papalepale                                                                                                                                                                                           \n",
              "17  Maaf ya saya kasih bintang 1(satu karena setelah di upgrade, saya menonton video cukup lama, tetapi koin tidak bertambah, nanti kalau sudah normal kembali saya tambahkan bintangnya jadi 5(lima kembali, terimakasih.                                                                                                                                                                                                                                                                                   \n",
              "18  Jelekkk amaattt!!! Saldo aq g bisa ditarik, emangnya ngundang orang,sama nonton video g pake data!!! Awas aja g bisa narik saldo saya ya?!!                                                                                                                                                                                                                                                                                                                                                              \n",
              "19  Kecewa bgt sama tiktok.. kenapa ngadain program reveral klo kode reveralnya gk bisa di pake gara gara tidak lolos kontrol penipuan.. padahal saya tidak curang.. cari pengguna baru itu susah loh.. mending hapus itu program reveral njing..                                                                                                                                                                                                                                                            "
            ]
          },
          "metadata": {
            "tags": []
          },
          "execution_count": 20
        }
      ]
    },
    {
      "cell_type": "code",
      "metadata": {
        "id": "Y22crmk8z89U"
      },
      "source": [
        "# Fungsi Pre-processing\n",
        "def text_cleaning(text):\n",
        "  text = text.lower()\n",
        "  text = re.sub(r\"@[^\\s]+\", \" \", text)\n",
        "  text = re.sub(r\"http\\S+\", \" \", text)\n",
        "  text = re.sub(r\"#\\S+\", \" \", text)\n",
        "  return text\n",
        "\n",
        "def removePunctuation(strs):\n",
        "    remove = string.punctuation\n",
        "   # remove = remove.replace(\"#\", \"\")\n",
        "    pattern = r\"[{}]\".format(remove)\n",
        "    h = re.sub(pattern, \" \", strs)\n",
        "    return h\n",
        "\n",
        "def replace(strs):\n",
        "    strs = strs.replace('\\\\t',' ').replace('\\\\n',' ').replace('\\\\u',' ').replace('\\\\',' ')\n",
        "    strs = strs.replace('\\n',' ')\n",
        "    strs = strs.replace('\\t','')\n",
        "    strs = strs.replace('rt','')\n",
        "    strs = strs.encode('ascii', 'replace').decode('ascii')\n",
        "    return strs\n",
        "\n",
        "def remove_non_ascii(text): \n",
        "    return ''.join(i for i in text if ord(i)<128) \n",
        "\n",
        "def remove_spasi(strs):\n",
        "    strs = re.sub(\" +\", \" \",strs)\n",
        "    strs = strs.strip()\n",
        "    strs = re.sub(\"\\s+\",\" \", strs)\n",
        "    strs = re.sub(r\"\\b[a-zA-Z]\\b\", \" \", strs)\n",
        "    return strs\n",
        "\n",
        "def remove_single_char(strs):\n",
        "    return re.sub(r\"\\b[a-zA-Z]\\b\", \"\", strs)"
      ],
      "execution_count": 21,
      "outputs": []
    },
    {
      "cell_type": "code",
      "metadata": {
        "id": "jGC-Dvxsz_Pm"
      },
      "source": [
        "### Preprocessing\n",
        "data_reviews = df\n",
        "data_reviews['text'] = [i.lower() for i in df.text] #lower case\n",
        "data_reviews['text'] = [text_cleaning(i) for i in data_reviews.text]\n",
        "data_reviews['text'] = [remove_non_ascii(i) for i in data_reviews.text]\n",
        "data_reviews['text'] = [re.sub(r'http.*','',i) for i in data_reviews.text] #remove link\n",
        "data_reviews['text'] = [removePunctuation(i) for i in data_reviews.text] #remove punc\n",
        "data_reviews['text'] = [replace(j) for j in data_reviews.text] #remove \\n \\t rt\n",
        "data_reviews['text'] = [remove_single_char(j) for j in data_reviews.text]\n",
        "data_reviews['text'] = [remove_spasi(j) for j in data_reviews.text]"
      ],
      "execution_count": 23,
      "outputs": []
    },
    {
      "cell_type": "code",
      "metadata": {
        "id": "lrForJ8W0BOI",
        "colab": {
          "base_uri": "https://localhost:8080/",
          "height": 1000
        },
        "outputId": "c3acd341-b8c6-4087-f3c6-e0a4fd1ecee7"
      },
      "source": [
        "data_reviews.head(20)"
      ],
      "execution_count": 24,
      "outputs": [
        {
          "output_type": "execute_result",
          "data": {
            "text/html": [
              "<div>\n",
              "<style scoped>\n",
              "    .dataframe tbody tr th:only-of-type {\n",
              "        vertical-align: middle;\n",
              "    }\n",
              "\n",
              "    .dataframe tbody tr th {\n",
              "        vertical-align: top;\n",
              "    }\n",
              "\n",
              "    .dataframe thead th {\n",
              "        text-align: right;\n",
              "    }\n",
              "</style>\n",
              "<table border=\"1\" class=\"dataframe\">\n",
              "  <thead>\n",
              "    <tr style=\"text-align: right;\">\n",
              "      <th></th>\n",
              "      <th>content</th>\n",
              "      <th>sentiment</th>\n",
              "      <th>text</th>\n",
              "    </tr>\n",
              "  </thead>\n",
              "  <tbody>\n",
              "    <tr>\n",
              "      <th>0</th>\n",
              "      <td>❗🕙🙆👌😨 Aplikasinya sebenarnya bagus..Tp knp skrg sy masuk akun sy hilang, tertulis frekuensi masuk terlalu sering. Apa maksudnya?? Sampai2 sy hapus aplikasi ini trus sy restart hp sy, download kembali tetap seperti itu. Tolong penjelasannya. Sementara sy kasih bintang 1 sebelum semuanya kembali seperti semula.</td>\n",
              "      <td>0</td>\n",
              "      <td>aplikasinya sebenarnya bagus tp knp skrg sy masuk akun sy hilang teulis frekuensi masuk terlalu sering apa maksudnya sampai2 sy hapus aplikasi ini trus sy resta hp sy download kembali tetap sepei itu tolong penjelasannya sementara sy kasih bintang 1 sebelum semuanya kembali sepei semula</td>\n",
              "    </tr>\n",
              "    <tr>\n",
              "      <th>1</th>\n",
              "      <td>Tolong kepada pihak tiktok, kenapa tiba2 saya tidak bisa masuk tiktok? Padahal kemaren2 masih bisa n Muter2 trus, padahal jaringan wi-fi untuk yg lainnya lancar, kenapa pas masuk tiktok tiba2 wi-fi gabisa di pake/ada tulisan \"tidak ada sinyal\" cpt di perbaiki, kalo sudah nanti aku kasih 5bintang</td>\n",
              "      <td>0</td>\n",
              "      <td>tolong kepada pihak tiktok kenapa tiba2 saya tidak bisa masuk tiktok padahal kemaren2 masih bisa muter2 trus padahal jaringan wi fi untuk yg lainnya lancar kenapa pas masuk tiktok tiba2 wi fi gabisa di pake ada tulisan tidak ada sinyal cpt di perbaiki kalo sudah nanti aku kasih 5bintang</td>\n",
              "    </tr>\n",
              "    <tr>\n",
              "      <th>2</th>\n",
              "      <td>Saya sangat kecewa kepada pihak tiktok akun saya di blokir padahal saya tidak pernah melakukan hal\" aneh dan saya di tiktok cuman Menonton vidio\" orang tidak pernah mengaplod konten tapi tiba\" akun tiktok saya di blokir,,, saya ingin membuat akun baru buat menonton video Tiktok lagi tapi malah g bisa setiap kali mendaftar malah tertulis \" Ups akun kamu sedang di tangguhkan sementara\" kan gak jelas banget pdhl saya di tiktok cuman menonton Vidio orang</td>\n",
              "      <td>0</td>\n",
              "      <td>saya sangat kecewa kepada pihak tiktok akun saya di blokir padahal saya tidak pernah melakukan hal aneh dan saya di tiktok cuman menonton vidio orang tidak pernah mengaplod konten tapi tiba akun tiktok saya di blokir saya ingin membuat akun baru buat menonton video tiktok lagi tapi malah bisa setiap kali mendaftar malah teulis ups akun kamu sedang di tangguhkan sementara kan gak jelas banget pdhl saya di tiktok cuman menonton vidio orang</td>\n",
              "    </tr>\n",
              "    <tr>\n",
              "      <th>3</th>\n",
              "      <td>Jujur ni ya gue gak puas banget sama tiktok sekarang kenapa waktu like udah banyak yg nonton udah banyak baru bilang pelanggaran apa apa in nihhh jelek banget tuh komen gue terhadap tiktok nending kalian dowliad yang lain jangan tiktok karna tiktok gak adil sekarang!!!!!!!</td>\n",
              "      <td>0</td>\n",
              "      <td>jujur ni ya gue gak puas banget sama tiktok sekarang kenapa waktu like udah banyak yg nonton udah banyak baru bilang pelanggaran apa apa in nihhh jelek banget tuh komen gue terhadap tiktok nending kalian dowliad yang lain jangan tiktok karna tiktok gak adil sekarang</td>\n",
              "    </tr>\n",
              "    <tr>\n",
              "      <th>4</th>\n",
              "      <td>Aplikasi Haram!!!!!!!!!!!!!!!!!!!!!!!!! ¡!¡!!!!!!!!!!!!!!!!!!!!!!!!!!!!!!!!!!!!!!!!?!!!!!!!!!!!!!!!!!!!!!!!!!!!!!!!!!!!!!!!!!!!!!!!!!!!!!!!!!!!!!!!!!!!!?!!!!!!!!!!!? Tapi bener</td>\n",
              "      <td>0</td>\n",
              "      <td>aplikasi haram tapi bener</td>\n",
              "    </tr>\n",
              "    <tr>\n",
              "      <th>5</th>\n",
              "      <td>kenapa akun gua ngestuck di 5 menit terus, gua pikir bakalan balik lagi kayak semula pas besoknya, eh ini udah hari ke-3 akun gua stuck di 5 menit. poin gua kaga nambah-nambah padahal gua udah lebih dari sejam liatin video di tiktok. jelek banget</td>\n",
              "      <td>0</td>\n",
              "      <td>kenapa akun gua ngestuck di 5 menit terus gua pikir bakalan balik lagi kayak semula pas besoknya eh ini udah hari ke 3 akun gua stuck di 5 menit poin gua kaga nambah nambah padahal gua udah lebih dari sejam liatin video di tiktok jelek banget</td>\n",
              "    </tr>\n",
              "    <tr>\n",
              "      <th>6</th>\n",
              "      <td>Saya mantan petualang hampir seluruh Nusantara Indonesia pernah saya jelajahi kecuali tim-tim dan Papua yg belum saya jamah ternyata sungguh mengagumkan keaneragaman budaya Indonesia yang tidak bisa di nilai dgn uang seni adat budaya harus tetap dijaga agar tidak punah , Indonesia benar2 kaya dgn beragam budaya dan ke indahan alam nya sangat beruntung pengelola periwisata terutama dinas periwisata dan itu harus dilibatkan tokoh budaya dan sei adat setempat agar maksimal tertangani .</td>\n",
              "      <td>0</td>\n",
              "      <td>saya mantan petualang hampir seluruh nusantara indonesia pernah saya jelajahi kecuali tim tim dan papua yg belum saya jamah ternyata sungguh mengagumkan keaneragaman budaya indonesia yang tidak bisa di nilai dgn uang seni adat budaya harus tetap dijaga agar tidak punah indonesia benar2 kaya dgn beragam budaya dan ke indahan alam nya sangat beruntung pengelola periwisata terutama dinas periwisata dan itu harus dilibatkan tokoh budaya dan sei adat setempat agar maksimal teangani</td>\n",
              "    </tr>\n",
              "    <tr>\n",
              "      <th>7</th>\n",
              "      <td>Saya sebenarnya suka dengan aplikasi ini tapi saya kecewa karna akun tiktok saya di blokir. Padahal saya pengguna baru. Setiap saya menonton video durasi hanya sampai 5 menit tidak bisa lebih. Padahal saya sudah menonton lebih dari 30 menit. Koin juga tidak bertambah. Saya jadi sedih...😭😭😭 Tolong donk buka lagi akun saya. Please......</td>\n",
              "      <td>0</td>\n",
              "      <td>saya sebenarnya suka dengan aplikasi ini tapi saya kecewa karna akun tiktok saya di blokir padahal saya pengguna baru setiap saya menonton video durasi hanya sampai 5 menit tidak bisa lebih padahal saya sudah menonton lebih dari 30 menit koin juga tidak beambah saya jadi sedih tolong donk buka lagi akun saya please</td>\n",
              "    </tr>\n",
              "    <tr>\n",
              "      <th>8</th>\n",
              "      <td>Aplikasi jelek!!!! Masa koin saya gak bertambah, udah nonton video berjam2 malah gak masuk koinnya, udah gitu pas mau di cairkan \"gagal menautkan akun dana 1200008\" asu emang ni aplikasi</td>\n",
              "      <td>0</td>\n",
              "      <td>aplikasi jelek masa koin saya gak beambah udah nonton video berjam2 malah gak masuk koinnya udah gitu pas mau di cairkan gagal menautkan akun dana 1200008 asu emang ni aplikasi</td>\n",
              "    </tr>\n",
              "    <tr>\n",
              "      <th>9</th>\n",
              "      <td>Apikasi ini jelek,!!!!!!!!!!!!!!!!!!!!!!!!!!!!!!!!!!!!!!!!!!!!!!!!!!!!!!!!!!!!!!!!!!!!!!!!!!!!!!!!!!!!!!!!!!!!!!!!!!!!!!!!!!!!!!!!!!!!!!!!!!!!!!!!!!!!!!!!!</td>\n",
              "      <td>0</td>\n",
              "      <td>apikasi ini jelek</td>\n",
              "    </tr>\n",
              "    <tr>\n",
              "      <th>10</th>\n",
              "      <td>Dulu saya kasih bintang 5, sekrng saya kasih bintang 1 aja,,karena saldo saya tidak bisa di tarik ,sudah 4 hari,,kalau masih ga bisa di tarik,mungkin saya uninstal aja deh ,,</td>\n",
              "      <td>0</td>\n",
              "      <td>dulu saya kasih bintang 5 sekrng saya kasih bintang 1 aja karena saldo saya tidak bisa di tarik sudah 4 hari kalau masih ga bisa di tarik mungkin saya uninstal aja deh</td>\n",
              "    </tr>\n",
              "    <tr>\n",
              "      <th>11</th>\n",
              "      <td>Tolong dong diperbaiki bug event treats, udah masukin kode susah, klaim hadiahnya juga susah. Poin saya ilang tapi treatsnya malah gak dapet. Kalau gak niat bikin event gak usah bikin sekalian 👎</td>\n",
              "      <td>0</td>\n",
              "      <td>tolong dong diperbaiki bug event treats udah masukin kode susah klaim hadiahnya juga susah poin saya ilang tapi treatsnya malah gak dapet kalau gak niat bikin event gak usah bikin sekalian</td>\n",
              "    </tr>\n",
              "    <tr>\n",
              "      <th>12</th>\n",
              "      <td>Kepada team tiktok. Sebagai user cape cape ngumpul in referral. Setelah target kenapa penarikan di persulit. Dahulu lancar lancar saja. Saya kecewa. Padahal saldo cuma ratusan ribu. Bukan jutawan. E-mail complain. Feedback di apk. Bahkan disini tidak pernah ada respon sama sekali dri pihak tiktok.</td>\n",
              "      <td>0</td>\n",
              "      <td>kepada team tiktok sebagai user cape cape ngumpul in referral setelah target kenapa penarikan di persulit dahulu lancar lancar saja saya kecewa padahal saldo cuma ratusan ribu bukan jutawan mail complain feedback di apk bahkan disini tidak pernah ada respon sama sekali dri pihak tiktok</td>\n",
              "    </tr>\n",
              "    <tr>\n",
              "      <th>13</th>\n",
              "      <td>Akun terblokir ( ga bisa unggah video )...aneh, padahal gw cuma unggah video yg berisikan doa utk saudara saudari gw yg lg susah....sebuah alasan yg tidak msk akal.....</td>\n",
              "      <td>0</td>\n",
              "      <td>akun terblokir ga bisa unggah video aneh padahal gw cuma unggah video yg berisikan doa utk saudara saudari gw yg lg susah sebuah alasan yg tidak msk akal</td>\n",
              "    </tr>\n",
              "    <tr>\n",
              "      <th>14</th>\n",
              "      <td>Saya kok Tiba-tiba di blokir padalan followers aku lo udah 201 aku tidak Ada konten penyiksaan !!!!!!!!!!!!!!!!!!!!!!!!!!!!!!!!!!!!!!!!!!!!!!!!!</td>\n",
              "      <td>0</td>\n",
              "      <td>saya kok tiba tiba di blokir padalan followers aku lo udah 201 aku tidak ada konten penyiksaan</td>\n",
              "    </tr>\n",
              "    <tr>\n",
              "      <th>15</th>\n",
              "      <td>Kenapa kok terusan aja Diblokir Tik tok aku Kenapa!!!! Kembalikan lagi akun tiktok aku ya plisss 😌. Aku kan gak ngapa -Ngapain tiba tiba di blokir slama nya yok Kembalikan lagi pliss😌🤨🤨</td>\n",
              "      <td>0</td>\n",
              "      <td>kenapa kok terusan aja diblokir tik tok aku kenapa kembalikan lagi akun tiktok aku ya plisss aku kan gak ngapa ngapain tiba tiba di blokir slama nya yok kembalikan lagi pliss</td>\n",
              "    </tr>\n",
              "    <tr>\n",
              "      <th>16</th>\n",
              "      <td>Apelikasi ini jelek sapesampe Mata gua sakit !!!!!!!!!!!!!!!!!!!!!!!!!!!!!!!!!!!!!!!!!!!!!!!!!!!!!!!!!!!!!!!!!!!!!!!!!!!!!!!!!!!!!!!!!!!!!!!!!!!!!!!!!!!!!!!!!!!!!!!!!!!!!!!!!!!!!!!!!!!!!!!!!!!!!!!!!!!!!!!!!!!!!!!!!!!!!!!!!!!!!!!!!!!!!!!!!!!!!!!!!!!!!!!!!!!!!!!!!!!!!!!!!!!!!!!!!!!!tapi boong papalepale</td>\n",
              "      <td>0</td>\n",
              "      <td>apelikasi ini jelek sapesampe mata gua sakit tapi boong papalepale</td>\n",
              "    </tr>\n",
              "    <tr>\n",
              "      <th>17</th>\n",
              "      <td>Maaf ya saya kasih bintang 1(satu) karena setelah di upgrade, saya menonton video cukup lama, tetapi koin tidak bertambah, nanti kalau sudah normal kembali saya tambahkan bintangnya jadi 5(lima) kembali, terimakasih.</td>\n",
              "      <td>0</td>\n",
              "      <td>maaf ya saya kasih bintang 1 satu karena setelah di upgrade saya menonton video cukup lama tetapi koin tidak beambah nanti kalau sudah normal kembali saya tambahkan bintangnya jadi 5 lima kembali terimakasih</td>\n",
              "    </tr>\n",
              "    <tr>\n",
              "      <th>18</th>\n",
              "      <td>Jelekkk amaattt!!! Saldo aq g bisa ditarik, emangnya ngundang orang,sama nonton video g pake data!!! Awas aja g bisa narik saldo saya ya?!!</td>\n",
              "      <td>0</td>\n",
              "      <td>jelekkk amaattt saldo aq bisa ditarik emangnya ngundang orang sama nonton video pake data awas aja bisa narik saldo saya ya</td>\n",
              "    </tr>\n",
              "    <tr>\n",
              "      <th>19</th>\n",
              "      <td>Kecewa bgt sama tiktok.. kenapa ngadain program reveral klo kode reveralnya gk bisa di pake gara gara tidak lolos kontrol penipuan.. padahal saya tidak curang.. cari pengguna baru itu susah loh.. mending hapus itu program reveral njing..</td>\n",
              "      <td>0</td>\n",
              "      <td>kecewa bgt sama tiktok kenapa ngadain program reveral klo kode reveralnya gk bisa di pake gara gara tidak lolos kontrol penipuan padahal saya tidak curang cari pengguna baru itu susah loh mending hapus itu program reveral njing</td>\n",
              "    </tr>\n",
              "  </tbody>\n",
              "</table>\n",
              "</div>"
            ],
            "text/plain": [
              "                                                                                                                                                                                                                                                                                                                                                                                                                                                                                                    content  \\\n",
              "0   ❗🕙🙆👌😨 Aplikasinya sebenarnya bagus..Tp knp skrg sy masuk akun sy hilang, tertulis frekuensi masuk terlalu sering. Apa maksudnya?? Sampai2 sy hapus aplikasi ini trus sy restart hp sy, download kembali tetap seperti itu. Tolong penjelasannya. Sementara sy kasih bintang 1 sebelum semuanya kembali seperti semula.                                                                                                                                                                                    \n",
              "1   Tolong kepada pihak tiktok, kenapa tiba2 saya tidak bisa masuk tiktok? Padahal kemaren2 masih bisa n Muter2 trus, padahal jaringan wi-fi untuk yg lainnya lancar, kenapa pas masuk tiktok tiba2 wi-fi gabisa di pake/ada tulisan \"tidak ada sinyal\" cpt di perbaiki, kalo sudah nanti aku kasih 5bintang                                                                                                                                                                                                  \n",
              "2   Saya sangat kecewa kepada pihak tiktok akun saya di blokir padahal saya tidak pernah melakukan hal\" aneh dan saya di tiktok cuman Menonton vidio\" orang tidak pernah mengaplod konten tapi tiba\" akun tiktok saya di blokir,,, saya ingin membuat akun baru buat menonton video Tiktok lagi tapi malah g bisa setiap kali mendaftar malah tertulis \" Ups akun kamu sedang di tangguhkan sementara\" kan gak jelas banget pdhl saya di tiktok cuman menonton Vidio orang                                    \n",
              "3   Jujur ni ya gue gak puas banget sama tiktok sekarang kenapa waktu like udah banyak yg nonton udah banyak baru bilang pelanggaran apa apa in nihhh jelek banget tuh komen gue terhadap tiktok nending kalian dowliad yang lain jangan tiktok karna tiktok gak adil sekarang!!!!!!!                                                                                                                                                                                                                         \n",
              "4   Aplikasi Haram!!!!!!!!!!!!!!!!!!!!!!!!! ¡!¡!!!!!!!!!!!!!!!!!!!!!!!!!!!!!!!!!!!!!!!!?!!!!!!!!!!!!!!!!!!!!!!!!!!!!!!!!!!!!!!!!!!!!!!!!!!!!!!!!!!!!!!!!!!!!?!!!!!!!!!!!? Tapi bener                                                                                                                                                                                                                                                                                                                          \n",
              "5   kenapa akun gua ngestuck di 5 menit terus, gua pikir bakalan balik lagi kayak semula pas besoknya, eh ini udah hari ke-3 akun gua stuck di 5 menit. poin gua kaga nambah-nambah padahal gua udah lebih dari sejam liatin video di tiktok. jelek banget                                                                                                                                                                                                                                                    \n",
              "6   Saya mantan petualang hampir seluruh Nusantara Indonesia pernah saya jelajahi kecuali tim-tim dan Papua yg belum saya jamah ternyata sungguh mengagumkan keaneragaman budaya Indonesia yang tidak bisa di nilai dgn uang seni adat budaya harus tetap dijaga agar tidak punah , Indonesia benar2 kaya dgn beragam budaya dan ke indahan alam nya sangat beruntung pengelola periwisata terutama dinas periwisata dan itu harus dilibatkan tokoh budaya dan sei adat setempat agar maksimal tertangani .   \n",
              "7   Saya sebenarnya suka dengan aplikasi ini tapi saya kecewa karna akun tiktok saya di blokir. Padahal saya pengguna baru. Setiap saya menonton video durasi hanya sampai 5 menit tidak bisa lebih. Padahal saya sudah menonton lebih dari 30 menit. Koin juga tidak bertambah. Saya jadi sedih...😭😭😭 Tolong donk buka lagi akun saya. Please......                                                                                                                                                          \n",
              "8   Aplikasi jelek!!!! Masa koin saya gak bertambah, udah nonton video berjam2 malah gak masuk koinnya, udah gitu pas mau di cairkan \"gagal menautkan akun dana 1200008\" asu emang ni aplikasi                                                                                                                                                                                                                                                                                                                \n",
              "9   Apikasi ini jelek,!!!!!!!!!!!!!!!!!!!!!!!!!!!!!!!!!!!!!!!!!!!!!!!!!!!!!!!!!!!!!!!!!!!!!!!!!!!!!!!!!!!!!!!!!!!!!!!!!!!!!!!!!!!!!!!!!!!!!!!!!!!!!!!!!!!!!!!!!                                                                                                                                                                                                                                                                                                                                               \n",
              "10  Dulu saya kasih bintang 5, sekrng saya kasih bintang 1 aja,,karena saldo saya tidak bisa di tarik ,sudah 4 hari,,kalau masih ga bisa di tarik,mungkin saya uninstal aja deh ,,                                                                                                                                                                                                                                                                                                                            \n",
              "11  Tolong dong diperbaiki bug event treats, udah masukin kode susah, klaim hadiahnya juga susah. Poin saya ilang tapi treatsnya malah gak dapet. Kalau gak niat bikin event gak usah bikin sekalian 👎                                                                                                                                                                                                                                                                                                        \n",
              "12  Kepada team tiktok. Sebagai user cape cape ngumpul in referral. Setelah target kenapa penarikan di persulit. Dahulu lancar lancar saja. Saya kecewa. Padahal saldo cuma ratusan ribu. Bukan jutawan. E-mail complain. Feedback di apk. Bahkan disini tidak pernah ada respon sama sekali dri pihak tiktok.                                                                                                                                                                                                \n",
              "13  Akun terblokir ( ga bisa unggah video )...aneh, padahal gw cuma unggah video yg berisikan doa utk saudara saudari gw yg lg susah....sebuah alasan yg tidak msk akal.....                                                                                                                                                                                                                                                                                                                                  \n",
              "14  Saya kok Tiba-tiba di blokir padalan followers aku lo udah 201 aku tidak Ada konten penyiksaan !!!!!!!!!!!!!!!!!!!!!!!!!!!!!!!!!!!!!!!!!!!!!!!!!                                                                                                                                                                                                                                                                                                                                                          \n",
              "15  Kenapa kok terusan aja Diblokir Tik tok aku Kenapa!!!! Kembalikan lagi akun tiktok aku ya plisss 😌. Aku kan gak ngapa -Ngapain tiba tiba di blokir slama nya yok Kembalikan lagi pliss😌🤨🤨                                                                                                                                                                                                                                                                                                                 \n",
              "16  Apelikasi ini jelek sapesampe Mata gua sakit !!!!!!!!!!!!!!!!!!!!!!!!!!!!!!!!!!!!!!!!!!!!!!!!!!!!!!!!!!!!!!!!!!!!!!!!!!!!!!!!!!!!!!!!!!!!!!!!!!!!!!!!!!!!!!!!!!!!!!!!!!!!!!!!!!!!!!!!!!!!!!!!!!!!!!!!!!!!!!!!!!!!!!!!!!!!!!!!!!!!!!!!!!!!!!!!!!!!!!!!!!!!!!!!!!!!!!!!!!!!!!!!!!!!!!!!!!!!tapi boong papalepale                                                                                                                                                                                            \n",
              "17  Maaf ya saya kasih bintang 1(satu) karena setelah di upgrade, saya menonton video cukup lama, tetapi koin tidak bertambah, nanti kalau sudah normal kembali saya tambahkan bintangnya jadi 5(lima) kembali, terimakasih.                                                                                                                                                                                                                                                                                  \n",
              "18  Jelekkk amaattt!!! Saldo aq g bisa ditarik, emangnya ngundang orang,sama nonton video g pake data!!! Awas aja g bisa narik saldo saya ya?!!                                                                                                                                                                                                                                                                                                                                                               \n",
              "19  Kecewa bgt sama tiktok.. kenapa ngadain program reveral klo kode reveralnya gk bisa di pake gara gara tidak lolos kontrol penipuan.. padahal saya tidak curang.. cari pengguna baru itu susah loh.. mending hapus itu program reveral njing..                                                                                                                                                                                                                                                             \n",
              "\n",
              "    sentiment  \\\n",
              "0   0           \n",
              "1   0           \n",
              "2   0           \n",
              "3   0           \n",
              "4   0           \n",
              "5   0           \n",
              "6   0           \n",
              "7   0           \n",
              "8   0           \n",
              "9   0           \n",
              "10  0           \n",
              "11  0           \n",
              "12  0           \n",
              "13  0           \n",
              "14  0           \n",
              "15  0           \n",
              "16  0           \n",
              "17  0           \n",
              "18  0           \n",
              "19  0           \n",
              "\n",
              "                                                                                                                                                                                                                                                                                                                                                                                                                                                                                                 text  \n",
              "0   aplikasinya sebenarnya bagus tp knp skrg sy masuk akun sy hilang teulis frekuensi masuk terlalu sering apa maksudnya sampai2 sy hapus aplikasi ini trus sy resta hp sy download kembali tetap sepei itu tolong penjelasannya sementara sy kasih bintang 1 sebelum semuanya kembali sepei semula                                                                                                                                                                                                    \n",
              "1   tolong kepada pihak tiktok kenapa tiba2 saya tidak bisa masuk tiktok padahal kemaren2 masih bisa muter2 trus padahal jaringan wi fi untuk yg lainnya lancar kenapa pas masuk tiktok tiba2 wi fi gabisa di pake ada tulisan tidak ada sinyal cpt di perbaiki kalo sudah nanti aku kasih 5bintang                                                                                                                                                                                                    \n",
              "2   saya sangat kecewa kepada pihak tiktok akun saya di blokir padahal saya tidak pernah melakukan hal aneh dan saya di tiktok cuman menonton vidio orang tidak pernah mengaplod konten tapi tiba akun tiktok saya di blokir saya ingin membuat akun baru buat menonton video tiktok lagi tapi malah bisa setiap kali mendaftar malah teulis ups akun kamu sedang di tangguhkan sementara kan gak jelas banget pdhl saya di tiktok cuman menonton vidio orang                                          \n",
              "3   jujur ni ya gue gak puas banget sama tiktok sekarang kenapa waktu like udah banyak yg nonton udah banyak baru bilang pelanggaran apa apa in nihhh jelek banget tuh komen gue terhadap tiktok nending kalian dowliad yang lain jangan tiktok karna tiktok gak adil sekarang                                                                                                                                                                                                                         \n",
              "4   aplikasi haram tapi bener                                                                                                                                                                                                                                                                                                                                                                                                                                                                          \n",
              "5   kenapa akun gua ngestuck di 5 menit terus gua pikir bakalan balik lagi kayak semula pas besoknya eh ini udah hari ke 3 akun gua stuck di 5 menit poin gua kaga nambah nambah padahal gua udah lebih dari sejam liatin video di tiktok jelek banget                                                                                                                                                                                                                                                 \n",
              "6   saya mantan petualang hampir seluruh nusantara indonesia pernah saya jelajahi kecuali tim tim dan papua yg belum saya jamah ternyata sungguh mengagumkan keaneragaman budaya indonesia yang tidak bisa di nilai dgn uang seni adat budaya harus tetap dijaga agar tidak punah indonesia benar2 kaya dgn beragam budaya dan ke indahan alam nya sangat beruntung pengelola periwisata terutama dinas periwisata dan itu harus dilibatkan tokoh budaya dan sei adat setempat agar maksimal teangani  \n",
              "7   saya sebenarnya suka dengan aplikasi ini tapi saya kecewa karna akun tiktok saya di blokir padahal saya pengguna baru setiap saya menonton video durasi hanya sampai 5 menit tidak bisa lebih padahal saya sudah menonton lebih dari 30 menit koin juga tidak beambah saya jadi sedih tolong donk buka lagi akun saya please                                                                                                                                                                       \n",
              "8   aplikasi jelek masa koin saya gak beambah udah nonton video berjam2 malah gak masuk koinnya udah gitu pas mau di cairkan gagal menautkan akun dana 1200008 asu emang ni aplikasi                                                                                                                                                                                                                                                                                                                   \n",
              "9   apikasi ini jelek                                                                                                                                                                                                                                                                                                                                                                                                                                                                                  \n",
              "10  dulu saya kasih bintang 5 sekrng saya kasih bintang 1 aja karena saldo saya tidak bisa di tarik sudah 4 hari kalau masih ga bisa di tarik mungkin saya uninstal aja deh                                                                                                                                                                                                                                                                                                                            \n",
              "11  tolong dong diperbaiki bug event treats udah masukin kode susah klaim hadiahnya juga susah poin saya ilang tapi treatsnya malah gak dapet kalau gak niat bikin event gak usah bikin sekalian                                                                                                                                                                                                                                                                                                       \n",
              "12  kepada team tiktok sebagai user cape cape ngumpul in referral setelah target kenapa penarikan di persulit dahulu lancar lancar saja saya kecewa padahal saldo cuma ratusan ribu bukan jutawan mail complain feedback di apk bahkan disini tidak pernah ada respon sama sekali dri pihak tiktok                                                                                                                                                                                                     \n",
              "13  akun terblokir ga bisa unggah video aneh padahal gw cuma unggah video yg berisikan doa utk saudara saudari gw yg lg susah sebuah alasan yg tidak msk akal                                                                                                                                                                                                                                                                                                                                          \n",
              "14  saya kok tiba tiba di blokir padalan followers aku lo udah 201 aku tidak ada konten penyiksaan                                                                                                                                                                                                                                                                                                                                                                                                     \n",
              "15  kenapa kok terusan aja diblokir tik tok aku kenapa kembalikan lagi akun tiktok aku ya plisss aku kan gak ngapa ngapain tiba tiba di blokir slama nya yok kembalikan lagi pliss                                                                                                                                                                                                                                                                                                                     \n",
              "16  apelikasi ini jelek sapesampe mata gua sakit tapi boong papalepale                                                                                                                                                                                                                                                                                                                                                                                                                                 \n",
              "17  maaf ya saya kasih bintang 1 satu karena setelah di upgrade saya menonton video cukup lama tetapi koin tidak beambah nanti kalau sudah normal kembali saya tambahkan bintangnya jadi 5 lima kembali terimakasih                                                                                                                                                                                                                                                                                    \n",
              "18  jelekkk amaattt saldo aq bisa ditarik emangnya ngundang orang sama nonton video pake data awas aja bisa narik saldo saya ya                                                                                                                                                                                                                                                                                                                                                                        \n",
              "19  kecewa bgt sama tiktok kenapa ngadain program reveral klo kode reveralnya gk bisa di pake gara gara tidak lolos kontrol penipuan padahal saya tidak curang cari pengguna baru itu susah loh mending hapus itu program reveral njing                                                                                                                                                                                                                                                                "
            ]
          },
          "metadata": {
            "tags": []
          },
          "execution_count": 24
        }
      ]
    },
    {
      "cell_type": "markdown",
      "metadata": {
        "id": "c1liCcYJhFDC"
      },
      "source": [
        "# Export to CSV"
      ]
    },
    {
      "cell_type": "code",
      "metadata": {
        "id": "LKW7LXncgsiI"
      },
      "source": [
        ""
      ],
      "execution_count": null,
      "outputs": []
    }
  ]
}