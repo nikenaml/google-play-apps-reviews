{
  "nbformat": 4,
  "nbformat_minor": 0,
  "metadata": {
    "colab": {
      "name": "text_cleaning_colab.ipynb",
      "provenance": [],
      "collapsed_sections": [],
      "authorship_tag": "ABX9TyNi2tnvJdX9q+BjaK5T/tBB",
      "include_colab_link": true
    },
    "kernelspec": {
      "name": "python3",
      "display_name": "Python 3"
    },
    "language_info": {
      "name": "python"
    }
  },
  "cells": [
    {
      "cell_type": "markdown",
      "metadata": {
        "id": "view-in-github",
        "colab_type": "text"
      },
      "source": [
        "<a href=\"https://colab.research.google.com/github/nikenaml/google-play-apps-reviews/blob/master/text_cleaning_colab.ipynb\" target=\"_parent\"><img src=\"https://colab.research.google.com/assets/colab-badge.svg\" alt=\"Open In Colab\"/></a>"
      ]
    },
    {
      "cell_type": "code",
      "metadata": {
        "id": "5tfVghoazFSH"
      },
      "source": [
        "import transformers\n",
        "from transformers import BertModel, BertTokenizer, AdamW, get_linear_schedule_with_warmup\n",
        "import torch\n",
        "import numpy as np\n",
        "import pandas as pd\n",
        "import seaborn as sns\n",
        "from pylab import rcParams\n",
        "import matplotlib.pyplot as plt\n",
        "from matplotlib import rc\n",
        "from sklearn.model_selection import train_test_split\n",
        "from sklearn.metrics import confusion_matrix, classification_report\n",
        "from collections import defaultdict\n",
        "from textwrap import wrap\n",
        "from torch import nn, optim\n",
        "from torch.utils.data import Dataset, DataLoader\n",
        "\n",
        "%matplotlib inline\n",
        "%config InlineBackend.figure_format='retina'\n",
        "\n",
        "sns.set(style='whitegrid', palette='muted', font_scale=1.2)\n",
        "HAPPY_COLORS_PALETTE = [\"#01BEFE\", \"#FFDD00\", \"#FF7D00\", \"#FF006D\", \"#ADFF02\", \"#8F00FF\"]\n",
        "sns.set_palette(sns.color_palette(HAPPY_COLORS_PALETTE))\n",
        "rcParams['figure.figsize'] = 12, 8\n",
        "\n",
        "RANDOM_SEED = 42\n",
        "np.random.seed(RANDOM_SEED)\n",
        "torch.manual_seed(RANDOM_SEED)\n",
        "device = torch.device(\"cuda:0\" if torch.cuda.is_available() else \"cpu\")"
      ],
      "execution_count": null,
      "outputs": []
    },
    {
      "cell_type": "code",
      "metadata": {
        "id": "JdeFA7GkzLjS"
      },
      "source": [
        "pd.set_option('display.max_columns', None)\n",
        "pd.set_option('display.max_colwidth', -1)\n",
        "pd.set_option('display.max_rows', 2000)"
      ],
      "execution_count": null,
      "outputs": []
    },
    {
      "cell_type": "code",
      "metadata": {
        "id": "4w-tmrQJzMfq"
      },
      "source": [
        "!gdown --id 1rVa7buu3F_Vtq1-c7u9Qauqc679jlcfj\n",
        "!gdown --id 1tMXP9mBk98PCmI0ltmHzNHPrdr46TJkZ\n",
        "!gdown --id 1qJCIoc3RaP4qB_5gODor_VdK48qI9Ijo"
      ],
      "execution_count": null,
      "outputs": []
    },
    {
      "cell_type": "code",
      "metadata": {
        "id": "GP4tEBb5zVQo"
      },
      "source": [
        "df = pd.read_csv('apps_review-trialerror.csv')\n",
        "df.tail(10)"
      ],
      "execution_count": null,
      "outputs": []
    },
    {
      "cell_type": "code",
      "metadata": {
        "id": "_0XRfd7ZzXbG"
      },
      "source": [
        "df.shape"
      ],
      "execution_count": null,
      "outputs": []
    },
    {
      "cell_type": "code",
      "metadata": {
        "id": "s8UKYLhizZJf"
      },
      "source": [
        "df.info()"
      ],
      "execution_count": null,
      "outputs": []
    },
    {
      "cell_type": "code",
      "metadata": {
        "id": "5OSSYOBlza7F"
      },
      "source": [
        "sns.countplot(df.score)\n",
        "plt.xlabel('review score')"
      ],
      "execution_count": null,
      "outputs": []
    },
    {
      "cell_type": "code",
      "metadata": {
        "id": "QeQtq992zc_C"
      },
      "source": [
        "def to_sentiment(rating):\n",
        "    rating = int(rating)\n",
        "    if rating <=2:\n",
        "        return 0\n",
        "    elif rating == 3:\n",
        "        return 1\n",
        "    else: \n",
        "        return 2"
      ],
      "execution_count": null,
      "outputs": []
    },
    {
      "cell_type": "code",
      "metadata": {
        "id": "uVw6YeKazfB6"
      },
      "source": [
        "df['sentiment'] = df.score.apply(to_sentiment)"
      ],
      "execution_count": null,
      "outputs": []
    },
    {
      "cell_type": "code",
      "metadata": {
        "id": "196aEw1MzhWc"
      },
      "source": [
        "class_names = ['negative','neutral','positive']"
      ],
      "execution_count": null,
      "outputs": []
    },
    {
      "cell_type": "code",
      "metadata": {
        "id": "EMXdLdLizi22"
      },
      "source": [
        "ax = sns.countplot(df.sentiment)\n",
        "plt.xlabel('review sentiment')\n",
        "ax.set_xticklabels(class_names);"
      ],
      "execution_count": null,
      "outputs": []
    },
    {
      "cell_type": "code",
      "metadata": {
        "id": "32Ik5lubzqKb"
      },
      "source": [
        "df = df[['content', 'sentiment']]"
      ],
      "execution_count": null,
      "outputs": []
    },
    {
      "cell_type": "code",
      "metadata": {
        "id": "0hYLR042zsmI"
      },
      "source": [
        "df.head(20)"
      ],
      "execution_count": null,
      "outputs": []
    },
    {
      "cell_type": "markdown",
      "metadata": {
        "id": "ig3pcCeszw3c"
      },
      "source": [
        "# Data Cleaning"
      ]
    },
    {
      "cell_type": "code",
      "metadata": {
        "id": "JAMbwTugzy7q"
      },
      "source": [
        "!pip install emot\n",
        "!pip install emoji\n",
        "!pip install emoji --upgrade"
      ],
      "execution_count": null,
      "outputs": []
    },
    {
      "cell_type": "code",
      "metadata": {
        "id": "c7NeLJFZz0oj"
      },
      "source": [
        "import re\n",
        "import string\n",
        "import emoji"
      ],
      "execution_count": null,
      "outputs": []
    },
    {
      "cell_type": "code",
      "metadata": {
        "id": "e5Hurk4zz2b_"
      },
      "source": [
        "# emoticons removal\n",
        "from emot.emo_unicode import UNICODE_EMO, EMOTICONS\n",
        "def remove_emoticons(text):\n",
        "    emoticon_pattern = re.compile(u'(' + u'|'.join(k for k in EMOTICONS) + u')')\n",
        "    return emoticon_pattern.sub(r'', text)\n",
        "    \n",
        "df['text'] = df['content'].apply(remove_emoticons)"
      ],
      "execution_count": null,
      "outputs": []
    },
    {
      "cell_type": "code",
      "metadata": {
        "id": "f-ZC2l3Jz40o"
      },
      "source": [
        "# emoji removal ✍ 🌷 📌 👈🏻 🖥\n",
        "def remove_emoji(text):\n",
        "    emoji_pattern = re.compile(\"[\"\n",
        "                           u\"\\U0001F600-\\U0001F64F\"  # emoticons\n",
        "                           u\"\\U0001F300-\\U0001F5FF\"  # symbols & pictographs\n",
        "                           u\"\\U0001F680-\\U0001F6FF\"  # transport & map symbols\n",
        "                           u\"\\U0001F1E0-\\U0001F1FF\"  # flags (iOS)\n",
        "                           u\"\\U00002500-\\U00002BEF\"  # chinese char\n",
        "                           u\"\\U00002702-\\U000027B0\"\n",
        "                           u\"\\U00002702-\\U000027B0\"\n",
        "                           u\"\\U000024C2-\\U0001F251\"\n",
        "                           u\"\\U0001f926-\\U0001f937\"\n",
        "                           u\"\\U00010000-\\U0010ffff\"\n",
        "                           u\"\\u2640-\\u2642\"\n",
        "                           u\"\\u2600-\\u2B55\"\n",
        "                           u\"\\u200d\"\n",
        "                           u\"\\u23cf\"\n",
        "                           u\"\\u23e9\"\n",
        "                           u\"\\u231a\"\n",
        "                           u\"\\ufe0f\"  # dingbats\n",
        "                           u\"\\u3030\"\n",
        "                               #mengonversi data input ke Unicode\n",
        "                           \"]+\", flags=re.UNICODE)\n",
        "    return emoji_pattern.sub(r'', text)\n",
        "\n",
        "df['text'] = df['text'].apply(remove_emoji)"
      ],
      "execution_count": null,
      "outputs": []
    },
    {
      "cell_type": "code",
      "metadata": {
        "id": "IC2M9zwBz6xe"
      },
      "source": [
        "df.head(20)"
      ],
      "execution_count": null,
      "outputs": []
    },
    {
      "cell_type": "code",
      "metadata": {
        "id": "Y22crmk8z89U"
      },
      "source": [
        "# Fungsi Pre-processing\n",
        "def text_cleaning(text):\n",
        "  text = text.lower()\n",
        "  text = re.sub(r\"@[^\\s]+\", \" \", text)\n",
        "  text = re.sub(r\"http\\S+\", \" \", text)\n",
        "  text = re.sub(r\"#\\S+\", \" \", text)\n",
        "  return text\n",
        "\n",
        "def removePunctuation(strs):\n",
        "    remove = string.punctuation\n",
        "   # remove = remove.replace(\"#\", \"\")\n",
        "    pattern = r\"[{}]\".format(remove)\n",
        "    h = re.sub(pattern, \" \", strs)\n",
        "    return h\n",
        "\n",
        "def replace(strs):\n",
        "    strs = strs.replace('\\\\t',' ').replace('\\\\n',' ').replace('\\\\u',' ').replace('\\\\',' ')\n",
        "    strs = strs.replace('\\n',' ')\n",
        "    strs = strs.replace('\\t','')\n",
        "    strs = strs.replace('rt','')\n",
        "    strs = strs.encode('ascii', 'replace').decode('ascii')\n",
        "    return strs\n",
        "\n",
        "def remove_non_ascii(text): \n",
        "    return ''.join(i for i in text if ord(i)<128) \n",
        "\n",
        "def remove_spasi(strs):\n",
        "    strs = re.sub(\" +\", \" \",strs)\n",
        "    strs = strs.strip()\n",
        "    strs = re.sub(\"\\s+\",\" \", strs)\n",
        "    strs = re.sub(r\"\\b[a-zA-Z]\\b\", \" \", strs)\n",
        "    return strs\n",
        "\n",
        "def remove_single_char(strs):\n",
        "    return re.sub(r\"\\b[a-zA-Z]\\b\", \"\", strs)"
      ],
      "execution_count": null,
      "outputs": []
    },
    {
      "cell_type": "code",
      "metadata": {
        "id": "jGC-Dvxsz_Pm"
      },
      "source": [
        "### Preprocessing\n",
        "# data_reviews = df\n",
        "data_reviews['text'] = [i.lower() for i in df.text] #lower case\n",
        "data_reviews['text'] = [text_cleaning(i) for i in data_reviews.text]\n",
        "data_reviews['text'] = [remove_non_ascii(i) for i in data_reviews.text]\n",
        "data_reviews['text'] = [re.sub(r'http.*','',i) for i in data_reviews.text] #remove link\n",
        "data_reviews['text'] = [removePunctuation(i) for i in data_reviews.text] #remove punc\n",
        "data_reviews['text'] = [replace(j) for j in data_reviews.text] #remove \\n \\t rt\n",
        "data_reviews['text'] = [remove_single_char(j) for j in data_reviews.text]\n",
        "data_reviews['text'] = [remove_spasi(j) for j in data_reviews.text]"
      ],
      "execution_count": null,
      "outputs": []
    },
    {
      "cell_type": "code",
      "metadata": {
        "id": "lrForJ8W0BOI"
      },
      "source": [
        "data_reviews.head(20)"
      ],
      "execution_count": null,
      "outputs": []
    }
  ]
}