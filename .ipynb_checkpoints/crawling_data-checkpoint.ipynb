{
 "cells": [
  {
   "cell_type": "code",
   "execution_count": 1,
   "metadata": {
    "colab": {
     "base_uri": "https://localhost:8080/"
    },
    "id": "bV_b4qs3CUEp",
    "outputId": "b0645e0f-91ba-4540-b67f-947f800d8211"
   },
   "outputs": [],
   "source": [
    "!pip install -qq google-play-scraper"
   ]
  },
  {
   "cell_type": "code",
   "execution_count": 1,
   "metadata": {
    "id": "uPAJNtkuCeI-"
   },
   "outputs": [],
   "source": [
    "import os\n",
    "\n",
    "import json\n",
    "import pandas as pd\n",
    "from tqdm import tqdm\n",
    "\n",
    "import seaborn as sns\n",
    "import matplotlib.pyplot as plt\n",
    "\n",
    "from pygments import highlight\n",
    "from pygments.lexers import JsonLexer\n",
    "from pygments.formatters import TerminalFormatter\n",
    "\n",
    "from google_play_scraper import Sort, reviews, app\n",
    "\n",
    "%matplotlib inline\n",
    "%config InlineBackend.figure_format='retina'\n",
    "\n",
    "sns.set(style='whitegrid', palette='muted', font_scale=1.2)"
   ]
  },
  {
   "cell_type": "code",
   "execution_count": 2,
   "metadata": {
    "id": "D6IltvwqC4An"
   },
   "outputs": [],
   "source": [
    "app_packages = ['com.ss.android.ugc.trill',\n",
    "                'omegle.tv']"
   ]
  },
  {
   "cell_type": "code",
   "execution_count": 3,
   "metadata": {
    "colab": {
     "base_uri": "https://localhost:8080/"
    },
    "id": "KzuxH3QcQCFg",
    "outputId": "f092adbb-d293-4b12-b389-0cbd8d679905"
   },
   "outputs": [
    {
     "name": "stderr",
     "output_type": "stream",
     "text": [
      "100%|████████████████████████████████████████████████████████████████████████████████████| 2/2 [00:24<00:00, 12.17s/it]\n"
     ]
    }
   ],
   "source": [
    "app_infos = []\n",
    "\n",
    "for ap in tqdm(app_packages):\n",
    "    info = app(ap, lang='id', country='id')\n",
    "    del info['comments']\n",
    "    app_infos.append(info)"
   ]
  },
  {
   "cell_type": "code",
   "execution_count": 4,
   "metadata": {
    "id": "aG_-4RV3bbHC"
   },
   "outputs": [],
   "source": [
    "def print_json(json_object):\n",
    "    json_str = json.dumps(\n",
    "        json_object,\n",
    "        indent=2,\n",
    "        sort_keys=True,\n",
    "        default=str\n",
    "    )\n",
    "    \n",
    "    print(highlight(json_str,JsonLexer(),TerminalFormatter()))"
   ]
  },
  {
   "cell_type": "code",
   "execution_count": 5,
   "metadata": {
    "colab": {
     "base_uri": "https://localhost:8080/"
    },
    "id": "ea29ewM5VjG8",
    "outputId": "4f0e8e52-856f-45ed-a027-24fea6686d41"
   },
   "outputs": [
    {
     "name": "stdout",
     "output_type": "stream",
     "text": [
      "{\n",
      "  \u001b[94m\"adSupported\"\u001b[39;49;00m: \u001b[34mnull\u001b[39;49;00m,\n",
      "  \u001b[94m\"androidVersion\"\u001b[39;49;00m: \u001b[33m\"4.4\"\u001b[39;49;00m,\n",
      "  \u001b[94m\"androidVersionText\"\u001b[39;49;00m: \u001b[33m\"4.4 dan yang lebih tinggi\"\u001b[39;49;00m,\n",
      "  \u001b[94m\"appId\"\u001b[39;49;00m: \u001b[33m\"com.ss.android.ugc.trill\"\u001b[39;49;00m,\n",
      "  \u001b[94m\"containsAds\"\u001b[39;49;00m: \u001b[34mfalse\u001b[39;49;00m,\n",
      "  \u001b[94m\"contentRating\"\u001b[39;49;00m: \u001b[33m\"Rating 12+\"\u001b[39;49;00m,\n",
      "  \u001b[94m\"contentRatingDescription\"\u001b[39;49;00m: \u001b[33m\"Disarankan dengan Bimbingan Orang Tua\"\u001b[39;49;00m,\n",
      "  \u001b[94m\"currency\"\u001b[39;49;00m: \u001b[33m\"USD\"\u001b[39;49;00m,\n",
      "  \u001b[94m\"description\"\u001b[39;49;00m: \u001b[33m\"Cuma TikTok pusatnya video kreatif dan viral! Download sekarang!\\r\\n\\r\\nTikTok adalah platform sosial video pendek yang dipadukan dengan musik. Musik untuk tarian, gaya kreatif, ataupun unjuk bakat, para pengguna didorong untuk berimajinasi sebebas-bebasnya dan meluapkan ekspresi mereka dengan bebas. Dirancang untuk generasi kekinian, melalui TikTok kamu dapat membuat video pendek yang unik dengan cepat dan mudah untuk dibagikan dengan teman dan ke seluruh dunia. TikTok adalah gudangnya video viral yang cocok untuk kamu yang berjiwa muda. Kami berusaha untuk memberdayakan lebih banyak pembuat konten kreatif dan berkualitas untuk menjadi bagian dari revolusi konten.\\r\\n\\r\\n[Kualitas Tajam yang Nyata]\\r\\nDiunggah dengan mudah, tampilan yang mulus, dan lacar digunakan. \\r\\nSetiap detail video ditampilkan dalam kualitas yang sempurna. \\r\\n\\r\\n[Studio dalam Genggaman]\\r\\nKolaborasi sempurna antara kecerdasan buatan dan jepretan gambar. \\r\\nMenyempurnakan keunggulan produk melalui sinkronisasi musik, efek spesial, dan teknologi canggih. \\r\\nStudio video kreatif yang menakjubkan sekarang ada digenggamanmu.\\r\\n\\r\\n[Daftar Musik kekinian yang Sangat Lengkap]\\r\\nBawa imajinasi dan kreativitasmu ke tingkat yang lebih tinggi dan masuki dunia baru yang tak terbatas.\"\u001b[39;49;00m,\n",
      "  \u001b[94m\"descriptionHTML\"\u001b[39;49;00m: \u001b[33m\"Cuma TikTok pusatnya video kreatif dan viral! Download sekarang!<br><br>TikTok adalah platform sosial video pendek yang dipadukan dengan musik. Musik untuk tarian, gaya kreatif, ataupun unjuk bakat, para pengguna didorong untuk berimajinasi sebebas-bebasnya dan meluapkan ekspresi mereka dengan bebas. Dirancang untuk generasi kekinian, melalui TikTok kamu dapat membuat video pendek yang unik dengan cepat dan mudah untuk dibagikan dengan teman dan ke seluruh dunia. TikTok adalah gudangnya video viral yang cocok untuk kamu yang berjiwa muda. Kami berusaha untuk memberdayakan lebih banyak pembuat konten kreatif dan berkualitas untuk menjadi bagian dari revolusi konten.<br><br>[Kualitas Tajam yang Nyata]<br>Diunggah dengan mudah, tampilan yang mulus, dan lacar digunakan. <br>Setiap detail video ditampilkan dalam kualitas yang sempurna. <br><br>[Studio dalam Genggaman]<br>Kolaborasi sempurna antara kecerdasan buatan dan jepretan gambar. <br>Menyempurnakan keunggulan produk melalui sinkronisasi musik, efek spesial, dan teknologi canggih. <br>Studio video kreatif yang menakjubkan sekarang ada digenggamanmu.<br><br>[Daftar Musik kekinian yang Sangat Lengkap]<br>Bawa imajinasi dan kreativitasmu ke tingkat yang lebih tinggi dan masuki dunia baru yang tak terbatas.\"\u001b[39;49;00m,\n",
      "  \u001b[94m\"developer\"\u001b[39;49;00m: \u001b[33m\"TikTok Pte. Ltd.\"\u001b[39;49;00m,\n",
      "  \u001b[94m\"developerAddress\"\u001b[39;49;00m: \u001b[33m\"201 Henderson Road,\\n#06-22 Apex@Henderson,\\nSingapore 159545 Singapore\"\u001b[39;49;00m,\n",
      "  \u001b[94m\"developerEmail\"\u001b[39;49;00m: \u001b[33m\"feedback@tiktok.com\"\u001b[39;49;00m,\n",
      "  \u001b[94m\"developerId\"\u001b[39;49;00m: \u001b[33m\"TikTok+Pte.+Ltd.\"\u001b[39;49;00m,\n",
      "  \u001b[94m\"developerInternalID\"\u001b[39;49;00m: \u001b[33m\"8354621850408287155\"\u001b[39;49;00m,\n",
      "  \u001b[94m\"developerWebsite\"\u001b[39;49;00m: \u001b[33m\"https://www.tiktok.com/\"\u001b[39;49;00m,\n",
      "  \u001b[94m\"editorsChoice\"\u001b[39;49;00m: \u001b[34mfalse\u001b[39;49;00m,\n",
      "  \u001b[94m\"free\"\u001b[39;49;00m: \u001b[34mtrue\u001b[39;49;00m,\n",
      "  \u001b[94m\"genre\"\u001b[39;49;00m: \u001b[33m\"Pemutar & Editor Video\"\u001b[39;49;00m,\n",
      "  \u001b[94m\"genreId\"\u001b[39;49;00m: \u001b[33m\"VIDEO_PLAYERS\"\u001b[39;49;00m,\n",
      "  \u001b[94m\"headerImage\"\u001b[39;49;00m: \u001b[33m\"https://play-lh.googleusercontent.com/2wUbbUojGjGfGjt1pqUr_l-t4PTG4tMTgkcUKYXk50ljXMmTVJczsINN9-GUt_DfGdk\"\u001b[39;49;00m,\n",
      "  \u001b[94m\"histogram\"\u001b[39;49;00m: [\n",
      "    \u001b[34m1655423\u001b[39;49;00m,\n",
      "    \u001b[34m198425\u001b[39;49;00m,\n",
      "    \u001b[34m346087\u001b[39;49;00m,\n",
      "    \u001b[34m669853\u001b[39;49;00m,\n",
      "    \u001b[34m7321246\u001b[39;49;00m\n",
      "  ],\n",
      "  \u001b[94m\"icon\"\u001b[39;49;00m: \u001b[33m\"https://play-lh.googleusercontent.com/2kdv4gGWKchMkThhxMYlWlkSouhx6BP50X1b7O7_Yl78fFCitAe3t4hLACuCyC9tsJA\"\u001b[39;49;00m,\n",
      "  \u001b[94m\"inAppProductPrice\"\u001b[39;49;00m: \u001b[33m\"Rp\\u00a011.000,00 - Rp\\u00a01.526.116,00 per item\"\u001b[39;49;00m,\n",
      "  \u001b[94m\"installs\"\u001b[39;49;00m: \u001b[33m\"100.000.000+\"\u001b[39;49;00m,\n",
      "  \u001b[94m\"minInstalls\"\u001b[39;49;00m: \u001b[34m100000000\u001b[39;49;00m,\n",
      "  \u001b[94m\"offersIAP\"\u001b[39;49;00m: \u001b[34mtrue\u001b[39;49;00m,\n",
      "  \u001b[94m\"originalPrice\"\u001b[39;49;00m: \u001b[34mnull\u001b[39;49;00m,\n",
      "  \u001b[94m\"price\"\u001b[39;49;00m: \u001b[34m0\u001b[39;49;00m,\n",
      "  \u001b[94m\"privacyPolicy\"\u001b[39;49;00m: \u001b[33m\"https://www.tiktok.com/legal/privacy-policy\"\u001b[39;49;00m,\n",
      "  \u001b[94m\"ratings\"\u001b[39;49;00m: \u001b[34m10191034\u001b[39;49;00m,\n",
      "  \u001b[94m\"recentChanges\"\u001b[39;49;00m: \u001b[33m\"Dapatkan berbagai efek terbaru dan terbaik.\"\u001b[39;49;00m,\n",
      "  \u001b[94m\"recentChangesHTML\"\u001b[39;49;00m: \u001b[33m\"Dapatkan berbagai efek terbaru dan terbaik.\"\u001b[39;49;00m,\n",
      "  \u001b[94m\"released\"\u001b[39;49;00m: \u001b[33m\"7 Mei 2017\"\u001b[39;49;00m,\n",
      "  \u001b[94m\"reviews\"\u001b[39;49;00m: \u001b[34m4215864\u001b[39;49;00m,\n",
      "  \u001b[94m\"sale\"\u001b[39;49;00m: \u001b[34mfalse\u001b[39;49;00m,\n",
      "  \u001b[94m\"saleText\"\u001b[39;49;00m: \u001b[34mnull\u001b[39;49;00m,\n",
      "  \u001b[94m\"saleTime\"\u001b[39;49;00m: \u001b[34mnull\u001b[39;49;00m,\n",
      "  \u001b[94m\"score\"\u001b[39;49;00m: \u001b[34m4.158182\u001b[39;49;00m,\n",
      "  \u001b[94m\"screenshots\"\u001b[39;49;00m: [\n",
      "    \u001b[33m\"https://play-lh.googleusercontent.com/D1EUFBwtq9ztfkb6mw5RBTg8V6Ez5q73B3eT4TLPSaLwxR47QQnUVAwE5fVkCoQlYlA\"\u001b[39;49;00m,\n",
      "    \u001b[33m\"https://play-lh.googleusercontent.com/1AAfiZqdwneXXsc7uaynbFcZlk6s1f14uXD77idJs7kawbLO6p_teKC9389S5lFcDtI\"\u001b[39;49;00m,\n",
      "    \u001b[33m\"https://play-lh.googleusercontent.com/f7QPNQrxiN7WfNsL_Pq-cZHh0nKfMny042DeCFMJNfKAYs6CbfRqF2dVUHptMX1--jg\"\u001b[39;49;00m,\n",
      "    \u001b[33m\"https://play-lh.googleusercontent.com/zdmGbhLV_-I1_vNBH3ydKa5rrhS2DFktuhoA89BKCymYPkUwW5awdzzSFsS2Z_VyBw\"\u001b[39;49;00m,\n",
      "    \u001b[33m\"https://play-lh.googleusercontent.com/G0v3xECRSnzkdPIAOA0Y0ZEOonimok2bWO7ET7HqvlWMFwW1jIelIBL_-sElYa-6uA\"\u001b[39;49;00m,\n",
      "    \u001b[33m\"https://play-lh.googleusercontent.com/sfNF_X-8G8gs8F3Yf_QEWe8Z3i64LEfiea3AH6BaYaea0GJR8a_Z-pxYx3ScoZGAYg\"\u001b[39;49;00m\n",
      "  ],\n",
      "  \u001b[94m\"size\"\u001b[39;49;00m: \u001b[33m\"92M\"\u001b[39;49;00m,\n",
      "  \u001b[94m\"summary\"\u001b[39;49;00m: \u001b[33m\"Gudangnya Video Lucu Indonesia\"\u001b[39;49;00m,\n",
      "  \u001b[94m\"summaryHTML\"\u001b[39;49;00m: \u001b[33m\"Gudangnya Video Lucu Indonesia\"\u001b[39;49;00m,\n",
      "  \u001b[94m\"title\"\u001b[39;49;00m: \u001b[33m\"TikTok\"\u001b[39;49;00m,\n",
      "  \u001b[94m\"updated\"\u001b[39;49;00m: \u001b[34m1622224208\u001b[39;49;00m,\n",
      "  \u001b[94m\"url\"\u001b[39;49;00m: \u001b[33m\"https://play.google.com/store/apps/details?id=com.ss.android.ugc.trill&hl=id&gl=id\"\u001b[39;49;00m,\n",
      "  \u001b[94m\"version\"\u001b[39;49;00m: \u001b[33m\"19.5.43\"\u001b[39;49;00m,\n",
      "  \u001b[94m\"video\"\u001b[39;49;00m: \u001b[34mnull\u001b[39;49;00m,\n",
      "  \u001b[94m\"videoImage\"\u001b[39;49;00m: \u001b[34mnull\u001b[39;49;00m\n",
      "}\n",
      "\n"
     ]
    }
   ],
   "source": [
    "print_json(app_infos[0])"
   ]
  },
  {
   "cell_type": "code",
   "execution_count": 6,
   "metadata": {
    "colab": {
     "base_uri": "https://localhost:8080/",
     "height": 265
    },
    "id": "0D1WJ9hEbXTV",
    "outputId": "11912aad-d0ee-4fdd-9abe-7503eb1bf0b5"
   },
   "outputs": [
    {
     "data": {
      "image/png": "[encoded data removed]",
      "text/plain": [
       "<Figure size 864x288 with 2 Axes>"
      ]
     },
     "metadata": {
      "image/png": {
       "height": 247,
       "width": 113
      },
      "needs_background": "light"
     },
     "output_type": "display_data"
    }
   ],
   "source": [
    "def format_title(title):\n",
    "    sep_index = title.find(':') if title.find(':') != -1 else title.find('-')\n",
    "    if sep_index != -1:\n",
    "        title = title[:sep_index]\n",
    "    return title[:10]\n",
    "\n",
    "fig, axs = plt.subplots(2, len(app_infos) // 2, figsize=(12, 4))\n",
    "\n",
    "for i, ax in enumerate(axs.flat):\n",
    "    ai = app_infos[i]\n",
    "    img = plt.imread(ai['icon'])\n",
    "    ax.imshow(img)\n",
    "    ax.set_title(format_title(ai['title']))\n",
    "    ax.axis('off')"
   ]
  },
  {
   "cell_type": "code",
   "execution_count": 8,
   "metadata": {
    "colab": {
     "base_uri": "https://localhost:8080/",
     "height": 300
    },
    "id": "lX24P5Y8eh8V",
    "outputId": "694f857c-f4e4-4d15-b432-e7ee8c04c371",
    "scrolled": true
   },
   "outputs": [
    {
     "data": {
      "text/html": [
       "<div>\n",
       "<style scoped>\n",
       "    .dataframe tbody tr th:only-of-type {\n",
       "        vertical-align: middle;\n",
       "    }\n",
       "\n",
       "    .dataframe tbody tr th {\n",
       "        vertical-align: top;\n",
       "    }\n",
       "\n",
       "    .dataframe thead th {\n",
       "        text-align: right;\n",
       "    }\n",
       "</style>\n",
       "<table border=\"1\" class=\"dataframe\">\n",
       "  <thead>\n",
       "    <tr style=\"text-align: right;\">\n",
       "      <th></th>\n",
       "      <th>title</th>\n",
       "      <th>description</th>\n",
       "      <th>descriptionHTML</th>\n",
       "      <th>summary</th>\n",
       "      <th>summaryHTML</th>\n",
       "      <th>installs</th>\n",
       "      <th>minInstalls</th>\n",
       "      <th>score</th>\n",
       "      <th>ratings</th>\n",
       "      <th>reviews</th>\n",
       "      <th>...</th>\n",
       "      <th>adSupported</th>\n",
       "      <th>containsAds</th>\n",
       "      <th>released</th>\n",
       "      <th>updated</th>\n",
       "      <th>version</th>\n",
       "      <th>recentChanges</th>\n",
       "      <th>recentChangesHTML</th>\n",
       "      <th>editorsChoice</th>\n",
       "      <th>appId</th>\n",
       "      <th>url</th>\n",
       "    </tr>\n",
       "  </thead>\n",
       "  <tbody>\n",
       "    <tr>\n",
       "      <th>0</th>\n",
       "      <td>TikTok</td>\n",
       "      <td>Cuma TikTok pusatnya video kreatif dan viral! ...</td>\n",
       "      <td>Cuma TikTok pusatnya video kreatif dan viral! ...</td>\n",
       "      <td>Gudangnya Video Lucu Indonesia</td>\n",
       "      <td>Gudangnya Video Lucu Indonesia</td>\n",
       "      <td>100.000.000+</td>\n",
       "      <td>100000000</td>\n",
       "      <td>4.156960</td>\n",
       "      <td>10186466</td>\n",
       "      <td>4213962</td>\n",
       "      <td>...</td>\n",
       "      <td>None</td>\n",
       "      <td>False</td>\n",
       "      <td>7 Mei 2017</td>\n",
       "      <td>1622224208</td>\n",
       "      <td>19.5.43</td>\n",
       "      <td>Dapatkan berbagai efek terbaru dan terbaik.</td>\n",
       "      <td>Dapatkan berbagai efek terbaru dan terbaik.</td>\n",
       "      <td>False</td>\n",
       "      <td>com.ss.android.ugc.trill</td>\n",
       "      <td>https://play.google.com/store/apps/details?id=...</td>\n",
       "    </tr>\n",
       "    <tr>\n",
       "      <th>1</th>\n",
       "      <td>OmeTV Chat Video - Temui orang baru, dan berteman</td>\n",
       "      <td>Mulai bertemu wajah baru dan berteman di OmeTV...</td>\n",
       "      <td>Mulai bertemu wajah baru dan berteman di OmeTV...</td>\n",
       "      <td>Luncurkan chat video dan buka kesenangan tanpa...</td>\n",
       "      <td>Luncurkan chat video dan buka kesenangan tanpa...</td>\n",
       "      <td>50.000.000+</td>\n",
       "      <td>50000000</td>\n",
       "      <td>4.017658</td>\n",
       "      <td>422669</td>\n",
       "      <td>178297</td>\n",
       "      <td>...</td>\n",
       "      <td>None</td>\n",
       "      <td>False</td>\n",
       "      <td>31 Jul 2015</td>\n",
       "      <td>1621327262</td>\n",
       "      <td>605032</td>\n",
       "      <td>Video chat OmeTV has a brand new look!\\r\\n\\r\\n...</td>\n",
       "      <td>Video chat OmeTV has a brand new look!&lt;br&gt;&lt;br&gt;...</td>\n",
       "      <td>False</td>\n",
       "      <td>omegle.tv</td>\n",
       "      <td>https://play.google.com/store/apps/details?id=...</td>\n",
       "    </tr>\n",
       "  </tbody>\n",
       "</table>\n",
       "<p>2 rows × 49 columns</p>\n",
       "</div>"
      ],
      "text/plain": [
       "                                               title  \\\n",
       "0                                             TikTok   \n",
       "1  OmeTV Chat Video - Temui orang baru, dan berteman   \n",
       "\n",
       "                                         description  \\\n",
       "0  Cuma TikTok pusatnya video kreatif dan viral! ...   \n",
       "1  Mulai bertemu wajah baru dan berteman di OmeTV...   \n",
       "\n",
       "                                     descriptionHTML  \\\n",
       "0  Cuma TikTok pusatnya video kreatif dan viral! ...   \n",
       "1  Mulai bertemu wajah baru dan berteman di OmeTV...   \n",
       "\n",
       "                                             summary  \\\n",
       "0                     Gudangnya Video Lucu Indonesia   \n",
       "1  Luncurkan chat video dan buka kesenangan tanpa...   \n",
       "\n",
       "                                         summaryHTML      installs  \\\n",
       "0                     Gudangnya Video Lucu Indonesia  100.000.000+   \n",
       "1  Luncurkan chat video dan buka kesenangan tanpa...   50.000.000+   \n",
       "\n",
       "   minInstalls     score   ratings  reviews  ... adSupported  containsAds  \\\n",
       "0    100000000  4.156960  10186466  4213962  ...        None        False   \n",
       "1     50000000  4.017658    422669   178297  ...        None        False   \n",
       "\n",
       "      released     updated  version  \\\n",
       "0   7 Mei 2017  1622224208  19.5.43   \n",
       "1  31 Jul 2015  1621327262   605032   \n",
       "\n",
       "                                       recentChanges  \\\n",
       "0        Dapatkan berbagai efek terbaru dan terbaik.   \n",
       "1  Video chat OmeTV has a brand new look!\\r\\n\\r\\n...   \n",
       "\n",
       "                                   recentChangesHTML editorsChoice  \\\n",
       "0        Dapatkan berbagai efek terbaru dan terbaik.         False   \n",
       "1  Video chat OmeTV has a brand new look!<br><br>...         False   \n",
       "\n",
       "                      appId                                                url  \n",
       "0  com.ss.android.ugc.trill  https://play.google.com/store/apps/details?id=...  \n",
       "1                 omegle.tv  https://play.google.com/store/apps/details?id=...  \n",
       "\n",
       "[2 rows x 49 columns]"
      ]
     },
     "execution_count": 8,
     "metadata": {},
     "output_type": "execute_result"
    }
   ],
   "source": [
    "app_infos_df = pd.DataFrame(app_infos)\n",
    "app_infos_df.head()"
   ]
  },
  {
   "cell_type": "markdown",
   "metadata": {},
   "source": [
    "### Save Data"
   ]
  },
  {
   "cell_type": "code",
   "execution_count": 11,
   "metadata": {},
   "outputs": [],
   "source": [
    "os.makedirs(\"data/list_apps/\", exist_ok=True)"
   ]
  },
  {
   "cell_type": "code",
   "execution_count": 12,
   "metadata": {
    "id": "_NcIIcxirnS1"
   },
   "outputs": [],
   "source": [
    "app_infos_df.to_csv('data/list_apps/info_apps.csv', index = None, header=True)"
   ]
  },
  {
   "cell_type": "markdown",
   "metadata": {
    "id": "VPfOrxryy32L"
   },
   "source": [
    "# Get App Reviews"
   ]
  },
  {
   "cell_type": "raw",
   "metadata": {},
   "source": [
    "# no modification\n",
    "app_reviews = []\n",
    "\n",
    "for ap in tqdm(app_packages):\n",
    "    for score in list(range(1, 6)):\n",
    "        for sort_order in [Sort.MOST_RELEVANT, Sort.NEWEST]:\n",
    "            rvs, _ = reviews(\n",
    "                ap,\n",
    "                lang='id',\n",
    "                country='id',\n",
    "                sort=sort_order,\n",
    "                count= 200 if score == 3 else 100,\n",
    "                filter_score_with=score\n",
    "              )\n",
    "            \n",
    "            for r in rvs:\n",
    "                r['sortOrder'] = 'most_relevant' if sort_order == Sort.MOST_RELEVANT else 'newest'\n",
    "                r['appId'] = ap\n",
    "            app_reviews.extend(rvs)"
   ]
  },
  {
   "cell_type": "code",
   "execution_count": 13,
   "metadata": {
    "colab": {
     "base_uri": "https://localhost:8080/"
    },
    "id": "mHKk2gJdy2mv",
    "outputId": "87ce8096-5dd0-4c20-a01f-19f8dce3a3a2"
   },
   "outputs": [
    {
     "name": "stderr",
     "output_type": "stream",
     "text": [
      "100%|████████████████████████████████████████████████████████████████████████████████████| 2/2 [00:34<00:00, 17.31s/it]\n"
     ]
    }
   ],
   "source": [
    "app_reviews = []\n",
    "\n",
    "for ap in tqdm(app_packages):\n",
    "    for score in list(range(1, 6)):\n",
    "        for sort_order in [Sort.MOST_RELEVANT, Sort.RATING, Sort.NEWEST]:\n",
    "            rvs, _ = reviews(\n",
    "                ap,\n",
    "                lang='id',\n",
    "                country='id',\n",
    "                sort=sort_order,\n",
    "                count= 300 if score == 3 else 200,\n",
    "                filter_score_with=score\n",
    "              )\n",
    "            \n",
    "            for r in rvs:\n",
    "                r['sortOrder'] = 'most_relevant' if sort_order == Sort.MOST_RELEVANT else 'rating' if sort_order == Sort.RATING else 'newest'\n",
    "                r['appId'] = ap\n",
    "            app_reviews.extend(rvs)"
   ]
  },
  {
   "cell_type": "code",
   "execution_count": 14,
   "metadata": {
    "colab": {
     "base_uri": "https://localhost:8080/"
    },
    "id": "MmiygJRRwElL",
    "outputId": "2cc2add8-ddd0-4c89-f6fb-302875740966"
   },
   "outputs": [
    {
     "name": "stdout",
     "output_type": "stream",
     "text": [
      "{\n",
      "  \u001b[94m\"appId\"\u001b[39;49;00m: \u001b[33m\"com.ss.android.ugc.trill\"\u001b[39;49;00m,\n",
      "  \u001b[94m\"at\"\u001b[39;49;00m: \u001b[33m\"2021-05-28 13:20:53\"\u001b[39;49;00m,\n",
      "  \u001b[94m\"content\"\u001b[39;49;00m: \u001b[33m\"Aplikasinya sebenarnya bagus..Tp knp skrg sy masuk akun sy hilang, tertulis frekuensi masuk terlalu sering. Apa maksudnya?? Sampai2 sy hapus aplikasi ini trus sy restart hp sy, download kembali tetap seperti itu. Tolong penjelasannya. Sementara sy kasih bintang 1 sebelum semuanya kembali seperti semula.\"\u001b[39;49;00m,\n",
      "  \u001b[94m\"repliedAt\"\u001b[39;49;00m: \u001b[34mnull\u001b[39;49;00m,\n",
      "  \u001b[94m\"replyContent\"\u001b[39;49;00m: \u001b[34mnull\u001b[39;49;00m,\n",
      "  \u001b[94m\"reviewCreatedVersion\"\u001b[39;49;00m: \u001b[33m\"19.5.43\"\u001b[39;49;00m,\n",
      "  \u001b[94m\"reviewId\"\u001b[39;49;00m: \u001b[33m\"gp:AOqpTOEaxCuEU61SHHaTHDs-GydVhgd4rWOIwMDUgatmJAvDFNtYVLljaCMfs3ktQBzYU7roFf_t3-dgPlen1bE\"\u001b[39;49;00m,\n",
      "  \u001b[94m\"score\"\u001b[39;49;00m: \u001b[34m1\u001b[39;49;00m,\n",
      "  \u001b[94m\"sortOrder\"\u001b[39;49;00m: \u001b[33m\"most_relevant\"\u001b[39;49;00m,\n",
      "  \u001b[94m\"thumbsUpCount\"\u001b[39;49;00m: \u001b[34m24\u001b[39;49;00m,\n",
      "  \u001b[94m\"userImage\"\u001b[39;49;00m: \u001b[33m\"https://play-lh.googleusercontent.com/a/AATXAJwMgNzuc9QVAMP8yRdeu2bLKwtO3Z5zrDw_EL27=mo\"\u001b[39;49;00m,\n",
      "  \u001b[94m\"userName\"\u001b[39;49;00m: \u001b[33m\"Dapur Mama Hoshi\"\u001b[39;49;00m\n",
      "}\n",
      "\n"
     ]
    }
   ],
   "source": [
    "print_json(app_reviews[1])"
   ]
  },
  {
   "cell_type": "code",
   "execution_count": 8,
   "metadata": {
    "colab": {
     "base_uri": "https://localhost:8080/"
    },
    "id": "1OT2EL5B1O5I",
    "outputId": "20d11825-e626-40ba-fb35-fdc638f4984c"
   },
   "outputs": [
    {
     "data": {
      "text/plain": [
       "(2400, 12)"
      ]
     },
     "execution_count": 8,
     "metadata": {},
     "output_type": "execute_result"
    }
   ],
   "source": [
    "app_reviews_df = pd.DataFrame(app_reviews)\n",
    "app_reviews_df.shape"
   ]
  },
  {
   "cell_type": "code",
   "execution_count": 9,
   "metadata": {
    "colab": {
     "base_uri": "https://localhost:8080/",
     "height": 393
    },
    "id": "0qAisRnvKFal",
    "outputId": "8ba814c0-697e-4360-9677-5ff37d52a205",
    "scrolled": false
   },
   "outputs": [
    {
     "data": {
      "text/html": [
       "<div>\n",
       "<style scoped>\n",
       "    .dataframe tbody tr th:only-of-type {\n",
       "        vertical-align: middle;\n",
       "    }\n",
       "\n",
       "    .dataframe tbody tr th {\n",
       "        vertical-align: top;\n",
       "    }\n",
       "\n",
       "    .dataframe thead th {\n",
       "        text-align: right;\n",
       "    }\n",
       "</style>\n",
       "<table border=\"1\" class=\"dataframe\">\n",
       "  <thead>\n",
       "    <tr style=\"text-align: right;\">\n",
       "      <th></th>\n",
       "      <th>reviewId</th>\n",
       "      <th>userName</th>\n",
       "      <th>userImage</th>\n",
       "      <th>content</th>\n",
       "      <th>score</th>\n",
       "      <th>thumbsUpCount</th>\n",
       "      <th>reviewCreatedVersion</th>\n",
       "      <th>at</th>\n",
       "      <th>replyContent</th>\n",
       "      <th>repliedAt</th>\n",
       "      <th>sortOrder</th>\n",
       "      <th>appId</th>\n",
       "    </tr>\n",
       "  </thead>\n",
       "  <tbody>\n",
       "    <tr>\n",
       "      <th>0</th>\n",
       "      <td>gp:AOqpTOEaxCuEU61SHHaTHDs-GydVhgd4rWOIwMDUgat...</td>\n",
       "      <td>Dapur Mama Hoshi</td>\n",
       "      <td>https://play-lh.googleusercontent.com/a/AATXAJ...</td>\n",
       "      <td>Aplikasinya sebenarnya bagus..Tp knp skrg sy m...</td>\n",
       "      <td>1</td>\n",
       "      <td>39</td>\n",
       "      <td>19.5.43</td>\n",
       "      <td>2021-05-28 13:20:53</td>\n",
       "      <td>None</td>\n",
       "      <td>NaT</td>\n",
       "      <td>most_relevant</td>\n",
       "      <td>com.ss.android.ugc.trill</td>\n",
       "    </tr>\n",
       "    <tr>\n",
       "      <th>1</th>\n",
       "      <td>gp:AOqpTOFTLjgAcC2zQ2D3ZzHVdnqBqjVgpqXo9h-bdYi...</td>\n",
       "      <td>Luluk Muawalah</td>\n",
       "      <td>https://play-lh.googleusercontent.com/a/AATXAJ...</td>\n",
       "      <td>Tolong kepada pihak tiktok, kenapa tiba2 saya ...</td>\n",
       "      <td>1</td>\n",
       "      <td>23</td>\n",
       "      <td>19.5.43</td>\n",
       "      <td>2021-05-27 23:15:58</td>\n",
       "      <td>None</td>\n",
       "      <td>NaT</td>\n",
       "      <td>most_relevant</td>\n",
       "      <td>com.ss.android.ugc.trill</td>\n",
       "    </tr>\n",
       "    <tr>\n",
       "      <th>2</th>\n",
       "      <td>gp:AOqpTOE6ScCvmXVBy1lRWOkmbYo68Z2dbNwPYF2kvR_...</td>\n",
       "      <td>Marcelino Laoh</td>\n",
       "      <td>https://play-lh.googleusercontent.com/a/AATXAJ...</td>\n",
       "      <td>Saya sangat kecewa kepada pihak tiktok akun sa...</td>\n",
       "      <td>1</td>\n",
       "      <td>8</td>\n",
       "      <td>19.5.43</td>\n",
       "      <td>2021-05-28 20:45:01</td>\n",
       "      <td>None</td>\n",
       "      <td>NaT</td>\n",
       "      <td>most_relevant</td>\n",
       "      <td>com.ss.android.ugc.trill</td>\n",
       "    </tr>\n",
       "    <tr>\n",
       "      <th>3</th>\n",
       "      <td>gp:AOqpTOFkctHg8Z8qjrxGcwAgFyYtCSCxeXkPX7olSS7...</td>\n",
       "      <td>Ni Putu Dian M. Dewi</td>\n",
       "      <td>https://play-lh.googleusercontent.com/a-/AOh14...</td>\n",
       "      <td>Jujur ni ya gue gak puas banget sama tiktok se...</td>\n",
       "      <td>1</td>\n",
       "      <td>6</td>\n",
       "      <td>19.5.43</td>\n",
       "      <td>2021-05-29 07:32:08</td>\n",
       "      <td>None</td>\n",
       "      <td>NaT</td>\n",
       "      <td>most_relevant</td>\n",
       "      <td>com.ss.android.ugc.trill</td>\n",
       "    </tr>\n",
       "    <tr>\n",
       "      <th>4</th>\n",
       "      <td>gp:AOqpTOGVXq7aRXCxIdeYO7Gs09rbtiZEqSbgfRyjmNW...</td>\n",
       "      <td>Aat Safaat</td>\n",
       "      <td>https://play-lh.googleusercontent.com/a-/AOh14...</td>\n",
       "      <td>Aplikasi Haram!!!!!!!!!!!!!!!!!!!!!!!!! ¡!¡!!!...</td>\n",
       "      <td>1</td>\n",
       "      <td>3</td>\n",
       "      <td>19.5.43</td>\n",
       "      <td>2021-05-28 16:15:16</td>\n",
       "      <td>None</td>\n",
       "      <td>NaT</td>\n",
       "      <td>most_relevant</td>\n",
       "      <td>com.ss.android.ugc.trill</td>\n",
       "    </tr>\n",
       "  </tbody>\n",
       "</table>\n",
       "</div>"
      ],
      "text/plain": [
       "                                            reviewId              userName  \\\n",
       "0  gp:AOqpTOEaxCuEU61SHHaTHDs-GydVhgd4rWOIwMDUgat...      Dapur Mama Hoshi   \n",
       "1  gp:AOqpTOFTLjgAcC2zQ2D3ZzHVdnqBqjVgpqXo9h-bdYi...        Luluk Muawalah   \n",
       "2  gp:AOqpTOE6ScCvmXVBy1lRWOkmbYo68Z2dbNwPYF2kvR_...        Marcelino Laoh   \n",
       "3  gp:AOqpTOFkctHg8Z8qjrxGcwAgFyYtCSCxeXkPX7olSS7...  Ni Putu Dian M. Dewi   \n",
       "4  gp:AOqpTOGVXq7aRXCxIdeYO7Gs09rbtiZEqSbgfRyjmNW...            Aat Safaat   \n",
       "\n",
       "                                           userImage  \\\n",
       "0  https://play-lh.googleusercontent.com/a/AATXAJ...   \n",
       "1  https://play-lh.googleusercontent.com/a/AATXAJ...   \n",
       "2  https://play-lh.googleusercontent.com/a/AATXAJ...   \n",
       "3  https://play-lh.googleusercontent.com/a-/AOh14...   \n",
       "4  https://play-lh.googleusercontent.com/a-/AOh14...   \n",
       "\n",
       "                                             content  score  thumbsUpCount  \\\n",
       "0  Aplikasinya sebenarnya bagus..Tp knp skrg sy m...      1             39   \n",
       "1  Tolong kepada pihak tiktok, kenapa tiba2 saya ...      1             23   \n",
       "2  Saya sangat kecewa kepada pihak tiktok akun sa...      1              8   \n",
       "3  Jujur ni ya gue gak puas banget sama tiktok se...      1              6   \n",
       "4  Aplikasi Haram!!!!!!!!!!!!!!!!!!!!!!!!! ¡!¡!!!...      1              3   \n",
       "\n",
       "  reviewCreatedVersion                  at replyContent repliedAt  \\\n",
       "0              19.5.43 2021-05-28 13:20:53         None       NaT   \n",
       "1              19.5.43 2021-05-27 23:15:58         None       NaT   \n",
       "2              19.5.43 2021-05-28 20:45:01         None       NaT   \n",
       "3              19.5.43 2021-05-29 07:32:08         None       NaT   \n",
       "4              19.5.43 2021-05-28 16:15:16         None       NaT   \n",
       "\n",
       "       sortOrder                     appId  \n",
       "0  most_relevant  com.ss.android.ugc.trill  \n",
       "1  most_relevant  com.ss.android.ugc.trill  \n",
       "2  most_relevant  com.ss.android.ugc.trill  \n",
       "3  most_relevant  com.ss.android.ugc.trill  \n",
       "4  most_relevant  com.ss.android.ugc.trill  "
      ]
     },
     "execution_count": 9,
     "metadata": {},
     "output_type": "execute_result"
    }
   ],
   "source": [
    "app_reviews_df.head()"
   ]
  },
  {
   "cell_type": "raw",
   "metadata": {},
   "source": [
    "# just try\n",
    "\n",
    "app_reviews_df.to_csv('data/review_apps/apps_review_join.csv', index = None, header=True)"
   ]
  },
  {
   "cell_type": "markdown",
   "metadata": {},
   "source": [
    "#### Filter column values"
   ]
  },
  {
   "cell_type": "code",
   "execution_count": 17,
   "metadata": {
    "colab": {
     "base_uri": "https://localhost:8080/"
    },
    "id": "02sCxtmmL-tO",
    "outputId": "bb30e2ea-010e-4724-f7b1-7f9e18787be9"
   },
   "outputs": [
    {
     "data": {
      "text/html": [
       "<div>\n",
       "<style scoped>\n",
       "    .dataframe tbody tr th:only-of-type {\n",
       "        vertical-align: middle;\n",
       "    }\n",
       "\n",
       "    .dataframe tbody tr th {\n",
       "        vertical-align: top;\n",
       "    }\n",
       "\n",
       "    .dataframe thead th {\n",
       "        text-align: right;\n",
       "    }\n",
       "</style>\n",
       "<table border=\"1\" class=\"dataframe\">\n",
       "  <thead>\n",
       "    <tr style=\"text-align: right;\">\n",
       "      <th></th>\n",
       "      <th>reviewId</th>\n",
       "      <th>userName</th>\n",
       "      <th>userImage</th>\n",
       "      <th>content</th>\n",
       "      <th>score</th>\n",
       "      <th>thumbsUpCount</th>\n",
       "      <th>reviewCreatedVersion</th>\n",
       "      <th>at</th>\n",
       "      <th>replyContent</th>\n",
       "      <th>repliedAt</th>\n",
       "      <th>sortOrder</th>\n",
       "      <th>appId</th>\n",
       "    </tr>\n",
       "  </thead>\n",
       "  <tbody>\n",
       "    <tr>\n",
       "      <th>0</th>\n",
       "      <td>gp:AOqpTOGihtvZ-ONGczSX6Bat3d_j4jhSTrVIFoq8FaV...</td>\n",
       "      <td>Mahfi Gaming</td>\n",
       "      <td>https://play-lh.googleusercontent.com/a-/AOh14...</td>\n",
       "      <td>Jelek banget!!!!!!!!!!!!!!!!!!!!!!!!!!!!!!!!!!...</td>\n",
       "      <td>1</td>\n",
       "      <td>192</td>\n",
       "      <td>19.5.43</td>\n",
       "      <td>2021-05-28 11:02:18</td>\n",
       "      <td>None</td>\n",
       "      <td>NaT</td>\n",
       "      <td>most_relevant</td>\n",
       "      <td>com.ss.android.ugc.trill</td>\n",
       "    </tr>\n",
       "    <tr>\n",
       "      <th>1</th>\n",
       "      <td>gp:AOqpTOEaxCuEU61SHHaTHDs-GydVhgd4rWOIwMDUgat...</td>\n",
       "      <td>Dapur Mama Hoshi</td>\n",
       "      <td>https://play-lh.googleusercontent.com/a/AATXAJ...</td>\n",
       "      <td>Aplikasinya sebenarnya bagus..Tp knp skrg sy m...</td>\n",
       "      <td>1</td>\n",
       "      <td>24</td>\n",
       "      <td>19.5.43</td>\n",
       "      <td>2021-05-28 13:20:53</td>\n",
       "      <td>None</td>\n",
       "      <td>NaT</td>\n",
       "      <td>most_relevant</td>\n",
       "      <td>com.ss.android.ugc.trill</td>\n",
       "    </tr>\n",
       "    <tr>\n",
       "      <th>2</th>\n",
       "      <td>gp:AOqpTOGIaTrCt7nX7RpQDHD0BDzlVfTJ32H2IjlClF5...</td>\n",
       "      <td>sandal jepit</td>\n",
       "      <td>https://play-lh.googleusercontent.com/a-/AOh14...</td>\n",
       "      <td>maaf kenapa ya 2 hari ini tiktok saya tidak bi...</td>\n",
       "      <td>1</td>\n",
       "      <td>43</td>\n",
       "      <td>19.5.43</td>\n",
       "      <td>2021-05-28 12:49:08</td>\n",
       "      <td>None</td>\n",
       "      <td>NaT</td>\n",
       "      <td>most_relevant</td>\n",
       "      <td>com.ss.android.ugc.trill</td>\n",
       "    </tr>\n",
       "    <tr>\n",
       "      <th>3</th>\n",
       "      <td>gp:AOqpTOFTLjgAcC2zQ2D3ZzHVdnqBqjVgpqXo9h-bdYi...</td>\n",
       "      <td>Luluk Muawalah</td>\n",
       "      <td>https://play-lh.googleusercontent.com/a/AATXAJ...</td>\n",
       "      <td>Tolong kepada pihak tiktok, kenapa tiba2 saya ...</td>\n",
       "      <td>1</td>\n",
       "      <td>15</td>\n",
       "      <td>19.5.43</td>\n",
       "      <td>2021-05-27 23:15:58</td>\n",
       "      <td>None</td>\n",
       "      <td>NaT</td>\n",
       "      <td>most_relevant</td>\n",
       "      <td>com.ss.android.ugc.trill</td>\n",
       "    </tr>\n",
       "    <tr>\n",
       "      <th>4</th>\n",
       "      <td>gp:AOqpTOFCx2Bt2zzWrSlnBZ_khNHj49hEiBjA-hKNzlI...</td>\n",
       "      <td>Irpan Resmana</td>\n",
       "      <td>https://play-lh.googleusercontent.com/a-/AOh14...</td>\n",
       "      <td>Apk gk guna... Kenapa setiap orang memasukkan ...</td>\n",
       "      <td>1</td>\n",
       "      <td>31</td>\n",
       "      <td>19.5.43</td>\n",
       "      <td>2021-05-28 10:28:32</td>\n",
       "      <td>None</td>\n",
       "      <td>NaT</td>\n",
       "      <td>most_relevant</td>\n",
       "      <td>com.ss.android.ugc.trill</td>\n",
       "    </tr>\n",
       "  </tbody>\n",
       "</table>\n",
       "</div>"
      ],
      "text/plain": [
       "                                            reviewId          userName  \\\n",
       "0  gp:AOqpTOGihtvZ-ONGczSX6Bat3d_j4jhSTrVIFoq8FaV...      Mahfi Gaming   \n",
       "1  gp:AOqpTOEaxCuEU61SHHaTHDs-GydVhgd4rWOIwMDUgat...  Dapur Mama Hoshi   \n",
       "2  gp:AOqpTOGIaTrCt7nX7RpQDHD0BDzlVfTJ32H2IjlClF5...      sandal jepit   \n",
       "3  gp:AOqpTOFTLjgAcC2zQ2D3ZzHVdnqBqjVgpqXo9h-bdYi...    Luluk Muawalah   \n",
       "4  gp:AOqpTOFCx2Bt2zzWrSlnBZ_khNHj49hEiBjA-hKNzlI...     Irpan Resmana   \n",
       "\n",
       "                                           userImage  \\\n",
       "0  https://play-lh.googleusercontent.com/a-/AOh14...   \n",
       "1  https://play-lh.googleusercontent.com/a/AATXAJ...   \n",
       "2  https://play-lh.googleusercontent.com/a-/AOh14...   \n",
       "3  https://play-lh.googleusercontent.com/a/AATXAJ...   \n",
       "4  https://play-lh.googleusercontent.com/a-/AOh14...   \n",
       "\n",
       "                                             content  score  thumbsUpCount  \\\n",
       "0  Jelek banget!!!!!!!!!!!!!!!!!!!!!!!!!!!!!!!!!!...      1            192   \n",
       "1  Aplikasinya sebenarnya bagus..Tp knp skrg sy m...      1             24   \n",
       "2  maaf kenapa ya 2 hari ini tiktok saya tidak bi...      1             43   \n",
       "3  Tolong kepada pihak tiktok, kenapa tiba2 saya ...      1             15   \n",
       "4  Apk gk guna... Kenapa setiap orang memasukkan ...      1             31   \n",
       "\n",
       "  reviewCreatedVersion                  at replyContent repliedAt  \\\n",
       "0              19.5.43 2021-05-28 11:02:18         None       NaT   \n",
       "1              19.5.43 2021-05-28 13:20:53         None       NaT   \n",
       "2              19.5.43 2021-05-28 12:49:08         None       NaT   \n",
       "3              19.5.43 2021-05-27 23:15:58         None       NaT   \n",
       "4              19.5.43 2021-05-28 10:28:32         None       NaT   \n",
       "\n",
       "       sortOrder                     appId  \n",
       "0  most_relevant  com.ss.android.ugc.trill  \n",
       "1  most_relevant  com.ss.android.ugc.trill  \n",
       "2  most_relevant  com.ss.android.ugc.trill  \n",
       "3  most_relevant  com.ss.android.ugc.trill  \n",
       "4  most_relevant  com.ss.android.ugc.trill  "
      ]
     },
     "execution_count": 17,
     "metadata": {},
     "output_type": "execute_result"
    }
   ],
   "source": [
    "# Filter column values\n",
    "appdf_most_relevant = app_reviews_df[app_reviews_df.sortOrder.isin([\"most_relevant\"])]\n",
    "appdf_most_relevant.head()"
   ]
  },
  {
   "cell_type": "code",
   "execution_count": 18,
   "metadata": {},
   "outputs": [
    {
     "data": {
      "text/plain": [
       "(2200, 12)"
      ]
     },
     "execution_count": 18,
     "metadata": {},
     "output_type": "execute_result"
    }
   ],
   "source": [
    "appdf_most_relevant.shape"
   ]
  },
  {
   "cell_type": "markdown",
   "metadata": {
    "id": "lT0Lo6b1H6Lx"
   },
   "source": []
  },
  {
   "cell_type": "markdown",
   "metadata": {},
   "source": [
    "#### check filter each keyword"
   ]
  },
  {
   "cell_type": "code",
   "execution_count": 19,
   "metadata": {},
   "outputs": [
    {
     "data": {
      "text/html": [
       "<div>\n",
       "<style scoped>\n",
       "    .dataframe tbody tr th:only-of-type {\n",
       "        vertical-align: middle;\n",
       "    }\n",
       "\n",
       "    .dataframe tbody tr th {\n",
       "        vertical-align: top;\n",
       "    }\n",
       "\n",
       "    .dataframe thead th {\n",
       "        text-align: right;\n",
       "    }\n",
       "</style>\n",
       "<table border=\"1\" class=\"dataframe\">\n",
       "  <thead>\n",
       "    <tr style=\"text-align: right;\">\n",
       "      <th></th>\n",
       "      <th>reviewId</th>\n",
       "      <th>userName</th>\n",
       "      <th>userImage</th>\n",
       "      <th>content</th>\n",
       "      <th>score</th>\n",
       "      <th>thumbsUpCount</th>\n",
       "      <th>reviewCreatedVersion</th>\n",
       "      <th>at</th>\n",
       "      <th>replyContent</th>\n",
       "      <th>repliedAt</th>\n",
       "      <th>sortOrder</th>\n",
       "      <th>appId</th>\n",
       "    </tr>\n",
       "  </thead>\n",
       "  <tbody>\n",
       "    <tr>\n",
       "      <th>0</th>\n",
       "      <td>gp:AOqpTOGihtvZ-ONGczSX6Bat3d_j4jhSTrVIFoq8FaV...</td>\n",
       "      <td>Mahfi Gaming</td>\n",
       "      <td>https://play-lh.googleusercontent.com/a-/AOh14...</td>\n",
       "      <td>Jelek banget!!!!!!!!!!!!!!!!!!!!!!!!!!!!!!!!!!...</td>\n",
       "      <td>1</td>\n",
       "      <td>192</td>\n",
       "      <td>19.5.43</td>\n",
       "      <td>2021-05-28 11:02:18</td>\n",
       "      <td>None</td>\n",
       "      <td>NaT</td>\n",
       "      <td>most_relevant</td>\n",
       "      <td>com.ss.android.ugc.trill</td>\n",
       "    </tr>\n",
       "    <tr>\n",
       "      <th>1</th>\n",
       "      <td>gp:AOqpTOEaxCuEU61SHHaTHDs-GydVhgd4rWOIwMDUgat...</td>\n",
       "      <td>Dapur Mama Hoshi</td>\n",
       "      <td>https://play-lh.googleusercontent.com/a/AATXAJ...</td>\n",
       "      <td>Aplikasinya sebenarnya bagus..Tp knp skrg sy m...</td>\n",
       "      <td>1</td>\n",
       "      <td>24</td>\n",
       "      <td>19.5.43</td>\n",
       "      <td>2021-05-28 13:20:53</td>\n",
       "      <td>None</td>\n",
       "      <td>NaT</td>\n",
       "      <td>most_relevant</td>\n",
       "      <td>com.ss.android.ugc.trill</td>\n",
       "    </tr>\n",
       "    <tr>\n",
       "      <th>2</th>\n",
       "      <td>gp:AOqpTOGIaTrCt7nX7RpQDHD0BDzlVfTJ32H2IjlClF5...</td>\n",
       "      <td>sandal jepit</td>\n",
       "      <td>https://play-lh.googleusercontent.com/a-/AOh14...</td>\n",
       "      <td>maaf kenapa ya 2 hari ini tiktok saya tidak bi...</td>\n",
       "      <td>1</td>\n",
       "      <td>43</td>\n",
       "      <td>19.5.43</td>\n",
       "      <td>2021-05-28 12:49:08</td>\n",
       "      <td>None</td>\n",
       "      <td>NaT</td>\n",
       "      <td>most_relevant</td>\n",
       "      <td>com.ss.android.ugc.trill</td>\n",
       "    </tr>\n",
       "    <tr>\n",
       "      <th>3</th>\n",
       "      <td>gp:AOqpTOFTLjgAcC2zQ2D3ZzHVdnqBqjVgpqXo9h-bdYi...</td>\n",
       "      <td>Luluk Muawalah</td>\n",
       "      <td>https://play-lh.googleusercontent.com/a/AATXAJ...</td>\n",
       "      <td>Tolong kepada pihak tiktok, kenapa tiba2 saya ...</td>\n",
       "      <td>1</td>\n",
       "      <td>15</td>\n",
       "      <td>19.5.43</td>\n",
       "      <td>2021-05-27 23:15:58</td>\n",
       "      <td>None</td>\n",
       "      <td>NaT</td>\n",
       "      <td>most_relevant</td>\n",
       "      <td>com.ss.android.ugc.trill</td>\n",
       "    </tr>\n",
       "    <tr>\n",
       "      <th>4</th>\n",
       "      <td>gp:AOqpTOFCx2Bt2zzWrSlnBZ_khNHj49hEiBjA-hKNzlI...</td>\n",
       "      <td>Irpan Resmana</td>\n",
       "      <td>https://play-lh.googleusercontent.com/a-/AOh14...</td>\n",
       "      <td>Apk gk guna... Kenapa setiap orang memasukkan ...</td>\n",
       "      <td>1</td>\n",
       "      <td>31</td>\n",
       "      <td>19.5.43</td>\n",
       "      <td>2021-05-28 10:28:32</td>\n",
       "      <td>None</td>\n",
       "      <td>NaT</td>\n",
       "      <td>most_relevant</td>\n",
       "      <td>com.ss.android.ugc.trill</td>\n",
       "    </tr>\n",
       "  </tbody>\n",
       "</table>\n",
       "</div>"
      ],
      "text/plain": [
       "                                            reviewId          userName  \\\n",
       "0  gp:AOqpTOGihtvZ-ONGczSX6Bat3d_j4jhSTrVIFoq8FaV...      Mahfi Gaming   \n",
       "1  gp:AOqpTOEaxCuEU61SHHaTHDs-GydVhgd4rWOIwMDUgat...  Dapur Mama Hoshi   \n",
       "2  gp:AOqpTOGIaTrCt7nX7RpQDHD0BDzlVfTJ32H2IjlClF5...      sandal jepit   \n",
       "3  gp:AOqpTOFTLjgAcC2zQ2D3ZzHVdnqBqjVgpqXo9h-bdYi...    Luluk Muawalah   \n",
       "4  gp:AOqpTOFCx2Bt2zzWrSlnBZ_khNHj49hEiBjA-hKNzlI...     Irpan Resmana   \n",
       "\n",
       "                                           userImage  \\\n",
       "0  https://play-lh.googleusercontent.com/a-/AOh14...   \n",
       "1  https://play-lh.googleusercontent.com/a/AATXAJ...   \n",
       "2  https://play-lh.googleusercontent.com/a-/AOh14...   \n",
       "3  https://play-lh.googleusercontent.com/a/AATXAJ...   \n",
       "4  https://play-lh.googleusercontent.com/a-/AOh14...   \n",
       "\n",
       "                                             content  score  thumbsUpCount  \\\n",
       "0  Jelek banget!!!!!!!!!!!!!!!!!!!!!!!!!!!!!!!!!!...      1            192   \n",
       "1  Aplikasinya sebenarnya bagus..Tp knp skrg sy m...      1             24   \n",
       "2  maaf kenapa ya 2 hari ini tiktok saya tidak bi...      1             43   \n",
       "3  Tolong kepada pihak tiktok, kenapa tiba2 saya ...      1             15   \n",
       "4  Apk gk guna... Kenapa setiap orang memasukkan ...      1             31   \n",
       "\n",
       "  reviewCreatedVersion                  at replyContent repliedAt  \\\n",
       "0              19.5.43 2021-05-28 11:02:18         None       NaT   \n",
       "1              19.5.43 2021-05-28 13:20:53         None       NaT   \n",
       "2              19.5.43 2021-05-28 12:49:08         None       NaT   \n",
       "3              19.5.43 2021-05-27 23:15:58         None       NaT   \n",
       "4              19.5.43 2021-05-28 10:28:32         None       NaT   \n",
       "\n",
       "       sortOrder                     appId  \n",
       "0  most_relevant  com.ss.android.ugc.trill  \n",
       "1  most_relevant  com.ss.android.ugc.trill  \n",
       "2  most_relevant  com.ss.android.ugc.trill  \n",
       "3  most_relevant  com.ss.android.ugc.trill  \n",
       "4  most_relevant  com.ss.android.ugc.trill  "
      ]
     },
     "execution_count": 19,
     "metadata": {},
     "output_type": "execute_result"
    }
   ],
   "source": [
    "appdf_tiktok = app_reviews_df[app_reviews_df.appId.isin([\"com.ss.android.ugc.trill\"])]\n",
    "appdf_tiktok.head()"
   ]
  },
  {
   "cell_type": "code",
   "execution_count": 20,
   "metadata": {
    "scrolled": true
   },
   "outputs": [
    {
     "data": {
      "text/html": [
       "<div>\n",
       "<style scoped>\n",
       "    .dataframe tbody tr th:only-of-type {\n",
       "        vertical-align: middle;\n",
       "    }\n",
       "\n",
       "    .dataframe tbody tr th {\n",
       "        vertical-align: top;\n",
       "    }\n",
       "\n",
       "    .dataframe thead th {\n",
       "        text-align: right;\n",
       "    }\n",
       "</style>\n",
       "<table border=\"1\" class=\"dataframe\">\n",
       "  <thead>\n",
       "    <tr style=\"text-align: right;\">\n",
       "      <th></th>\n",
       "      <th>reviewId</th>\n",
       "      <th>userName</th>\n",
       "      <th>userImage</th>\n",
       "      <th>content</th>\n",
       "      <th>score</th>\n",
       "      <th>thumbsUpCount</th>\n",
       "      <th>reviewCreatedVersion</th>\n",
       "      <th>at</th>\n",
       "      <th>replyContent</th>\n",
       "      <th>repliedAt</th>\n",
       "      <th>sortOrder</th>\n",
       "      <th>appId</th>\n",
       "    </tr>\n",
       "  </thead>\n",
       "  <tbody>\n",
       "    <tr>\n",
       "      <th>3300</th>\n",
       "      <td>gp:AOqpTOGyM-sslZnKPxj620Gkg-hGCFj-W29yZ0qpnDr...</td>\n",
       "      <td>IRAWAN SAKTI</td>\n",
       "      <td>https://play-lh.googleusercontent.com/a/AATXAJ...</td>\n",
       "      <td>App nya Bagus banget!!!!!!!!!!!!!!!!!!!!!!!!!!...</td>\n",
       "      <td>1</td>\n",
       "      <td>0</td>\n",
       "      <td>605034</td>\n",
       "      <td>2021-05-29 08:18:03</td>\n",
       "      <td>None</td>\n",
       "      <td>NaT</td>\n",
       "      <td>most_relevant</td>\n",
       "      <td>omegle.tv</td>\n",
       "    </tr>\n",
       "    <tr>\n",
       "      <th>3301</th>\n",
       "      <td>gp:AOqpTOFN_arWMUPNqR_bOIQJds3dFjKhqKVtdMNLDEA...</td>\n",
       "      <td>M.ilyasa Zhavutra</td>\n",
       "      <td>https://play-lh.googleusercontent.com/a-/AOh14...</td>\n",
       "      <td>Selalu ngga bisa dpt orang yg bisa diajak ngob...</td>\n",
       "      <td>1</td>\n",
       "      <td>1</td>\n",
       "      <td>605034</td>\n",
       "      <td>2021-05-29 13:11:08</td>\n",
       "      <td>None</td>\n",
       "      <td>NaT</td>\n",
       "      <td>most_relevant</td>\n",
       "      <td>omegle.tv</td>\n",
       "    </tr>\n",
       "    <tr>\n",
       "      <th>3302</th>\n",
       "      <td>gp:AOqpTOEXUwD7w5gdFb30JlaBB-gZAsRYhEd9lxxwbcg...</td>\n",
       "      <td>MilkyPlay</td>\n",
       "      <td>https://play-lh.googleusercontent.com/a-/AOh14...</td>\n",
       "      <td>Halo nama saya vellyn saya benar benar minta m...</td>\n",
       "      <td>1</td>\n",
       "      <td>752</td>\n",
       "      <td>605034</td>\n",
       "      <td>2021-05-22 09:17:55</td>\n",
       "      <td>None</td>\n",
       "      <td>NaT</td>\n",
       "      <td>most_relevant</td>\n",
       "      <td>omegle.tv</td>\n",
       "    </tr>\n",
       "    <tr>\n",
       "      <th>3303</th>\n",
       "      <td>gp:AOqpTOGl5q3_iqk8eHH_TGZ5tAKOSRJZw6IB_jOox76...</td>\n",
       "      <td>Nes Vell</td>\n",
       "      <td>https://play-lh.googleusercontent.com/a/AATXAJ...</td>\n",
       "      <td>Assalamu'alaikum Tolong dibaca pemilik ome TV:...</td>\n",
       "      <td>1</td>\n",
       "      <td>300</td>\n",
       "      <td>605034</td>\n",
       "      <td>2021-05-22 13:57:00</td>\n",
       "      <td>None</td>\n",
       "      <td>NaT</td>\n",
       "      <td>most_relevant</td>\n",
       "      <td>omegle.tv</td>\n",
       "    </tr>\n",
       "    <tr>\n",
       "      <th>3304</th>\n",
       "      <td>gp:AOqpTOECrsrP6PEz7dmvOK8VDrPISUetqD4Ky9a1RXY...</td>\n",
       "      <td>bintang A.W</td>\n",
       "      <td>https://play-lh.googleusercontent.com/a-/AOh14...</td>\n",
       "      <td>Maaf klo saya kasih bintang 1 karna knp?? Karn...</td>\n",
       "      <td>1</td>\n",
       "      <td>1</td>\n",
       "      <td>605034</td>\n",
       "      <td>2021-05-26 17:33:01</td>\n",
       "      <td>None</td>\n",
       "      <td>NaT</td>\n",
       "      <td>most_relevant</td>\n",
       "      <td>omegle.tv</td>\n",
       "    </tr>\n",
       "  </tbody>\n",
       "</table>\n",
       "</div>"
      ],
      "text/plain": [
       "                                               reviewId           userName  \\\n",
       "3300  gp:AOqpTOGyM-sslZnKPxj620Gkg-hGCFj-W29yZ0qpnDr...       IRAWAN SAKTI   \n",
       "3301  gp:AOqpTOFN_arWMUPNqR_bOIQJds3dFjKhqKVtdMNLDEA...  M.ilyasa Zhavutra   \n",
       "3302  gp:AOqpTOEXUwD7w5gdFb30JlaBB-gZAsRYhEd9lxxwbcg...          MilkyPlay   \n",
       "3303  gp:AOqpTOGl5q3_iqk8eHH_TGZ5tAKOSRJZw6IB_jOox76...           Nes Vell   \n",
       "3304  gp:AOqpTOECrsrP6PEz7dmvOK8VDrPISUetqD4Ky9a1RXY...        bintang A.W   \n",
       "\n",
       "                                              userImage  \\\n",
       "3300  https://play-lh.googleusercontent.com/a/AATXAJ...   \n",
       "3301  https://play-lh.googleusercontent.com/a-/AOh14...   \n",
       "3302  https://play-lh.googleusercontent.com/a-/AOh14...   \n",
       "3303  https://play-lh.googleusercontent.com/a/AATXAJ...   \n",
       "3304  https://play-lh.googleusercontent.com/a-/AOh14...   \n",
       "\n",
       "                                                content  score  thumbsUpCount  \\\n",
       "3300  App nya Bagus banget!!!!!!!!!!!!!!!!!!!!!!!!!!...      1              0   \n",
       "3301  Selalu ngga bisa dpt orang yg bisa diajak ngob...      1              1   \n",
       "3302  Halo nama saya vellyn saya benar benar minta m...      1            752   \n",
       "3303  Assalamu'alaikum Tolong dibaca pemilik ome TV:...      1            300   \n",
       "3304  Maaf klo saya kasih bintang 1 karna knp?? Karn...      1              1   \n",
       "\n",
       "     reviewCreatedVersion                  at replyContent repliedAt  \\\n",
       "3300               605034 2021-05-29 08:18:03         None       NaT   \n",
       "3301               605034 2021-05-29 13:11:08         None       NaT   \n",
       "3302               605034 2021-05-22 09:17:55         None       NaT   \n",
       "3303               605034 2021-05-22 13:57:00         None       NaT   \n",
       "3304               605034 2021-05-26 17:33:01         None       NaT   \n",
       "\n",
       "          sortOrder      appId  \n",
       "3300  most_relevant  omegle.tv  \n",
       "3301  most_relevant  omegle.tv  \n",
       "3302  most_relevant  omegle.tv  \n",
       "3303  most_relevant  omegle.tv  \n",
       "3304  most_relevant  omegle.tv  "
      ]
     },
     "execution_count": 20,
     "metadata": {},
     "output_type": "execute_result"
    }
   ],
   "source": [
    "appdf_ome = app_reviews_df[app_reviews_df.appId.isin([\"omegle.tv\"])]\n",
    "appdf_ome.head()"
   ]
  },
  {
   "cell_type": "code",
   "execution_count": 21,
   "metadata": {},
   "outputs": [
    {
     "data": {
      "text/plain": [
       "(3300, 12)"
      ]
     },
     "execution_count": 21,
     "metadata": {},
     "output_type": "execute_result"
    }
   ],
   "source": [
    "appdf_ome.shape"
   ]
  },
  {
   "cell_type": "markdown",
   "metadata": {},
   "source": [
    "### save to file csv"
   ]
  },
  {
   "cell_type": "code",
   "execution_count": 22,
   "metadata": {},
   "outputs": [],
   "source": [
    "os.makedirs(\"data/review_apps/\", exist_ok=True)"
   ]
  },
  {
   "cell_type": "code",
   "execution_count": 23,
   "metadata": {},
   "outputs": [],
   "source": [
    "appdf_ome.to_csv('data/review_apps/apps_review_ome.csv', index = None, header=True)"
   ]
  },
  {
   "cell_type": "code",
   "execution_count": 24,
   "metadata": {},
   "outputs": [],
   "source": [
    "appdf_tiktok.to_csv('data/review_apps/apps_review_tiktok.csv', index = None, header=True)"
   ]
  },
  {
   "cell_type": "code",
   "execution_count": null,
   "metadata": {},
   "outputs": [],
   "source": []
  }
 ],
 "metadata": {
  "accelerator": "GPU",
  "colab": {
   "collapsed_sections": [],
   "name": "Google play reviews - tiktok.ipynb",
   "provenance": []
  },
  "kernelspec": {
   "display_name": "Python [conda env:env_scrap]",
   "language": "python",
   "name": "conda-env-env_scrap-py"
  },
  "language_info": {
   "codemirror_mode": {
    "name": "ipython",
    "version": 3
   },
   "file_extension": ".py",
   "mimetype": "text/x-python",
   "name": "python",
   "nbconvert_exporter": "python",
   "pygments_lexer": "ipython3",
   "version": "3.7.6"
  }
 },
 "nbformat": 4,
 "nbformat_minor": 1
}
