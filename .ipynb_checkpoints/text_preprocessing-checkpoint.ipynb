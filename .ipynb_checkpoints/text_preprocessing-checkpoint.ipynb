{
 "cells": [
  {
   "cell_type": "code",
   "execution_count": 1,
   "id": "eccc6f91",
   "metadata": {},
   "outputs": [
    {
     "data": {
      "text/plain": [
       "<torch._C.Generator at 0x1cb062766b0>"
      ]
     },
     "execution_count": 1,
     "metadata": {},
     "output_type": "execute_result"
    }
   ],
   "source": [
    "import transformers\n",
    "import torch\n",
    "\n",
    "import copy\n",
    "import numpy as np\n",
    "import pandas as pd\n",
    "import seaborn as sns\n",
    "from pylab import rcParams\n",
    "import matplotlib.pyplot as plt\n",
    "from matplotlib import rc\n",
    "from sklearn.model_selection import train_test_split\n",
    "from tqdm import tqdm\n",
    "\n",
    "from torch import nn, optim\n",
    "from torch.utils import data\n",
    "\n",
    "%matplotlib inline\n",
    "%config InlineBackend.figure_format='retina'\n",
    "\n",
    "sns.set(style='whitegrid', palette='muted', font_scale=1.2)\n",
    "\n",
    "HAPPY_COLORS_PALETTE = [\"#01BEFE\",\"#FFDD00\",\"#FF7D00\",\"#FF006D\",\"#ADFF02\",\"#8F00FF\"]\n",
    "\n",
    "sns.set_palette(sns.color_palette(HAPPY_COLORS_PALETTE))\n",
    "\n",
    "rcParams['figure.figsize'] = 8,6\n",
    "\n",
    "RANDOM_SEED = 42\n",
    "np.random.seed(RANDOM_SEED)\n",
    "torch.manual_seed(RANDOM_SEED)"
   ]
  },
  {
   "cell_type": "code",
   "execution_count": 2,
   "id": "a740e260",
   "metadata": {},
   "outputs": [],
   "source": [
    "pd.set_option('display.max_columns', None)\n",
    "pd.set_option('display.max_colwidth', -1)\n",
    "pd.set_option('display.max_rows', 2000)"
   ]
  },
  {
   "cell_type": "raw",
   "id": "c525874b",
   "metadata": {},
   "source": [
    "#### Import data from gdrive to colab storage\n",
    "!gdown --id 1-4ZdHgAXZ529fATD78E9RlImbJ7niFMY\n",
    "!gdown --id 1onqx1aGNTB2IZcbpEkkgqScrrXj8y1Xq"
   ]
  },
  {
   "cell_type": "code",
   "execution_count": 3,
   "id": "7cf778f9",
   "metadata": {},
   "outputs": [
    {
     "data": {
      "text/html": [
       "<div>\n",
       "<style scoped>\n",
       "    .dataframe tbody tr th:only-of-type {\n",
       "        vertical-align: middle;\n",
       "    }\n",
       "\n",
       "    .dataframe tbody tr th {\n",
       "        vertical-align: top;\n",
       "    }\n",
       "\n",
       "    .dataframe thead th {\n",
       "        text-align: right;\n",
       "    }\n",
       "</style>\n",
       "<table border=\"1\" class=\"dataframe\">\n",
       "  <thead>\n",
       "    <tr style=\"text-align: right;\">\n",
       "      <th></th>\n",
       "      <th>reviewId</th>\n",
       "      <th>userName</th>\n",
       "      <th>userImage</th>\n",
       "      <th>content</th>\n",
       "      <th>score</th>\n",
       "      <th>thumbsUpCount</th>\n",
       "      <th>reviewCreatedVersion</th>\n",
       "      <th>at</th>\n",
       "      <th>replyContent</th>\n",
       "      <th>repliedAt</th>\n",
       "      <th>sortOrder</th>\n",
       "      <th>appId</th>\n",
       "    </tr>\n",
       "  </thead>\n",
       "  <tbody>\n",
       "    <tr>\n",
       "      <th>0</th>\n",
       "      <td>gp:AOqpTOEaxCuEU61SHHaTHDs-GydVhgd4rWOIwMDUgatmJAvDFNtYVLljaCMfs3ktQBzYU7roFf_t3-dgPlen1bE</td>\n",
       "      <td>Dapur Mama Hoshi</td>\n",
       "      <td>https://play-lh.googleusercontent.com/a/AATXAJwMgNzuc9QVAMP8yRdeu2bLKwtO3Z5zrDw_EL27=mo</td>\n",
       "      <td>Aplikasinya sebenarnya bagus..Tp knp skrg sy masuk akun sy hilang, tertulis frekuensi masuk terlalu sering. Apa maksudnya?? Sampai2 sy hapus aplikasi ini trus sy restart hp sy, download kembali tetap seperti itu. Tolong penjelasannya. Sementara sy kasih bintang 1 sebelum semuanya kembali seperti semula.</td>\n",
       "      <td>1</td>\n",
       "      <td>40</td>\n",
       "      <td>19.5.43</td>\n",
       "      <td>2021-05-28 13:20:53</td>\n",
       "      <td>NaN</td>\n",
       "      <td>NaN</td>\n",
       "      <td>most_relevant</td>\n",
       "      <td>com.ss.android.ugc.trill</td>\n",
       "    </tr>\n",
       "    <tr>\n",
       "      <th>1</th>\n",
       "      <td>gp:AOqpTOFTLjgAcC2zQ2D3ZzHVdnqBqjVgpqXo9h-bdYiFcM6TFMrnEdJssfWbhl4A8GPFC76ZsOk6jNyHSPgGelA</td>\n",
       "      <td>Luluk Muawalah</td>\n",
       "      <td>https://play-lh.googleusercontent.com/a/AATXAJyMU12NePbxeA6jB-_0ASb7i3T-RogGGtKuYser=mo</td>\n",
       "      <td>Tolong kepada pihak tiktok, kenapa tiba2 saya tidak bisa masuk tiktok? Padahal kemaren2 masih bisa n Muter2 trus, padahal jaringan wi-fi untuk yg lainnya lancar, kenapa pas masuk tiktok tiba2 wi-fi gabisa di pake/ada tulisan \"tidak ada sinyal\" cpt di perbaiki, kalo sudah nanti aku kasih 5bintang</td>\n",
       "      <td>1</td>\n",
       "      <td>23</td>\n",
       "      <td>19.5.43</td>\n",
       "      <td>2021-05-27 23:15:58</td>\n",
       "      <td>NaN</td>\n",
       "      <td>NaN</td>\n",
       "      <td>most_relevant</td>\n",
       "      <td>com.ss.android.ugc.trill</td>\n",
       "    </tr>\n",
       "    <tr>\n",
       "      <th>2</th>\n",
       "      <td>gp:AOqpTOE6ScCvmXVBy1lRWOkmbYo68Z2dbNwPYF2kvR_iM-wW3Z8dYin4fsON2Rn0Z4AQzHI8XTcbxqR3X2Uk8sk</td>\n",
       "      <td>Marcelino Laoh</td>\n",
       "      <td>https://play-lh.googleusercontent.com/a/AATXAJzxAeNPhvqdDGJFmubvtArHbFOUxb9n4BjIqwih=mo</td>\n",
       "      <td>Saya sangat kecewa kepada pihak tiktok akun saya di blokir padahal saya tidak pernah melakukan hal\" aneh dan saya di tiktok cuman Menonton vidio\" orang tidak pernah mengaplod konten tapi tiba\" akun tiktok saya di blokir,,, saya ingin membuat akun baru buat menonton video Tiktok lagi tapi malah g bisa setiap kali mendaftar malah tertulis \" Ups akun kamu sedang di tangguhkan sementara\" kan gak jelas banget pdhl saya di tiktok cuman menonton Vidio orang</td>\n",
       "      <td>1</td>\n",
       "      <td>9</td>\n",
       "      <td>19.5.43</td>\n",
       "      <td>2021-05-28 20:45:01</td>\n",
       "      <td>NaN</td>\n",
       "      <td>NaN</td>\n",
       "      <td>most_relevant</td>\n",
       "      <td>com.ss.android.ugc.trill</td>\n",
       "    </tr>\n",
       "    <tr>\n",
       "      <th>3</th>\n",
       "      <td>gp:AOqpTOFkctHg8Z8qjrxGcwAgFyYtCSCxeXkPX7olSS78A9ZFuUjBe0htJtx6MJoWV68frdx9eJPO1vIUINP_byc</td>\n",
       "      <td>Ni Putu Dian M. Dewi</td>\n",
       "      <td>https://play-lh.googleusercontent.com/a-/AOh14GijySQEapMno_Oyv9XYGLwW6K4AIfH9reVcr3MATA</td>\n",
       "      <td>Jujur ni ya gue gak puas banget sama tiktok sekarang kenapa waktu like udah banyak yg nonton udah banyak baru bilang pelanggaran apa apa in nihhh jelek banget tuh komen gue terhadap tiktok nending kalian dowliad yang lain jangan tiktok karna tiktok gak adil sekarang!!!!!!!</td>\n",
       "      <td>1</td>\n",
       "      <td>6</td>\n",
       "      <td>19.5.43</td>\n",
       "      <td>2021-05-29 07:32:08</td>\n",
       "      <td>NaN</td>\n",
       "      <td>NaN</td>\n",
       "      <td>most_relevant</td>\n",
       "      <td>com.ss.android.ugc.trill</td>\n",
       "    </tr>\n",
       "    <tr>\n",
       "      <th>4</th>\n",
       "      <td>gp:AOqpTOGVXq7aRXCxIdeYO7Gs09rbtiZEqSbgfRyjmNWqeck5TANPM4k8Ke0gFuFTkG5Au4m6zu3KeG6iv2t7NAo</td>\n",
       "      <td>Aat Safaat</td>\n",
       "      <td>https://play-lh.googleusercontent.com/a-/AOh14GjuWSaMVsSAC9FNP97a4HlcF8UTXq5vlsYW-29c</td>\n",
       "      <td>Aplikasi Haram!!!!!!!!!!!!!!!!!!!!!!!!! ¡!¡!!!!!!!!!!!!!!!!!!!!!!!!!!!!!!!!!!!!!!!!?!!!!!!!!!!!!!!!!!!!!!!!!!!!!!!!!!!!!!!!!!!!!!!!!!!!!!!!!!!!!!!!!!!!!?!!!!!!!!!!!? Tapi bener</td>\n",
       "      <td>1</td>\n",
       "      <td>4</td>\n",
       "      <td>19.5.43</td>\n",
       "      <td>2021-05-28 16:15:16</td>\n",
       "      <td>NaN</td>\n",
       "      <td>NaN</td>\n",
       "      <td>most_relevant</td>\n",
       "      <td>com.ss.android.ugc.trill</td>\n",
       "    </tr>\n",
       "  </tbody>\n",
       "</table>\n",
       "</div>"
      ],
      "text/plain": [
       "                                                                                     reviewId  \\\n",
       "0  gp:AOqpTOEaxCuEU61SHHaTHDs-GydVhgd4rWOIwMDUgatmJAvDFNtYVLljaCMfs3ktQBzYU7roFf_t3-dgPlen1bE   \n",
       "1  gp:AOqpTOFTLjgAcC2zQ2D3ZzHVdnqBqjVgpqXo9h-bdYiFcM6TFMrnEdJssfWbhl4A8GPFC76ZsOk6jNyHSPgGelA   \n",
       "2  gp:AOqpTOE6ScCvmXVBy1lRWOkmbYo68Z2dbNwPYF2kvR_iM-wW3Z8dYin4fsON2Rn0Z4AQzHI8XTcbxqR3X2Uk8sk   \n",
       "3  gp:AOqpTOFkctHg8Z8qjrxGcwAgFyYtCSCxeXkPX7olSS78A9ZFuUjBe0htJtx6MJoWV68frdx9eJPO1vIUINP_byc   \n",
       "4  gp:AOqpTOGVXq7aRXCxIdeYO7Gs09rbtiZEqSbgfRyjmNWqeck5TANPM4k8Ke0gFuFTkG5Au4m6zu3KeG6iv2t7NAo   \n",
       "\n",
       "               userName  \\\n",
       "0  Dapur Mama Hoshi       \n",
       "1  Luluk Muawalah         \n",
       "2  Marcelino Laoh         \n",
       "3  Ni Putu Dian M. Dewi   \n",
       "4  Aat Safaat             \n",
       "\n",
       "                                                                                 userImage  \\\n",
       "0  https://play-lh.googleusercontent.com/a/AATXAJwMgNzuc9QVAMP8yRdeu2bLKwtO3Z5zrDw_EL27=mo   \n",
       "1  https://play-lh.googleusercontent.com/a/AATXAJyMU12NePbxeA6jB-_0ASb7i3T-RogGGtKuYser=mo   \n",
       "2  https://play-lh.googleusercontent.com/a/AATXAJzxAeNPhvqdDGJFmubvtArHbFOUxb9n4BjIqwih=mo   \n",
       "3  https://play-lh.googleusercontent.com/a-/AOh14GijySQEapMno_Oyv9XYGLwW6K4AIfH9reVcr3MATA   \n",
       "4  https://play-lh.googleusercontent.com/a-/AOh14GjuWSaMVsSAC9FNP97a4HlcF8UTXq5vlsYW-29c     \n",
       "\n",
       "                                                                                                                                                                                                                                                                                                                                                                                                                                                                  content  \\\n",
       "0  Aplikasinya sebenarnya bagus..Tp knp skrg sy masuk akun sy hilang, tertulis frekuensi masuk terlalu sering. Apa maksudnya?? Sampai2 sy hapus aplikasi ini trus sy restart hp sy, download kembali tetap seperti itu. Tolong penjelasannya. Sementara sy kasih bintang 1 sebelum semuanya kembali seperti semula.                                                                                                                                                         \n",
       "1  Tolong kepada pihak tiktok, kenapa tiba2 saya tidak bisa masuk tiktok? Padahal kemaren2 masih bisa n Muter2 trus, padahal jaringan wi-fi untuk yg lainnya lancar, kenapa pas masuk tiktok tiba2 wi-fi gabisa di pake/ada tulisan \"tidak ada sinyal\" cpt di perbaiki, kalo sudah nanti aku kasih 5bintang                                                                                                                                                                 \n",
       "2  Saya sangat kecewa kepada pihak tiktok akun saya di blokir padahal saya tidak pernah melakukan hal\" aneh dan saya di tiktok cuman Menonton vidio\" orang tidak pernah mengaplod konten tapi tiba\" akun tiktok saya di blokir,,, saya ingin membuat akun baru buat menonton video Tiktok lagi tapi malah g bisa setiap kali mendaftar malah tertulis \" Ups akun kamu sedang di tangguhkan sementara\" kan gak jelas banget pdhl saya di tiktok cuman menonton Vidio orang   \n",
       "3  Jujur ni ya gue gak puas banget sama tiktok sekarang kenapa waktu like udah banyak yg nonton udah banyak baru bilang pelanggaran apa apa in nihhh jelek banget tuh komen gue terhadap tiktok nending kalian dowliad yang lain jangan tiktok karna tiktok gak adil sekarang!!!!!!!                                                                                                                                                                                        \n",
       "4  Aplikasi Haram!!!!!!!!!!!!!!!!!!!!!!!!! ¡!¡!!!!!!!!!!!!!!!!!!!!!!!!!!!!!!!!!!!!!!!!?!!!!!!!!!!!!!!!!!!!!!!!!!!!!!!!!!!!!!!!!!!!!!!!!!!!!!!!!!!!!!!!!!!!!?!!!!!!!!!!!? Tapi bener                                                                                                                                                                                                                                                                                         \n",
       "\n",
       "   score  thumbsUpCount reviewCreatedVersion                   at  \\\n",
       "0  1      40             19.5.43              2021-05-28 13:20:53   \n",
       "1  1      23             19.5.43              2021-05-27 23:15:58   \n",
       "2  1      9              19.5.43              2021-05-28 20:45:01   \n",
       "3  1      6              19.5.43              2021-05-29 07:32:08   \n",
       "4  1      4              19.5.43              2021-05-28 16:15:16   \n",
       "\n",
       "  replyContent repliedAt      sortOrder                     appId  \n",
       "0  NaN          NaN       most_relevant  com.ss.android.ugc.trill  \n",
       "1  NaN          NaN       most_relevant  com.ss.android.ugc.trill  \n",
       "2  NaN          NaN       most_relevant  com.ss.android.ugc.trill  \n",
       "3  NaN          NaN       most_relevant  com.ss.android.ugc.trill  \n",
       "4  NaN          NaN       most_relevant  com.ss.android.ugc.trill  "
      ]
     },
     "execution_count": 3,
     "metadata": {},
     "output_type": "execute_result"
    }
   ],
   "source": [
    "df = pd.read_csv('data/review_apps/apps_review_tiktok-nonrating.csv')\n",
    "df.head()"
   ]
  },
  {
   "cell_type": "code",
   "execution_count": 4,
   "id": "2db5bb47",
   "metadata": {},
   "outputs": [
    {
     "data": {
      "text/plain": [
       "(2200, 12)"
      ]
     },
     "execution_count": 4,
     "metadata": {},
     "output_type": "execute_result"
    }
   ],
   "source": [
    "df.shape"
   ]
  },
  {
   "cell_type": "code",
   "execution_count": 5,
   "id": "9c8ad148",
   "metadata": {},
   "outputs": [
    {
     "name": "stdout",
     "output_type": "stream",
     "text": [
      "<class 'pandas.core.frame.DataFrame'>\n",
      "RangeIndex: 2200 entries, 0 to 2199\n",
      "Data columns (total 12 columns):\n",
      "reviewId                2200 non-null object\n",
      "userName                2200 non-null object\n",
      "userImage               2200 non-null object\n",
      "content                 2200 non-null object\n",
      "score                   2200 non-null int64\n",
      "thumbsUpCount           2200 non-null int64\n",
      "reviewCreatedVersion    1723 non-null object\n",
      "at                      2200 non-null object\n",
      "replyContent            1 non-null object\n",
      "repliedAt               1 non-null object\n",
      "sortOrder               2200 non-null object\n",
      "appId                   2200 non-null object\n",
      "dtypes: int64(2), object(10)\n",
      "memory usage: 206.4+ KB\n"
     ]
    }
   ],
   "source": [
    "df.info()"
   ]
  },
  {
   "cell_type": "code",
   "execution_count": 6,
   "id": "1bb29d67",
   "metadata": {},
   "outputs": [
    {
     "name": "stderr",
     "output_type": "stream",
     "text": [
      "C:\\Users\\Niken Amelia\\miniconda3\\envs\\env_scrap\\lib\\site-packages\\seaborn\\_decorators.py:43: FutureWarning: Pass the following variable as a keyword arg: x. From version 0.12, the only valid positional argument will be `data`, and passing other arguments without an explicit keyword will result in an error or misinterpretation.\n",
      "  FutureWarning\n"
     ]
    },
    {
     "data": {
      "text/plain": [
       "Text(0.5, 0, 'review score')"
      ]
     },
     "execution_count": 6,
     "metadata": {},
     "output_type": "execute_result"
    },
    {
     "data": {
      "image/png": "[encoded data removed]",
      "text/plain": [
       "<Figure size 432x288 with 1 Axes>"
      ]
     },
     "metadata": {
      "image/png": {
       "height": 270,
       "width": 397
      },
      "needs_background": "light"
     },
     "output_type": "display_data"
    }
   ],
   "source": [
    "sns.countplot(df.score)\n",
    "plt.xlabel('review score')"
   ]
  },
  {
   "cell_type": "code",
   "execution_count": 7,
   "id": "7bf50835",
   "metadata": {},
   "outputs": [],
   "source": [
    "def to_sentiment(rating):\n",
    "    rating = int(rating)\n",
    "    if rating <=2:\n",
    "        return 0\n",
    "    elif rating == 3:\n",
    "        return 1\n",
    "    else: \n",
    "        return 2"
   ]
  },
  {
   "cell_type": "code",
   "execution_count": 8,
   "id": "92bc5101",
   "metadata": {},
   "outputs": [],
   "source": [
    "df['sentiment'] = df.score.apply(to_sentiment)"
   ]
  },
  {
   "cell_type": "code",
   "execution_count": 9,
   "id": "51442629",
   "metadata": {},
   "outputs": [],
   "source": [
    "class_names = ['negative','neutral','positive']"
   ]
  },
  {
   "cell_type": "code",
   "execution_count": 10,
   "id": "4b31ca7a",
   "metadata": {},
   "outputs": [
    {
     "name": "stderr",
     "output_type": "stream",
     "text": [
      "C:\\Users\\Niken Amelia\\miniconda3\\envs\\env_scrap\\lib\\site-packages\\seaborn\\_decorators.py:43: FutureWarning: Pass the following variable as a keyword arg: x. From version 0.12, the only valid positional argument will be `data`, and passing other arguments without an explicit keyword will result in an error or misinterpretation.\n",
      "  FutureWarning\n"
     ]
    },
    {
     "data": {
      "image/png": "[encoded data removed]",
      "text/plain": [
       "<Figure size 432x288 with 1 Axes>"
      ]
     },
     "metadata": {
      "image/png": {
       "height": 270,
       "width": 397
      },
      "needs_background": "light"
     },
     "output_type": "display_data"
    }
   ],
   "source": [
    "ax = sns.countplot(df.sentiment)\n",
    "plt.xlabel('review sentiment')\n",
    "ax.set_xticklabels(class_names);"
   ]
  },
  {
   "cell_type": "markdown",
   "id": "16f5511e",
   "metadata": {},
   "source": [
    "### Data Preprocessing"
   ]
  },
  {
   "cell_type": "code",
   "execution_count": 11,
   "id": "97e91978",
   "metadata": {
    "scrolled": true
   },
   "outputs": [],
   "source": [
    "from transformers import BertTokenizer, BertModel\n",
    "\n",
    "model_name='cahya/bert-base-indonesian-522M'\n",
    "tokenizer = BertTokenizer.from_pretrained(model_name)"
   ]
  },
  {
   "cell_type": "raw",
   "id": "09adc9b8",
   "metadata": {},
   "source": [
    "model = BertModel.from_pretrained(model_name)\n",
    "text = \"Silakan diganti dengan text apa saja.\"\n",
    "encoded_input = tokenizer(text, return_tensors='pt')\n",
    "output = model(**encoded_input)"
   ]
  },
  {
   "cell_type": "code",
   "execution_count": 12,
   "id": "7003b9b8",
   "metadata": {},
   "outputs": [],
   "source": [
    "sample_txt = 'saya pergi ke pasar bersama teman teman'"
   ]
  },
  {
   "cell_type": "code",
   "execution_count": 13,
   "id": "e05572a9",
   "metadata": {},
   "outputs": [],
   "source": [
    "tokens = tokenizer.tokenize(sample_txt)"
   ]
  },
  {
   "cell_type": "code",
   "execution_count": 14,
   "id": "8aaa62c7",
   "metadata": {},
   "outputs": [
    {
     "data": {
      "text/plain": [
       "['saya', 'pergi', 'ke', 'pasar', 'bersama', 'teman', 'teman']"
      ]
     },
     "execution_count": 14,
     "metadata": {},
     "output_type": "execute_result"
    }
   ],
   "source": [
    "tokens"
   ]
  },
  {
   "cell_type": "markdown",
   "id": "2477adae",
   "metadata": {},
   "source": [
    "##### sentence tokenizer"
   ]
  },
  {
   "cell_type": "code",
   "execution_count": 39,
   "id": "1e4b5996",
   "metadata": {},
   "outputs": [],
   "source": [
    "tokens = [\"mau pasar\",\n",
    "              \"aku tidak tahu\",\n",
    "              \"aku suka kamu\"\n",
    "              ]"
   ]
  },
  {
   "cell_type": "code",
   "execution_count": 40,
   "id": "b17123b0",
   "metadata": {},
   "outputs": [
    {
     "data": {
      "text/plain": [
       "[['mau', 'pasar'], ['aku', 'tidak', 'tahu'], ['aku', 'suka', 'kamu']]"
      ]
     },
     "execution_count": 40,
     "metadata": {},
     "output_type": "execute_result"
    }
   ],
   "source": [
    "tokens = [tokenizer.tokenize(str(token)) for token in tokens]\n",
    "tokens"
   ]
  },
  {
   "cell_type": "code",
   "execution_count": null,
   "id": "8c7b0224",
   "metadata": {},
   "outputs": [],
   "source": []
  }
 ],
 "metadata": {
  "kernelspec": {
   "display_name": "Python [conda env:env_scrap]",
   "language": "python",
   "name": "conda-env-env_scrap-py"
  },
  "language_info": {
   "codemirror_mode": {
    "name": "ipython",
    "version": 3
   },
   "file_extension": ".py",
   "mimetype": "text/x-python",
   "name": "python",
   "nbconvert_exporter": "python",
   "pygments_lexer": "ipython3",
   "version": "3.7.6"
  }
 },
 "nbformat": 4,
 "nbformat_minor": 5
}
